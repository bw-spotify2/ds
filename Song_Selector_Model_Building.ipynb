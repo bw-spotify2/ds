{
  "nbformat": 4,
  "nbformat_minor": 0,
  "metadata": {
    "colab": {
      "name": "Song Selector Model Building",
      "provenance": [],
      "collapsed_sections": [
        "_twW9LRvH6rC",
        "M7DIqSIxMA8e",
        "6SZBYnKI7ZU5",
        "tjAVWuBUCaI-"
      ],
      "toc_visible": true,
      "mount_file_id": "1renATL9nK7zlOqSJEDYTm1QwWx_rR92D",
      "authorship_tag": "ABX9TyOBLDf5/ijroRpt8ts1IXCL",
      "include_colab_link": true
    },
    "kernelspec": {
      "name": "python3",
      "display_name": "Python 3"
    },
    "accelerator": "GPU"
  },
  "cells": [
    {
      "cell_type": "markdown",
      "metadata": {
        "id": "view-in-github",
        "colab_type": "text"
      },
      "source": [
        "<a href=\"https://colab.research.google.com/github/bw-spotify2/ds/blob/master/Song_Selector_Model_Building.ipynb\" target=\"_parent\"><img src=\"https://colab.research.google.com/assets/colab-badge.svg\" alt=\"Open In Colab\"/></a>"
      ]
    },
    {
      "cell_type": "markdown",
      "metadata": {
        "id": "OjIh4HvACkMh",
        "colab_type": "text"
      },
      "source": [
        "## Initial building of the model."
      ]
    },
    {
      "cell_type": "markdown",
      "metadata": {
        "id": "V1fBFa7qAiwd",
        "colab_type": "text"
      },
      "source": [
        "### Load in the Dataset"
      ]
    },
    {
      "cell_type": "code",
      "metadata": {
        "id": "rtqee1org69e",
        "colab_type": "code",
        "colab": {
          "base_uri": "https://localhost:8080/",
          "height": 610
        },
        "outputId": "83b75440-4627-4a01-f74a-d62f334a5849"
      },
      "source": [
        "import pandas as pd\n",
        "\n",
        "df = pd.read_csv('/content/drive/My Drive/Lambda/Unit 4/Sprint 4/SpotifyFeatures.csv')\n",
        "df.sample(10)"
      ],
      "execution_count": 118,
      "outputs": [
        {
          "output_type": "execute_result",
          "data": {
            "text/html": [
              "<div>\n",
              "<style scoped>\n",
              "    .dataframe tbody tr th:only-of-type {\n",
              "        vertical-align: middle;\n",
              "    }\n",
              "\n",
              "    .dataframe tbody tr th {\n",
              "        vertical-align: top;\n",
              "    }\n",
              "\n",
              "    .dataframe thead th {\n",
              "        text-align: right;\n",
              "    }\n",
              "</style>\n",
              "<table border=\"1\" class=\"dataframe\">\n",
              "  <thead>\n",
              "    <tr style=\"text-align: right;\">\n",
              "      <th></th>\n",
              "      <th>genre</th>\n",
              "      <th>artist_name</th>\n",
              "      <th>track_name</th>\n",
              "      <th>track_id</th>\n",
              "      <th>popularity</th>\n",
              "      <th>acousticness</th>\n",
              "      <th>danceability</th>\n",
              "      <th>duration_ms</th>\n",
              "      <th>energy</th>\n",
              "      <th>instrumentalness</th>\n",
              "      <th>key</th>\n",
              "      <th>liveness</th>\n",
              "      <th>loudness</th>\n",
              "      <th>mode</th>\n",
              "      <th>speechiness</th>\n",
              "      <th>tempo</th>\n",
              "      <th>time_signature</th>\n",
              "      <th>valence</th>\n",
              "    </tr>\n",
              "  </thead>\n",
              "  <tbody>\n",
              "    <tr>\n",
              "      <th>143641</th>\n",
              "      <td>Indie</td>\n",
              "      <td>Toro y Moi</td>\n",
              "      <td>Lilly</td>\n",
              "      <td>6MDLO5bi8mGexqSwF9KmpH</td>\n",
              "      <td>51</td>\n",
              "      <td>0.04460</td>\n",
              "      <td>0.470</td>\n",
              "      <td>267789</td>\n",
              "      <td>0.6520</td>\n",
              "      <td>0.063500</td>\n",
              "      <td>D#</td>\n",
              "      <td>0.3110</td>\n",
              "      <td>-6.501</td>\n",
              "      <td>Major</td>\n",
              "      <td>0.0335</td>\n",
              "      <td>139.975</td>\n",
              "      <td>4/4</td>\n",
              "      <td>0.524</td>\n",
              "    </tr>\n",
              "    <tr>\n",
              "      <th>78005</th>\n",
              "      <td>Children’s Music</td>\n",
              "      <td>Sleeping Wolf</td>\n",
              "      <td>New Kings</td>\n",
              "      <td>3hgESJrxlX103Q78BrEAfr</td>\n",
              "      <td>63</td>\n",
              "      <td>0.01470</td>\n",
              "      <td>0.558</td>\n",
              "      <td>234613</td>\n",
              "      <td>0.8170</td>\n",
              "      <td>0.000102</td>\n",
              "      <td>E</td>\n",
              "      <td>0.3840</td>\n",
              "      <td>-3.619</td>\n",
              "      <td>Major</td>\n",
              "      <td>0.0481</td>\n",
              "      <td>76.004</td>\n",
              "      <td>4/4</td>\n",
              "      <td>0.429</td>\n",
              "    </tr>\n",
              "    <tr>\n",
              "      <th>86112</th>\n",
              "      <td>R&amp;B</td>\n",
              "      <td>Meghan Trainor</td>\n",
              "      <td>Friends</td>\n",
              "      <td>4wiMHrvVktJvSmNeCPw5RS</td>\n",
              "      <td>46</td>\n",
              "      <td>0.04680</td>\n",
              "      <td>0.571</td>\n",
              "      <td>210387</td>\n",
              "      <td>0.6690</td>\n",
              "      <td>0.000000</td>\n",
              "      <td>C</td>\n",
              "      <td>0.6460</td>\n",
              "      <td>-4.319</td>\n",
              "      <td>Major</td>\n",
              "      <td>0.0485</td>\n",
              "      <td>79.061</td>\n",
              "      <td>4/4</td>\n",
              "      <td>0.287</td>\n",
              "    </tr>\n",
              "    <tr>\n",
              "      <th>93189</th>\n",
              "      <td>Indie</td>\n",
              "      <td>Rex Orange County</td>\n",
              "      <td>4 Seasons</td>\n",
              "      <td>3AbV3JF0bJAZXeHEJZfpke</td>\n",
              "      <td>66</td>\n",
              "      <td>0.21700</td>\n",
              "      <td>0.505</td>\n",
              "      <td>301773</td>\n",
              "      <td>0.4580</td>\n",
              "      <td>0.000000</td>\n",
              "      <td>G</td>\n",
              "      <td>0.1160</td>\n",
              "      <td>-7.870</td>\n",
              "      <td>Major</td>\n",
              "      <td>0.0392</td>\n",
              "      <td>123.922</td>\n",
              "      <td>4/4</td>\n",
              "      <td>0.170</td>\n",
              "    </tr>\n",
              "    <tr>\n",
              "      <th>138949</th>\n",
              "      <td>Reggaeton</td>\n",
              "      <td>Rauw Alejandro</td>\n",
              "      <td>Que Le De</td>\n",
              "      <td>08aYFNUTIOMGq93e2VSArQ</td>\n",
              "      <td>83</td>\n",
              "      <td>0.19000</td>\n",
              "      <td>0.770</td>\n",
              "      <td>225600</td>\n",
              "      <td>0.7500</td>\n",
              "      <td>0.000000</td>\n",
              "      <td>C</td>\n",
              "      <td>0.0618</td>\n",
              "      <td>-2.715</td>\n",
              "      <td>Major</td>\n",
              "      <td>0.0785</td>\n",
              "      <td>99.997</td>\n",
              "      <td>4/4</td>\n",
              "      <td>0.609</td>\n",
              "    </tr>\n",
              "    <tr>\n",
              "      <th>122116</th>\n",
              "      <td>Rap</td>\n",
              "      <td>South Park Mexican</td>\n",
              "      <td>Streets on Beats</td>\n",
              "      <td>7Dr6eVrjviRtZaUxJni88K</td>\n",
              "      <td>46</td>\n",
              "      <td>0.01140</td>\n",
              "      <td>0.731</td>\n",
              "      <td>315560</td>\n",
              "      <td>0.3810</td>\n",
              "      <td>0.000000</td>\n",
              "      <td>A</td>\n",
              "      <td>0.1080</td>\n",
              "      <td>-10.005</td>\n",
              "      <td>Minor</td>\n",
              "      <td>0.0973</td>\n",
              "      <td>87.139</td>\n",
              "      <td>4/4</td>\n",
              "      <td>0.470</td>\n",
              "    </tr>\n",
              "    <tr>\n",
              "      <th>14872</th>\n",
              "      <td>Dance</td>\n",
              "      <td>Miguel</td>\n",
              "      <td>How Many Drinks?</td>\n",
              "      <td>5ctk3VJoHoURSiwkCJn2bf</td>\n",
              "      <td>61</td>\n",
              "      <td>0.00311</td>\n",
              "      <td>0.379</td>\n",
              "      <td>272987</td>\n",
              "      <td>0.6080</td>\n",
              "      <td>0.000614</td>\n",
              "      <td>C</td>\n",
              "      <td>0.2480</td>\n",
              "      <td>-7.011</td>\n",
              "      <td>Minor</td>\n",
              "      <td>0.1340</td>\n",
              "      <td>81.822</td>\n",
              "      <td>4/4</td>\n",
              "      <td>0.241</td>\n",
              "    </tr>\n",
              "    <tr>\n",
              "      <th>204015</th>\n",
              "      <td>Soundtrack</td>\n",
              "      <td>James Horner</td>\n",
              "      <td>Field of Dreams (From \"Field of Dreams\")</td>\n",
              "      <td>3UwP9qsmNi7ue5favFwTVV</td>\n",
              "      <td>30</td>\n",
              "      <td>0.91700</td>\n",
              "      <td>0.257</td>\n",
              "      <td>352480</td>\n",
              "      <td>0.0363</td>\n",
              "      <td>0.921000</td>\n",
              "      <td>G</td>\n",
              "      <td>0.3200</td>\n",
              "      <td>-20.803</td>\n",
              "      <td>Major</td>\n",
              "      <td>0.0338</td>\n",
              "      <td>100.533</td>\n",
              "      <td>3/4</td>\n",
              "      <td>0.144</td>\n",
              "    </tr>\n",
              "    <tr>\n",
              "      <th>116164</th>\n",
              "      <td>Rap</td>\n",
              "      <td>Lil Pump</td>\n",
              "      <td>Flex Like Ouu</td>\n",
              "      <td>2hJWZvTw4QVBwC14ZNs1Ib</td>\n",
              "      <td>67</td>\n",
              "      <td>0.18900</td>\n",
              "      <td>0.858</td>\n",
              "      <td>108213</td>\n",
              "      <td>0.4350</td>\n",
              "      <td>0.000000</td>\n",
              "      <td>F#</td>\n",
              "      <td>0.0925</td>\n",
              "      <td>-11.286</td>\n",
              "      <td>Major</td>\n",
              "      <td>0.0661</td>\n",
              "      <td>141.993</td>\n",
              "      <td>4/4</td>\n",
              "      <td>0.704</td>\n",
              "    </tr>\n",
              "    <tr>\n",
              "      <th>134918</th>\n",
              "      <td>Reggae</td>\n",
              "      <td>The Wailers</td>\n",
              "      <td>The Oppressed Song - Remastered Version</td>\n",
              "      <td>2MwdEFa0A1r8B7TSRQ6d2a</td>\n",
              "      <td>31</td>\n",
              "      <td>0.52000</td>\n",
              "      <td>0.678</td>\n",
              "      <td>194427</td>\n",
              "      <td>0.6200</td>\n",
              "      <td>0.721000</td>\n",
              "      <td>G</td>\n",
              "      <td>0.1010</td>\n",
              "      <td>-8.625</td>\n",
              "      <td>Major</td>\n",
              "      <td>0.0438</td>\n",
              "      <td>143.466</td>\n",
              "      <td>4/4</td>\n",
              "      <td>0.556</td>\n",
              "    </tr>\n",
              "  </tbody>\n",
              "</table>\n",
              "</div>"
            ],
            "text/plain": [
              "                   genre         artist_name  ... time_signature valence\n",
              "143641             Indie          Toro y Moi  ...            4/4   0.524\n",
              "78005   Children’s Music       Sleeping Wolf  ...            4/4   0.429\n",
              "86112                R&B      Meghan Trainor  ...            4/4   0.287\n",
              "93189              Indie   Rex Orange County  ...            4/4   0.170\n",
              "138949         Reggaeton      Rauw Alejandro  ...            4/4   0.609\n",
              "122116               Rap  South Park Mexican  ...            4/4   0.470\n",
              "14872              Dance              Miguel  ...            4/4   0.241\n",
              "204015        Soundtrack        James Horner  ...            3/4   0.144\n",
              "116164               Rap            Lil Pump  ...            4/4   0.704\n",
              "134918            Reggae         The Wailers  ...            4/4   0.556\n",
              "\n",
              "[10 rows x 18 columns]"
            ]
          },
          "metadata": {
            "tags": []
          },
          "execution_count": 118
        }
      ]
    },
    {
      "cell_type": "code",
      "metadata": {
        "id": "NEE4B0lMZaRy",
        "colab_type": "code",
        "colab": {
          "base_uri": "https://localhost:8080/",
          "height": 391
        },
        "outputId": "f3dbf80c-a8fb-4562-bdb6-4ca59f2ae713"
      },
      "source": [
        "df['mode'] = df['mode'].replace({\"Major\":1, \"Minor\":0})\n",
        "df.head()"
      ],
      "execution_count": 119,
      "outputs": [
        {
          "output_type": "execute_result",
          "data": {
            "text/html": [
              "<div>\n",
              "<style scoped>\n",
              "    .dataframe tbody tr th:only-of-type {\n",
              "        vertical-align: middle;\n",
              "    }\n",
              "\n",
              "    .dataframe tbody tr th {\n",
              "        vertical-align: top;\n",
              "    }\n",
              "\n",
              "    .dataframe thead th {\n",
              "        text-align: right;\n",
              "    }\n",
              "</style>\n",
              "<table border=\"1\" class=\"dataframe\">\n",
              "  <thead>\n",
              "    <tr style=\"text-align: right;\">\n",
              "      <th></th>\n",
              "      <th>genre</th>\n",
              "      <th>artist_name</th>\n",
              "      <th>track_name</th>\n",
              "      <th>track_id</th>\n",
              "      <th>popularity</th>\n",
              "      <th>acousticness</th>\n",
              "      <th>danceability</th>\n",
              "      <th>duration_ms</th>\n",
              "      <th>energy</th>\n",
              "      <th>instrumentalness</th>\n",
              "      <th>key</th>\n",
              "      <th>liveness</th>\n",
              "      <th>loudness</th>\n",
              "      <th>mode</th>\n",
              "      <th>speechiness</th>\n",
              "      <th>tempo</th>\n",
              "      <th>time_signature</th>\n",
              "      <th>valence</th>\n",
              "    </tr>\n",
              "  </thead>\n",
              "  <tbody>\n",
              "    <tr>\n",
              "      <th>0</th>\n",
              "      <td>Movie</td>\n",
              "      <td>Henri Salvador</td>\n",
              "      <td>C'est beau de faire un Show</td>\n",
              "      <td>0BRjO6ga9RKCKjfDqeFgWV</td>\n",
              "      <td>0</td>\n",
              "      <td>0.611</td>\n",
              "      <td>0.389</td>\n",
              "      <td>99373</td>\n",
              "      <td>0.910</td>\n",
              "      <td>0.000</td>\n",
              "      <td>C#</td>\n",
              "      <td>0.3460</td>\n",
              "      <td>-1.828</td>\n",
              "      <td>1</td>\n",
              "      <td>0.0525</td>\n",
              "      <td>166.969</td>\n",
              "      <td>4/4</td>\n",
              "      <td>0.814</td>\n",
              "    </tr>\n",
              "    <tr>\n",
              "      <th>1</th>\n",
              "      <td>Movie</td>\n",
              "      <td>Martin &amp; les fées</td>\n",
              "      <td>Perdu d'avance (par Gad Elmaleh)</td>\n",
              "      <td>0BjC1NfoEOOusryehmNudP</td>\n",
              "      <td>1</td>\n",
              "      <td>0.246</td>\n",
              "      <td>0.590</td>\n",
              "      <td>137373</td>\n",
              "      <td>0.737</td>\n",
              "      <td>0.000</td>\n",
              "      <td>F#</td>\n",
              "      <td>0.1510</td>\n",
              "      <td>-5.559</td>\n",
              "      <td>0</td>\n",
              "      <td>0.0868</td>\n",
              "      <td>174.003</td>\n",
              "      <td>4/4</td>\n",
              "      <td>0.816</td>\n",
              "    </tr>\n",
              "    <tr>\n",
              "      <th>2</th>\n",
              "      <td>Movie</td>\n",
              "      <td>Joseph Williams</td>\n",
              "      <td>Don't Let Me Be Lonely Tonight</td>\n",
              "      <td>0CoSDzoNIKCRs124s9uTVy</td>\n",
              "      <td>3</td>\n",
              "      <td>0.952</td>\n",
              "      <td>0.663</td>\n",
              "      <td>170267</td>\n",
              "      <td>0.131</td>\n",
              "      <td>0.000</td>\n",
              "      <td>C</td>\n",
              "      <td>0.1030</td>\n",
              "      <td>-13.879</td>\n",
              "      <td>0</td>\n",
              "      <td>0.0362</td>\n",
              "      <td>99.488</td>\n",
              "      <td>5/4</td>\n",
              "      <td>0.368</td>\n",
              "    </tr>\n",
              "    <tr>\n",
              "      <th>3</th>\n",
              "      <td>Movie</td>\n",
              "      <td>Henri Salvador</td>\n",
              "      <td>Dis-moi Monsieur Gordon Cooper</td>\n",
              "      <td>0Gc6TVm52BwZD07Ki6tIvf</td>\n",
              "      <td>0</td>\n",
              "      <td>0.703</td>\n",
              "      <td>0.240</td>\n",
              "      <td>152427</td>\n",
              "      <td>0.326</td>\n",
              "      <td>0.000</td>\n",
              "      <td>C#</td>\n",
              "      <td>0.0985</td>\n",
              "      <td>-12.178</td>\n",
              "      <td>1</td>\n",
              "      <td>0.0395</td>\n",
              "      <td>171.758</td>\n",
              "      <td>4/4</td>\n",
              "      <td>0.227</td>\n",
              "    </tr>\n",
              "    <tr>\n",
              "      <th>4</th>\n",
              "      <td>Movie</td>\n",
              "      <td>Fabien Nataf</td>\n",
              "      <td>Ouverture</td>\n",
              "      <td>0IuslXpMROHdEPvSl1fTQK</td>\n",
              "      <td>4</td>\n",
              "      <td>0.950</td>\n",
              "      <td>0.331</td>\n",
              "      <td>82625</td>\n",
              "      <td>0.225</td>\n",
              "      <td>0.123</td>\n",
              "      <td>F</td>\n",
              "      <td>0.2020</td>\n",
              "      <td>-21.150</td>\n",
              "      <td>1</td>\n",
              "      <td>0.0456</td>\n",
              "      <td>140.576</td>\n",
              "      <td>4/4</td>\n",
              "      <td>0.390</td>\n",
              "    </tr>\n",
              "  </tbody>\n",
              "</table>\n",
              "</div>"
            ],
            "text/plain": [
              "   genre        artist_name  ... time_signature valence\n",
              "0  Movie     Henri Salvador  ...            4/4   0.814\n",
              "1  Movie  Martin & les fées  ...            4/4   0.816\n",
              "2  Movie    Joseph Williams  ...            5/4   0.368\n",
              "3  Movie     Henri Salvador  ...            4/4   0.227\n",
              "4  Movie       Fabien Nataf  ...            4/4   0.390\n",
              "\n",
              "[5 rows x 18 columns]"
            ]
          },
          "metadata": {
            "tags": []
          },
          "execution_count": 119
        }
      ]
    },
    {
      "cell_type": "code",
      "metadata": {
        "id": "CAJCjPd2bThm",
        "colab_type": "code",
        "colab": {
          "base_uri": "https://localhost:8080/",
          "height": 126
        },
        "outputId": "e8f44745-1fc7-426d-e0f8-48eca4c659c2"
      },
      "source": [
        "df['time_signature'].value_counts()"
      ],
      "execution_count": 120,
      "outputs": [
        {
          "output_type": "execute_result",
          "data": {
            "text/plain": [
              "4/4    200760\n",
              "3/4     24111\n",
              "5/4      5238\n",
              "1/4      2608\n",
              "0/4         8\n",
              "Name: time_signature, dtype: int64"
            ]
          },
          "metadata": {
            "tags": []
          },
          "execution_count": 120
        }
      ]
    },
    {
      "cell_type": "code",
      "metadata": {
        "id": "jhgU6TMxcU2m",
        "colab_type": "code",
        "colab": {
          "base_uri": "https://localhost:8080/",
          "height": 391
        },
        "outputId": "5f326d9a-bcfd-45b0-fd4c-0e2ecec6b445"
      },
      "source": [
        "df['time_signature'] = df['time_signature'].replace({'4/4':4,'3/4':3,'5/4':5,'1/4':1,'0/4':0})\n",
        "df.head()"
      ],
      "execution_count": 121,
      "outputs": [
        {
          "output_type": "execute_result",
          "data": {
            "text/html": [
              "<div>\n",
              "<style scoped>\n",
              "    .dataframe tbody tr th:only-of-type {\n",
              "        vertical-align: middle;\n",
              "    }\n",
              "\n",
              "    .dataframe tbody tr th {\n",
              "        vertical-align: top;\n",
              "    }\n",
              "\n",
              "    .dataframe thead th {\n",
              "        text-align: right;\n",
              "    }\n",
              "</style>\n",
              "<table border=\"1\" class=\"dataframe\">\n",
              "  <thead>\n",
              "    <tr style=\"text-align: right;\">\n",
              "      <th></th>\n",
              "      <th>genre</th>\n",
              "      <th>artist_name</th>\n",
              "      <th>track_name</th>\n",
              "      <th>track_id</th>\n",
              "      <th>popularity</th>\n",
              "      <th>acousticness</th>\n",
              "      <th>danceability</th>\n",
              "      <th>duration_ms</th>\n",
              "      <th>energy</th>\n",
              "      <th>instrumentalness</th>\n",
              "      <th>key</th>\n",
              "      <th>liveness</th>\n",
              "      <th>loudness</th>\n",
              "      <th>mode</th>\n",
              "      <th>speechiness</th>\n",
              "      <th>tempo</th>\n",
              "      <th>time_signature</th>\n",
              "      <th>valence</th>\n",
              "    </tr>\n",
              "  </thead>\n",
              "  <tbody>\n",
              "    <tr>\n",
              "      <th>0</th>\n",
              "      <td>Movie</td>\n",
              "      <td>Henri Salvador</td>\n",
              "      <td>C'est beau de faire un Show</td>\n",
              "      <td>0BRjO6ga9RKCKjfDqeFgWV</td>\n",
              "      <td>0</td>\n",
              "      <td>0.611</td>\n",
              "      <td>0.389</td>\n",
              "      <td>99373</td>\n",
              "      <td>0.910</td>\n",
              "      <td>0.000</td>\n",
              "      <td>C#</td>\n",
              "      <td>0.3460</td>\n",
              "      <td>-1.828</td>\n",
              "      <td>1</td>\n",
              "      <td>0.0525</td>\n",
              "      <td>166.969</td>\n",
              "      <td>4</td>\n",
              "      <td>0.814</td>\n",
              "    </tr>\n",
              "    <tr>\n",
              "      <th>1</th>\n",
              "      <td>Movie</td>\n",
              "      <td>Martin &amp; les fées</td>\n",
              "      <td>Perdu d'avance (par Gad Elmaleh)</td>\n",
              "      <td>0BjC1NfoEOOusryehmNudP</td>\n",
              "      <td>1</td>\n",
              "      <td>0.246</td>\n",
              "      <td>0.590</td>\n",
              "      <td>137373</td>\n",
              "      <td>0.737</td>\n",
              "      <td>0.000</td>\n",
              "      <td>F#</td>\n",
              "      <td>0.1510</td>\n",
              "      <td>-5.559</td>\n",
              "      <td>0</td>\n",
              "      <td>0.0868</td>\n",
              "      <td>174.003</td>\n",
              "      <td>4</td>\n",
              "      <td>0.816</td>\n",
              "    </tr>\n",
              "    <tr>\n",
              "      <th>2</th>\n",
              "      <td>Movie</td>\n",
              "      <td>Joseph Williams</td>\n",
              "      <td>Don't Let Me Be Lonely Tonight</td>\n",
              "      <td>0CoSDzoNIKCRs124s9uTVy</td>\n",
              "      <td>3</td>\n",
              "      <td>0.952</td>\n",
              "      <td>0.663</td>\n",
              "      <td>170267</td>\n",
              "      <td>0.131</td>\n",
              "      <td>0.000</td>\n",
              "      <td>C</td>\n",
              "      <td>0.1030</td>\n",
              "      <td>-13.879</td>\n",
              "      <td>0</td>\n",
              "      <td>0.0362</td>\n",
              "      <td>99.488</td>\n",
              "      <td>5</td>\n",
              "      <td>0.368</td>\n",
              "    </tr>\n",
              "    <tr>\n",
              "      <th>3</th>\n",
              "      <td>Movie</td>\n",
              "      <td>Henri Salvador</td>\n",
              "      <td>Dis-moi Monsieur Gordon Cooper</td>\n",
              "      <td>0Gc6TVm52BwZD07Ki6tIvf</td>\n",
              "      <td>0</td>\n",
              "      <td>0.703</td>\n",
              "      <td>0.240</td>\n",
              "      <td>152427</td>\n",
              "      <td>0.326</td>\n",
              "      <td>0.000</td>\n",
              "      <td>C#</td>\n",
              "      <td>0.0985</td>\n",
              "      <td>-12.178</td>\n",
              "      <td>1</td>\n",
              "      <td>0.0395</td>\n",
              "      <td>171.758</td>\n",
              "      <td>4</td>\n",
              "      <td>0.227</td>\n",
              "    </tr>\n",
              "    <tr>\n",
              "      <th>4</th>\n",
              "      <td>Movie</td>\n",
              "      <td>Fabien Nataf</td>\n",
              "      <td>Ouverture</td>\n",
              "      <td>0IuslXpMROHdEPvSl1fTQK</td>\n",
              "      <td>4</td>\n",
              "      <td>0.950</td>\n",
              "      <td>0.331</td>\n",
              "      <td>82625</td>\n",
              "      <td>0.225</td>\n",
              "      <td>0.123</td>\n",
              "      <td>F</td>\n",
              "      <td>0.2020</td>\n",
              "      <td>-21.150</td>\n",
              "      <td>1</td>\n",
              "      <td>0.0456</td>\n",
              "      <td>140.576</td>\n",
              "      <td>4</td>\n",
              "      <td>0.390</td>\n",
              "    </tr>\n",
              "  </tbody>\n",
              "</table>\n",
              "</div>"
            ],
            "text/plain": [
              "   genre        artist_name  ... time_signature valence\n",
              "0  Movie     Henri Salvador  ...              4   0.814\n",
              "1  Movie  Martin & les fées  ...              4   0.816\n",
              "2  Movie    Joseph Williams  ...              5   0.368\n",
              "3  Movie     Henri Salvador  ...              4   0.227\n",
              "4  Movie       Fabien Nataf  ...              4   0.390\n",
              "\n",
              "[5 rows x 18 columns]"
            ]
          },
          "metadata": {
            "tags": []
          },
          "execution_count": 121
        }
      ]
    },
    {
      "cell_type": "code",
      "metadata": {
        "id": "0veJZPzjdhJW",
        "colab_type": "code",
        "colab": {
          "base_uri": "https://localhost:8080/",
          "height": 254
        },
        "outputId": "b13e23a1-27e2-4cf6-c9f7-e71166248550"
      },
      "source": [
        "df['key'].value_counts()"
      ],
      "execution_count": 122,
      "outputs": [
        {
          "output_type": "execute_result",
          "data": {
            "text/plain": [
              "C     27583\n",
              "G     26390\n",
              "D     24077\n",
              "C#    23201\n",
              "A     22671\n",
              "F     20279\n",
              "B     17661\n",
              "E     17390\n",
              "A#    15526\n",
              "F#    15222\n",
              "G#    15159\n",
              "D#     7566\n",
              "Name: key, dtype: int64"
            ]
          },
          "metadata": {
            "tags": []
          },
          "execution_count": 122
        }
      ]
    },
    {
      "cell_type": "code",
      "metadata": {
        "id": "3rREzX2ucxKO",
        "colab_type": "code",
        "colab": {
          "base_uri": "https://localhost:8080/",
          "height": 391
        },
        "outputId": "353f1a39-03e3-4cc9-f9c5-204a785400ba"
      },
      "source": [
        "key_dict = {'C':0,'C#':1,'D':2,'D#':3,'E':4,'F':5,'F#':6,'G':7,'G#':8,'A':9,'A#':10,'B':11}\n",
        "df['key'] = df['key'].replace(key_dict)\n",
        "df.head()"
      ],
      "execution_count": 123,
      "outputs": [
        {
          "output_type": "execute_result",
          "data": {
            "text/html": [
              "<div>\n",
              "<style scoped>\n",
              "    .dataframe tbody tr th:only-of-type {\n",
              "        vertical-align: middle;\n",
              "    }\n",
              "\n",
              "    .dataframe tbody tr th {\n",
              "        vertical-align: top;\n",
              "    }\n",
              "\n",
              "    .dataframe thead th {\n",
              "        text-align: right;\n",
              "    }\n",
              "</style>\n",
              "<table border=\"1\" class=\"dataframe\">\n",
              "  <thead>\n",
              "    <tr style=\"text-align: right;\">\n",
              "      <th></th>\n",
              "      <th>genre</th>\n",
              "      <th>artist_name</th>\n",
              "      <th>track_name</th>\n",
              "      <th>track_id</th>\n",
              "      <th>popularity</th>\n",
              "      <th>acousticness</th>\n",
              "      <th>danceability</th>\n",
              "      <th>duration_ms</th>\n",
              "      <th>energy</th>\n",
              "      <th>instrumentalness</th>\n",
              "      <th>key</th>\n",
              "      <th>liveness</th>\n",
              "      <th>loudness</th>\n",
              "      <th>mode</th>\n",
              "      <th>speechiness</th>\n",
              "      <th>tempo</th>\n",
              "      <th>time_signature</th>\n",
              "      <th>valence</th>\n",
              "    </tr>\n",
              "  </thead>\n",
              "  <tbody>\n",
              "    <tr>\n",
              "      <th>0</th>\n",
              "      <td>Movie</td>\n",
              "      <td>Henri Salvador</td>\n",
              "      <td>C'est beau de faire un Show</td>\n",
              "      <td>0BRjO6ga9RKCKjfDqeFgWV</td>\n",
              "      <td>0</td>\n",
              "      <td>0.611</td>\n",
              "      <td>0.389</td>\n",
              "      <td>99373</td>\n",
              "      <td>0.910</td>\n",
              "      <td>0.000</td>\n",
              "      <td>1</td>\n",
              "      <td>0.3460</td>\n",
              "      <td>-1.828</td>\n",
              "      <td>1</td>\n",
              "      <td>0.0525</td>\n",
              "      <td>166.969</td>\n",
              "      <td>4</td>\n",
              "      <td>0.814</td>\n",
              "    </tr>\n",
              "    <tr>\n",
              "      <th>1</th>\n",
              "      <td>Movie</td>\n",
              "      <td>Martin &amp; les fées</td>\n",
              "      <td>Perdu d'avance (par Gad Elmaleh)</td>\n",
              "      <td>0BjC1NfoEOOusryehmNudP</td>\n",
              "      <td>1</td>\n",
              "      <td>0.246</td>\n",
              "      <td>0.590</td>\n",
              "      <td>137373</td>\n",
              "      <td>0.737</td>\n",
              "      <td>0.000</td>\n",
              "      <td>6</td>\n",
              "      <td>0.1510</td>\n",
              "      <td>-5.559</td>\n",
              "      <td>0</td>\n",
              "      <td>0.0868</td>\n",
              "      <td>174.003</td>\n",
              "      <td>4</td>\n",
              "      <td>0.816</td>\n",
              "    </tr>\n",
              "    <tr>\n",
              "      <th>2</th>\n",
              "      <td>Movie</td>\n",
              "      <td>Joseph Williams</td>\n",
              "      <td>Don't Let Me Be Lonely Tonight</td>\n",
              "      <td>0CoSDzoNIKCRs124s9uTVy</td>\n",
              "      <td>3</td>\n",
              "      <td>0.952</td>\n",
              "      <td>0.663</td>\n",
              "      <td>170267</td>\n",
              "      <td>0.131</td>\n",
              "      <td>0.000</td>\n",
              "      <td>0</td>\n",
              "      <td>0.1030</td>\n",
              "      <td>-13.879</td>\n",
              "      <td>0</td>\n",
              "      <td>0.0362</td>\n",
              "      <td>99.488</td>\n",
              "      <td>5</td>\n",
              "      <td>0.368</td>\n",
              "    </tr>\n",
              "    <tr>\n",
              "      <th>3</th>\n",
              "      <td>Movie</td>\n",
              "      <td>Henri Salvador</td>\n",
              "      <td>Dis-moi Monsieur Gordon Cooper</td>\n",
              "      <td>0Gc6TVm52BwZD07Ki6tIvf</td>\n",
              "      <td>0</td>\n",
              "      <td>0.703</td>\n",
              "      <td>0.240</td>\n",
              "      <td>152427</td>\n",
              "      <td>0.326</td>\n",
              "      <td>0.000</td>\n",
              "      <td>1</td>\n",
              "      <td>0.0985</td>\n",
              "      <td>-12.178</td>\n",
              "      <td>1</td>\n",
              "      <td>0.0395</td>\n",
              "      <td>171.758</td>\n",
              "      <td>4</td>\n",
              "      <td>0.227</td>\n",
              "    </tr>\n",
              "    <tr>\n",
              "      <th>4</th>\n",
              "      <td>Movie</td>\n",
              "      <td>Fabien Nataf</td>\n",
              "      <td>Ouverture</td>\n",
              "      <td>0IuslXpMROHdEPvSl1fTQK</td>\n",
              "      <td>4</td>\n",
              "      <td>0.950</td>\n",
              "      <td>0.331</td>\n",
              "      <td>82625</td>\n",
              "      <td>0.225</td>\n",
              "      <td>0.123</td>\n",
              "      <td>5</td>\n",
              "      <td>0.2020</td>\n",
              "      <td>-21.150</td>\n",
              "      <td>1</td>\n",
              "      <td>0.0456</td>\n",
              "      <td>140.576</td>\n",
              "      <td>4</td>\n",
              "      <td>0.390</td>\n",
              "    </tr>\n",
              "  </tbody>\n",
              "</table>\n",
              "</div>"
            ],
            "text/plain": [
              "   genre        artist_name  ... time_signature valence\n",
              "0  Movie     Henri Salvador  ...              4   0.814\n",
              "1  Movie  Martin & les fées  ...              4   0.816\n",
              "2  Movie    Joseph Williams  ...              5   0.368\n",
              "3  Movie     Henri Salvador  ...              4   0.227\n",
              "4  Movie       Fabien Nataf  ...              4   0.390\n",
              "\n",
              "[5 rows x 18 columns]"
            ]
          },
          "metadata": {
            "tags": []
          },
          "execution_count": 123
        }
      ]
    },
    {
      "cell_type": "code",
      "metadata": {
        "id": "umS4a1jXl3n4",
        "colab_type": "code",
        "colab": {
          "base_uri": "https://localhost:8080/",
          "height": 165
        },
        "outputId": "16495a5c-a23c-4f05-d9db-0cd5057d9db5"
      },
      "source": [
        "# Connect to the API in case we need to look at it's output\n",
        "\n",
        "!pip install spotipy --upgrade\n",
        "import spotipy\n",
        "from spotipy.oauth2 import SpotifyClientCredentials\n",
        "import pandas as pd\n",
        "import time \n",
        "\n",
        "client_id = '14f59f665a094868921bdd76e420d7c0'\n",
        "client_secret = '5e16ddb0f2ed45a69949330bbd34351a'\n",
        "username = 'mahoryu'\n",
        "\n",
        "client_credentials_manager = SpotifyClientCredentials(client_id, client_secret)\n",
        "sp = spotipy.Spotify(client_credentials_manager=client_credentials_manager)"
      ],
      "execution_count": 124,
      "outputs": [
        {
          "output_type": "stream",
          "text": [
            "Requirement already up-to-date: spotipy in /usr/local/lib/python3.6/dist-packages (2.12.0)\n",
            "Requirement already satisfied, skipping upgrade: requests>=2.20.0 in /usr/local/lib/python3.6/dist-packages (from spotipy) (2.23.0)\n",
            "Requirement already satisfied, skipping upgrade: six>=1.10.0 in /usr/local/lib/python3.6/dist-packages (from spotipy) (1.12.0)\n",
            "Requirement already satisfied, skipping upgrade: urllib3!=1.25.0,!=1.25.1,<1.26,>=1.21.1 in /usr/local/lib/python3.6/dist-packages (from requests>=2.20.0->spotipy) (1.24.3)\n",
            "Requirement already satisfied, skipping upgrade: chardet<4,>=3.0.2 in /usr/local/lib/python3.6/dist-packages (from requests>=2.20.0->spotipy) (3.0.4)\n",
            "Requirement already satisfied, skipping upgrade: idna<3,>=2.5 in /usr/local/lib/python3.6/dist-packages (from requests>=2.20.0->spotipy) (2.9)\n",
            "Requirement already satisfied, skipping upgrade: certifi>=2017.4.17 in /usr/local/lib/python3.6/dist-packages (from requests>=2.20.0->spotipy) (2020.4.5.2)\n"
          ],
          "name": "stdout"
        }
      ]
    },
    {
      "cell_type": "markdown",
      "metadata": {
        "id": "Ve0nkowCA4Fp",
        "colab_type": "text"
      },
      "source": [
        "### Define the columns we want to use and make a df with it"
      ]
    },
    {
      "cell_type": "code",
      "metadata": {
        "id": "ZEI_TymE2pP0",
        "colab_type": "code",
        "colab": {}
      },
      "source": [
        "# define headers\n",
        "headers = ['acousticness','danceability','duration_ms','energy','instrumentalness','liveness','loudness','speechiness','tempo','valence', 'key', 'mode', 'time_signature']\n",
        "df_new = df[headers]"
      ],
      "execution_count": 125,
      "outputs": []
    },
    {
      "cell_type": "code",
      "metadata": {
        "id": "f-TkOd5gIEer",
        "colab_type": "code",
        "colab": {
          "base_uri": "https://localhost:8080/",
          "height": 198
        },
        "outputId": "af0e2ca8-244a-4927-8678-45b01fcb2f9e"
      },
      "source": [
        "df_new.head()"
      ],
      "execution_count": 126,
      "outputs": [
        {
          "output_type": "execute_result",
          "data": {
            "text/html": [
              "<div>\n",
              "<style scoped>\n",
              "    .dataframe tbody tr th:only-of-type {\n",
              "        vertical-align: middle;\n",
              "    }\n",
              "\n",
              "    .dataframe tbody tr th {\n",
              "        vertical-align: top;\n",
              "    }\n",
              "\n",
              "    .dataframe thead th {\n",
              "        text-align: right;\n",
              "    }\n",
              "</style>\n",
              "<table border=\"1\" class=\"dataframe\">\n",
              "  <thead>\n",
              "    <tr style=\"text-align: right;\">\n",
              "      <th></th>\n",
              "      <th>acousticness</th>\n",
              "      <th>danceability</th>\n",
              "      <th>duration_ms</th>\n",
              "      <th>energy</th>\n",
              "      <th>instrumentalness</th>\n",
              "      <th>liveness</th>\n",
              "      <th>loudness</th>\n",
              "      <th>speechiness</th>\n",
              "      <th>tempo</th>\n",
              "      <th>valence</th>\n",
              "      <th>key</th>\n",
              "      <th>mode</th>\n",
              "      <th>time_signature</th>\n",
              "    </tr>\n",
              "  </thead>\n",
              "  <tbody>\n",
              "    <tr>\n",
              "      <th>0</th>\n",
              "      <td>0.611</td>\n",
              "      <td>0.389</td>\n",
              "      <td>99373</td>\n",
              "      <td>0.910</td>\n",
              "      <td>0.000</td>\n",
              "      <td>0.3460</td>\n",
              "      <td>-1.828</td>\n",
              "      <td>0.0525</td>\n",
              "      <td>166.969</td>\n",
              "      <td>0.814</td>\n",
              "      <td>1</td>\n",
              "      <td>1</td>\n",
              "      <td>4</td>\n",
              "    </tr>\n",
              "    <tr>\n",
              "      <th>1</th>\n",
              "      <td>0.246</td>\n",
              "      <td>0.590</td>\n",
              "      <td>137373</td>\n",
              "      <td>0.737</td>\n",
              "      <td>0.000</td>\n",
              "      <td>0.1510</td>\n",
              "      <td>-5.559</td>\n",
              "      <td>0.0868</td>\n",
              "      <td>174.003</td>\n",
              "      <td>0.816</td>\n",
              "      <td>6</td>\n",
              "      <td>0</td>\n",
              "      <td>4</td>\n",
              "    </tr>\n",
              "    <tr>\n",
              "      <th>2</th>\n",
              "      <td>0.952</td>\n",
              "      <td>0.663</td>\n",
              "      <td>170267</td>\n",
              "      <td>0.131</td>\n",
              "      <td>0.000</td>\n",
              "      <td>0.1030</td>\n",
              "      <td>-13.879</td>\n",
              "      <td>0.0362</td>\n",
              "      <td>99.488</td>\n",
              "      <td>0.368</td>\n",
              "      <td>0</td>\n",
              "      <td>0</td>\n",
              "      <td>5</td>\n",
              "    </tr>\n",
              "    <tr>\n",
              "      <th>3</th>\n",
              "      <td>0.703</td>\n",
              "      <td>0.240</td>\n",
              "      <td>152427</td>\n",
              "      <td>0.326</td>\n",
              "      <td>0.000</td>\n",
              "      <td>0.0985</td>\n",
              "      <td>-12.178</td>\n",
              "      <td>0.0395</td>\n",
              "      <td>171.758</td>\n",
              "      <td>0.227</td>\n",
              "      <td>1</td>\n",
              "      <td>1</td>\n",
              "      <td>4</td>\n",
              "    </tr>\n",
              "    <tr>\n",
              "      <th>4</th>\n",
              "      <td>0.950</td>\n",
              "      <td>0.331</td>\n",
              "      <td>82625</td>\n",
              "      <td>0.225</td>\n",
              "      <td>0.123</td>\n",
              "      <td>0.2020</td>\n",
              "      <td>-21.150</td>\n",
              "      <td>0.0456</td>\n",
              "      <td>140.576</td>\n",
              "      <td>0.390</td>\n",
              "      <td>5</td>\n",
              "      <td>1</td>\n",
              "      <td>4</td>\n",
              "    </tr>\n",
              "  </tbody>\n",
              "</table>\n",
              "</div>"
            ],
            "text/plain": [
              "   acousticness  danceability  duration_ms  ...  key  mode  time_signature\n",
              "0         0.611         0.389        99373  ...    1     1               4\n",
              "1         0.246         0.590       137373  ...    6     0               4\n",
              "2         0.952         0.663       170267  ...    0     0               5\n",
              "3         0.703         0.240       152427  ...    1     1               4\n",
              "4         0.950         0.331        82625  ...    5     1               4\n",
              "\n",
              "[5 rows x 13 columns]"
            ]
          },
          "metadata": {
            "tags": []
          },
          "execution_count": 126
        }
      ]
    },
    {
      "cell_type": "code",
      "metadata": {
        "id": "wtbbJDcEN80U",
        "colab_type": "code",
        "colab": {
          "base_uri": "https://localhost:8080/",
          "height": 35
        },
        "outputId": "f54f0e75-9eb1-4663-c258-fc6ff9c8e03b"
      },
      "source": [
        "df_new.shape"
      ],
      "execution_count": 127,
      "outputs": [
        {
          "output_type": "execute_result",
          "data": {
            "text/plain": [
              "(232725, 13)"
            ]
          },
          "metadata": {
            "tags": []
          },
          "execution_count": 127
        }
      ]
    },
    {
      "cell_type": "markdown",
      "metadata": {
        "id": "kcY8_MocBA6l",
        "colab_type": "text"
      },
      "source": [
        "### Make the model"
      ]
    },
    {
      "cell_type": "code",
      "metadata": {
        "id": "vhbd0GflNQNz",
        "colab_type": "code",
        "colab": {}
      },
      "source": [
        "# imports \n",
        "\n",
        "from keras.models import Model\n",
        "from keras.layers import Input, Dense\n",
        "from keras import regularizers\n",
        "from sklearn.preprocessing import MinMaxScaler\n",
        "import pandas as pd"
      ],
      "execution_count": 128,
      "outputs": []
    },
    {
      "cell_type": "code",
      "metadata": {
        "id": "KV7ntMqdNcnq",
        "colab_type": "code",
        "colab": {}
      },
      "source": [
        "# Normalise the data\n",
        "scaler = MinMaxScaler()\n",
        "data_scaled = scaler.fit_transform(df_new)"
      ],
      "execution_count": 129,
      "outputs": []
    },
    {
      "cell_type": "markdown",
      "metadata": {
        "id": "RW4pxtP0Gczz",
        "colab_type": "text"
      },
      "source": [
        "#### Pickle the Scaler"
      ]
    },
    {
      "cell_type": "code",
      "metadata": {
        "id": "uoqqun5YGfqO",
        "colab_type": "code",
        "colab": {
          "base_uri": "https://localhost:8080/",
          "height": 35
        },
        "outputId": "1fd4c0b0-7fd4-442c-abc9-32004abc063d"
      },
      "source": [
        "import pickle\n",
        "\n",
        "# Dump the trained classifier (autoencoder)  with Pickle\n",
        "pickle_filename_1 = 'scaler_model.pkl'\n",
        "pickled_model_1 = open(pickle_filename_1, 'wb')  # Open the file to save as pkl file\n",
        "pickle.dump(scaler, pickled_model_1)\n",
        "pickled_model_1.close() # Close the pickle instances\n",
        "\n",
        "# Loading the saved model\n",
        "model_pkl_1 = open(pickle_filename_1, 'rb')\n",
        "scaler_model = pickle.load(model_pkl_1)\n",
        "print (\"Loaded model :: \", scaler_model)  # print to verify"
      ],
      "execution_count": 130,
      "outputs": [
        {
          "output_type": "stream",
          "text": [
            "Loaded model ::  MinMaxScaler(copy=True, feature_range=(0, 1))\n"
          ],
          "name": "stdout"
        }
      ]
    },
    {
      "cell_type": "markdown",
      "metadata": {
        "id": "DAiAaodwHa_b",
        "colab_type": "text"
      },
      "source": [
        "#### Create actual Model"
      ]
    },
    {
      "cell_type": "code",
      "metadata": {
        "id": "-qwL_gFsOFw1",
        "colab_type": "code",
        "colab": {
          "base_uri": "https://localhost:8080/",
          "height": 198
        },
        "outputId": "85016917-75c4-41bd-8786-617289a66584"
      },
      "source": [
        "# set the scaled data to a new df\n",
        "df_scaled = pd.DataFrame(data_scaled,columns=headers)\n",
        "df_scaled.head()"
      ],
      "execution_count": 131,
      "outputs": [
        {
          "output_type": "execute_result",
          "data": {
            "text/html": [
              "<div>\n",
              "<style scoped>\n",
              "    .dataframe tbody tr th:only-of-type {\n",
              "        vertical-align: middle;\n",
              "    }\n",
              "\n",
              "    .dataframe tbody tr th {\n",
              "        vertical-align: top;\n",
              "    }\n",
              "\n",
              "    .dataframe thead th {\n",
              "        text-align: right;\n",
              "    }\n",
              "</style>\n",
              "<table border=\"1\" class=\"dataframe\">\n",
              "  <thead>\n",
              "    <tr style=\"text-align: right;\">\n",
              "      <th></th>\n",
              "      <th>acousticness</th>\n",
              "      <th>danceability</th>\n",
              "      <th>duration_ms</th>\n",
              "      <th>energy</th>\n",
              "      <th>instrumentalness</th>\n",
              "      <th>liveness</th>\n",
              "      <th>loudness</th>\n",
              "      <th>speechiness</th>\n",
              "      <th>tempo</th>\n",
              "      <th>valence</th>\n",
              "      <th>key</th>\n",
              "      <th>mode</th>\n",
              "      <th>time_signature</th>\n",
              "    </tr>\n",
              "  </thead>\n",
              "  <tbody>\n",
              "    <tr>\n",
              "      <th>0</th>\n",
              "      <td>0.613454</td>\n",
              "      <td>0.356292</td>\n",
              "      <td>0.015167</td>\n",
              "      <td>0.910909</td>\n",
              "      <td>0.000000</td>\n",
              "      <td>0.339614</td>\n",
              "      <td>0.900856</td>\n",
              "      <td>0.032070</td>\n",
              "      <td>0.642704</td>\n",
              "      <td>0.814</td>\n",
              "      <td>0.090909</td>\n",
              "      <td>1.0</td>\n",
              "      <td>0.8</td>\n",
              "    </tr>\n",
              "    <tr>\n",
              "      <th>1</th>\n",
              "      <td>0.246988</td>\n",
              "      <td>0.571934</td>\n",
              "      <td>0.022029</td>\n",
              "      <td>0.737732</td>\n",
              "      <td>0.000000</td>\n",
              "      <td>0.142710</td>\n",
              "      <td>0.834469</td>\n",
              "      <td>0.068374</td>\n",
              "      <td>0.675801</td>\n",
              "      <td>0.816</td>\n",
              "      <td>0.545455</td>\n",
              "      <td>0.0</td>\n",
              "      <td>0.8</td>\n",
              "    </tr>\n",
              "    <tr>\n",
              "      <th>2</th>\n",
              "      <td>0.955823</td>\n",
              "      <td>0.650252</td>\n",
              "      <td>0.027969</td>\n",
              "      <td>0.131113</td>\n",
              "      <td>0.000000</td>\n",
              "      <td>0.094241</td>\n",
              "      <td>0.686429</td>\n",
              "      <td>0.014818</td>\n",
              "      <td>0.325182</td>\n",
              "      <td>0.368</td>\n",
              "      <td>0.000000</td>\n",
              "      <td>0.0</td>\n",
              "      <td>1.0</td>\n",
              "    </tr>\n",
              "    <tr>\n",
              "      <th>3</th>\n",
              "      <td>0.705823</td>\n",
              "      <td>0.196438</td>\n",
              "      <td>0.024747</td>\n",
              "      <td>0.326313</td>\n",
              "      <td>0.000000</td>\n",
              "      <td>0.089697</td>\n",
              "      <td>0.716695</td>\n",
              "      <td>0.018311</td>\n",
              "      <td>0.665238</td>\n",
              "      <td>0.227</td>\n",
              "      <td>0.090909</td>\n",
              "      <td>1.0</td>\n",
              "      <td>0.8</td>\n",
              "    </tr>\n",
              "    <tr>\n",
              "      <th>4</th>\n",
              "      <td>0.953815</td>\n",
              "      <td>0.294067</td>\n",
              "      <td>0.012142</td>\n",
              "      <td>0.225209</td>\n",
              "      <td>0.123123</td>\n",
              "      <td>0.194208</td>\n",
              "      <td>0.557054</td>\n",
              "      <td>0.024767</td>\n",
              "      <td>0.518516</td>\n",
              "      <td>0.390</td>\n",
              "      <td>0.454545</td>\n",
              "      <td>1.0</td>\n",
              "      <td>0.8</td>\n",
              "    </tr>\n",
              "  </tbody>\n",
              "</table>\n",
              "</div>"
            ],
            "text/plain": [
              "   acousticness  danceability  duration_ms  ...       key  mode  time_signature\n",
              "0      0.613454      0.356292     0.015167  ...  0.090909   1.0             0.8\n",
              "1      0.246988      0.571934     0.022029  ...  0.545455   0.0             0.8\n",
              "2      0.955823      0.650252     0.027969  ...  0.000000   0.0             1.0\n",
              "3      0.705823      0.196438     0.024747  ...  0.090909   1.0             0.8\n",
              "4      0.953815      0.294067     0.012142  ...  0.454545   1.0             0.8\n",
              "\n",
              "[5 rows x 13 columns]"
            ]
          },
          "metadata": {
            "tags": []
          },
          "execution_count": 131
        }
      ]
    },
    {
      "cell_type": "code",
      "metadata": {
        "id": "c9HkvN9iOwj9",
        "colab_type": "code",
        "colab": {
          "base_uri": "https://localhost:8080/",
          "height": 345
        },
        "outputId": "91d19bce-df4a-4cdb-8fd4-64a5c19babf2"
      },
      "source": [
        "# create the actual autoencoder\n",
        "\n",
        "# set the input dimentions to what is in the df_new\n",
        "input_dim = df_new.shape[1]  # 13\n",
        "\n",
        "# Number of neurons in each Layer [13, 8, 3, ...] of encoders\n",
        "input_layer = Input(shape=(input_dim, ))\n",
        "encoder_layer_1 = Dense(8, activation=\"relu\", activity_regularizer=regularizers.l1(10e-5))(input_layer)\n",
        "encoder_layer_2 = Dense(3, activation=\"relu\")(encoder_layer_1)\n",
        "\n",
        "# Crear encoder model\n",
        "encoder = Model(inputs=input_layer, outputs=encoder_layer_2)\n",
        "\n",
        "decoder_1 = Dense(8, activation='relu')(encoder_layer_2)\n",
        "decoder_output = Dense(input_dim, activation = 'sigmoid')(decoder_1)\n",
        "\n",
        "autoencoder = Model(input_layer, decoder_output)\n",
        "\n",
        "autoencoder.summary()"
      ],
      "execution_count": 134,
      "outputs": [
        {
          "output_type": "stream",
          "text": [
            "Model: \"model_20\"\n",
            "_________________________________________________________________\n",
            "Layer (type)                 Output Shape              Param #   \n",
            "=================================================================\n",
            "input_10 (InputLayer)        (None, 13)                0         \n",
            "_________________________________________________________________\n",
            "dense_37 (Dense)             (None, 8)                 112       \n",
            "_________________________________________________________________\n",
            "dense_38 (Dense)             (None, 3)                 27        \n",
            "_________________________________________________________________\n",
            "dense_39 (Dense)             (None, 8)                 32        \n",
            "_________________________________________________________________\n",
            "dense_40 (Dense)             (None, 13)                117       \n",
            "=================================================================\n",
            "Total params: 288\n",
            "Trainable params: 288\n",
            "Non-trainable params: 0\n",
            "_________________________________________________________________\n"
          ],
          "name": "stdout"
        }
      ]
    },
    {
      "cell_type": "code",
      "metadata": {
        "id": "hfuSytVTUiWi",
        "colab_type": "code",
        "colab": {
          "base_uri": "https://localhost:8080/",
          "height": 272
        },
        "outputId": "58096fdb-b0dd-4d3b-adab-aa92424ddcf7"
      },
      "source": [
        "from tensorflow.keras.callbacks import EarlyStopping\n",
        "\n",
        "# compile the autoencoder\n",
        "autoencoder.compile(optimizer='nadam',\n",
        "                    loss='binary_crossentropy') \n",
        "                    \n",
        "stop = EarlyStopping(monitor='val_loss', min_delta=0.001, patience=2)\n",
        "\n",
        "# fit the model\n",
        "autoencoder.fit(df_scaled, df_scaled,\n",
        "                epochs=100,\n",
        "                batch_size=32,\n",
        "                validation_split=0.2,\n",
        "                callbacks=[stop]) "
      ],
      "execution_count": 136,
      "outputs": [
        {
          "output_type": "stream",
          "text": [
            "Train on 186180 samples, validate on 46545 samples\n",
            "Epoch 1/100\n",
            "186180/186180 [==============================] - 31s 166us/step - loss: 0.4210 - val_loss: 0.4150\n",
            "Epoch 2/100\n",
            "186180/186180 [==============================] - 30s 163us/step - loss: 0.4167 - val_loss: 0.4120\n",
            "Epoch 3/100\n",
            "186180/186180 [==============================] - 30s 163us/step - loss: 0.4161 - val_loss: 0.4113\n",
            "Epoch 4/100\n",
            "186180/186180 [==============================] - 32s 172us/step - loss: 0.4158 - val_loss: 0.4108\n",
            "Epoch 5/100\n",
            "186180/186180 [==============================] - 31s 165us/step - loss: 0.4156 - val_loss: 0.4118\n",
            "Epoch 6/100\n",
            "186180/186180 [==============================] - 31s 164us/step - loss: 0.4155 - val_loss: 0.4117\n"
          ],
          "name": "stdout"
        },
        {
          "output_type": "execute_result",
          "data": {
            "text/plain": [
              "<keras.callbacks.callbacks.History at 0x7f3545a20c88>"
            ]
          },
          "metadata": {
            "tags": []
          },
          "execution_count": 136
        }
      ]
    },
    {
      "cell_type": "code",
      "metadata": {
        "id": "4_6L7UvXPEKY",
        "colab_type": "code",
        "colab": {
          "base_uri": "https://localhost:8080/",
          "height": 198
        },
        "outputId": "15cd8b9c-62f1-4040-beb4-b6e42797fd2d"
      },
      "source": [
        "# Use the model to predict the factors which sum up the selected atributes of the songs,\n",
        "#   by making an encoded_data df.\n",
        "encoded_data = pd.DataFrame(encoder.predict(data_scaled))\n",
        "encoded_data.columns = ['x', 'y', 'z']\n",
        "encoded_data.head()"
      ],
      "execution_count": 137,
      "outputs": [
        {
          "output_type": "execute_result",
          "data": {
            "text/html": [
              "<div>\n",
              "<style scoped>\n",
              "    .dataframe tbody tr th:only-of-type {\n",
              "        vertical-align: middle;\n",
              "    }\n",
              "\n",
              "    .dataframe tbody tr th {\n",
              "        vertical-align: top;\n",
              "    }\n",
              "\n",
              "    .dataframe thead th {\n",
              "        text-align: right;\n",
              "    }\n",
              "</style>\n",
              "<table border=\"1\" class=\"dataframe\">\n",
              "  <thead>\n",
              "    <tr style=\"text-align: right;\">\n",
              "      <th></th>\n",
              "      <th>x</th>\n",
              "      <th>y</th>\n",
              "      <th>z</th>\n",
              "    </tr>\n",
              "  </thead>\n",
              "  <tbody>\n",
              "    <tr>\n",
              "      <th>0</th>\n",
              "      <td>0.900296</td>\n",
              "      <td>0.941521</td>\n",
              "      <td>0.857154</td>\n",
              "    </tr>\n",
              "    <tr>\n",
              "      <th>1</th>\n",
              "      <td>0.517513</td>\n",
              "      <td>1.170685</td>\n",
              "      <td>0.946350</td>\n",
              "    </tr>\n",
              "    <tr>\n",
              "      <th>2</th>\n",
              "      <td>0.526415</td>\n",
              "      <td>0.768503</td>\n",
              "      <td>1.088349</td>\n",
              "    </tr>\n",
              "    <tr>\n",
              "      <th>3</th>\n",
              "      <td>0.817077</td>\n",
              "      <td>0.851855</td>\n",
              "      <td>1.309245</td>\n",
              "    </tr>\n",
              "    <tr>\n",
              "      <th>4</th>\n",
              "      <td>0.990659</td>\n",
              "      <td>0.700613</td>\n",
              "      <td>1.353725</td>\n",
              "    </tr>\n",
              "  </tbody>\n",
              "</table>\n",
              "</div>"
            ],
            "text/plain": [
              "          x         y         z\n",
              "0  0.900296  0.941521  0.857154\n",
              "1  0.517513  1.170685  0.946350\n",
              "2  0.526415  0.768503  1.088349\n",
              "3  0.817077  0.851855  1.309245\n",
              "4  0.990659  0.700613  1.353725"
            ]
          },
          "metadata": {
            "tags": []
          },
          "execution_count": 137
        }
      ]
    },
    {
      "cell_type": "markdown",
      "metadata": {
        "id": "_twW9LRvH6rC",
        "colab_type": "text"
      },
      "source": [
        "#### Try with less columns\n",
        "\n",
        "(No go, we end up with a higher loss)"
      ]
    },
    {
      "cell_type": "code",
      "metadata": {
        "id": "cs69JDFMHy6P",
        "colab_type": "code",
        "colab": {}
      },
      "source": [
        "headers = ['acousticness','danceability','energy','instrumentalness','loudness','speechiness','valence', 'key', 'mode']\n",
        "df_new = df[headers]"
      ],
      "execution_count": null,
      "outputs": []
    },
    {
      "cell_type": "code",
      "metadata": {
        "id": "fFo0p1HTItDM",
        "colab_type": "code",
        "colab": {
          "base_uri": "https://localhost:8080/"
        },
        "outputId": "abd1af12-5843-40c5-f3ef-099ab5954793"
      },
      "source": [
        "# Normalise the data\n",
        "scaler = MinMaxScaler()\n",
        "data_scaled = scaler.fit_transform(df_new)\n",
        "\n",
        "# set the scaled data to a new df\n",
        "df_scaled = pd.DataFrame(data_scaled,columns=headers)\n",
        "df_scaled.head()"
      ],
      "execution_count": null,
      "outputs": [
        {
          "output_type": "execute_result",
          "data": {
            "text/html": [
              "<div>\n",
              "<style scoped>\n",
              "    .dataframe tbody tr th:only-of-type {\n",
              "        vertical-align: middle;\n",
              "    }\n",
              "\n",
              "    .dataframe tbody tr th {\n",
              "        vertical-align: top;\n",
              "    }\n",
              "\n",
              "    .dataframe thead th {\n",
              "        text-align: right;\n",
              "    }\n",
              "</style>\n",
              "<table border=\"1\" class=\"dataframe\">\n",
              "  <thead>\n",
              "    <tr style=\"text-align: right;\">\n",
              "      <th></th>\n",
              "      <th>acousticness</th>\n",
              "      <th>danceability</th>\n",
              "      <th>energy</th>\n",
              "      <th>instrumentalness</th>\n",
              "      <th>loudness</th>\n",
              "      <th>speechiness</th>\n",
              "      <th>valence</th>\n",
              "      <th>key</th>\n",
              "      <th>mode</th>\n",
              "    </tr>\n",
              "  </thead>\n",
              "  <tbody>\n",
              "    <tr>\n",
              "      <th>0</th>\n",
              "      <td>0.613454</td>\n",
              "      <td>0.356292</td>\n",
              "      <td>0.910909</td>\n",
              "      <td>0.000000</td>\n",
              "      <td>0.900856</td>\n",
              "      <td>0.032070</td>\n",
              "      <td>0.814</td>\n",
              "      <td>0.090909</td>\n",
              "      <td>1.0</td>\n",
              "    </tr>\n",
              "    <tr>\n",
              "      <th>1</th>\n",
              "      <td>0.246988</td>\n",
              "      <td>0.571934</td>\n",
              "      <td>0.737732</td>\n",
              "      <td>0.000000</td>\n",
              "      <td>0.834469</td>\n",
              "      <td>0.068374</td>\n",
              "      <td>0.816</td>\n",
              "      <td>0.545455</td>\n",
              "      <td>0.0</td>\n",
              "    </tr>\n",
              "    <tr>\n",
              "      <th>2</th>\n",
              "      <td>0.955823</td>\n",
              "      <td>0.650252</td>\n",
              "      <td>0.131113</td>\n",
              "      <td>0.000000</td>\n",
              "      <td>0.686429</td>\n",
              "      <td>0.014818</td>\n",
              "      <td>0.368</td>\n",
              "      <td>0.000000</td>\n",
              "      <td>0.0</td>\n",
              "    </tr>\n",
              "    <tr>\n",
              "      <th>3</th>\n",
              "      <td>0.705823</td>\n",
              "      <td>0.196438</td>\n",
              "      <td>0.326313</td>\n",
              "      <td>0.000000</td>\n",
              "      <td>0.716695</td>\n",
              "      <td>0.018311</td>\n",
              "      <td>0.227</td>\n",
              "      <td>0.090909</td>\n",
              "      <td>1.0</td>\n",
              "    </tr>\n",
              "    <tr>\n",
              "      <th>4</th>\n",
              "      <td>0.953815</td>\n",
              "      <td>0.294067</td>\n",
              "      <td>0.225209</td>\n",
              "      <td>0.123123</td>\n",
              "      <td>0.557054</td>\n",
              "      <td>0.024767</td>\n",
              "      <td>0.390</td>\n",
              "      <td>0.454545</td>\n",
              "      <td>1.0</td>\n",
              "    </tr>\n",
              "  </tbody>\n",
              "</table>\n",
              "</div>"
            ],
            "text/plain": [
              "   acousticness  danceability    energy  ...  valence       key  mode\n",
              "0      0.613454      0.356292  0.910909  ...    0.814  0.090909   1.0\n",
              "1      0.246988      0.571934  0.737732  ...    0.816  0.545455   0.0\n",
              "2      0.955823      0.650252  0.131113  ...    0.368  0.000000   0.0\n",
              "3      0.705823      0.196438  0.326313  ...    0.227  0.090909   1.0\n",
              "4      0.953815      0.294067  0.225209  ...    0.390  0.454545   1.0\n",
              "\n",
              "[5 rows x 9 columns]"
            ]
          },
          "metadata": {
            "tags": []
          },
          "execution_count": 51
        }
      ]
    },
    {
      "cell_type": "code",
      "metadata": {
        "id": "TF2KTqSyI0XR",
        "colab_type": "code",
        "colab": {
          "base_uri": "https://localhost:8080/"
        },
        "outputId": "60c1016a-460d-44c0-8e3e-1975045d9b26"
      },
      "source": [
        "# create the actual autoencoder\n",
        "\n",
        "# set the input dimentions to what is in the df_new\n",
        "input_dim = df_new.shape[1]  # 14\n",
        "\n",
        "# Number of neurons in each Layer [14, 7, 3, ...] of encoders\n",
        "input_layer = Input(shape=(input_dim, ))\n",
        "encoder_layer_1 = Dense(6, activation=\"relu\", activity_regularizer=regularizers.l1(10e-5))(input_layer)\n",
        "encoder_layer_2 = Dense(3, activation=\"relu\")(encoder_layer_1)\n",
        "\n",
        "# Crear encoder model\n",
        "encoder = Model(inputs=input_layer, outputs=encoder_layer_2)\n",
        "\n",
        "decoder_1 = Dense(6, activation='relu')(encoder_layer_2)\n",
        "decoder_output = Dense(input_dim, activation = 'sigmoid')(decoder_1)\n",
        "\n",
        "autoencoder = Model(input_layer, decoder_output)\n",
        "\n",
        "autoencoder.summary()"
      ],
      "execution_count": null,
      "outputs": [
        {
          "output_type": "stream",
          "text": [
            "Model: \"model_10\"\n",
            "_________________________________________________________________\n",
            "Layer (type)                 Output Shape              Param #   \n",
            "=================================================================\n",
            "input_5 (InputLayer)         (None, 9)                 0         \n",
            "_________________________________________________________________\n",
            "dense_17 (Dense)             (None, 6)                 60        \n",
            "_________________________________________________________________\n",
            "dense_18 (Dense)             (None, 3)                 21        \n",
            "_________________________________________________________________\n",
            "dense_19 (Dense)             (None, 6)                 24        \n",
            "_________________________________________________________________\n",
            "dense_20 (Dense)             (None, 9)                 63        \n",
            "=================================================================\n",
            "Total params: 168\n",
            "Trainable params: 168\n",
            "Non-trainable params: 0\n",
            "_________________________________________________________________\n"
          ],
          "name": "stdout"
        }
      ]
    },
    {
      "cell_type": "code",
      "metadata": {
        "id": "yymzgU09I4wn",
        "colab_type": "code",
        "colab": {
          "base_uri": "https://localhost:8080/"
        },
        "outputId": "49e7cd07-57aa-4c8f-c43a-75e2f48deb34"
      },
      "source": [
        "# compile the autoencoder\n",
        "autoencoder.compile(optimizer='nadam',\n",
        "                    loss='binary_crossentropy') \n",
        "                    \n",
        "stop = EarlyStopping(monitor='val_loss', min_delta=0.001, patience=3)\n",
        "\n",
        "# fit the model\n",
        "autoencoder.fit(df_scaled, df_scaled,\n",
        "                epochs=100,\n",
        "                batch_size=128,\n",
        "                validation_split=0.2,\n",
        "                callbacks=[stop]) "
      ],
      "execution_count": null,
      "outputs": [
        {
          "output_type": "stream",
          "text": [
            "Train on 186180 samples, validate on 46545 samples\n",
            "Epoch 1/100\n",
            "186180/186180 [==============================] - 8s 42us/step - loss: 0.5335 - val_loss: 0.5178\n",
            "Epoch 2/100\n",
            "186180/186180 [==============================] - 8s 43us/step - loss: 0.4768 - val_loss: 0.4740\n",
            "Epoch 3/100\n",
            "186180/186180 [==============================] - 8s 43us/step - loss: 0.4680 - val_loss: 0.4668\n",
            "Epoch 4/100\n",
            "186180/186180 [==============================] - 8s 43us/step - loss: 0.4654 - val_loss: 0.4621\n",
            "Epoch 5/100\n",
            "186180/186180 [==============================] - 8s 42us/step - loss: 0.4640 - val_loss: 0.4603\n",
            "Epoch 6/100\n",
            "186180/186180 [==============================] - 8s 43us/step - loss: 0.4632 - val_loss: 0.4592\n",
            "Epoch 7/100\n",
            "186180/186180 [==============================] - 8s 45us/step - loss: 0.4626 - val_loss: 0.4591\n",
            "Epoch 8/100\n",
            "186180/186180 [==============================] - 8s 43us/step - loss: 0.4622 - val_loss: 0.4590\n",
            "Epoch 9/100\n",
            "186180/186180 [==============================] - 8s 43us/step - loss: 0.4619 - val_loss: 0.4567\n",
            "Epoch 10/100\n",
            "186180/186180 [==============================] - 8s 42us/step - loss: 0.4617 - val_loss: 0.4576\n",
            "Epoch 11/100\n",
            "186180/186180 [==============================] - 8s 43us/step - loss: 0.4615 - val_loss: 0.4578\n",
            "Epoch 12/100\n",
            "186180/186180 [==============================] - 8s 42us/step - loss: 0.4614 - val_loss: 0.4569\n"
          ],
          "name": "stdout"
        },
        {
          "output_type": "execute_result",
          "data": {
            "text/plain": [
              "<keras.callbacks.callbacks.History at 0x7f354e103ef0>"
            ]
          },
          "metadata": {
            "tags": []
          },
          "execution_count": 54
        }
      ]
    },
    {
      "cell_type": "markdown",
      "metadata": {
        "id": "M7DIqSIxMA8e",
        "colab_type": "text"
      },
      "source": [
        "#### Other Testing"
      ]
    },
    {
      "cell_type": "code",
      "metadata": {
        "id": "PTBYpdzAIfv-",
        "colab_type": "code",
        "colab": {}
      },
      "source": [
        "########\n",
        "## try resonstructing a song to see accuracy visually.\n",
        "########\n",
        "df_input = df_scaled[:1]\n",
        "df_output = pd.DataFrame(autoencoder.predict(df_input),columns=headers)"
      ],
      "execution_count": 138,
      "outputs": []
    },
    {
      "cell_type": "code",
      "metadata": {
        "id": "pu9ilVSeOyg-",
        "colab_type": "code",
        "colab": {
          "base_uri": "https://localhost:8080/",
          "height": 78
        },
        "outputId": "4235df33-cfc5-41fe-9293-66f1658f32c5"
      },
      "source": [
        "# Starting scaled data\n",
        "df_input.head()"
      ],
      "execution_count": 139,
      "outputs": [
        {
          "output_type": "execute_result",
          "data": {
            "text/html": [
              "<div>\n",
              "<style scoped>\n",
              "    .dataframe tbody tr th:only-of-type {\n",
              "        vertical-align: middle;\n",
              "    }\n",
              "\n",
              "    .dataframe tbody tr th {\n",
              "        vertical-align: top;\n",
              "    }\n",
              "\n",
              "    .dataframe thead th {\n",
              "        text-align: right;\n",
              "    }\n",
              "</style>\n",
              "<table border=\"1\" class=\"dataframe\">\n",
              "  <thead>\n",
              "    <tr style=\"text-align: right;\">\n",
              "      <th></th>\n",
              "      <th>acousticness</th>\n",
              "      <th>danceability</th>\n",
              "      <th>duration_ms</th>\n",
              "      <th>energy</th>\n",
              "      <th>instrumentalness</th>\n",
              "      <th>liveness</th>\n",
              "      <th>loudness</th>\n",
              "      <th>speechiness</th>\n",
              "      <th>tempo</th>\n",
              "      <th>valence</th>\n",
              "      <th>key</th>\n",
              "      <th>mode</th>\n",
              "      <th>time_signature</th>\n",
              "    </tr>\n",
              "  </thead>\n",
              "  <tbody>\n",
              "    <tr>\n",
              "      <th>0</th>\n",
              "      <td>0.613454</td>\n",
              "      <td>0.356292</td>\n",
              "      <td>0.015167</td>\n",
              "      <td>0.910909</td>\n",
              "      <td>0.0</td>\n",
              "      <td>0.339614</td>\n",
              "      <td>0.900856</td>\n",
              "      <td>0.03207</td>\n",
              "      <td>0.642704</td>\n",
              "      <td>0.814</td>\n",
              "      <td>0.090909</td>\n",
              "      <td>1.0</td>\n",
              "      <td>0.8</td>\n",
              "    </tr>\n",
              "  </tbody>\n",
              "</table>\n",
              "</div>"
            ],
            "text/plain": [
              "   acousticness  danceability  duration_ms  ...       key  mode  time_signature\n",
              "0      0.613454      0.356292     0.015167  ...  0.090909   1.0             0.8\n",
              "\n",
              "[1 rows x 13 columns]"
            ]
          },
          "metadata": {
            "tags": []
          },
          "execution_count": 139
        }
      ]
    },
    {
      "cell_type": "code",
      "metadata": {
        "id": "uhf3yN7XPD8E",
        "colab_type": "code",
        "colab": {
          "base_uri": "https://localhost:8080/",
          "height": 78
        },
        "outputId": "8080fef4-e35b-4c93-ff32-ebee5de70911"
      },
      "source": [
        "# reconstructed scaled data\n",
        "df_output.head()"
      ],
      "execution_count": 140,
      "outputs": [
        {
          "output_type": "execute_result",
          "data": {
            "text/html": [
              "<div>\n",
              "<style scoped>\n",
              "    .dataframe tbody tr th:only-of-type {\n",
              "        vertical-align: middle;\n",
              "    }\n",
              "\n",
              "    .dataframe tbody tr th {\n",
              "        vertical-align: top;\n",
              "    }\n",
              "\n",
              "    .dataframe thead th {\n",
              "        text-align: right;\n",
              "    }\n",
              "</style>\n",
              "<table border=\"1\" class=\"dataframe\">\n",
              "  <thead>\n",
              "    <tr style=\"text-align: right;\">\n",
              "      <th></th>\n",
              "      <th>acousticness</th>\n",
              "      <th>danceability</th>\n",
              "      <th>duration_ms</th>\n",
              "      <th>energy</th>\n",
              "      <th>instrumentalness</th>\n",
              "      <th>liveness</th>\n",
              "      <th>loudness</th>\n",
              "      <th>speechiness</th>\n",
              "      <th>tempo</th>\n",
              "      <th>valence</th>\n",
              "      <th>key</th>\n",
              "      <th>mode</th>\n",
              "      <th>time_signature</th>\n",
              "    </tr>\n",
              "  </thead>\n",
              "  <tbody>\n",
              "    <tr>\n",
              "      <th>0</th>\n",
              "      <td>0.387571</td>\n",
              "      <td>0.65317</td>\n",
              "      <td>0.035517</td>\n",
              "      <td>0.59674</td>\n",
              "      <td>4.697787e-09</td>\n",
              "      <td>0.230046</td>\n",
              "      <td>0.791368</td>\n",
              "      <td>0.114692</td>\n",
              "      <td>0.412489</td>\n",
              "      <td>0.648475</td>\n",
              "      <td>0.122968</td>\n",
              "      <td>1.0</td>\n",
              "      <td>0.78154</td>\n",
              "    </tr>\n",
              "  </tbody>\n",
              "</table>\n",
              "</div>"
            ],
            "text/plain": [
              "   acousticness  danceability  duration_ms  ...       key  mode  time_signature\n",
              "0      0.387571       0.65317     0.035517  ...  0.122968   1.0         0.78154\n",
              "\n",
              "[1 rows x 13 columns]"
            ]
          },
          "metadata": {
            "tags": []
          },
          "execution_count": 140
        }
      ]
    },
    {
      "cell_type": "code",
      "metadata": {
        "id": "VV_20U9TPt4O",
        "colab_type": "code",
        "colab": {
          "base_uri": "https://localhost:8080/",
          "height": 78
        },
        "outputId": "f575de5c-2b4f-4ccb-f023-88274de8843c"
      },
      "source": [
        "# the difference between the two\n",
        "df_difference = df_input-df_output\n",
        "df_difference.head()"
      ],
      "execution_count": 141,
      "outputs": [
        {
          "output_type": "execute_result",
          "data": {
            "text/html": [
              "<div>\n",
              "<style scoped>\n",
              "    .dataframe tbody tr th:only-of-type {\n",
              "        vertical-align: middle;\n",
              "    }\n",
              "\n",
              "    .dataframe tbody tr th {\n",
              "        vertical-align: top;\n",
              "    }\n",
              "\n",
              "    .dataframe thead th {\n",
              "        text-align: right;\n",
              "    }\n",
              "</style>\n",
              "<table border=\"1\" class=\"dataframe\">\n",
              "  <thead>\n",
              "    <tr style=\"text-align: right;\">\n",
              "      <th></th>\n",
              "      <th>acousticness</th>\n",
              "      <th>danceability</th>\n",
              "      <th>duration_ms</th>\n",
              "      <th>energy</th>\n",
              "      <th>instrumentalness</th>\n",
              "      <th>liveness</th>\n",
              "      <th>loudness</th>\n",
              "      <th>speechiness</th>\n",
              "      <th>tempo</th>\n",
              "      <th>valence</th>\n",
              "      <th>key</th>\n",
              "      <th>mode</th>\n",
              "      <th>time_signature</th>\n",
              "    </tr>\n",
              "  </thead>\n",
              "  <tbody>\n",
              "    <tr>\n",
              "      <th>0</th>\n",
              "      <td>0.225883</td>\n",
              "      <td>-0.296878</td>\n",
              "      <td>-0.02035</td>\n",
              "      <td>0.314169</td>\n",
              "      <td>-4.697787e-09</td>\n",
              "      <td>0.109568</td>\n",
              "      <td>0.109488</td>\n",
              "      <td>-0.082621</td>\n",
              "      <td>0.230215</td>\n",
              "      <td>0.165525</td>\n",
              "      <td>-0.032059</td>\n",
              "      <td>0.0</td>\n",
              "      <td>0.01846</td>\n",
              "    </tr>\n",
              "  </tbody>\n",
              "</table>\n",
              "</div>"
            ],
            "text/plain": [
              "   acousticness  danceability  duration_ms  ...       key  mode  time_signature\n",
              "0      0.225883     -0.296878     -0.02035  ... -0.032059   0.0         0.01846\n",
              "\n",
              "[1 rows x 13 columns]"
            ]
          },
          "metadata": {
            "tags": []
          },
          "execution_count": 141
        }
      ]
    },
    {
      "cell_type": "markdown",
      "metadata": {
        "id": "6SZBYnKI7ZU5",
        "colab_type": "text"
      },
      "source": [
        "#### Pickle the Model"
      ]
    },
    {
      "cell_type": "code",
      "metadata": {
        "id": "u3lSgxBh7D2-",
        "colab_type": "code",
        "colab": {
          "base_uri": "https://localhost:8080/",
          "height": 35
        },
        "outputId": "4dbd3494-c685-437e-f720-5a1b7d384538"
      },
      "source": [
        "import pickle\n",
        "\n",
        "# Dump the trained classifier (autoencoder)  with Pickle\n",
        "pickle_filename = 'autoencoder_model.pkl'\n",
        "pickled_model = open(pickle_filename, 'wb')  # Open the file to save as pkl file\n",
        "pickle.dump(autoencoder, pickled_model)\n",
        "pickled_model.close() # Close the pickle instances\n",
        "\n",
        "# Loading the saved model\n",
        "model_pkl = open(pickle_filename, 'rb')\n",
        "autoencoder_model = pickle.load(model_pkl)\n",
        "print (\"Loaded model :: \", autoencoder_model)  # print to verify"
      ],
      "execution_count": 142,
      "outputs": [
        {
          "output_type": "stream",
          "text": [
            "Loaded model ::  <keras.engine.training.Model object at 0x7f3545727fd0>\n"
          ],
          "name": "stdout"
        }
      ]
    },
    {
      "cell_type": "code",
      "metadata": {
        "id": "SxSetakZ9JUE",
        "colab_type": "code",
        "colab": {
          "base_uri": "https://localhost:8080/",
          "height": 78
        },
        "outputId": "b8f1e536-1b7b-4cb2-b39d-7a40c073b67a"
      },
      "source": [
        "# Get test data\n",
        "\n",
        "df_input = df_scaled[:1]\n",
        "encoded_data_test = pd.DataFrame(encoder.predict(df_input))\n",
        "encoded_data_test.columns = ['x', 'y', 'z']\n",
        "encoded_data_test.head()"
      ],
      "execution_count": 143,
      "outputs": [
        {
          "output_type": "execute_result",
          "data": {
            "text/html": [
              "<div>\n",
              "<style scoped>\n",
              "    .dataframe tbody tr th:only-of-type {\n",
              "        vertical-align: middle;\n",
              "    }\n",
              "\n",
              "    .dataframe tbody tr th {\n",
              "        vertical-align: top;\n",
              "    }\n",
              "\n",
              "    .dataframe thead th {\n",
              "        text-align: right;\n",
              "    }\n",
              "</style>\n",
              "<table border=\"1\" class=\"dataframe\">\n",
              "  <thead>\n",
              "    <tr style=\"text-align: right;\">\n",
              "      <th></th>\n",
              "      <th>x</th>\n",
              "      <th>y</th>\n",
              "      <th>z</th>\n",
              "    </tr>\n",
              "  </thead>\n",
              "  <tbody>\n",
              "    <tr>\n",
              "      <th>0</th>\n",
              "      <td>0.900296</td>\n",
              "      <td>0.941521</td>\n",
              "      <td>0.857154</td>\n",
              "    </tr>\n",
              "  </tbody>\n",
              "</table>\n",
              "</div>"
            ],
            "text/plain": [
              "          x         y         z\n",
              "0  0.900296  0.941521  0.857154"
            ]
          },
          "metadata": {
            "tags": []
          },
          "execution_count": 143
        }
      ]
    },
    {
      "cell_type": "code",
      "metadata": {
        "id": "GLht9w2M_P1s",
        "colab_type": "code",
        "colab": {}
      },
      "source": [
        "test_x = encoder.predict(df_input)[0][0]\n",
        "test_y = encoder.predict(df_input)[0][1]\n",
        "test_z = encoder.predict(df_input)[0][2]"
      ],
      "execution_count": 144,
      "outputs": []
    },
    {
      "cell_type": "markdown",
      "metadata": {
        "id": "DPXAZgkT780L",
        "colab_type": "text"
      },
      "source": [
        "### Get Distance"
      ]
    },
    {
      "cell_type": "code",
      "metadata": {
        "id": "tEgdoI73aGzD",
        "colab_type": "code",
        "colab": {}
      },
      "source": [
        "# example of euclidian distance\n",
        "from scipy.spatial import distance\n",
        "a = (1, 2, 3)\n",
        "b = (4, 5, 6)\n",
        "dst = distance.euclidean(a, b)"
      ],
      "execution_count": 145,
      "outputs": []
    },
    {
      "cell_type": "code",
      "metadata": {
        "id": "xu44DXcJ-deZ",
        "colab_type": "code",
        "colab": {
          "base_uri": "https://localhost:8080/",
          "height": 198
        },
        "outputId": "f941a8bc-233c-4af0-8b8f-6899b679ec9f"
      },
      "source": [
        "encoded_data.head()"
      ],
      "execution_count": 146,
      "outputs": [
        {
          "output_type": "execute_result",
          "data": {
            "text/html": [
              "<div>\n",
              "<style scoped>\n",
              "    .dataframe tbody tr th:only-of-type {\n",
              "        vertical-align: middle;\n",
              "    }\n",
              "\n",
              "    .dataframe tbody tr th {\n",
              "        vertical-align: top;\n",
              "    }\n",
              "\n",
              "    .dataframe thead th {\n",
              "        text-align: right;\n",
              "    }\n",
              "</style>\n",
              "<table border=\"1\" class=\"dataframe\">\n",
              "  <thead>\n",
              "    <tr style=\"text-align: right;\">\n",
              "      <th></th>\n",
              "      <th>x</th>\n",
              "      <th>y</th>\n",
              "      <th>z</th>\n",
              "    </tr>\n",
              "  </thead>\n",
              "  <tbody>\n",
              "    <tr>\n",
              "      <th>0</th>\n",
              "      <td>0.900296</td>\n",
              "      <td>0.941521</td>\n",
              "      <td>0.857154</td>\n",
              "    </tr>\n",
              "    <tr>\n",
              "      <th>1</th>\n",
              "      <td>0.517513</td>\n",
              "      <td>1.170685</td>\n",
              "      <td>0.946350</td>\n",
              "    </tr>\n",
              "    <tr>\n",
              "      <th>2</th>\n",
              "      <td>0.526415</td>\n",
              "      <td>0.768503</td>\n",
              "      <td>1.088349</td>\n",
              "    </tr>\n",
              "    <tr>\n",
              "      <th>3</th>\n",
              "      <td>0.817077</td>\n",
              "      <td>0.851855</td>\n",
              "      <td>1.309245</td>\n",
              "    </tr>\n",
              "    <tr>\n",
              "      <th>4</th>\n",
              "      <td>0.990659</td>\n",
              "      <td>0.700613</td>\n",
              "      <td>1.353725</td>\n",
              "    </tr>\n",
              "  </tbody>\n",
              "</table>\n",
              "</div>"
            ],
            "text/plain": [
              "          x         y         z\n",
              "0  0.900296  0.941521  0.857154\n",
              "1  0.517513  1.170685  0.946350\n",
              "2  0.526415  0.768503  1.088349\n",
              "3  0.817077  0.851855  1.309245\n",
              "4  0.990659  0.700613  1.353725"
            ]
          },
          "metadata": {
            "tags": []
          },
          "execution_count": 146
        }
      ]
    },
    {
      "cell_type": "code",
      "metadata": {
        "id": "z8yQlRoy0ujX",
        "colab_type": "code",
        "colab": {
          "base_uri": "https://localhost:8080/",
          "height": 198
        },
        "outputId": "c63db45d-c82f-43c8-e673-ddb96cdbd4ee"
      },
      "source": [
        "encoded_data['track_id'] = df['track_id']\n",
        "encoded_data.head()"
      ],
      "execution_count": 147,
      "outputs": [
        {
          "output_type": "execute_result",
          "data": {
            "text/html": [
              "<div>\n",
              "<style scoped>\n",
              "    .dataframe tbody tr th:only-of-type {\n",
              "        vertical-align: middle;\n",
              "    }\n",
              "\n",
              "    .dataframe tbody tr th {\n",
              "        vertical-align: top;\n",
              "    }\n",
              "\n",
              "    .dataframe thead th {\n",
              "        text-align: right;\n",
              "    }\n",
              "</style>\n",
              "<table border=\"1\" class=\"dataframe\">\n",
              "  <thead>\n",
              "    <tr style=\"text-align: right;\">\n",
              "      <th></th>\n",
              "      <th>x</th>\n",
              "      <th>y</th>\n",
              "      <th>z</th>\n",
              "      <th>track_id</th>\n",
              "    </tr>\n",
              "  </thead>\n",
              "  <tbody>\n",
              "    <tr>\n",
              "      <th>0</th>\n",
              "      <td>0.900296</td>\n",
              "      <td>0.941521</td>\n",
              "      <td>0.857154</td>\n",
              "      <td>0BRjO6ga9RKCKjfDqeFgWV</td>\n",
              "    </tr>\n",
              "    <tr>\n",
              "      <th>1</th>\n",
              "      <td>0.517513</td>\n",
              "      <td>1.170685</td>\n",
              "      <td>0.946350</td>\n",
              "      <td>0BjC1NfoEOOusryehmNudP</td>\n",
              "    </tr>\n",
              "    <tr>\n",
              "      <th>2</th>\n",
              "      <td>0.526415</td>\n",
              "      <td>0.768503</td>\n",
              "      <td>1.088349</td>\n",
              "      <td>0CoSDzoNIKCRs124s9uTVy</td>\n",
              "    </tr>\n",
              "    <tr>\n",
              "      <th>3</th>\n",
              "      <td>0.817077</td>\n",
              "      <td>0.851855</td>\n",
              "      <td>1.309245</td>\n",
              "      <td>0Gc6TVm52BwZD07Ki6tIvf</td>\n",
              "    </tr>\n",
              "    <tr>\n",
              "      <th>4</th>\n",
              "      <td>0.990659</td>\n",
              "      <td>0.700613</td>\n",
              "      <td>1.353725</td>\n",
              "      <td>0IuslXpMROHdEPvSl1fTQK</td>\n",
              "    </tr>\n",
              "  </tbody>\n",
              "</table>\n",
              "</div>"
            ],
            "text/plain": [
              "          x         y         z                track_id\n",
              "0  0.900296  0.941521  0.857154  0BRjO6ga9RKCKjfDqeFgWV\n",
              "1  0.517513  1.170685  0.946350  0BjC1NfoEOOusryehmNudP\n",
              "2  0.526415  0.768503  1.088349  0CoSDzoNIKCRs124s9uTVy\n",
              "3  0.817077  0.851855  1.309245  0Gc6TVm52BwZD07Ki6tIvf\n",
              "4  0.990659  0.700613  1.353725  0IuslXpMROHdEPvSl1fTQK"
            ]
          },
          "metadata": {
            "tags": []
          },
          "execution_count": 147
        }
      ]
    },
    {
      "cell_type": "code",
      "metadata": {
        "id": "Eu2r-uWB6D-E",
        "colab_type": "code",
        "colab": {}
      },
      "source": [
        "# save the encoded data as a .csv file    \n",
        "\n",
        "encoded_data.to_csv(\"encoded_data.csv\", index=False)"
      ],
      "execution_count": 148,
      "outputs": []
    },
    {
      "cell_type": "markdown",
      "metadata": {
        "id": "4mC9mBWLCQHZ",
        "colab_type": "text"
      },
      "source": [
        "### Test out the pickled model"
      ]
    },
    {
      "cell_type": "code",
      "metadata": {
        "id": "qDI_UrrS6Zry",
        "colab_type": "code",
        "colab": {
          "base_uri": "https://localhost:8080/",
          "height": 198
        },
        "outputId": "d469b39f-aa83-4b02-f5f7-f669699ef71b"
      },
      "source": [
        "# test out reading it in.\n",
        "df1 = pd.read_csv(\"encoded_data.csv\")\n",
        "df1.head()"
      ],
      "execution_count": 149,
      "outputs": [
        {
          "output_type": "execute_result",
          "data": {
            "text/html": [
              "<div>\n",
              "<style scoped>\n",
              "    .dataframe tbody tr th:only-of-type {\n",
              "        vertical-align: middle;\n",
              "    }\n",
              "\n",
              "    .dataframe tbody tr th {\n",
              "        vertical-align: top;\n",
              "    }\n",
              "\n",
              "    .dataframe thead th {\n",
              "        text-align: right;\n",
              "    }\n",
              "</style>\n",
              "<table border=\"1\" class=\"dataframe\">\n",
              "  <thead>\n",
              "    <tr style=\"text-align: right;\">\n",
              "      <th></th>\n",
              "      <th>x</th>\n",
              "      <th>y</th>\n",
              "      <th>z</th>\n",
              "      <th>track_id</th>\n",
              "    </tr>\n",
              "  </thead>\n",
              "  <tbody>\n",
              "    <tr>\n",
              "      <th>0</th>\n",
              "      <td>0.900296</td>\n",
              "      <td>0.941521</td>\n",
              "      <td>0.857154</td>\n",
              "      <td>0BRjO6ga9RKCKjfDqeFgWV</td>\n",
              "    </tr>\n",
              "    <tr>\n",
              "      <th>1</th>\n",
              "      <td>0.517513</td>\n",
              "      <td>1.170685</td>\n",
              "      <td>0.946350</td>\n",
              "      <td>0BjC1NfoEOOusryehmNudP</td>\n",
              "    </tr>\n",
              "    <tr>\n",
              "      <th>2</th>\n",
              "      <td>0.526415</td>\n",
              "      <td>0.768503</td>\n",
              "      <td>1.088349</td>\n",
              "      <td>0CoSDzoNIKCRs124s9uTVy</td>\n",
              "    </tr>\n",
              "    <tr>\n",
              "      <th>3</th>\n",
              "      <td>0.817077</td>\n",
              "      <td>0.851855</td>\n",
              "      <td>1.309245</td>\n",
              "      <td>0Gc6TVm52BwZD07Ki6tIvf</td>\n",
              "    </tr>\n",
              "    <tr>\n",
              "      <th>4</th>\n",
              "      <td>0.990659</td>\n",
              "      <td>0.700613</td>\n",
              "      <td>1.353725</td>\n",
              "      <td>0IuslXpMROHdEPvSl1fTQK</td>\n",
              "    </tr>\n",
              "  </tbody>\n",
              "</table>\n",
              "</div>"
            ],
            "text/plain": [
              "          x         y         z                track_id\n",
              "0  0.900296  0.941521  0.857154  0BRjO6ga9RKCKjfDqeFgWV\n",
              "1  0.517513  1.170685  0.946350  0BjC1NfoEOOusryehmNudP\n",
              "2  0.526415  0.768503  1.088349  0CoSDzoNIKCRs124s9uTVy\n",
              "3  0.817077  0.851855  1.309245  0Gc6TVm52BwZD07Ki6tIvf\n",
              "4  0.990659  0.700613  1.353725  0IuslXpMROHdEPvSl1fTQK"
            ]
          },
          "metadata": {
            "tags": []
          },
          "execution_count": 149
        }
      ]
    },
    {
      "cell_type": "code",
      "metadata": {
        "id": "KTS90bXu-Sdc",
        "colab_type": "code",
        "colab": {
          "base_uri": "https://localhost:8080/",
          "height": 35
        },
        "outputId": "a0ce2f9d-9b1c-4724-a787-b9c1199e4c89"
      },
      "source": [
        "encoded_data_test[['x','y','z']].values"
      ],
      "execution_count": 150,
      "outputs": [
        {
          "output_type": "execute_result",
          "data": {
            "text/plain": [
              "array([[0.90029585, 0.9415206 , 0.8571541 ]], dtype=float32)"
            ]
          },
          "metadata": {
            "tags": []
          },
          "execution_count": 150
        }
      ]
    },
    {
      "cell_type": "code",
      "metadata": {
        "id": "Yi26JNX9BiQh",
        "colab_type": "code",
        "colab": {}
      },
      "source": [
        "def get_e_dist(in_df):\n",
        "  return distance.euclidean(in_df[[0,1,2]], (test_x,test_y,test_z))"
      ],
      "execution_count": 151,
      "outputs": []
    },
    {
      "cell_type": "code",
      "metadata": {
        "id": "IuhBe7kU-Bnn",
        "colab_type": "code",
        "colab": {}
      },
      "source": [
        "encoded_data['e_distance'] = encoded_data.apply(get_e_dist, axis=1)"
      ],
      "execution_count": 152,
      "outputs": []
    },
    {
      "cell_type": "code",
      "metadata": {
        "id": "qUlj1cOXCKQE",
        "colab_type": "code",
        "colab": {
          "base_uri": "https://localhost:8080/",
          "height": 198
        },
        "outputId": "d80b51b4-cefd-47ca-e970-80a5c11f0e5b"
      },
      "source": [
        "encoded_data.head()"
      ],
      "execution_count": 153,
      "outputs": [
        {
          "output_type": "execute_result",
          "data": {
            "text/html": [
              "<div>\n",
              "<style scoped>\n",
              "    .dataframe tbody tr th:only-of-type {\n",
              "        vertical-align: middle;\n",
              "    }\n",
              "\n",
              "    .dataframe tbody tr th {\n",
              "        vertical-align: top;\n",
              "    }\n",
              "\n",
              "    .dataframe thead th {\n",
              "        text-align: right;\n",
              "    }\n",
              "</style>\n",
              "<table border=\"1\" class=\"dataframe\">\n",
              "  <thead>\n",
              "    <tr style=\"text-align: right;\">\n",
              "      <th></th>\n",
              "      <th>x</th>\n",
              "      <th>y</th>\n",
              "      <th>z</th>\n",
              "      <th>track_id</th>\n",
              "      <th>e_distance</th>\n",
              "    </tr>\n",
              "  </thead>\n",
              "  <tbody>\n",
              "    <tr>\n",
              "      <th>0</th>\n",
              "      <td>0.900296</td>\n",
              "      <td>0.941521</td>\n",
              "      <td>0.857154</td>\n",
              "      <td>0BRjO6ga9RKCKjfDqeFgWV</td>\n",
              "      <td>5.960464e-08</td>\n",
              "    </tr>\n",
              "    <tr>\n",
              "      <th>1</th>\n",
              "      <td>0.517513</td>\n",
              "      <td>1.170685</td>\n",
              "      <td>0.946350</td>\n",
              "      <td>0BjC1NfoEOOusryehmNudP</td>\n",
              "      <td>4.549670e-01</td>\n",
              "    </tr>\n",
              "    <tr>\n",
              "      <th>2</th>\n",
              "      <td>0.526415</td>\n",
              "      <td>0.768503</td>\n",
              "      <td>1.088349</td>\n",
              "      <td>0CoSDzoNIKCRs124s9uTVy</td>\n",
              "      <td>4.724122e-01</td>\n",
              "    </tr>\n",
              "    <tr>\n",
              "      <th>3</th>\n",
              "      <td>0.817077</td>\n",
              "      <td>0.851855</td>\n",
              "      <td>1.309245</td>\n",
              "      <td>0Gc6TVm52BwZD07Ki6tIvf</td>\n",
              "      <td>4.683497e-01</td>\n",
              "    </tr>\n",
              "    <tr>\n",
              "      <th>4</th>\n",
              "      <td>0.990659</td>\n",
              "      <td>0.700613</td>\n",
              "      <td>1.353725</td>\n",
              "      <td>0IuslXpMROHdEPvSl1fTQK</td>\n",
              "      <td>5.592713e-01</td>\n",
              "    </tr>\n",
              "  </tbody>\n",
              "</table>\n",
              "</div>"
            ],
            "text/plain": [
              "          x         y         z                track_id    e_distance\n",
              "0  0.900296  0.941521  0.857154  0BRjO6ga9RKCKjfDqeFgWV  5.960464e-08\n",
              "1  0.517513  1.170685  0.946350  0BjC1NfoEOOusryehmNudP  4.549670e-01\n",
              "2  0.526415  0.768503  1.088349  0CoSDzoNIKCRs124s9uTVy  4.724122e-01\n",
              "3  0.817077  0.851855  1.309245  0Gc6TVm52BwZD07Ki6tIvf  4.683497e-01\n",
              "4  0.990659  0.700613  1.353725  0IuslXpMROHdEPvSl1fTQK  5.592713e-01"
            ]
          },
          "metadata": {
            "tags": []
          },
          "execution_count": 153
        }
      ]
    },
    {
      "cell_type": "markdown",
      "metadata": {
        "id": "tjAVWuBUCaI-",
        "colab_type": "text"
      },
      "source": [
        "#### Get the 5 smallest distances and show the visuals for the top 2"
      ]
    },
    {
      "cell_type": "code",
      "metadata": {
        "id": "Mrbz2JX7fVue",
        "colab_type": "code",
        "colab": {
          "base_uri": "https://localhost:8080/",
          "height": 119
        },
        "outputId": "df04c66c-366e-4b04-c310-201826169267"
      },
      "source": [
        "encoded_data['e_distance'].nsmallest(5)"
      ],
      "execution_count": null,
      "outputs": [
        {
          "output_type": "execute_result",
          "data": {
            "text/plain": [
              "0         5.960464e-08\n",
              "137871    3.013010e-03\n",
              "190202    3.036266e-03\n",
              "69761     3.136666e-03\n",
              "117514    3.136666e-03\n",
              "Name: e_distance, dtype: float64"
            ]
          },
          "metadata": {
            "tags": []
          },
          "execution_count": 46
        }
      ]
    },
    {
      "cell_type": "code",
      "metadata": {
        "id": "DXJ-2tj5gjfI",
        "colab_type": "code",
        "colab": {
          "base_uri": "https://localhost:8080/",
          "height": 68
        },
        "outputId": "c2a4f3a1-af75-4c6f-b716-01f80a7ea3af"
      },
      "source": [
        "print(df['track_name'][0])\n",
        "print(df['track_name'][137871])\n",
        "print(df['track_name'][190202])"
      ],
      "execution_count": null,
      "outputs": [
        {
          "output_type": "stream",
          "text": [
            "C'est beau de faire un Show\n",
            "Push Push\n",
            "Los Angeles Is Burning\n"
          ],
          "name": "stdout"
        }
      ]
    },
    {
      "cell_type": "code",
      "metadata": {
        "id": "JlBaRAtpiI_C",
        "colab_type": "code",
        "colab": {
          "base_uri": "https://localhost:8080/",
          "height": 213
        },
        "outputId": "18bdf46d-f707-409a-bece-8515c146ac43"
      },
      "source": [
        "df.iloc[[0,48095,38564]]\n"
      ],
      "execution_count": null,
      "outputs": [
        {
          "output_type": "execute_result",
          "data": {
            "text/html": [
              "<div>\n",
              "<style scoped>\n",
              "    .dataframe tbody tr th:only-of-type {\n",
              "        vertical-align: middle;\n",
              "    }\n",
              "\n",
              "    .dataframe tbody tr th {\n",
              "        vertical-align: top;\n",
              "    }\n",
              "\n",
              "    .dataframe thead th {\n",
              "        text-align: right;\n",
              "    }\n",
              "</style>\n",
              "<table border=\"1\" class=\"dataframe\">\n",
              "  <thead>\n",
              "    <tr style=\"text-align: right;\">\n",
              "      <th></th>\n",
              "      <th>genre</th>\n",
              "      <th>artist_name</th>\n",
              "      <th>track_name</th>\n",
              "      <th>track_id</th>\n",
              "      <th>popularity</th>\n",
              "      <th>acousticness</th>\n",
              "      <th>danceability</th>\n",
              "      <th>duration_ms</th>\n",
              "      <th>energy</th>\n",
              "      <th>instrumentalness</th>\n",
              "      <th>key</th>\n",
              "      <th>liveness</th>\n",
              "      <th>loudness</th>\n",
              "      <th>mode</th>\n",
              "      <th>speechiness</th>\n",
              "      <th>tempo</th>\n",
              "      <th>time_signature</th>\n",
              "      <th>valence</th>\n",
              "    </tr>\n",
              "  </thead>\n",
              "  <tbody>\n",
              "    <tr>\n",
              "      <th>0</th>\n",
              "      <td>Movie</td>\n",
              "      <td>Henri Salvador</td>\n",
              "      <td>C'est beau de faire un Show</td>\n",
              "      <td>0BRjO6ga9RKCKjfDqeFgWV</td>\n",
              "      <td>0</td>\n",
              "      <td>0.61100</td>\n",
              "      <td>0.389</td>\n",
              "      <td>99373</td>\n",
              "      <td>0.910</td>\n",
              "      <td>0.0000</td>\n",
              "      <td>C#</td>\n",
              "      <td>0.346</td>\n",
              "      <td>-1.828</td>\n",
              "      <td>Major</td>\n",
              "      <td>0.0525</td>\n",
              "      <td>166.969</td>\n",
              "      <td>4/4</td>\n",
              "      <td>0.814</td>\n",
              "    </tr>\n",
              "    <tr>\n",
              "      <th>48095</th>\n",
              "      <td>Blues</td>\n",
              "      <td>Shovels &amp; Rope</td>\n",
              "      <td>The Wire</td>\n",
              "      <td>6XYY2YLbbQ6oNaDTrk5DGU</td>\n",
              "      <td>41</td>\n",
              "      <td>0.00622</td>\n",
              "      <td>0.557</td>\n",
              "      <td>176890</td>\n",
              "      <td>0.554</td>\n",
              "      <td>0.0000</td>\n",
              "      <td>B</td>\n",
              "      <td>0.103</td>\n",
              "      <td>-6.506</td>\n",
              "      <td>Minor</td>\n",
              "      <td>0.0506</td>\n",
              "      <td>135.084</td>\n",
              "      <td>4/4</td>\n",
              "      <td>0.628</td>\n",
              "    </tr>\n",
              "    <tr>\n",
              "      <th>38564</th>\n",
              "      <td>Electronic</td>\n",
              "      <td>Moksi</td>\n",
              "      <td>Dream</td>\n",
              "      <td>2h4EfdqxQsoCEL7eKIdUGz</td>\n",
              "      <td>31</td>\n",
              "      <td>0.02050</td>\n",
              "      <td>0.829</td>\n",
              "      <td>170887</td>\n",
              "      <td>0.769</td>\n",
              "      <td>0.0663</td>\n",
              "      <td>B</td>\n",
              "      <td>0.152</td>\n",
              "      <td>-7.388</td>\n",
              "      <td>Major</td>\n",
              "      <td>0.0702</td>\n",
              "      <td>123.984</td>\n",
              "      <td>4/4</td>\n",
              "      <td>0.523</td>\n",
              "    </tr>\n",
              "  </tbody>\n",
              "</table>\n",
              "</div>"
            ],
            "text/plain": [
              "            genre     artist_name  ... time_signature valence\n",
              "0           Movie  Henri Salvador  ...            4/4   0.814\n",
              "48095       Blues  Shovels & Rope  ...            4/4   0.628\n",
              "38564  Electronic           Moksi  ...            4/4   0.523\n",
              "\n",
              "[3 rows x 18 columns]"
            ]
          },
          "metadata": {
            "tags": []
          },
          "execution_count": 57
        }
      ]
    },
    {
      "cell_type": "code",
      "metadata": {
        "id": "-ygt5fPVnhT-",
        "colab_type": "code",
        "colab": {}
      },
      "source": [
        "df_T = df_scaled.T"
      ],
      "execution_count": null,
      "outputs": []
    },
    {
      "cell_type": "code",
      "metadata": {
        "id": "n65EB0ObnGip",
        "colab_type": "code",
        "colab": {
          "base_uri": "https://localhost:8080/",
          "height": 542
        },
        "outputId": "4c2e12ee-6daa-46e1-d19c-62fa1b742376"
      },
      "source": [
        "import plotly.express as px\n",
        "\n",
        "fig = px.bar_polar(df_T, r = 0,hover_name=headers)\n",
        "fig.show()"
      ],
      "execution_count": null,
      "outputs": [
        {
          "output_type": "display_data",
          "data": {
            "text/html": [
              "<html>\n",
              "<head><meta charset=\"utf-8\" /></head>\n",
              "<body>\n",
              "    <div>\n",
              "            <script src=\"https://cdnjs.cloudflare.com/ajax/libs/mathjax/2.7.5/MathJax.js?config=TeX-AMS-MML_SVG\"></script><script type=\"text/javascript\">if (window.MathJax) {MathJax.Hub.Config({SVG: {font: \"STIX-Web\"}});}</script>\n",
              "                <script type=\"text/javascript\">window.PlotlyConfig = {MathJaxConfig: 'local'};</script>\n",
              "        <script src=\"https://cdn.plot.ly/plotly-latest.min.js\"></script>    \n",
              "            <div id=\"290ae3cd-54da-4baa-a3df-0257b60b9d08\" class=\"plotly-graph-div\" style=\"height:525px; width:100%;\"></div>\n",
              "            <script type=\"text/javascript\">\n",
              "                \n",
              "                    window.PLOTLYENV=window.PLOTLYENV || {};\n",
              "                    \n",
              "                if (document.getElementById(\"290ae3cd-54da-4baa-a3df-0257b60b9d08\")) {\n",
              "                    Plotly.newPlot(\n",
              "                        '290ae3cd-54da-4baa-a3df-0257b60b9d08',\n",
              "                        [{\"hoverlabel\": {\"namelength\": 0}, \"hovertemplate\": \"<b>%{hovertext}</b><br><br>0=%{r}\", \"hovertext\": [\"popularity\", \"acousticness\", \"danceability\", \"duration_ms\", \"energy\", \"instrumentalness\", \"liveness\", \"loudness\", \"speechiness\", \"tempo\", \"valence\"], \"legendgroup\": \"\", \"marker\": {\"color\": \"#636efa\"}, \"name\": \"\", \"r\": [0.0, 0.6134538152610441, 0.356292243321532, 0.015166689841860903, 0.9109091005552965, 0.0, 0.33961406803792676, 0.9008558566573549, 0.03207027942421676, 0.6427038828555834, 0.8140000000000001], \"showlegend\": false, \"subplot\": \"polar\", \"type\": \"barpolar\"}],\n",
              "                        {\"barmode\": \"relative\", \"legend\": {\"tracegroupgap\": 0}, \"margin\": {\"t\": 60}, \"polar\": {\"angularaxis\": {\"direction\": \"clockwise\", \"rotation\": 90}, \"domain\": {\"x\": [0.0, 1.0], \"y\": [0.0, 1.0]}}, \"template\": {\"data\": {\"bar\": [{\"error_x\": {\"color\": \"#2a3f5f\"}, \"error_y\": {\"color\": \"#2a3f5f\"}, \"marker\": {\"line\": {\"color\": \"#E5ECF6\", \"width\": 0.5}}, \"type\": \"bar\"}], \"barpolar\": [{\"marker\": {\"line\": {\"color\": \"#E5ECF6\", \"width\": 0.5}}, \"type\": \"barpolar\"}], \"carpet\": [{\"aaxis\": {\"endlinecolor\": \"#2a3f5f\", \"gridcolor\": \"white\", \"linecolor\": \"white\", \"minorgridcolor\": \"white\", \"startlinecolor\": \"#2a3f5f\"}, \"baxis\": {\"endlinecolor\": \"#2a3f5f\", \"gridcolor\": \"white\", \"linecolor\": \"white\", \"minorgridcolor\": \"white\", \"startlinecolor\": \"#2a3f5f\"}, \"type\": \"carpet\"}], \"choropleth\": [{\"colorbar\": {\"outlinewidth\": 0, \"ticks\": \"\"}, \"type\": \"choropleth\"}], \"contour\": [{\"colorbar\": {\"outlinewidth\": 0, \"ticks\": \"\"}, \"colorscale\": [[0.0, \"#0d0887\"], [0.1111111111111111, \"#46039f\"], [0.2222222222222222, \"#7201a8\"], [0.3333333333333333, \"#9c179e\"], [0.4444444444444444, \"#bd3786\"], [0.5555555555555556, \"#d8576b\"], [0.6666666666666666, \"#ed7953\"], [0.7777777777777778, \"#fb9f3a\"], [0.8888888888888888, \"#fdca26\"], [1.0, \"#f0f921\"]], \"type\": \"contour\"}], \"contourcarpet\": [{\"colorbar\": {\"outlinewidth\": 0, \"ticks\": \"\"}, \"type\": \"contourcarpet\"}], \"heatmap\": [{\"colorbar\": {\"outlinewidth\": 0, \"ticks\": \"\"}, \"colorscale\": [[0.0, \"#0d0887\"], [0.1111111111111111, \"#46039f\"], [0.2222222222222222, \"#7201a8\"], [0.3333333333333333, \"#9c179e\"], [0.4444444444444444, \"#bd3786\"], [0.5555555555555556, \"#d8576b\"], [0.6666666666666666, \"#ed7953\"], [0.7777777777777778, \"#fb9f3a\"], [0.8888888888888888, \"#fdca26\"], [1.0, \"#f0f921\"]], \"type\": \"heatmap\"}], \"heatmapgl\": [{\"colorbar\": {\"outlinewidth\": 0, \"ticks\": \"\"}, \"colorscale\": [[0.0, \"#0d0887\"], [0.1111111111111111, \"#46039f\"], [0.2222222222222222, \"#7201a8\"], [0.3333333333333333, \"#9c179e\"], [0.4444444444444444, \"#bd3786\"], [0.5555555555555556, \"#d8576b\"], [0.6666666666666666, \"#ed7953\"], [0.7777777777777778, \"#fb9f3a\"], [0.8888888888888888, \"#fdca26\"], [1.0, \"#f0f921\"]], \"type\": \"heatmapgl\"}], \"histogram\": [{\"marker\": {\"colorbar\": {\"outlinewidth\": 0, \"ticks\": \"\"}}, \"type\": \"histogram\"}], \"histogram2d\": [{\"colorbar\": {\"outlinewidth\": 0, \"ticks\": \"\"}, \"colorscale\": [[0.0, \"#0d0887\"], [0.1111111111111111, \"#46039f\"], [0.2222222222222222, \"#7201a8\"], [0.3333333333333333, \"#9c179e\"], [0.4444444444444444, \"#bd3786\"], [0.5555555555555556, \"#d8576b\"], [0.6666666666666666, \"#ed7953\"], [0.7777777777777778, \"#fb9f3a\"], [0.8888888888888888, \"#fdca26\"], [1.0, \"#f0f921\"]], \"type\": \"histogram2d\"}], \"histogram2dcontour\": [{\"colorbar\": {\"outlinewidth\": 0, \"ticks\": \"\"}, \"colorscale\": [[0.0, \"#0d0887\"], [0.1111111111111111, \"#46039f\"], [0.2222222222222222, \"#7201a8\"], [0.3333333333333333, \"#9c179e\"], [0.4444444444444444, \"#bd3786\"], [0.5555555555555556, \"#d8576b\"], [0.6666666666666666, \"#ed7953\"], [0.7777777777777778, \"#fb9f3a\"], [0.8888888888888888, \"#fdca26\"], [1.0, \"#f0f921\"]], \"type\": \"histogram2dcontour\"}], \"mesh3d\": [{\"colorbar\": {\"outlinewidth\": 0, \"ticks\": \"\"}, \"type\": \"mesh3d\"}], \"parcoords\": [{\"line\": {\"colorbar\": {\"outlinewidth\": 0, \"ticks\": \"\"}}, \"type\": \"parcoords\"}], \"pie\": [{\"automargin\": true, \"type\": \"pie\"}], \"scatter\": [{\"marker\": {\"colorbar\": {\"outlinewidth\": 0, \"ticks\": \"\"}}, \"type\": \"scatter\"}], \"scatter3d\": [{\"line\": {\"colorbar\": {\"outlinewidth\": 0, \"ticks\": \"\"}}, \"marker\": {\"colorbar\": {\"outlinewidth\": 0, \"ticks\": \"\"}}, \"type\": \"scatter3d\"}], \"scattercarpet\": [{\"marker\": {\"colorbar\": {\"outlinewidth\": 0, \"ticks\": \"\"}}, \"type\": \"scattercarpet\"}], \"scattergeo\": [{\"marker\": {\"colorbar\": {\"outlinewidth\": 0, \"ticks\": \"\"}}, \"type\": \"scattergeo\"}], \"scattergl\": [{\"marker\": {\"colorbar\": {\"outlinewidth\": 0, \"ticks\": \"\"}}, \"type\": \"scattergl\"}], \"scattermapbox\": [{\"marker\": {\"colorbar\": {\"outlinewidth\": 0, \"ticks\": \"\"}}, \"type\": \"scattermapbox\"}], \"scatterpolar\": [{\"marker\": {\"colorbar\": {\"outlinewidth\": 0, \"ticks\": \"\"}}, \"type\": \"scatterpolar\"}], \"scatterpolargl\": [{\"marker\": {\"colorbar\": {\"outlinewidth\": 0, \"ticks\": \"\"}}, \"type\": \"scatterpolargl\"}], \"scatterternary\": [{\"marker\": {\"colorbar\": {\"outlinewidth\": 0, \"ticks\": \"\"}}, \"type\": \"scatterternary\"}], \"surface\": [{\"colorbar\": {\"outlinewidth\": 0, \"ticks\": \"\"}, \"colorscale\": [[0.0, \"#0d0887\"], [0.1111111111111111, \"#46039f\"], [0.2222222222222222, \"#7201a8\"], [0.3333333333333333, \"#9c179e\"], [0.4444444444444444, \"#bd3786\"], [0.5555555555555556, \"#d8576b\"], [0.6666666666666666, \"#ed7953\"], [0.7777777777777778, \"#fb9f3a\"], [0.8888888888888888, \"#fdca26\"], [1.0, \"#f0f921\"]], \"type\": \"surface\"}], \"table\": [{\"cells\": {\"fill\": {\"color\": \"#EBF0F8\"}, \"line\": {\"color\": \"white\"}}, \"header\": {\"fill\": {\"color\": \"#C8D4E3\"}, \"line\": {\"color\": \"white\"}}, \"type\": \"table\"}]}, \"layout\": {\"annotationdefaults\": {\"arrowcolor\": \"#2a3f5f\", \"arrowhead\": 0, \"arrowwidth\": 1}, \"coloraxis\": {\"colorbar\": {\"outlinewidth\": 0, \"ticks\": \"\"}}, \"colorscale\": {\"diverging\": [[0, \"#8e0152\"], [0.1, \"#c51b7d\"], [0.2, \"#de77ae\"], [0.3, \"#f1b6da\"], [0.4, \"#fde0ef\"], [0.5, \"#f7f7f7\"], [0.6, \"#e6f5d0\"], [0.7, \"#b8e186\"], [0.8, \"#7fbc41\"], [0.9, \"#4d9221\"], [1, \"#276419\"]], \"sequential\": [[0.0, \"#0d0887\"], [0.1111111111111111, \"#46039f\"], [0.2222222222222222, \"#7201a8\"], [0.3333333333333333, \"#9c179e\"], [0.4444444444444444, \"#bd3786\"], [0.5555555555555556, \"#d8576b\"], [0.6666666666666666, \"#ed7953\"], [0.7777777777777778, \"#fb9f3a\"], [0.8888888888888888, \"#fdca26\"], [1.0, \"#f0f921\"]], \"sequentialminus\": [[0.0, \"#0d0887\"], [0.1111111111111111, \"#46039f\"], [0.2222222222222222, \"#7201a8\"], [0.3333333333333333, \"#9c179e\"], [0.4444444444444444, \"#bd3786\"], [0.5555555555555556, \"#d8576b\"], [0.6666666666666666, \"#ed7953\"], [0.7777777777777778, \"#fb9f3a\"], [0.8888888888888888, \"#fdca26\"], [1.0, \"#f0f921\"]]}, \"colorway\": [\"#636efa\", \"#EF553B\", \"#00cc96\", \"#ab63fa\", \"#FFA15A\", \"#19d3f3\", \"#FF6692\", \"#B6E880\", \"#FF97FF\", \"#FECB52\"], \"font\": {\"color\": \"#2a3f5f\"}, \"geo\": {\"bgcolor\": \"white\", \"lakecolor\": \"white\", \"landcolor\": \"#E5ECF6\", \"showlakes\": true, \"showland\": true, \"subunitcolor\": \"white\"}, \"hoverlabel\": {\"align\": \"left\"}, \"hovermode\": \"closest\", \"mapbox\": {\"style\": \"light\"}, \"paper_bgcolor\": \"white\", \"plot_bgcolor\": \"#E5ECF6\", \"polar\": {\"angularaxis\": {\"gridcolor\": \"white\", \"linecolor\": \"white\", \"ticks\": \"\"}, \"bgcolor\": \"#E5ECF6\", \"radialaxis\": {\"gridcolor\": \"white\", \"linecolor\": \"white\", \"ticks\": \"\"}}, \"scene\": {\"xaxis\": {\"backgroundcolor\": \"#E5ECF6\", \"gridcolor\": \"white\", \"gridwidth\": 2, \"linecolor\": \"white\", \"showbackground\": true, \"ticks\": \"\", \"zerolinecolor\": \"white\"}, \"yaxis\": {\"backgroundcolor\": \"#E5ECF6\", \"gridcolor\": \"white\", \"gridwidth\": 2, \"linecolor\": \"white\", \"showbackground\": true, \"ticks\": \"\", \"zerolinecolor\": \"white\"}, \"zaxis\": {\"backgroundcolor\": \"#E5ECF6\", \"gridcolor\": \"white\", \"gridwidth\": 2, \"linecolor\": \"white\", \"showbackground\": true, \"ticks\": \"\", \"zerolinecolor\": \"white\"}}, \"shapedefaults\": {\"line\": {\"color\": \"#2a3f5f\"}}, \"ternary\": {\"aaxis\": {\"gridcolor\": \"white\", \"linecolor\": \"white\", \"ticks\": \"\"}, \"baxis\": {\"gridcolor\": \"white\", \"linecolor\": \"white\", \"ticks\": \"\"}, \"bgcolor\": \"#E5ECF6\", \"caxis\": {\"gridcolor\": \"white\", \"linecolor\": \"white\", \"ticks\": \"\"}}, \"title\": {\"x\": 0.05}, \"xaxis\": {\"automargin\": true, \"gridcolor\": \"white\", \"linecolor\": \"white\", \"ticks\": \"\", \"title\": {\"standoff\": 15}, \"zerolinecolor\": \"white\", \"zerolinewidth\": 2}, \"yaxis\": {\"automargin\": true, \"gridcolor\": \"white\", \"linecolor\": \"white\", \"ticks\": \"\", \"title\": {\"standoff\": 15}, \"zerolinecolor\": \"white\", \"zerolinewidth\": 2}}}},\n",
              "                        {\"responsive\": true}\n",
              "                    ).then(function(){\n",
              "                            \n",
              "var gd = document.getElementById('290ae3cd-54da-4baa-a3df-0257b60b9d08');\n",
              "var x = new MutationObserver(function (mutations, observer) {{\n",
              "        var display = window.getComputedStyle(gd).display;\n",
              "        if (!display || display === 'none') {{\n",
              "            console.log([gd, 'removed!']);\n",
              "            Plotly.purge(gd);\n",
              "            observer.disconnect();\n",
              "        }}\n",
              "}});\n",
              "\n",
              "// Listen for the removal of the full notebook cells\n",
              "var notebookContainer = gd.closest('#notebook-container');\n",
              "if (notebookContainer) {{\n",
              "    x.observe(notebookContainer, {childList: true});\n",
              "}}\n",
              "\n",
              "// Listen for the clearing of the current output cell\n",
              "var outputEl = gd.closest('.output');\n",
              "if (outputEl) {{\n",
              "    x.observe(outputEl, {childList: true});\n",
              "}}\n",
              "\n",
              "                        })\n",
              "                };\n",
              "                \n",
              "            </script>\n",
              "        </div>\n",
              "</body>\n",
              "</html>"
            ]
          },
          "metadata": {
            "tags": []
          }
        }
      ]
    },
    {
      "cell_type": "code",
      "metadata": {
        "id": "_RXo4CCJosM0",
        "colab_type": "code",
        "colab": {
          "base_uri": "https://localhost:8080/",
          "height": 542
        },
        "outputId": "f4b587ef-6de2-49d7-c22e-b97dde263105"
      },
      "source": [
        "fig = px.bar_polar(df_T, r = 48095, hover_name=headers)\n",
        "fig.show()"
      ],
      "execution_count": null,
      "outputs": [
        {
          "output_type": "display_data",
          "data": {
            "text/html": [
              "<html>\n",
              "<head><meta charset=\"utf-8\" /></head>\n",
              "<body>\n",
              "    <div>\n",
              "            <script src=\"https://cdnjs.cloudflare.com/ajax/libs/mathjax/2.7.5/MathJax.js?config=TeX-AMS-MML_SVG\"></script><script type=\"text/javascript\">if (window.MathJax) {MathJax.Hub.Config({SVG: {font: \"STIX-Web\"}});}</script>\n",
              "                <script type=\"text/javascript\">window.PlotlyConfig = {MathJaxConfig: 'local'};</script>\n",
              "        <script src=\"https://cdn.plot.ly/plotly-latest.min.js\"></script>    \n",
              "            <div id=\"27f886a3-abc6-40a8-972b-4684132eded5\" class=\"plotly-graph-div\" style=\"height:525px; width:100%;\"></div>\n",
              "            <script type=\"text/javascript\">\n",
              "                \n",
              "                    window.PLOTLYENV=window.PLOTLYENV || {};\n",
              "                    \n",
              "                if (document.getElementById(\"27f886a3-abc6-40a8-972b-4684132eded5\")) {\n",
              "                    Plotly.newPlot(\n",
              "                        '27f886a3-abc6-40a8-972b-4684132eded5',\n",
              "                        [{\"hoverlabel\": {\"namelength\": 0}, \"hovertemplate\": \"<b>%{hovertext}</b><br><br>48095=%{r}\", \"hovertext\": [\"popularity\", \"acousticness\", \"danceability\", \"duration_ms\", \"energy\", \"instrumentalness\", \"liveness\", \"loudness\", \"speechiness\", \"tempo\", \"valence\"], \"legendgroup\": \"\", \"marker\": {\"color\": \"#636efa\"}, \"name\": \"\", \"r\": [0.41000000000000003, 0.0062449799196787155, 0.536530415191503, 0.02916516930833783, 0.5545455027764827, 0.0, 0.09424131350156008, 0.8176189035782282, 0.030059271803556303, 0.49267376860966294, 0.628], \"showlegend\": false, \"subplot\": \"polar\", \"type\": \"barpolar\"}],\n",
              "                        {\"barmode\": \"relative\", \"legend\": {\"tracegroupgap\": 0}, \"margin\": {\"t\": 60}, \"polar\": {\"angularaxis\": {\"direction\": \"clockwise\", \"rotation\": 90}, \"domain\": {\"x\": [0.0, 1.0], \"y\": [0.0, 1.0]}}, \"template\": {\"data\": {\"bar\": [{\"error_x\": {\"color\": \"#2a3f5f\"}, \"error_y\": {\"color\": \"#2a3f5f\"}, \"marker\": {\"line\": {\"color\": \"#E5ECF6\", \"width\": 0.5}}, \"type\": \"bar\"}], \"barpolar\": [{\"marker\": {\"line\": {\"color\": \"#E5ECF6\", \"width\": 0.5}}, \"type\": \"barpolar\"}], \"carpet\": [{\"aaxis\": {\"endlinecolor\": \"#2a3f5f\", \"gridcolor\": \"white\", \"linecolor\": \"white\", \"minorgridcolor\": \"white\", \"startlinecolor\": \"#2a3f5f\"}, \"baxis\": {\"endlinecolor\": \"#2a3f5f\", \"gridcolor\": \"white\", \"linecolor\": \"white\", \"minorgridcolor\": \"white\", \"startlinecolor\": \"#2a3f5f\"}, \"type\": \"carpet\"}], \"choropleth\": [{\"colorbar\": {\"outlinewidth\": 0, \"ticks\": \"\"}, \"type\": \"choropleth\"}], \"contour\": [{\"colorbar\": {\"outlinewidth\": 0, \"ticks\": \"\"}, \"colorscale\": [[0.0, \"#0d0887\"], [0.1111111111111111, \"#46039f\"], [0.2222222222222222, \"#7201a8\"], [0.3333333333333333, \"#9c179e\"], [0.4444444444444444, \"#bd3786\"], [0.5555555555555556, \"#d8576b\"], [0.6666666666666666, \"#ed7953\"], [0.7777777777777778, \"#fb9f3a\"], [0.8888888888888888, \"#fdca26\"], [1.0, \"#f0f921\"]], \"type\": \"contour\"}], \"contourcarpet\": [{\"colorbar\": {\"outlinewidth\": 0, \"ticks\": \"\"}, \"type\": \"contourcarpet\"}], \"heatmap\": [{\"colorbar\": {\"outlinewidth\": 0, \"ticks\": \"\"}, \"colorscale\": [[0.0, \"#0d0887\"], [0.1111111111111111, \"#46039f\"], [0.2222222222222222, \"#7201a8\"], [0.3333333333333333, \"#9c179e\"], [0.4444444444444444, \"#bd3786\"], [0.5555555555555556, \"#d8576b\"], [0.6666666666666666, \"#ed7953\"], [0.7777777777777778, \"#fb9f3a\"], [0.8888888888888888, \"#fdca26\"], [1.0, \"#f0f921\"]], \"type\": \"heatmap\"}], \"heatmapgl\": [{\"colorbar\": {\"outlinewidth\": 0, \"ticks\": \"\"}, \"colorscale\": [[0.0, \"#0d0887\"], [0.1111111111111111, \"#46039f\"], [0.2222222222222222, \"#7201a8\"], [0.3333333333333333, \"#9c179e\"], [0.4444444444444444, \"#bd3786\"], [0.5555555555555556, \"#d8576b\"], [0.6666666666666666, \"#ed7953\"], [0.7777777777777778, \"#fb9f3a\"], [0.8888888888888888, \"#fdca26\"], [1.0, \"#f0f921\"]], \"type\": \"heatmapgl\"}], \"histogram\": [{\"marker\": {\"colorbar\": {\"outlinewidth\": 0, \"ticks\": \"\"}}, \"type\": \"histogram\"}], \"histogram2d\": [{\"colorbar\": {\"outlinewidth\": 0, \"ticks\": \"\"}, \"colorscale\": [[0.0, \"#0d0887\"], [0.1111111111111111, \"#46039f\"], [0.2222222222222222, \"#7201a8\"], [0.3333333333333333, \"#9c179e\"], [0.4444444444444444, \"#bd3786\"], [0.5555555555555556, \"#d8576b\"], [0.6666666666666666, \"#ed7953\"], [0.7777777777777778, \"#fb9f3a\"], [0.8888888888888888, \"#fdca26\"], [1.0, \"#f0f921\"]], \"type\": \"histogram2d\"}], \"histogram2dcontour\": [{\"colorbar\": {\"outlinewidth\": 0, \"ticks\": \"\"}, \"colorscale\": [[0.0, \"#0d0887\"], [0.1111111111111111, \"#46039f\"], [0.2222222222222222, \"#7201a8\"], [0.3333333333333333, \"#9c179e\"], [0.4444444444444444, \"#bd3786\"], [0.5555555555555556, \"#d8576b\"], [0.6666666666666666, \"#ed7953\"], [0.7777777777777778, \"#fb9f3a\"], [0.8888888888888888, \"#fdca26\"], [1.0, \"#f0f921\"]], \"type\": \"histogram2dcontour\"}], \"mesh3d\": [{\"colorbar\": {\"outlinewidth\": 0, \"ticks\": \"\"}, \"type\": \"mesh3d\"}], \"parcoords\": [{\"line\": {\"colorbar\": {\"outlinewidth\": 0, \"ticks\": \"\"}}, \"type\": \"parcoords\"}], \"pie\": [{\"automargin\": true, \"type\": \"pie\"}], \"scatter\": [{\"marker\": {\"colorbar\": {\"outlinewidth\": 0, \"ticks\": \"\"}}, \"type\": \"scatter\"}], \"scatter3d\": [{\"line\": {\"colorbar\": {\"outlinewidth\": 0, \"ticks\": \"\"}}, \"marker\": {\"colorbar\": {\"outlinewidth\": 0, \"ticks\": \"\"}}, \"type\": \"scatter3d\"}], \"scattercarpet\": [{\"marker\": {\"colorbar\": {\"outlinewidth\": 0, \"ticks\": \"\"}}, \"type\": \"scattercarpet\"}], \"scattergeo\": [{\"marker\": {\"colorbar\": {\"outlinewidth\": 0, \"ticks\": \"\"}}, \"type\": \"scattergeo\"}], \"scattergl\": [{\"marker\": {\"colorbar\": {\"outlinewidth\": 0, \"ticks\": \"\"}}, \"type\": \"scattergl\"}], \"scattermapbox\": [{\"marker\": {\"colorbar\": {\"outlinewidth\": 0, \"ticks\": \"\"}}, \"type\": \"scattermapbox\"}], \"scatterpolar\": [{\"marker\": {\"colorbar\": {\"outlinewidth\": 0, \"ticks\": \"\"}}, \"type\": \"scatterpolar\"}], \"scatterpolargl\": [{\"marker\": {\"colorbar\": {\"outlinewidth\": 0, \"ticks\": \"\"}}, \"type\": \"scatterpolargl\"}], \"scatterternary\": [{\"marker\": {\"colorbar\": {\"outlinewidth\": 0, \"ticks\": \"\"}}, \"type\": \"scatterternary\"}], \"surface\": [{\"colorbar\": {\"outlinewidth\": 0, \"ticks\": \"\"}, \"colorscale\": [[0.0, \"#0d0887\"], [0.1111111111111111, \"#46039f\"], [0.2222222222222222, \"#7201a8\"], [0.3333333333333333, \"#9c179e\"], [0.4444444444444444, \"#bd3786\"], [0.5555555555555556, \"#d8576b\"], [0.6666666666666666, \"#ed7953\"], [0.7777777777777778, \"#fb9f3a\"], [0.8888888888888888, \"#fdca26\"], [1.0, \"#f0f921\"]], \"type\": \"surface\"}], \"table\": [{\"cells\": {\"fill\": {\"color\": \"#EBF0F8\"}, \"line\": {\"color\": \"white\"}}, \"header\": {\"fill\": {\"color\": \"#C8D4E3\"}, \"line\": {\"color\": \"white\"}}, \"type\": \"table\"}]}, \"layout\": {\"annotationdefaults\": {\"arrowcolor\": \"#2a3f5f\", \"arrowhead\": 0, \"arrowwidth\": 1}, \"coloraxis\": {\"colorbar\": {\"outlinewidth\": 0, \"ticks\": \"\"}}, \"colorscale\": {\"diverging\": [[0, \"#8e0152\"], [0.1, \"#c51b7d\"], [0.2, \"#de77ae\"], [0.3, \"#f1b6da\"], [0.4, \"#fde0ef\"], [0.5, \"#f7f7f7\"], [0.6, \"#e6f5d0\"], [0.7, \"#b8e186\"], [0.8, \"#7fbc41\"], [0.9, \"#4d9221\"], [1, \"#276419\"]], \"sequential\": [[0.0, \"#0d0887\"], [0.1111111111111111, \"#46039f\"], [0.2222222222222222, \"#7201a8\"], [0.3333333333333333, \"#9c179e\"], [0.4444444444444444, \"#bd3786\"], [0.5555555555555556, \"#d8576b\"], [0.6666666666666666, \"#ed7953\"], [0.7777777777777778, \"#fb9f3a\"], [0.8888888888888888, \"#fdca26\"], [1.0, \"#f0f921\"]], \"sequentialminus\": [[0.0, \"#0d0887\"], [0.1111111111111111, \"#46039f\"], [0.2222222222222222, \"#7201a8\"], [0.3333333333333333, \"#9c179e\"], [0.4444444444444444, \"#bd3786\"], [0.5555555555555556, \"#d8576b\"], [0.6666666666666666, \"#ed7953\"], [0.7777777777777778, \"#fb9f3a\"], [0.8888888888888888, \"#fdca26\"], [1.0, \"#f0f921\"]]}, \"colorway\": [\"#636efa\", \"#EF553B\", \"#00cc96\", \"#ab63fa\", \"#FFA15A\", \"#19d3f3\", \"#FF6692\", \"#B6E880\", \"#FF97FF\", \"#FECB52\"], \"font\": {\"color\": \"#2a3f5f\"}, \"geo\": {\"bgcolor\": \"white\", \"lakecolor\": \"white\", \"landcolor\": \"#E5ECF6\", \"showlakes\": true, \"showland\": true, \"subunitcolor\": \"white\"}, \"hoverlabel\": {\"align\": \"left\"}, \"hovermode\": \"closest\", \"mapbox\": {\"style\": \"light\"}, \"paper_bgcolor\": \"white\", \"plot_bgcolor\": \"#E5ECF6\", \"polar\": {\"angularaxis\": {\"gridcolor\": \"white\", \"linecolor\": \"white\", \"ticks\": \"\"}, \"bgcolor\": \"#E5ECF6\", \"radialaxis\": {\"gridcolor\": \"white\", \"linecolor\": \"white\", \"ticks\": \"\"}}, \"scene\": {\"xaxis\": {\"backgroundcolor\": \"#E5ECF6\", \"gridcolor\": \"white\", \"gridwidth\": 2, \"linecolor\": \"white\", \"showbackground\": true, \"ticks\": \"\", \"zerolinecolor\": \"white\"}, \"yaxis\": {\"backgroundcolor\": \"#E5ECF6\", \"gridcolor\": \"white\", \"gridwidth\": 2, \"linecolor\": \"white\", \"showbackground\": true, \"ticks\": \"\", \"zerolinecolor\": \"white\"}, \"zaxis\": {\"backgroundcolor\": \"#E5ECF6\", \"gridcolor\": \"white\", \"gridwidth\": 2, \"linecolor\": \"white\", \"showbackground\": true, \"ticks\": \"\", \"zerolinecolor\": \"white\"}}, \"shapedefaults\": {\"line\": {\"color\": \"#2a3f5f\"}}, \"ternary\": {\"aaxis\": {\"gridcolor\": \"white\", \"linecolor\": \"white\", \"ticks\": \"\"}, \"baxis\": {\"gridcolor\": \"white\", \"linecolor\": \"white\", \"ticks\": \"\"}, \"bgcolor\": \"#E5ECF6\", \"caxis\": {\"gridcolor\": \"white\", \"linecolor\": \"white\", \"ticks\": \"\"}}, \"title\": {\"x\": 0.05}, \"xaxis\": {\"automargin\": true, \"gridcolor\": \"white\", \"linecolor\": \"white\", \"ticks\": \"\", \"title\": {\"standoff\": 15}, \"zerolinecolor\": \"white\", \"zerolinewidth\": 2}, \"yaxis\": {\"automargin\": true, \"gridcolor\": \"white\", \"linecolor\": \"white\", \"ticks\": \"\", \"title\": {\"standoff\": 15}, \"zerolinecolor\": \"white\", \"zerolinewidth\": 2}}}},\n",
              "                        {\"responsive\": true}\n",
              "                    ).then(function(){\n",
              "                            \n",
              "var gd = document.getElementById('27f886a3-abc6-40a8-972b-4684132eded5');\n",
              "var x = new MutationObserver(function (mutations, observer) {{\n",
              "        var display = window.getComputedStyle(gd).display;\n",
              "        if (!display || display === 'none') {{\n",
              "            console.log([gd, 'removed!']);\n",
              "            Plotly.purge(gd);\n",
              "            observer.disconnect();\n",
              "        }}\n",
              "}});\n",
              "\n",
              "// Listen for the removal of the full notebook cells\n",
              "var notebookContainer = gd.closest('#notebook-container');\n",
              "if (notebookContainer) {{\n",
              "    x.observe(notebookContainer, {childList: true});\n",
              "}}\n",
              "\n",
              "// Listen for the clearing of the current output cell\n",
              "var outputEl = gd.closest('.output');\n",
              "if (outputEl) {{\n",
              "    x.observe(outputEl, {childList: true});\n",
              "}}\n",
              "\n",
              "                        })\n",
              "                };\n",
              "                \n",
              "            </script>\n",
              "        </div>\n",
              "</body>\n",
              "</html>"
            ]
          },
          "metadata": {
            "tags": []
          }
        }
      ]
    },
    {
      "cell_type": "markdown",
      "metadata": {
        "id": "4sstmnhVCjSs",
        "colab_type": "text"
      },
      "source": [
        "## Build a Function for DS Unit 3 to use"
      ]
    },
    {
      "cell_type": "code",
      "metadata": {
        "id": "vPI2Ucr8UxNi",
        "colab_type": "code",
        "colab": {
          "base_uri": "https://localhost:8080/",
          "height": 115
        },
        "outputId": "4619e343-df3a-4307-8e35-f49263ad037e"
      },
      "source": [
        "df.iloc[[13918]]"
      ],
      "execution_count": 154,
      "outputs": [
        {
          "output_type": "execute_result",
          "data": {
            "text/html": [
              "<div>\n",
              "<style scoped>\n",
              "    .dataframe tbody tr th:only-of-type {\n",
              "        vertical-align: middle;\n",
              "    }\n",
              "\n",
              "    .dataframe tbody tr th {\n",
              "        vertical-align: top;\n",
              "    }\n",
              "\n",
              "    .dataframe thead th {\n",
              "        text-align: right;\n",
              "    }\n",
              "</style>\n",
              "<table border=\"1\" class=\"dataframe\">\n",
              "  <thead>\n",
              "    <tr style=\"text-align: right;\">\n",
              "      <th></th>\n",
              "      <th>genre</th>\n",
              "      <th>artist_name</th>\n",
              "      <th>track_name</th>\n",
              "      <th>track_id</th>\n",
              "      <th>popularity</th>\n",
              "      <th>acousticness</th>\n",
              "      <th>danceability</th>\n",
              "      <th>duration_ms</th>\n",
              "      <th>energy</th>\n",
              "      <th>instrumentalness</th>\n",
              "      <th>key</th>\n",
              "      <th>liveness</th>\n",
              "      <th>loudness</th>\n",
              "      <th>mode</th>\n",
              "      <th>speechiness</th>\n",
              "      <th>tempo</th>\n",
              "      <th>time_signature</th>\n",
              "      <th>valence</th>\n",
              "    </tr>\n",
              "  </thead>\n",
              "  <tbody>\n",
              "    <tr>\n",
              "      <th>13918</th>\n",
              "      <td>Dance</td>\n",
              "      <td>Britney Spears</td>\n",
              "      <td>Oops!...I Did It Again</td>\n",
              "      <td>6naxalmIoLFWR0siv8dnQQ</td>\n",
              "      <td>77</td>\n",
              "      <td>0.3</td>\n",
              "      <td>0.751</td>\n",
              "      <td>211160</td>\n",
              "      <td>0.834</td>\n",
              "      <td>0.000018</td>\n",
              "      <td>1</td>\n",
              "      <td>0.355</td>\n",
              "      <td>-5.444</td>\n",
              "      <td>0</td>\n",
              "      <td>0.0437</td>\n",
              "      <td>95.053</td>\n",
              "      <td>4</td>\n",
              "      <td>0.894</td>\n",
              "    </tr>\n",
              "  </tbody>\n",
              "</table>\n",
              "</div>"
            ],
            "text/plain": [
              "       genre     artist_name  ... time_signature valence\n",
              "13918  Dance  Britney Spears  ...              4   0.894\n",
              "\n",
              "[1 rows x 18 columns]"
            ]
          },
          "metadata": {
            "tags": []
          },
          "execution_count": 154
        }
      ]
    },
    {
      "cell_type": "code",
      "metadata": {
        "id": "Ivv-LMfYEzii",
        "colab_type": "code",
        "colab": {}
      },
      "source": [
        "# test\n",
        "song_at = [[0.3,0.751,211160,0.834,0.000018,0.355,-5.444,0.0437,95.053,0.894,1,0,4]]"
      ],
      "execution_count": 156,
      "outputs": []
    },
    {
      "cell_type": "code",
      "metadata": {
        "id": "-iJigLGWMcH9",
        "colab_type": "code",
        "colab": {}
      },
      "source": [
        "### Read in the CSV ###\n",
        "database = pd.read_csv('encoded_data.csv')"
      ],
      "execution_count": 157,
      "outputs": []
    },
    {
      "cell_type": "code",
      "metadata": {
        "id": "YXdFyjTkDVyU",
        "colab_type": "code",
        "colab": {}
      },
      "source": [
        "def predict(song_attributes, database):\n",
        "  \"\"\"\n",
        "  Need to pass in a variable that is an array with the below song attributes \n",
        "  in order.\n",
        "  [[acousticness, danceability, duration_ms, energy, instrumentalness,\n",
        "    liveness, loudness, speechiness, tempo, valence, key, mode, time_signature]]\n",
        "  \"\"\"\n",
        "\n",
        "  import pandas as pd\n",
        "  import pickle\n",
        "\n",
        "  df =  pd.DataFrame(song_attributes)\n",
        "\n",
        "  ### Scale Input ###\n",
        "\n",
        "  # import the pickled scaler model\n",
        "  pickle_filename_1 = 'scaler_model.pkl'\n",
        "  scaler_pkl = open(pickle_filename_1, 'rb')\n",
        "  scaler = pickle.load(scaler_pkl) \n",
        "\n",
        "   # scale the input data\n",
        "  input_scaled = scaler.transform(df)\n",
        "\n",
        "  ### Encode Input ###\n",
        "\n",
        "  # Loading the pickled autoencoder model\n",
        "  pickle_filename = 'autoencoder_model.pkl'\n",
        "    \n",
        "  autoencoder_pkl = open(pickle_filename, 'rb')\n",
        "  autoencoder = pickle.load(autoencoder_pkl)\n",
        "  # encode the input data and set to variable\n",
        "  input_x_y_z = (autoencoder.predict(input_scaled)[0][0], \n",
        "                 autoencoder.predict(input_scaled)[0][1],\n",
        "                 autoencoder.predict(input_scaled)[0][2])\n",
        "\n",
        "  ### Get distances ###\n",
        "  def get_e_dist(my_df):\n",
        "    from scipy.spatial import distance\n",
        "    return distance.euclidean(my_df[[0,1,2]], input_x_y_z)\n",
        "\n",
        "  database['e_distance'] = database.apply(get_e_dist, axis=1)\n",
        "\n",
        "  five_smallest = database[['e_distance','track_id']].nsmallest(5, columns='e_distance', keep='all')\n",
        "\n",
        "  five_closest = five_smallest['track_id']\n",
        "\n",
        "  return five_closest.to_json()"
      ],
      "execution_count": 158,
      "outputs": []
    },
    {
      "cell_type": "code",
      "metadata": {
        "id": "YtX25futFIbK",
        "colab_type": "code",
        "colab": {
          "base_uri": "https://localhost:8080/",
          "height": 55
        },
        "outputId": "8467b5d9-ea3c-404b-e37f-04e34ffd93e1"
      },
      "source": [
        "test = predict(song_at, database)\n",
        "test"
      ],
      "execution_count": 159,
      "outputs": [
        {
          "output_type": "execute_result",
          "data": {
            "text/plain": [
              "'{\"173485\":\"0Q78qqq1nR7OXmUKuZaOMA\",\"175642\":\"07U6w01SNWIWMykrwngb1C\",\"211588\":\"37o2yYlkkkpUhsCi3ArkEB\",\"171599\":\"2IPukzwH5jEZA9eTjFGyLu\",\"174847\":\"75inKNgAsd40LxXPDMz15C\"}'"
            ]
          },
          "metadata": {
            "tags": []
          },
          "execution_count": 159
        }
      ]
    },
    {
      "cell_type": "code",
      "metadata": {
        "id": "EGnFR9bGV1De",
        "colab_type": "code",
        "colab": {
          "base_uri": "https://localhost:8080/",
          "height": 404
        },
        "outputId": "85f4dbd9-5331-4684-a6d2-5ca7b3cd798d"
      },
      "source": [
        "df.iloc[[13918,173485,175642,211588,171599,174847]]"
      ],
      "execution_count": 160,
      "outputs": [
        {
          "output_type": "execute_result",
          "data": {
            "text/html": [
              "<div>\n",
              "<style scoped>\n",
              "    .dataframe tbody tr th:only-of-type {\n",
              "        vertical-align: middle;\n",
              "    }\n",
              "\n",
              "    .dataframe tbody tr th {\n",
              "        vertical-align: top;\n",
              "    }\n",
              "\n",
              "    .dataframe thead th {\n",
              "        text-align: right;\n",
              "    }\n",
              "</style>\n",
              "<table border=\"1\" class=\"dataframe\">\n",
              "  <thead>\n",
              "    <tr style=\"text-align: right;\">\n",
              "      <th></th>\n",
              "      <th>genre</th>\n",
              "      <th>artist_name</th>\n",
              "      <th>track_name</th>\n",
              "      <th>track_id</th>\n",
              "      <th>popularity</th>\n",
              "      <th>acousticness</th>\n",
              "      <th>danceability</th>\n",
              "      <th>duration_ms</th>\n",
              "      <th>energy</th>\n",
              "      <th>instrumentalness</th>\n",
              "      <th>key</th>\n",
              "      <th>liveness</th>\n",
              "      <th>loudness</th>\n",
              "      <th>mode</th>\n",
              "      <th>speechiness</th>\n",
              "      <th>tempo</th>\n",
              "      <th>time_signature</th>\n",
              "      <th>valence</th>\n",
              "    </tr>\n",
              "  </thead>\n",
              "  <tbody>\n",
              "    <tr>\n",
              "      <th>13918</th>\n",
              "      <td>Dance</td>\n",
              "      <td>Britney Spears</td>\n",
              "      <td>Oops!...I Did It Again</td>\n",
              "      <td>6naxalmIoLFWR0siv8dnQQ</td>\n",
              "      <td>77</td>\n",
              "      <td>0.300</td>\n",
              "      <td>0.751</td>\n",
              "      <td>211160</td>\n",
              "      <td>0.834</td>\n",
              "      <td>0.000018</td>\n",
              "      <td>1</td>\n",
              "      <td>0.355</td>\n",
              "      <td>-5.444</td>\n",
              "      <td>0</td>\n",
              "      <td>0.0437</td>\n",
              "      <td>95.053</td>\n",
              "      <td>4</td>\n",
              "      <td>0.894</td>\n",
              "    </tr>\n",
              "    <tr>\n",
              "      <th>173485</th>\n",
              "      <td>Comedy</td>\n",
              "      <td>Nick Thune</td>\n",
              "      <td>Smarter Than Doctors</td>\n",
              "      <td>0Q78qqq1nR7OXmUKuZaOMA</td>\n",
              "      <td>15</td>\n",
              "      <td>0.654</td>\n",
              "      <td>0.591</td>\n",
              "      <td>1075490</td>\n",
              "      <td>0.450</td>\n",
              "      <td>0.000000</td>\n",
              "      <td>9</td>\n",
              "      <td>0.343</td>\n",
              "      <td>-13.611</td>\n",
              "      <td>0</td>\n",
              "      <td>0.9600</td>\n",
              "      <td>81.543</td>\n",
              "      <td>4</td>\n",
              "      <td>0.460</td>\n",
              "    </tr>\n",
              "    <tr>\n",
              "      <th>175642</th>\n",
              "      <td>Comedy</td>\n",
              "      <td>Donnell Rawlings</td>\n",
              "      <td>School</td>\n",
              "      <td>07U6w01SNWIWMykrwngb1C</td>\n",
              "      <td>12</td>\n",
              "      <td>0.936</td>\n",
              "      <td>0.438</td>\n",
              "      <td>168073</td>\n",
              "      <td>0.909</td>\n",
              "      <td>0.000000</td>\n",
              "      <td>9</td>\n",
              "      <td>0.584</td>\n",
              "      <td>-8.397</td>\n",
              "      <td>0</td>\n",
              "      <td>0.8400</td>\n",
              "      <td>128.396</td>\n",
              "      <td>1</td>\n",
              "      <td>0.408</td>\n",
              "    </tr>\n",
              "    <tr>\n",
              "      <th>211588</th>\n",
              "      <td>Comedy</td>\n",
              "      <td>Eddie Izzard</td>\n",
              "      <td>Horse Whisperer</td>\n",
              "      <td>37o2yYlkkkpUhsCi3ArkEB</td>\n",
              "      <td>15</td>\n",
              "      <td>0.760</td>\n",
              "      <td>0.414</td>\n",
              "      <td>246562</td>\n",
              "      <td>0.908</td>\n",
              "      <td>0.000000</td>\n",
              "      <td>9</td>\n",
              "      <td>0.964</td>\n",
              "      <td>-16.370</td>\n",
              "      <td>0</td>\n",
              "      <td>0.9240</td>\n",
              "      <td>73.674</td>\n",
              "      <td>4</td>\n",
              "      <td>0.084</td>\n",
              "    </tr>\n",
              "    <tr>\n",
              "      <th>171599</th>\n",
              "      <td>Comedy</td>\n",
              "      <td>Richard Pryor</td>\n",
              "      <td>Hospital (Remastered) - Live at Circle Star Th...</td>\n",
              "      <td>2IPukzwH5jEZA9eTjFGyLu</td>\n",
              "      <td>21</td>\n",
              "      <td>0.700</td>\n",
              "      <td>0.533</td>\n",
              "      <td>616960</td>\n",
              "      <td>0.630</td>\n",
              "      <td>0.000000</td>\n",
              "      <td>9</td>\n",
              "      <td>0.936</td>\n",
              "      <td>-13.211</td>\n",
              "      <td>0</td>\n",
              "      <td>0.9230</td>\n",
              "      <td>75.803</td>\n",
              "      <td>4</td>\n",
              "      <td>0.117</td>\n",
              "    </tr>\n",
              "    <tr>\n",
              "      <th>174847</th>\n",
              "      <td>Comedy</td>\n",
              "      <td>Andrew Dice Clay</td>\n",
              "      <td>The Bait</td>\n",
              "      <td>75inKNgAsd40LxXPDMz15C</td>\n",
              "      <td>12</td>\n",
              "      <td>0.656</td>\n",
              "      <td>0.570</td>\n",
              "      <td>151067</td>\n",
              "      <td>0.431</td>\n",
              "      <td>0.000000</td>\n",
              "      <td>9</td>\n",
              "      <td>0.971</td>\n",
              "      <td>-18.086</td>\n",
              "      <td>0</td>\n",
              "      <td>0.8990</td>\n",
              "      <td>126.158</td>\n",
              "      <td>4</td>\n",
              "      <td>0.267</td>\n",
              "    </tr>\n",
              "  </tbody>\n",
              "</table>\n",
              "</div>"
            ],
            "text/plain": [
              "         genre       artist_name  ... time_signature valence\n",
              "13918    Dance    Britney Spears  ...              4   0.894\n",
              "173485  Comedy        Nick Thune  ...              4   0.460\n",
              "175642  Comedy  Donnell Rawlings  ...              1   0.408\n",
              "211588  Comedy      Eddie Izzard  ...              4   0.084\n",
              "171599  Comedy     Richard Pryor  ...              4   0.117\n",
              "174847  Comedy  Andrew Dice Clay  ...              4   0.267\n",
              "\n",
              "[6 rows x 18 columns]"
            ]
          },
          "metadata": {
            "tags": []
          },
          "execution_count": 160
        }
      ]
    }
  ]
}