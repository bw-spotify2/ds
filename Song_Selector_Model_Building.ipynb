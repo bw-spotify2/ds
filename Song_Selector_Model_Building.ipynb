{
  "nbformat": 4,
  "nbformat_minor": 0,
  "metadata": {
    "colab": {
      "name": "Song Selector Model Building",
      "provenance": [],
      "toc_visible": true,
      "mount_file_id": "1renATL9nK7zlOqSJEDYTm1QwWx_rR92D",
      "authorship_tag": "ABX9TyO9KnCDf9k1C+FKJ39lwMnG",
      "include_colab_link": true
    },
    "kernelspec": {
      "name": "python3",
      "display_name": "Python 3"
    },
    "accelerator": "GPU"
  },
  "cells": [
    {
      "cell_type": "markdown",
      "metadata": {
        "id": "view-in-github",
        "colab_type": "text"
      },
      "source": [
        "<a href=\"https://colab.research.google.com/github/bw-spotify2/ds/blob/master/Song_Selector_Model_Building.ipynb\" target=\"_parent\"><img src=\"https://colab.research.google.com/assets/colab-badge.svg\" alt=\"Open In Colab\"/></a>"
      ]
    },
    {
      "cell_type": "markdown",
      "metadata": {
        "id": "OjIh4HvACkMh",
        "colab_type": "text"
      },
      "source": [
        "## Initial building of the model."
      ]
    },
    {
      "cell_type": "markdown",
      "metadata": {
        "id": "V1fBFa7qAiwd",
        "colab_type": "text"
      },
      "source": [
        "### Load in the Dataset"
      ]
    },
    {
      "cell_type": "code",
      "metadata": {
        "id": "rtqee1org69e",
        "colab_type": "code",
        "colab": {
          "base_uri": "https://localhost:8080/",
          "height": 498
        },
        "outputId": "b6593199-f2bc-4a69-b2d6-8082c07272ec"
      },
      "source": [
        "import pandas as pd\n",
        "\n",
        "df = pd.read_csv('/content/drive/My Drive/Lambda/Unit 4/Sprint 4/SpotifyFeatures.csv')\n",
        "df.sample(10)"
      ],
      "execution_count": 1,
      "outputs": [
        {
          "output_type": "execute_result",
          "data": {
            "text/html": [
              "<div>\n",
              "<style scoped>\n",
              "    .dataframe tbody tr th:only-of-type {\n",
              "        vertical-align: middle;\n",
              "    }\n",
              "\n",
              "    .dataframe tbody tr th {\n",
              "        vertical-align: top;\n",
              "    }\n",
              "\n",
              "    .dataframe thead th {\n",
              "        text-align: right;\n",
              "    }\n",
              "</style>\n",
              "<table border=\"1\" class=\"dataframe\">\n",
              "  <thead>\n",
              "    <tr style=\"text-align: right;\">\n",
              "      <th></th>\n",
              "      <th>genre</th>\n",
              "      <th>artist_name</th>\n",
              "      <th>track_name</th>\n",
              "      <th>track_id</th>\n",
              "      <th>popularity</th>\n",
              "      <th>acousticness</th>\n",
              "      <th>danceability</th>\n",
              "      <th>duration_ms</th>\n",
              "      <th>energy</th>\n",
              "      <th>instrumentalness</th>\n",
              "      <th>key</th>\n",
              "      <th>liveness</th>\n",
              "      <th>loudness</th>\n",
              "      <th>mode</th>\n",
              "      <th>speechiness</th>\n",
              "      <th>tempo</th>\n",
              "      <th>time_signature</th>\n",
              "      <th>valence</th>\n",
              "    </tr>\n",
              "  </thead>\n",
              "  <tbody>\n",
              "    <tr>\n",
              "      <th>114411</th>\n",
              "      <td>Rap</td>\n",
              "      <td>OneRepublic</td>\n",
              "      <td>Apologize</td>\n",
              "      <td>1NrJYpdAi7uosDRPmSYrsG</td>\n",
              "      <td>72</td>\n",
              "      <td>0.348000</td>\n",
              "      <td>0.591</td>\n",
              "      <td>208107</td>\n",
              "      <td>0.718</td>\n",
              "      <td>0.000118</td>\n",
              "      <td>G#</td>\n",
              "      <td>0.1070</td>\n",
              "      <td>-6.025</td>\n",
              "      <td>Major</td>\n",
              "      <td>0.0368</td>\n",
              "      <td>117.995</td>\n",
              "      <td>4/4</td>\n",
              "      <td>0.4680</td>\n",
              "    </tr>\n",
              "    <tr>\n",
              "      <th>50921</th>\n",
              "      <td>Blues</td>\n",
              "      <td>Clutch</td>\n",
              "      <td>Burning Beard</td>\n",
              "      <td>6VR2wTjJGtlBnQztwVCbQM</td>\n",
              "      <td>32</td>\n",
              "      <td>0.016900</td>\n",
              "      <td>0.246</td>\n",
              "      <td>240267</td>\n",
              "      <td>0.914</td>\n",
              "      <td>0.000302</td>\n",
              "      <td>G</td>\n",
              "      <td>0.2040</td>\n",
              "      <td>-5.751</td>\n",
              "      <td>Major</td>\n",
              "      <td>0.1700</td>\n",
              "      <td>172.658</td>\n",
              "      <td>3/4</td>\n",
              "      <td>0.5500</td>\n",
              "    </tr>\n",
              "    <tr>\n",
              "      <th>173572</th>\n",
              "      <td>Comedy</td>\n",
              "      <td>Todd Barry</td>\n",
              "      <td>Class Act</td>\n",
              "      <td>2MuNkC3q6wgiokxecNf3qN</td>\n",
              "      <td>17</td>\n",
              "      <td>0.773000</td>\n",
              "      <td>0.592</td>\n",
              "      <td>37253</td>\n",
              "      <td>0.441</td>\n",
              "      <td>0.000002</td>\n",
              "      <td>G</td>\n",
              "      <td>0.3850</td>\n",
              "      <td>-17.147</td>\n",
              "      <td>Major</td>\n",
              "      <td>0.9460</td>\n",
              "      <td>81.879</td>\n",
              "      <td>4/4</td>\n",
              "      <td>0.7130</td>\n",
              "    </tr>\n",
              "    <tr>\n",
              "      <th>34772</th>\n",
              "      <td>Anime</td>\n",
              "      <td>Capcom Sound Team</td>\n",
              "      <td>WINGS OF THE GUARDIAN(Lucia 戦闘1)</td>\n",
              "      <td>5icjCWXAZ5My3lL0IRCo8w</td>\n",
              "      <td>15</td>\n",
              "      <td>0.000282</td>\n",
              "      <td>0.526</td>\n",
              "      <td>137133</td>\n",
              "      <td>0.938</td>\n",
              "      <td>0.899000</td>\n",
              "      <td>C#</td>\n",
              "      <td>0.0727</td>\n",
              "      <td>-5.773</td>\n",
              "      <td>Major</td>\n",
              "      <td>0.0618</td>\n",
              "      <td>140.003</td>\n",
              "      <td>4/4</td>\n",
              "      <td>0.7610</td>\n",
              "    </tr>\n",
              "    <tr>\n",
              "      <th>190831</th>\n",
              "      <td>Ska</td>\n",
              "      <td>Mad Caddies</td>\n",
              "      <td>Sad Reggie</td>\n",
              "      <td>6kWTjdU0Ul4qF4isRc5zU4</td>\n",
              "      <td>18</td>\n",
              "      <td>0.073300</td>\n",
              "      <td>0.556</td>\n",
              "      <td>291160</td>\n",
              "      <td>0.594</td>\n",
              "      <td>0.002620</td>\n",
              "      <td>D</td>\n",
              "      <td>0.1230</td>\n",
              "      <td>-6.982</td>\n",
              "      <td>Minor</td>\n",
              "      <td>0.0395</td>\n",
              "      <td>132.523</td>\n",
              "      <td>4/4</td>\n",
              "      <td>0.9310</td>\n",
              "    </tr>\n",
              "    <tr>\n",
              "      <th>92645</th>\n",
              "      <td>Hip-Hop</td>\n",
              "      <td>Three 6 Mafia</td>\n",
              "      <td>Hard Out Here for a Pimp</td>\n",
              "      <td>17ZCxegdCt1y0reBkHVmMB</td>\n",
              "      <td>47</td>\n",
              "      <td>0.022000</td>\n",
              "      <td>0.850</td>\n",
              "      <td>169187</td>\n",
              "      <td>0.705</td>\n",
              "      <td>0.000939</td>\n",
              "      <td>C</td>\n",
              "      <td>0.0721</td>\n",
              "      <td>-7.537</td>\n",
              "      <td>Major</td>\n",
              "      <td>0.0616</td>\n",
              "      <td>160.961</td>\n",
              "      <td>4/4</td>\n",
              "      <td>0.8390</td>\n",
              "    </tr>\n",
              "    <tr>\n",
              "      <th>182234</th>\n",
              "      <td>Movie</td>\n",
              "      <td>Idina Menzel</td>\n",
              "      <td>As Long As You're Mine</td>\n",
              "      <td>5qnYglSEqrPFXrrnyzIci2</td>\n",
              "      <td>38</td>\n",
              "      <td>0.754000</td>\n",
              "      <td>0.453</td>\n",
              "      <td>225987</td>\n",
              "      <td>0.446</td>\n",
              "      <td>0.000001</td>\n",
              "      <td>F</td>\n",
              "      <td>0.1050</td>\n",
              "      <td>-8.280</td>\n",
              "      <td>Major</td>\n",
              "      <td>0.0312</td>\n",
              "      <td>118.321</td>\n",
              "      <td>4/4</td>\n",
              "      <td>0.1770</td>\n",
              "    </tr>\n",
              "    <tr>\n",
              "      <th>164726</th>\n",
              "      <td>Reggaeton</td>\n",
              "      <td>Proyecto Uno</td>\n",
              "      <td>Call Me</td>\n",
              "      <td>5cLbbB9mhDaliYlgXA7Ztl</td>\n",
              "      <td>25</td>\n",
              "      <td>0.144000</td>\n",
              "      <td>0.819</td>\n",
              "      <td>238105</td>\n",
              "      <td>0.932</td>\n",
              "      <td>0.000009</td>\n",
              "      <td>A</td>\n",
              "      <td>0.0645</td>\n",
              "      <td>-6.529</td>\n",
              "      <td>Minor</td>\n",
              "      <td>0.0635</td>\n",
              "      <td>126.009</td>\n",
              "      <td>4/4</td>\n",
              "      <td>0.9590</td>\n",
              "    </tr>\n",
              "    <tr>\n",
              "      <th>86901</th>\n",
              "      <td>R&amp;B</td>\n",
              "      <td>HONNE</td>\n",
              "      <td>Someone That Loves You (Late Night Version)</td>\n",
              "      <td>6mbCABWxCDBrUNbiZa3pb0</td>\n",
              "      <td>50</td>\n",
              "      <td>0.904000</td>\n",
              "      <td>0.516</td>\n",
              "      <td>247546</td>\n",
              "      <td>0.179</td>\n",
              "      <td>0.001090</td>\n",
              "      <td>A#</td>\n",
              "      <td>0.1030</td>\n",
              "      <td>-10.777</td>\n",
              "      <td>Major</td>\n",
              "      <td>0.0400</td>\n",
              "      <td>128.582</td>\n",
              "      <td>5/4</td>\n",
              "      <td>0.0915</td>\n",
              "    </tr>\n",
              "    <tr>\n",
              "      <th>207350</th>\n",
              "      <td>World</td>\n",
              "      <td>Influence Music</td>\n",
              "      <td>Breathe - Live</td>\n",
              "      <td>5OfIpf1OOrbWYBBAMZpO5N</td>\n",
              "      <td>56</td>\n",
              "      <td>0.039200</td>\n",
              "      <td>0.328</td>\n",
              "      <td>360936</td>\n",
              "      <td>0.683</td>\n",
              "      <td>0.000001</td>\n",
              "      <td>E</td>\n",
              "      <td>0.1080</td>\n",
              "      <td>-6.913</td>\n",
              "      <td>Major</td>\n",
              "      <td>0.0424</td>\n",
              "      <td>143.675</td>\n",
              "      <td>4/4</td>\n",
              "      <td>0.1080</td>\n",
              "    </tr>\n",
              "  </tbody>\n",
              "</table>\n",
              "</div>"
            ],
            "text/plain": [
              "            genre        artist_name  ... time_signature valence\n",
              "114411        Rap        OneRepublic  ...            4/4  0.4680\n",
              "50921       Blues             Clutch  ...            3/4  0.5500\n",
              "173572     Comedy         Todd Barry  ...            4/4  0.7130\n",
              "34772       Anime  Capcom Sound Team  ...            4/4  0.7610\n",
              "190831        Ska        Mad Caddies  ...            4/4  0.9310\n",
              "92645     Hip-Hop      Three 6 Mafia  ...            4/4  0.8390\n",
              "182234      Movie       Idina Menzel  ...            4/4  0.1770\n",
              "164726  Reggaeton       Proyecto Uno  ...            4/4  0.9590\n",
              "86901         R&B              HONNE  ...            5/4  0.0915\n",
              "207350      World    Influence Music  ...            4/4  0.1080\n",
              "\n",
              "[10 rows x 18 columns]"
            ]
          },
          "metadata": {
            "tags": []
          },
          "execution_count": 1
        }
      ]
    },
    {
      "cell_type": "code",
      "metadata": {
        "id": "NEE4B0lMZaRy",
        "colab_type": "code",
        "colab": {
          "base_uri": "https://localhost:8080/",
          "height": 394
        },
        "outputId": "c2d99b5d-9b1e-4668-e264-088bf472781d"
      },
      "source": [
        "df['mode'] = df['mode'].replace({\"Major\":1, \"Minor\":0})\n",
        "df.head()"
      ],
      "execution_count": 79,
      "outputs": [
        {
          "output_type": "execute_result",
          "data": {
            "text/html": [
              "<div>\n",
              "<style scoped>\n",
              "    .dataframe tbody tr th:only-of-type {\n",
              "        vertical-align: middle;\n",
              "    }\n",
              "\n",
              "    .dataframe tbody tr th {\n",
              "        vertical-align: top;\n",
              "    }\n",
              "\n",
              "    .dataframe thead th {\n",
              "        text-align: right;\n",
              "    }\n",
              "</style>\n",
              "<table border=\"1\" class=\"dataframe\">\n",
              "  <thead>\n",
              "    <tr style=\"text-align: right;\">\n",
              "      <th></th>\n",
              "      <th>genre</th>\n",
              "      <th>artist_name</th>\n",
              "      <th>track_name</th>\n",
              "      <th>track_id</th>\n",
              "      <th>popularity</th>\n",
              "      <th>acousticness</th>\n",
              "      <th>danceability</th>\n",
              "      <th>duration_ms</th>\n",
              "      <th>energy</th>\n",
              "      <th>instrumentalness</th>\n",
              "      <th>key</th>\n",
              "      <th>liveness</th>\n",
              "      <th>loudness</th>\n",
              "      <th>mode</th>\n",
              "      <th>speechiness</th>\n",
              "      <th>tempo</th>\n",
              "      <th>time_signature</th>\n",
              "      <th>valence</th>\n",
              "    </tr>\n",
              "  </thead>\n",
              "  <tbody>\n",
              "    <tr>\n",
              "      <th>0</th>\n",
              "      <td>Movie</td>\n",
              "      <td>Henri Salvador</td>\n",
              "      <td>C'est beau de faire un Show</td>\n",
              "      <td>0BRjO6ga9RKCKjfDqeFgWV</td>\n",
              "      <td>0</td>\n",
              "      <td>0.611</td>\n",
              "      <td>0.389</td>\n",
              "      <td>99373</td>\n",
              "      <td>0.910</td>\n",
              "      <td>0.000</td>\n",
              "      <td>C#</td>\n",
              "      <td>0.3460</td>\n",
              "      <td>-1.828</td>\n",
              "      <td>1</td>\n",
              "      <td>0.0525</td>\n",
              "      <td>166.969</td>\n",
              "      <td>4/4</td>\n",
              "      <td>0.814</td>\n",
              "    </tr>\n",
              "    <tr>\n",
              "      <th>1</th>\n",
              "      <td>Movie</td>\n",
              "      <td>Martin &amp; les fées</td>\n",
              "      <td>Perdu d'avance (par Gad Elmaleh)</td>\n",
              "      <td>0BjC1NfoEOOusryehmNudP</td>\n",
              "      <td>1</td>\n",
              "      <td>0.246</td>\n",
              "      <td>0.590</td>\n",
              "      <td>137373</td>\n",
              "      <td>0.737</td>\n",
              "      <td>0.000</td>\n",
              "      <td>F#</td>\n",
              "      <td>0.1510</td>\n",
              "      <td>-5.559</td>\n",
              "      <td>0</td>\n",
              "      <td>0.0868</td>\n",
              "      <td>174.003</td>\n",
              "      <td>4/4</td>\n",
              "      <td>0.816</td>\n",
              "    </tr>\n",
              "    <tr>\n",
              "      <th>2</th>\n",
              "      <td>Movie</td>\n",
              "      <td>Joseph Williams</td>\n",
              "      <td>Don't Let Me Be Lonely Tonight</td>\n",
              "      <td>0CoSDzoNIKCRs124s9uTVy</td>\n",
              "      <td>3</td>\n",
              "      <td>0.952</td>\n",
              "      <td>0.663</td>\n",
              "      <td>170267</td>\n",
              "      <td>0.131</td>\n",
              "      <td>0.000</td>\n",
              "      <td>C</td>\n",
              "      <td>0.1030</td>\n",
              "      <td>-13.879</td>\n",
              "      <td>0</td>\n",
              "      <td>0.0362</td>\n",
              "      <td>99.488</td>\n",
              "      <td>5/4</td>\n",
              "      <td>0.368</td>\n",
              "    </tr>\n",
              "    <tr>\n",
              "      <th>3</th>\n",
              "      <td>Movie</td>\n",
              "      <td>Henri Salvador</td>\n",
              "      <td>Dis-moi Monsieur Gordon Cooper</td>\n",
              "      <td>0Gc6TVm52BwZD07Ki6tIvf</td>\n",
              "      <td>0</td>\n",
              "      <td>0.703</td>\n",
              "      <td>0.240</td>\n",
              "      <td>152427</td>\n",
              "      <td>0.326</td>\n",
              "      <td>0.000</td>\n",
              "      <td>C#</td>\n",
              "      <td>0.0985</td>\n",
              "      <td>-12.178</td>\n",
              "      <td>1</td>\n",
              "      <td>0.0395</td>\n",
              "      <td>171.758</td>\n",
              "      <td>4/4</td>\n",
              "      <td>0.227</td>\n",
              "    </tr>\n",
              "    <tr>\n",
              "      <th>4</th>\n",
              "      <td>Movie</td>\n",
              "      <td>Fabien Nataf</td>\n",
              "      <td>Ouverture</td>\n",
              "      <td>0IuslXpMROHdEPvSl1fTQK</td>\n",
              "      <td>4</td>\n",
              "      <td>0.950</td>\n",
              "      <td>0.331</td>\n",
              "      <td>82625</td>\n",
              "      <td>0.225</td>\n",
              "      <td>0.123</td>\n",
              "      <td>F</td>\n",
              "      <td>0.2020</td>\n",
              "      <td>-21.150</td>\n",
              "      <td>1</td>\n",
              "      <td>0.0456</td>\n",
              "      <td>140.576</td>\n",
              "      <td>4/4</td>\n",
              "      <td>0.390</td>\n",
              "    </tr>\n",
              "  </tbody>\n",
              "</table>\n",
              "</div>"
            ],
            "text/plain": [
              "   genre        artist_name  ... time_signature valence\n",
              "0  Movie     Henri Salvador  ...            4/4   0.814\n",
              "1  Movie  Martin & les fées  ...            4/4   0.816\n",
              "2  Movie    Joseph Williams  ...            5/4   0.368\n",
              "3  Movie     Henri Salvador  ...            4/4   0.227\n",
              "4  Movie       Fabien Nataf  ...            4/4   0.390\n",
              "\n",
              "[5 rows x 18 columns]"
            ]
          },
          "metadata": {
            "tags": []
          },
          "execution_count": 79
        }
      ]
    },
    {
      "cell_type": "code",
      "metadata": {
        "id": "CAJCjPd2bThm",
        "colab_type": "code",
        "colab": {
          "base_uri": "https://localhost:8080/",
          "height": 119
        },
        "outputId": "5b1c07c9-88b0-41c4-e580-f52ccdf532c7"
      },
      "source": [
        "df['time_signature'].value_counts()"
      ],
      "execution_count": 80,
      "outputs": [
        {
          "output_type": "execute_result",
          "data": {
            "text/plain": [
              "4/4    200760\n",
              "3/4     24111\n",
              "5/4      5238\n",
              "1/4      2608\n",
              "0/4         8\n",
              "Name: time_signature, dtype: int64"
            ]
          },
          "metadata": {
            "tags": []
          },
          "execution_count": 80
        }
      ]
    },
    {
      "cell_type": "code",
      "metadata": {
        "id": "jhgU6TMxcU2m",
        "colab_type": "code",
        "colab": {
          "base_uri": "https://localhost:8080/",
          "height": 394
        },
        "outputId": "67377e83-70c5-4306-91bc-fadc72cde960"
      },
      "source": [
        "df['time_signature'] = df['time_signature'].replace({'4/4':4,'3/4':3,'5/4':5,'1/4':1,'0/4':0})\n",
        "df.head()"
      ],
      "execution_count": 81,
      "outputs": [
        {
          "output_type": "execute_result",
          "data": {
            "text/html": [
              "<div>\n",
              "<style scoped>\n",
              "    .dataframe tbody tr th:only-of-type {\n",
              "        vertical-align: middle;\n",
              "    }\n",
              "\n",
              "    .dataframe tbody tr th {\n",
              "        vertical-align: top;\n",
              "    }\n",
              "\n",
              "    .dataframe thead th {\n",
              "        text-align: right;\n",
              "    }\n",
              "</style>\n",
              "<table border=\"1\" class=\"dataframe\">\n",
              "  <thead>\n",
              "    <tr style=\"text-align: right;\">\n",
              "      <th></th>\n",
              "      <th>genre</th>\n",
              "      <th>artist_name</th>\n",
              "      <th>track_name</th>\n",
              "      <th>track_id</th>\n",
              "      <th>popularity</th>\n",
              "      <th>acousticness</th>\n",
              "      <th>danceability</th>\n",
              "      <th>duration_ms</th>\n",
              "      <th>energy</th>\n",
              "      <th>instrumentalness</th>\n",
              "      <th>key</th>\n",
              "      <th>liveness</th>\n",
              "      <th>loudness</th>\n",
              "      <th>mode</th>\n",
              "      <th>speechiness</th>\n",
              "      <th>tempo</th>\n",
              "      <th>time_signature</th>\n",
              "      <th>valence</th>\n",
              "    </tr>\n",
              "  </thead>\n",
              "  <tbody>\n",
              "    <tr>\n",
              "      <th>0</th>\n",
              "      <td>Movie</td>\n",
              "      <td>Henri Salvador</td>\n",
              "      <td>C'est beau de faire un Show</td>\n",
              "      <td>0BRjO6ga9RKCKjfDqeFgWV</td>\n",
              "      <td>0</td>\n",
              "      <td>0.611</td>\n",
              "      <td>0.389</td>\n",
              "      <td>99373</td>\n",
              "      <td>0.910</td>\n",
              "      <td>0.000</td>\n",
              "      <td>C#</td>\n",
              "      <td>0.3460</td>\n",
              "      <td>-1.828</td>\n",
              "      <td>1</td>\n",
              "      <td>0.0525</td>\n",
              "      <td>166.969</td>\n",
              "      <td>4</td>\n",
              "      <td>0.814</td>\n",
              "    </tr>\n",
              "    <tr>\n",
              "      <th>1</th>\n",
              "      <td>Movie</td>\n",
              "      <td>Martin &amp; les fées</td>\n",
              "      <td>Perdu d'avance (par Gad Elmaleh)</td>\n",
              "      <td>0BjC1NfoEOOusryehmNudP</td>\n",
              "      <td>1</td>\n",
              "      <td>0.246</td>\n",
              "      <td>0.590</td>\n",
              "      <td>137373</td>\n",
              "      <td>0.737</td>\n",
              "      <td>0.000</td>\n",
              "      <td>F#</td>\n",
              "      <td>0.1510</td>\n",
              "      <td>-5.559</td>\n",
              "      <td>0</td>\n",
              "      <td>0.0868</td>\n",
              "      <td>174.003</td>\n",
              "      <td>4</td>\n",
              "      <td>0.816</td>\n",
              "    </tr>\n",
              "    <tr>\n",
              "      <th>2</th>\n",
              "      <td>Movie</td>\n",
              "      <td>Joseph Williams</td>\n",
              "      <td>Don't Let Me Be Lonely Tonight</td>\n",
              "      <td>0CoSDzoNIKCRs124s9uTVy</td>\n",
              "      <td>3</td>\n",
              "      <td>0.952</td>\n",
              "      <td>0.663</td>\n",
              "      <td>170267</td>\n",
              "      <td>0.131</td>\n",
              "      <td>0.000</td>\n",
              "      <td>C</td>\n",
              "      <td>0.1030</td>\n",
              "      <td>-13.879</td>\n",
              "      <td>0</td>\n",
              "      <td>0.0362</td>\n",
              "      <td>99.488</td>\n",
              "      <td>5</td>\n",
              "      <td>0.368</td>\n",
              "    </tr>\n",
              "    <tr>\n",
              "      <th>3</th>\n",
              "      <td>Movie</td>\n",
              "      <td>Henri Salvador</td>\n",
              "      <td>Dis-moi Monsieur Gordon Cooper</td>\n",
              "      <td>0Gc6TVm52BwZD07Ki6tIvf</td>\n",
              "      <td>0</td>\n",
              "      <td>0.703</td>\n",
              "      <td>0.240</td>\n",
              "      <td>152427</td>\n",
              "      <td>0.326</td>\n",
              "      <td>0.000</td>\n",
              "      <td>C#</td>\n",
              "      <td>0.0985</td>\n",
              "      <td>-12.178</td>\n",
              "      <td>1</td>\n",
              "      <td>0.0395</td>\n",
              "      <td>171.758</td>\n",
              "      <td>4</td>\n",
              "      <td>0.227</td>\n",
              "    </tr>\n",
              "    <tr>\n",
              "      <th>4</th>\n",
              "      <td>Movie</td>\n",
              "      <td>Fabien Nataf</td>\n",
              "      <td>Ouverture</td>\n",
              "      <td>0IuslXpMROHdEPvSl1fTQK</td>\n",
              "      <td>4</td>\n",
              "      <td>0.950</td>\n",
              "      <td>0.331</td>\n",
              "      <td>82625</td>\n",
              "      <td>0.225</td>\n",
              "      <td>0.123</td>\n",
              "      <td>F</td>\n",
              "      <td>0.2020</td>\n",
              "      <td>-21.150</td>\n",
              "      <td>1</td>\n",
              "      <td>0.0456</td>\n",
              "      <td>140.576</td>\n",
              "      <td>4</td>\n",
              "      <td>0.390</td>\n",
              "    </tr>\n",
              "  </tbody>\n",
              "</table>\n",
              "</div>"
            ],
            "text/plain": [
              "   genre        artist_name  ... time_signature valence\n",
              "0  Movie     Henri Salvador  ...              4   0.814\n",
              "1  Movie  Martin & les fées  ...              4   0.816\n",
              "2  Movie    Joseph Williams  ...              5   0.368\n",
              "3  Movie     Henri Salvador  ...              4   0.227\n",
              "4  Movie       Fabien Nataf  ...              4   0.390\n",
              "\n",
              "[5 rows x 18 columns]"
            ]
          },
          "metadata": {
            "tags": []
          },
          "execution_count": 81
        }
      ]
    },
    {
      "cell_type": "code",
      "metadata": {
        "id": "0veJZPzjdhJW",
        "colab_type": "code",
        "colab": {
          "base_uri": "https://localhost:8080/",
          "height": 238
        },
        "outputId": "44ff864c-e5d6-470d-d657-674069ec6f23"
      },
      "source": [
        "df['key'].value_counts()"
      ],
      "execution_count": 82,
      "outputs": [
        {
          "output_type": "execute_result",
          "data": {
            "text/plain": [
              "C     27583\n",
              "G     26390\n",
              "D     24077\n",
              "C#    23201\n",
              "A     22671\n",
              "F     20279\n",
              "B     17661\n",
              "E     17390\n",
              "A#    15526\n",
              "F#    15222\n",
              "G#    15159\n",
              "D#     7566\n",
              "Name: key, dtype: int64"
            ]
          },
          "metadata": {
            "tags": []
          },
          "execution_count": 82
        }
      ]
    },
    {
      "cell_type": "code",
      "metadata": {
        "id": "3rREzX2ucxKO",
        "colab_type": "code",
        "colab": {
          "base_uri": "https://localhost:8080/",
          "height": 394
        },
        "outputId": "557d82fd-1fde-499b-c4eb-dac97f374389"
      },
      "source": [
        "key_dict = {'C':0,'C#':1,'D':2,'D#':3,'E':4,'F':5,'F#':6,'G':7,'G#':8,'A':9,'A#':10,'B':11}\n",
        "df['key'] = df['key'].replace(key_dict)\n",
        "df.head()"
      ],
      "execution_count": 83,
      "outputs": [
        {
          "output_type": "execute_result",
          "data": {
            "text/html": [
              "<div>\n",
              "<style scoped>\n",
              "    .dataframe tbody tr th:only-of-type {\n",
              "        vertical-align: middle;\n",
              "    }\n",
              "\n",
              "    .dataframe tbody tr th {\n",
              "        vertical-align: top;\n",
              "    }\n",
              "\n",
              "    .dataframe thead th {\n",
              "        text-align: right;\n",
              "    }\n",
              "</style>\n",
              "<table border=\"1\" class=\"dataframe\">\n",
              "  <thead>\n",
              "    <tr style=\"text-align: right;\">\n",
              "      <th></th>\n",
              "      <th>genre</th>\n",
              "      <th>artist_name</th>\n",
              "      <th>track_name</th>\n",
              "      <th>track_id</th>\n",
              "      <th>popularity</th>\n",
              "      <th>acousticness</th>\n",
              "      <th>danceability</th>\n",
              "      <th>duration_ms</th>\n",
              "      <th>energy</th>\n",
              "      <th>instrumentalness</th>\n",
              "      <th>key</th>\n",
              "      <th>liveness</th>\n",
              "      <th>loudness</th>\n",
              "      <th>mode</th>\n",
              "      <th>speechiness</th>\n",
              "      <th>tempo</th>\n",
              "      <th>time_signature</th>\n",
              "      <th>valence</th>\n",
              "    </tr>\n",
              "  </thead>\n",
              "  <tbody>\n",
              "    <tr>\n",
              "      <th>0</th>\n",
              "      <td>Movie</td>\n",
              "      <td>Henri Salvador</td>\n",
              "      <td>C'est beau de faire un Show</td>\n",
              "      <td>0BRjO6ga9RKCKjfDqeFgWV</td>\n",
              "      <td>0</td>\n",
              "      <td>0.611</td>\n",
              "      <td>0.389</td>\n",
              "      <td>99373</td>\n",
              "      <td>0.910</td>\n",
              "      <td>0.000</td>\n",
              "      <td>1</td>\n",
              "      <td>0.3460</td>\n",
              "      <td>-1.828</td>\n",
              "      <td>1</td>\n",
              "      <td>0.0525</td>\n",
              "      <td>166.969</td>\n",
              "      <td>4</td>\n",
              "      <td>0.814</td>\n",
              "    </tr>\n",
              "    <tr>\n",
              "      <th>1</th>\n",
              "      <td>Movie</td>\n",
              "      <td>Martin &amp; les fées</td>\n",
              "      <td>Perdu d'avance (par Gad Elmaleh)</td>\n",
              "      <td>0BjC1NfoEOOusryehmNudP</td>\n",
              "      <td>1</td>\n",
              "      <td>0.246</td>\n",
              "      <td>0.590</td>\n",
              "      <td>137373</td>\n",
              "      <td>0.737</td>\n",
              "      <td>0.000</td>\n",
              "      <td>6</td>\n",
              "      <td>0.1510</td>\n",
              "      <td>-5.559</td>\n",
              "      <td>0</td>\n",
              "      <td>0.0868</td>\n",
              "      <td>174.003</td>\n",
              "      <td>4</td>\n",
              "      <td>0.816</td>\n",
              "    </tr>\n",
              "    <tr>\n",
              "      <th>2</th>\n",
              "      <td>Movie</td>\n",
              "      <td>Joseph Williams</td>\n",
              "      <td>Don't Let Me Be Lonely Tonight</td>\n",
              "      <td>0CoSDzoNIKCRs124s9uTVy</td>\n",
              "      <td>3</td>\n",
              "      <td>0.952</td>\n",
              "      <td>0.663</td>\n",
              "      <td>170267</td>\n",
              "      <td>0.131</td>\n",
              "      <td>0.000</td>\n",
              "      <td>0</td>\n",
              "      <td>0.1030</td>\n",
              "      <td>-13.879</td>\n",
              "      <td>0</td>\n",
              "      <td>0.0362</td>\n",
              "      <td>99.488</td>\n",
              "      <td>5</td>\n",
              "      <td>0.368</td>\n",
              "    </tr>\n",
              "    <tr>\n",
              "      <th>3</th>\n",
              "      <td>Movie</td>\n",
              "      <td>Henri Salvador</td>\n",
              "      <td>Dis-moi Monsieur Gordon Cooper</td>\n",
              "      <td>0Gc6TVm52BwZD07Ki6tIvf</td>\n",
              "      <td>0</td>\n",
              "      <td>0.703</td>\n",
              "      <td>0.240</td>\n",
              "      <td>152427</td>\n",
              "      <td>0.326</td>\n",
              "      <td>0.000</td>\n",
              "      <td>1</td>\n",
              "      <td>0.0985</td>\n",
              "      <td>-12.178</td>\n",
              "      <td>1</td>\n",
              "      <td>0.0395</td>\n",
              "      <td>171.758</td>\n",
              "      <td>4</td>\n",
              "      <td>0.227</td>\n",
              "    </tr>\n",
              "    <tr>\n",
              "      <th>4</th>\n",
              "      <td>Movie</td>\n",
              "      <td>Fabien Nataf</td>\n",
              "      <td>Ouverture</td>\n",
              "      <td>0IuslXpMROHdEPvSl1fTQK</td>\n",
              "      <td>4</td>\n",
              "      <td>0.950</td>\n",
              "      <td>0.331</td>\n",
              "      <td>82625</td>\n",
              "      <td>0.225</td>\n",
              "      <td>0.123</td>\n",
              "      <td>5</td>\n",
              "      <td>0.2020</td>\n",
              "      <td>-21.150</td>\n",
              "      <td>1</td>\n",
              "      <td>0.0456</td>\n",
              "      <td>140.576</td>\n",
              "      <td>4</td>\n",
              "      <td>0.390</td>\n",
              "    </tr>\n",
              "  </tbody>\n",
              "</table>\n",
              "</div>"
            ],
            "text/plain": [
              "   genre        artist_name  ... time_signature valence\n",
              "0  Movie     Henri Salvador  ...              4   0.814\n",
              "1  Movie  Martin & les fées  ...              4   0.816\n",
              "2  Movie    Joseph Williams  ...              5   0.368\n",
              "3  Movie     Henri Salvador  ...              4   0.227\n",
              "4  Movie       Fabien Nataf  ...              4   0.390\n",
              "\n",
              "[5 rows x 18 columns]"
            ]
          },
          "metadata": {
            "tags": []
          },
          "execution_count": 83
        }
      ]
    },
    {
      "cell_type": "code",
      "metadata": {
        "id": "umS4a1jXl3n4",
        "colab_type": "code",
        "colab": {
          "base_uri": "https://localhost:8080/",
          "height": 187
        },
        "outputId": "9a42d501-a31d-4872-a638-df66f48d553c"
      },
      "source": [
        "# Connect to the API in case we need to look at it's output\n",
        "\n",
        "!pip install spotipy --upgrade\n",
        "import spotipy\n",
        "from spotipy.oauth2 import SpotifyClientCredentials\n",
        "import pandas as pd\n",
        "import time \n",
        "\n",
        "client_id = '14f59f665a094868921bdd76e420d7c0'\n",
        "client_secret = '5e16ddb0f2ed45a69949330bbd34351a'\n",
        "username = 'mahoryu'\n",
        "\n",
        "client_credentials_manager = SpotifyClientCredentials(client_id, client_secret)\n",
        "sp = spotipy.Spotify(client_credentials_manager=client_credentials_manager)"
      ],
      "execution_count": 2,
      "outputs": [
        {
          "output_type": "stream",
          "text": [
            "Collecting spotipy\n",
            "  Downloading https://files.pythonhosted.org/packages/b2/67/ea788ae3d7e3aad0b0ef72a4f5b6c24c1dbb3db83fd57efc221f86b4fe87/spotipy-2.12.0-py3-none-any.whl\n",
            "Requirement already satisfied, skipping upgrade: six>=1.10.0 in /usr/local/lib/python3.6/dist-packages (from spotipy) (1.12.0)\n",
            "Requirement already satisfied, skipping upgrade: requests>=2.20.0 in /usr/local/lib/python3.6/dist-packages (from spotipy) (2.23.0)\n",
            "Requirement already satisfied, skipping upgrade: idna<3,>=2.5 in /usr/local/lib/python3.6/dist-packages (from requests>=2.20.0->spotipy) (2.9)\n",
            "Requirement already satisfied, skipping upgrade: chardet<4,>=3.0.2 in /usr/local/lib/python3.6/dist-packages (from requests>=2.20.0->spotipy) (3.0.4)\n",
            "Requirement already satisfied, skipping upgrade: urllib3!=1.25.0,!=1.25.1,<1.26,>=1.21.1 in /usr/local/lib/python3.6/dist-packages (from requests>=2.20.0->spotipy) (1.24.3)\n",
            "Requirement already satisfied, skipping upgrade: certifi>=2017.4.17 in /usr/local/lib/python3.6/dist-packages (from requests>=2.20.0->spotipy) (2020.4.5.2)\n",
            "Installing collected packages: spotipy\n",
            "Successfully installed spotipy-2.12.0\n"
          ],
          "name": "stdout"
        }
      ]
    },
    {
      "cell_type": "markdown",
      "metadata": {
        "id": "Ve0nkowCA4Fp",
        "colab_type": "text"
      },
      "source": [
        "### Define the columns we want to use and make a df with it"
      ]
    },
    {
      "cell_type": "code",
      "metadata": {
        "id": "ZEI_TymE2pP0",
        "colab_type": "code",
        "colab": {}
      },
      "source": [
        "# define headers\n",
        "headers = ['popularity','acousticness','danceability','duration_ms','energy','instrumentalness','liveness','loudness','speechiness','tempo','valence']\n",
        "df_new = df[headers]"
      ],
      "execution_count": 3,
      "outputs": []
    },
    {
      "cell_type": "code",
      "metadata": {
        "id": "f-TkOd5gIEer",
        "colab_type": "code",
        "colab": {
          "base_uri": "https://localhost:8080/",
          "height": 204
        },
        "outputId": "2e3527cc-f216-4ea2-b8e2-2bdcf78f8805"
      },
      "source": [
        "df_new.head()"
      ],
      "execution_count": 4,
      "outputs": [
        {
          "output_type": "execute_result",
          "data": {
            "text/html": [
              "<div>\n",
              "<style scoped>\n",
              "    .dataframe tbody tr th:only-of-type {\n",
              "        vertical-align: middle;\n",
              "    }\n",
              "\n",
              "    .dataframe tbody tr th {\n",
              "        vertical-align: top;\n",
              "    }\n",
              "\n",
              "    .dataframe thead th {\n",
              "        text-align: right;\n",
              "    }\n",
              "</style>\n",
              "<table border=\"1\" class=\"dataframe\">\n",
              "  <thead>\n",
              "    <tr style=\"text-align: right;\">\n",
              "      <th></th>\n",
              "      <th>popularity</th>\n",
              "      <th>acousticness</th>\n",
              "      <th>danceability</th>\n",
              "      <th>duration_ms</th>\n",
              "      <th>energy</th>\n",
              "      <th>instrumentalness</th>\n",
              "      <th>liveness</th>\n",
              "      <th>loudness</th>\n",
              "      <th>speechiness</th>\n",
              "      <th>tempo</th>\n",
              "      <th>valence</th>\n",
              "    </tr>\n",
              "  </thead>\n",
              "  <tbody>\n",
              "    <tr>\n",
              "      <th>0</th>\n",
              "      <td>0</td>\n",
              "      <td>0.611</td>\n",
              "      <td>0.389</td>\n",
              "      <td>99373</td>\n",
              "      <td>0.910</td>\n",
              "      <td>0.000</td>\n",
              "      <td>0.3460</td>\n",
              "      <td>-1.828</td>\n",
              "      <td>0.0525</td>\n",
              "      <td>166.969</td>\n",
              "      <td>0.814</td>\n",
              "    </tr>\n",
              "    <tr>\n",
              "      <th>1</th>\n",
              "      <td>1</td>\n",
              "      <td>0.246</td>\n",
              "      <td>0.590</td>\n",
              "      <td>137373</td>\n",
              "      <td>0.737</td>\n",
              "      <td>0.000</td>\n",
              "      <td>0.1510</td>\n",
              "      <td>-5.559</td>\n",
              "      <td>0.0868</td>\n",
              "      <td>174.003</td>\n",
              "      <td>0.816</td>\n",
              "    </tr>\n",
              "    <tr>\n",
              "      <th>2</th>\n",
              "      <td>3</td>\n",
              "      <td>0.952</td>\n",
              "      <td>0.663</td>\n",
              "      <td>170267</td>\n",
              "      <td>0.131</td>\n",
              "      <td>0.000</td>\n",
              "      <td>0.1030</td>\n",
              "      <td>-13.879</td>\n",
              "      <td>0.0362</td>\n",
              "      <td>99.488</td>\n",
              "      <td>0.368</td>\n",
              "    </tr>\n",
              "    <tr>\n",
              "      <th>3</th>\n",
              "      <td>0</td>\n",
              "      <td>0.703</td>\n",
              "      <td>0.240</td>\n",
              "      <td>152427</td>\n",
              "      <td>0.326</td>\n",
              "      <td>0.000</td>\n",
              "      <td>0.0985</td>\n",
              "      <td>-12.178</td>\n",
              "      <td>0.0395</td>\n",
              "      <td>171.758</td>\n",
              "      <td>0.227</td>\n",
              "    </tr>\n",
              "    <tr>\n",
              "      <th>4</th>\n",
              "      <td>4</td>\n",
              "      <td>0.950</td>\n",
              "      <td>0.331</td>\n",
              "      <td>82625</td>\n",
              "      <td>0.225</td>\n",
              "      <td>0.123</td>\n",
              "      <td>0.2020</td>\n",
              "      <td>-21.150</td>\n",
              "      <td>0.0456</td>\n",
              "      <td>140.576</td>\n",
              "      <td>0.390</td>\n",
              "    </tr>\n",
              "  </tbody>\n",
              "</table>\n",
              "</div>"
            ],
            "text/plain": [
              "   popularity  acousticness  danceability  ...  speechiness    tempo  valence\n",
              "0           0         0.611         0.389  ...       0.0525  166.969    0.814\n",
              "1           1         0.246         0.590  ...       0.0868  174.003    0.816\n",
              "2           3         0.952         0.663  ...       0.0362   99.488    0.368\n",
              "3           0         0.703         0.240  ...       0.0395  171.758    0.227\n",
              "4           4         0.950         0.331  ...       0.0456  140.576    0.390\n",
              "\n",
              "[5 rows x 11 columns]"
            ]
          },
          "metadata": {
            "tags": []
          },
          "execution_count": 4
        }
      ]
    },
    {
      "cell_type": "code",
      "metadata": {
        "id": "wtbbJDcEN80U",
        "colab_type": "code",
        "colab": {
          "base_uri": "https://localhost:8080/",
          "height": 34
        },
        "outputId": "2c799de4-aa75-4213-8ebf-4dfcbec45a0c"
      },
      "source": [
        "df_new.shape"
      ],
      "execution_count": 5,
      "outputs": [
        {
          "output_type": "execute_result",
          "data": {
            "text/plain": [
              "(232725, 11)"
            ]
          },
          "metadata": {
            "tags": []
          },
          "execution_count": 5
        }
      ]
    },
    {
      "cell_type": "markdown",
      "metadata": {
        "id": "kcY8_MocBA6l",
        "colab_type": "text"
      },
      "source": [
        "### Make the model"
      ]
    },
    {
      "cell_type": "code",
      "metadata": {
        "id": "vhbd0GflNQNz",
        "colab_type": "code",
        "colab": {
          "base_uri": "https://localhost:8080/",
          "height": 34
        },
        "outputId": "d826ee70-98dc-48ba-8e70-96372eaab4c6"
      },
      "source": [
        "# imports \n",
        "\n",
        "from keras.models import Model\n",
        "from keras.layers import Input, Dense\n",
        "from keras import regularizers\n",
        "from sklearn.preprocessing import MinMaxScaler\n",
        "import pandas as pd"
      ],
      "execution_count": 6,
      "outputs": [
        {
          "output_type": "stream",
          "text": [
            "Using TensorFlow backend.\n"
          ],
          "name": "stderr"
        }
      ]
    },
    {
      "cell_type": "code",
      "metadata": {
        "id": "KV7ntMqdNcnq",
        "colab_type": "code",
        "colab": {}
      },
      "source": [
        "# Normalise the data\n",
        "scaler = MinMaxScaler()\n",
        "data_scaled = scaler.fit_transform(df_new)"
      ],
      "execution_count": 7,
      "outputs": []
    },
    {
      "cell_type": "markdown",
      "metadata": {
        "id": "RW4pxtP0Gczz",
        "colab_type": "text"
      },
      "source": [
        "#### Pickle the Scaler"
      ]
    },
    {
      "cell_type": "code",
      "metadata": {
        "id": "uoqqun5YGfqO",
        "colab_type": "code",
        "colab": {
          "base_uri": "https://localhost:8080/",
          "height": 34
        },
        "outputId": "847d741a-1866-4098-ae9c-eb013ae59935"
      },
      "source": [
        "import pickle\n",
        "\n",
        "# Dump the trained classifier (autoencoder)  with Pickle\n",
        "pickle_filename_1 = 'scaler_model.pkl'\n",
        "pickled_model_1 = open(pickle_filename_1, 'wb')  # Open the file to save as pkl file\n",
        "pickle.dump(scaler, pickled_model_1)\n",
        "pickled_model_1.close() # Close the pickle instances\n",
        "\n",
        "# Loading the saved model\n",
        "model_pkl_1 = open(pickle_filename_1, 'rb')\n",
        "scaler_model = pickle.load(model_pkl_1)\n",
        "print (\"Loaded model :: \", scaler_model)  # print to verify"
      ],
      "execution_count": 8,
      "outputs": [
        {
          "output_type": "stream",
          "text": [
            "Loaded model ::  MinMaxScaler(copy=True, feature_range=(0, 1))\n"
          ],
          "name": "stdout"
        }
      ]
    },
    {
      "cell_type": "markdown",
      "metadata": {
        "id": "DAiAaodwHa_b",
        "colab_type": "text"
      },
      "source": [
        "#### Create actual Model"
      ]
    },
    {
      "cell_type": "code",
      "metadata": {
        "id": "-qwL_gFsOFw1",
        "colab_type": "code",
        "colab": {
          "base_uri": "https://localhost:8080/",
          "height": 204
        },
        "outputId": "26c035c0-4435-4c44-9dad-8488d4e7b379"
      },
      "source": [
        "# set the scaled data to a new df\n",
        "df_scaled = pd.DataFrame(data_scaled,columns=headers)\n",
        "df_scaled.head()"
      ],
      "execution_count": 9,
      "outputs": [
        {
          "output_type": "execute_result",
          "data": {
            "text/html": [
              "<div>\n",
              "<style scoped>\n",
              "    .dataframe tbody tr th:only-of-type {\n",
              "        vertical-align: middle;\n",
              "    }\n",
              "\n",
              "    .dataframe tbody tr th {\n",
              "        vertical-align: top;\n",
              "    }\n",
              "\n",
              "    .dataframe thead th {\n",
              "        text-align: right;\n",
              "    }\n",
              "</style>\n",
              "<table border=\"1\" class=\"dataframe\">\n",
              "  <thead>\n",
              "    <tr style=\"text-align: right;\">\n",
              "      <th></th>\n",
              "      <th>popularity</th>\n",
              "      <th>acousticness</th>\n",
              "      <th>danceability</th>\n",
              "      <th>duration_ms</th>\n",
              "      <th>energy</th>\n",
              "      <th>instrumentalness</th>\n",
              "      <th>liveness</th>\n",
              "      <th>loudness</th>\n",
              "      <th>speechiness</th>\n",
              "      <th>tempo</th>\n",
              "      <th>valence</th>\n",
              "    </tr>\n",
              "  </thead>\n",
              "  <tbody>\n",
              "    <tr>\n",
              "      <th>0</th>\n",
              "      <td>0.00</td>\n",
              "      <td>0.613454</td>\n",
              "      <td>0.356292</td>\n",
              "      <td>0.015167</td>\n",
              "      <td>0.910909</td>\n",
              "      <td>0.000000</td>\n",
              "      <td>0.339614</td>\n",
              "      <td>0.900856</td>\n",
              "      <td>0.032070</td>\n",
              "      <td>0.642704</td>\n",
              "      <td>0.814</td>\n",
              "    </tr>\n",
              "    <tr>\n",
              "      <th>1</th>\n",
              "      <td>0.01</td>\n",
              "      <td>0.246988</td>\n",
              "      <td>0.571934</td>\n",
              "      <td>0.022029</td>\n",
              "      <td>0.737732</td>\n",
              "      <td>0.000000</td>\n",
              "      <td>0.142710</td>\n",
              "      <td>0.834469</td>\n",
              "      <td>0.068374</td>\n",
              "      <td>0.675801</td>\n",
              "      <td>0.816</td>\n",
              "    </tr>\n",
              "    <tr>\n",
              "      <th>2</th>\n",
              "      <td>0.03</td>\n",
              "      <td>0.955823</td>\n",
              "      <td>0.650252</td>\n",
              "      <td>0.027969</td>\n",
              "      <td>0.131113</td>\n",
              "      <td>0.000000</td>\n",
              "      <td>0.094241</td>\n",
              "      <td>0.686429</td>\n",
              "      <td>0.014818</td>\n",
              "      <td>0.325182</td>\n",
              "      <td>0.368</td>\n",
              "    </tr>\n",
              "    <tr>\n",
              "      <th>3</th>\n",
              "      <td>0.00</td>\n",
              "      <td>0.705823</td>\n",
              "      <td>0.196438</td>\n",
              "      <td>0.024747</td>\n",
              "      <td>0.326313</td>\n",
              "      <td>0.000000</td>\n",
              "      <td>0.089697</td>\n",
              "      <td>0.716695</td>\n",
              "      <td>0.018311</td>\n",
              "      <td>0.665238</td>\n",
              "      <td>0.227</td>\n",
              "    </tr>\n",
              "    <tr>\n",
              "      <th>4</th>\n",
              "      <td>0.04</td>\n",
              "      <td>0.953815</td>\n",
              "      <td>0.294067</td>\n",
              "      <td>0.012142</td>\n",
              "      <td>0.225209</td>\n",
              "      <td>0.123123</td>\n",
              "      <td>0.194208</td>\n",
              "      <td>0.557054</td>\n",
              "      <td>0.024767</td>\n",
              "      <td>0.518516</td>\n",
              "      <td>0.390</td>\n",
              "    </tr>\n",
              "  </tbody>\n",
              "</table>\n",
              "</div>"
            ],
            "text/plain": [
              "   popularity  acousticness  danceability  ...  speechiness     tempo  valence\n",
              "0        0.00      0.613454      0.356292  ...     0.032070  0.642704    0.814\n",
              "1        0.01      0.246988      0.571934  ...     0.068374  0.675801    0.816\n",
              "2        0.03      0.955823      0.650252  ...     0.014818  0.325182    0.368\n",
              "3        0.00      0.705823      0.196438  ...     0.018311  0.665238    0.227\n",
              "4        0.04      0.953815      0.294067  ...     0.024767  0.518516    0.390\n",
              "\n",
              "[5 rows x 11 columns]"
            ]
          },
          "metadata": {
            "tags": []
          },
          "execution_count": 9
        }
      ]
    },
    {
      "cell_type": "code",
      "metadata": {
        "id": "c9HkvN9iOwj9",
        "colab_type": "code",
        "colab": {
          "base_uri": "https://localhost:8080/",
          "height": 323
        },
        "outputId": "1dd21147-a389-494b-e87d-a3f56f85d27d"
      },
      "source": [
        "# create the actual autoencoder\n",
        "\n",
        "# set the input dimentions to what is in the df_new\n",
        "input_dim = df_new.shape[1]  # 11\n",
        "\n",
        "# Number of neurons in each Layer [11, 7, 3, ...] of encoders\n",
        "input_layer = Input(shape=(input_dim, ))\n",
        "encoder_layer_1 = Dense(7, activation=\"relu\", activity_regularizer=regularizers.l1(10e-5))(input_layer)\n",
        "encoder_layer_2 = Dense(3, activation=\"relu\")(encoder_layer_1)\n",
        "\n",
        "# Crear encoder model\n",
        "encoder = Model(inputs=input_layer, outputs=encoder_layer_2)\n",
        "\n",
        "decoder_1 = Dense(7, activation='relu')(encoder_layer_2)\n",
        "decoder_output = Dense(input_dim, activation = 'sigmoid')(decoder_1)\n",
        "\n",
        "autoencoder = Model(input_layer, decoder_output)\n",
        "\n",
        "autoencoder.summary()"
      ],
      "execution_count": 71,
      "outputs": [
        {
          "output_type": "stream",
          "text": [
            "Model: \"model_26\"\n",
            "_________________________________________________________________\n",
            "Layer (type)                 Output Shape              Param #   \n",
            "=================================================================\n",
            "input_13 (InputLayer)        (None, 11)                0         \n",
            "_________________________________________________________________\n",
            "dense_67 (Dense)             (None, 7)                 84        \n",
            "_________________________________________________________________\n",
            "dense_68 (Dense)             (None, 3)                 24        \n",
            "_________________________________________________________________\n",
            "dense_69 (Dense)             (None, 7)                 28        \n",
            "_________________________________________________________________\n",
            "dense_70 (Dense)             (None, 11)                88        \n",
            "=================================================================\n",
            "Total params: 224\n",
            "Trainable params: 224\n",
            "Non-trainable params: 0\n",
            "_________________________________________________________________\n"
          ],
          "name": "stdout"
        }
      ]
    },
    {
      "cell_type": "code",
      "metadata": {
        "id": "hfuSytVTUiWi",
        "colab_type": "code",
        "colab": {
          "base_uri": "https://localhost:8080/",
          "height": 391
        },
        "outputId": "73a6b18b-1a1e-4b4e-fb99-c5e41262b3c9"
      },
      "source": [
        "# compile the autoencoder\n",
        "autoencoder.compile(optimizer='nadam',\n",
        "                    loss='binary_crossentropy') \n",
        "                    \n",
        "# fit the model\n",
        "autoencoder.fit(df_scaled, df_scaled,\n",
        "                epochs=10,\n",
        "                batch_size=128,\n",
        "                validation_split=0.2) "
      ],
      "execution_count": 72,
      "outputs": [
        {
          "output_type": "stream",
          "text": [
            "Train on 186180 samples, validate on 46545 samples\n",
            "Epoch 1/10\n",
            "186180/186180 [==============================] - 5s 27us/step - loss: 0.5155 - val_loss: 0.4930\n",
            "Epoch 2/10\n",
            "186180/186180 [==============================] - 5s 26us/step - loss: 0.4964 - val_loss: 0.4813\n",
            "Epoch 3/10\n",
            "186180/186180 [==============================] - 5s 26us/step - loss: 0.4818 - val_loss: 0.4674\n",
            "Epoch 4/10\n",
            "186180/186180 [==============================] - 5s 26us/step - loss: 0.4710 - val_loss: 0.4643\n",
            "Epoch 5/10\n",
            "186180/186180 [==============================] - 5s 26us/step - loss: 0.4685 - val_loss: 0.4633\n",
            "Epoch 6/10\n",
            "186180/186180 [==============================] - 5s 26us/step - loss: 0.4677 - val_loss: 0.4618\n",
            "Epoch 7/10\n",
            "186180/186180 [==============================] - 5s 26us/step - loss: 0.4671 - val_loss: 0.4615\n",
            "Epoch 8/10\n",
            "186180/186180 [==============================] - 5s 26us/step - loss: 0.4666 - val_loss: 0.4616\n",
            "Epoch 9/10\n",
            "186180/186180 [==============================] - 5s 26us/step - loss: 0.4662 - val_loss: 0.4605\n",
            "Epoch 10/10\n",
            "186180/186180 [==============================] - 5s 27us/step - loss: 0.4656 - val_loss: 0.4602\n"
          ],
          "name": "stdout"
        },
        {
          "output_type": "execute_result",
          "data": {
            "text/plain": [
              "<keras.callbacks.callbacks.History at 0x7f4eaed2ad30>"
            ]
          },
          "metadata": {
            "tags": []
          },
          "execution_count": 72
        }
      ]
    },
    {
      "cell_type": "code",
      "metadata": {
        "id": "PTBYpdzAIfv-",
        "colab_type": "code",
        "colab": {}
      },
      "source": [
        "########\n",
        "## try resonstructing a song to see accuracy visually.\n",
        "########"
      ],
      "execution_count": null,
      "outputs": []
    },
    {
      "cell_type": "code",
      "metadata": {
        "id": "4_6L7UvXPEKY",
        "colab_type": "code",
        "colab": {
          "base_uri": "https://localhost:8080/",
          "height": 204
        },
        "outputId": "e532cf38-6529-4ae0-b0e3-1a28a27ccb04"
      },
      "source": [
        "# Use the model to predict the factors which sum up the selected atributes of the songs,\n",
        "#   by making an encoded_data df.\n",
        "encoded_data = pd.DataFrame(encoder.predict(data_scaled))\n",
        "encoded_data.columns = ['x', 'y']\n",
        "encoded_data.head()"
      ],
      "execution_count": 30,
      "outputs": [
        {
          "output_type": "execute_result",
          "data": {
            "text/html": [
              "<div>\n",
              "<style scoped>\n",
              "    .dataframe tbody tr th:only-of-type {\n",
              "        vertical-align: middle;\n",
              "    }\n",
              "\n",
              "    .dataframe tbody tr th {\n",
              "        vertical-align: top;\n",
              "    }\n",
              "\n",
              "    .dataframe thead th {\n",
              "        text-align: right;\n",
              "    }\n",
              "</style>\n",
              "<table border=\"1\" class=\"dataframe\">\n",
              "  <thead>\n",
              "    <tr style=\"text-align: right;\">\n",
              "      <th></th>\n",
              "      <th>x</th>\n",
              "      <th>y</th>\n",
              "    </tr>\n",
              "  </thead>\n",
              "  <tbody>\n",
              "    <tr>\n",
              "      <th>0</th>\n",
              "      <td>1.544497</td>\n",
              "      <td>0.828815</td>\n",
              "    </tr>\n",
              "    <tr>\n",
              "      <th>1</th>\n",
              "      <td>1.729073</td>\n",
              "      <td>0.819911</td>\n",
              "    </tr>\n",
              "    <tr>\n",
              "      <th>2</th>\n",
              "      <td>1.464176</td>\n",
              "      <td>1.673386</td>\n",
              "    </tr>\n",
              "    <tr>\n",
              "      <th>3</th>\n",
              "      <td>1.079835</td>\n",
              "      <td>1.347872</td>\n",
              "    </tr>\n",
              "    <tr>\n",
              "      <th>4</th>\n",
              "      <td>0.431884</td>\n",
              "      <td>1.223146</td>\n",
              "    </tr>\n",
              "  </tbody>\n",
              "</table>\n",
              "</div>"
            ],
            "text/plain": [
              "          x         y\n",
              "0  1.544497  0.828815\n",
              "1  1.729073  0.819911\n",
              "2  1.464176  1.673386\n",
              "3  1.079835  1.347872\n",
              "4  0.431884  1.223146"
            ]
          },
          "metadata": {
            "tags": []
          },
          "execution_count": 30
        }
      ]
    },
    {
      "cell_type": "code",
      "metadata": {
        "id": "A5dj5gzZPbZO",
        "colab_type": "code",
        "colab": {
          "base_uri": "https://localhost:8080/",
          "height": 296
        },
        "outputId": "584f9d6c-8955-4a28-d31a-a00746ea3beb"
      },
      "source": [
        "# plot the x,y coordinates\n",
        "encoded_data.plot.scatter('x','y')"
      ],
      "execution_count": 31,
      "outputs": [
        {
          "output_type": "execute_result",
          "data": {
            "text/plain": [
              "<matplotlib.axes._subplots.AxesSubplot at 0x7f4eaff83f28>"
            ]
          },
          "metadata": {
            "tags": []
          },
          "execution_count": 31
        },
        {
          "output_type": "display_data",
          "data": {
            "image/png": "[encoded data removed]",
            "text/plain": [
              "<Figure size 432x288 with 1 Axes>"
            ]
          },
          "metadata": {
            "tags": [],
            "needs_background": "light"
          }
        }
      ]
    },
    {
      "cell_type": "markdown",
      "metadata": {
        "id": "6SZBYnKI7ZU5",
        "colab_type": "text"
      },
      "source": [
        "#### Pickle the Model"
      ]
    },
    {
      "cell_type": "code",
      "metadata": {
        "id": "u3lSgxBh7D2-",
        "colab_type": "code",
        "colab": {
          "base_uri": "https://localhost:8080/",
          "height": 34
        },
        "outputId": "34cb6ee6-4e4e-4c62-8c45-96e601c01709"
      },
      "source": [
        "import pickle\n",
        "\n",
        "# Dump the trained classifier (autoencoder)  with Pickle\n",
        "pickle_filename = 'autoencoder_model.pkl'\n",
        "pickled_model = open(pickle_filename, 'wb')  # Open the file to save as pkl file\n",
        "pickle.dump(autoencoder, pickled_model)\n",
        "pickled_model.close() # Close the pickle instances\n",
        "\n",
        "# Loading the saved model\n",
        "model_pkl = open(pickle_filename, 'rb')\n",
        "autoencoder_model = pickle.load(model_pkl)\n",
        "print (\"Loaded model :: \", autoencoder_model)  # print to verify"
      ],
      "execution_count": 32,
      "outputs": [
        {
          "output_type": "stream",
          "text": [
            "Loaded model ::  <keras.engine.training.Model object at 0x7f4eafd606d8>\n"
          ],
          "name": "stdout"
        }
      ]
    },
    {
      "cell_type": "code",
      "metadata": {
        "id": "SxSetakZ9JUE",
        "colab_type": "code",
        "colab": {
          "base_uri": "https://localhost:8080/",
          "height": 80
        },
        "outputId": "a333af38-2958-4ba3-8682-d88b31c4343a"
      },
      "source": [
        "# Get test data\n",
        "\n",
        "df_input = df_scaled[:1]\n",
        "encoded_data_test = pd.DataFrame(encoder.predict(df_input))\n",
        "encoded_data_test.columns = ['x', 'y']\n",
        "encoded_data_test.head()"
      ],
      "execution_count": 33,
      "outputs": [
        {
          "output_type": "execute_result",
          "data": {
            "text/html": [
              "<div>\n",
              "<style scoped>\n",
              "    .dataframe tbody tr th:only-of-type {\n",
              "        vertical-align: middle;\n",
              "    }\n",
              "\n",
              "    .dataframe tbody tr th {\n",
              "        vertical-align: top;\n",
              "    }\n",
              "\n",
              "    .dataframe thead th {\n",
              "        text-align: right;\n",
              "    }\n",
              "</style>\n",
              "<table border=\"1\" class=\"dataframe\">\n",
              "  <thead>\n",
              "    <tr style=\"text-align: right;\">\n",
              "      <th></th>\n",
              "      <th>x</th>\n",
              "      <th>y</th>\n",
              "    </tr>\n",
              "  </thead>\n",
              "  <tbody>\n",
              "    <tr>\n",
              "      <th>0</th>\n",
              "      <td>1.544497</td>\n",
              "      <td>0.828816</td>\n",
              "    </tr>\n",
              "  </tbody>\n",
              "</table>\n",
              "</div>"
            ],
            "text/plain": [
              "          x         y\n",
              "0  1.544497  0.828816"
            ]
          },
          "metadata": {
            "tags": []
          },
          "execution_count": 33
        }
      ]
    },
    {
      "cell_type": "code",
      "metadata": {
        "id": "GLht9w2M_P1s",
        "colab_type": "code",
        "colab": {}
      },
      "source": [
        "test_x = encoder.predict(df_input)[0][0]\n",
        "test_y = encoder.predict(df_input)[0][1]"
      ],
      "execution_count": 34,
      "outputs": []
    },
    {
      "cell_type": "markdown",
      "metadata": {
        "id": "DPXAZgkT780L",
        "colab_type": "text"
      },
      "source": [
        "### Get Distance"
      ]
    },
    {
      "cell_type": "code",
      "metadata": {
        "id": "tEgdoI73aGzD",
        "colab_type": "code",
        "colab": {}
      },
      "source": [
        "# example of euclidian distance\n",
        "from scipy.spatial import distance\n",
        "a = (1, 2, 3)\n",
        "b = (4, 5, 6)\n",
        "dst = distance.euclidean(a, b)"
      ],
      "execution_count": 43,
      "outputs": []
    },
    {
      "cell_type": "code",
      "metadata": {
        "id": "xu44DXcJ-deZ",
        "colab_type": "code",
        "colab": {
          "base_uri": "https://localhost:8080/",
          "height": 204
        },
        "outputId": "f28177e5-54e2-47fe-84ff-37c3e4a365b6"
      },
      "source": [
        "encoded_data.head()"
      ],
      "execution_count": 35,
      "outputs": [
        {
          "output_type": "execute_result",
          "data": {
            "text/html": [
              "<div>\n",
              "<style scoped>\n",
              "    .dataframe tbody tr th:only-of-type {\n",
              "        vertical-align: middle;\n",
              "    }\n",
              "\n",
              "    .dataframe tbody tr th {\n",
              "        vertical-align: top;\n",
              "    }\n",
              "\n",
              "    .dataframe thead th {\n",
              "        text-align: right;\n",
              "    }\n",
              "</style>\n",
              "<table border=\"1\" class=\"dataframe\">\n",
              "  <thead>\n",
              "    <tr style=\"text-align: right;\">\n",
              "      <th></th>\n",
              "      <th>x</th>\n",
              "      <th>y</th>\n",
              "    </tr>\n",
              "  </thead>\n",
              "  <tbody>\n",
              "    <tr>\n",
              "      <th>0</th>\n",
              "      <td>1.544497</td>\n",
              "      <td>0.828815</td>\n",
              "    </tr>\n",
              "    <tr>\n",
              "      <th>1</th>\n",
              "      <td>1.729073</td>\n",
              "      <td>0.819911</td>\n",
              "    </tr>\n",
              "    <tr>\n",
              "      <th>2</th>\n",
              "      <td>1.464176</td>\n",
              "      <td>1.673386</td>\n",
              "    </tr>\n",
              "    <tr>\n",
              "      <th>3</th>\n",
              "      <td>1.079835</td>\n",
              "      <td>1.347872</td>\n",
              "    </tr>\n",
              "    <tr>\n",
              "      <th>4</th>\n",
              "      <td>0.431884</td>\n",
              "      <td>1.223146</td>\n",
              "    </tr>\n",
              "  </tbody>\n",
              "</table>\n",
              "</div>"
            ],
            "text/plain": [
              "          x         y\n",
              "0  1.544497  0.828815\n",
              "1  1.729073  0.819911\n",
              "2  1.464176  1.673386\n",
              "3  1.079835  1.347872\n",
              "4  0.431884  1.223146"
            ]
          },
          "metadata": {
            "tags": []
          },
          "execution_count": 35
        }
      ]
    },
    {
      "cell_type": "code",
      "metadata": {
        "id": "z8yQlRoy0ujX",
        "colab_type": "code",
        "colab": {
          "base_uri": "https://localhost:8080/",
          "height": 204
        },
        "outputId": "ed0be089-f3cd-41ff-e36c-f2719bc8a788"
      },
      "source": [
        "encoded_data['track_id'] = df['track_id']\n",
        "encoded_data.head()"
      ],
      "execution_count": 36,
      "outputs": [
        {
          "output_type": "execute_result",
          "data": {
            "text/html": [
              "<div>\n",
              "<style scoped>\n",
              "    .dataframe tbody tr th:only-of-type {\n",
              "        vertical-align: middle;\n",
              "    }\n",
              "\n",
              "    .dataframe tbody tr th {\n",
              "        vertical-align: top;\n",
              "    }\n",
              "\n",
              "    .dataframe thead th {\n",
              "        text-align: right;\n",
              "    }\n",
              "</style>\n",
              "<table border=\"1\" class=\"dataframe\">\n",
              "  <thead>\n",
              "    <tr style=\"text-align: right;\">\n",
              "      <th></th>\n",
              "      <th>x</th>\n",
              "      <th>y</th>\n",
              "      <th>track_id</th>\n",
              "    </tr>\n",
              "  </thead>\n",
              "  <tbody>\n",
              "    <tr>\n",
              "      <th>0</th>\n",
              "      <td>1.544497</td>\n",
              "      <td>0.828815</td>\n",
              "      <td>0BRjO6ga9RKCKjfDqeFgWV</td>\n",
              "    </tr>\n",
              "    <tr>\n",
              "      <th>1</th>\n",
              "      <td>1.729073</td>\n",
              "      <td>0.819911</td>\n",
              "      <td>0BjC1NfoEOOusryehmNudP</td>\n",
              "    </tr>\n",
              "    <tr>\n",
              "      <th>2</th>\n",
              "      <td>1.464176</td>\n",
              "      <td>1.673386</td>\n",
              "      <td>0CoSDzoNIKCRs124s9uTVy</td>\n",
              "    </tr>\n",
              "    <tr>\n",
              "      <th>3</th>\n",
              "      <td>1.079835</td>\n",
              "      <td>1.347872</td>\n",
              "      <td>0Gc6TVm52BwZD07Ki6tIvf</td>\n",
              "    </tr>\n",
              "    <tr>\n",
              "      <th>4</th>\n",
              "      <td>0.431884</td>\n",
              "      <td>1.223146</td>\n",
              "      <td>0IuslXpMROHdEPvSl1fTQK</td>\n",
              "    </tr>\n",
              "  </tbody>\n",
              "</table>\n",
              "</div>"
            ],
            "text/plain": [
              "          x         y                track_id\n",
              "0  1.544497  0.828815  0BRjO6ga9RKCKjfDqeFgWV\n",
              "1  1.729073  0.819911  0BjC1NfoEOOusryehmNudP\n",
              "2  1.464176  1.673386  0CoSDzoNIKCRs124s9uTVy\n",
              "3  1.079835  1.347872  0Gc6TVm52BwZD07Ki6tIvf\n",
              "4  0.431884  1.223146  0IuslXpMROHdEPvSl1fTQK"
            ]
          },
          "metadata": {
            "tags": []
          },
          "execution_count": 36
        }
      ]
    },
    {
      "cell_type": "code",
      "metadata": {
        "id": "Eu2r-uWB6D-E",
        "colab_type": "code",
        "colab": {}
      },
      "source": [
        "# save the encoded data as a .csv file    \n",
        "\n",
        "encoded_data.to_csv(\"encoded_data.csv\", index=False)"
      ],
      "execution_count": 37,
      "outputs": []
    },
    {
      "cell_type": "markdown",
      "metadata": {
        "id": "4mC9mBWLCQHZ",
        "colab_type": "text"
      },
      "source": [
        "### Test out the pickled model"
      ]
    },
    {
      "cell_type": "code",
      "metadata": {
        "id": "qDI_UrrS6Zry",
        "colab_type": "code",
        "colab": {
          "base_uri": "https://localhost:8080/",
          "height": 204
        },
        "outputId": "9389f13e-ac23-4acd-f9d6-49f90150f8a9"
      },
      "source": [
        "# test out reading it in.\n",
        "df1 = pd.read_csv(\"encoded_data.csv\")\n",
        "df1.head()"
      ],
      "execution_count": 39,
      "outputs": [
        {
          "output_type": "execute_result",
          "data": {
            "text/html": [
              "<div>\n",
              "<style scoped>\n",
              "    .dataframe tbody tr th:only-of-type {\n",
              "        vertical-align: middle;\n",
              "    }\n",
              "\n",
              "    .dataframe tbody tr th {\n",
              "        vertical-align: top;\n",
              "    }\n",
              "\n",
              "    .dataframe thead th {\n",
              "        text-align: right;\n",
              "    }\n",
              "</style>\n",
              "<table border=\"1\" class=\"dataframe\">\n",
              "  <thead>\n",
              "    <tr style=\"text-align: right;\">\n",
              "      <th></th>\n",
              "      <th>x</th>\n",
              "      <th>y</th>\n",
              "      <th>track_id</th>\n",
              "    </tr>\n",
              "  </thead>\n",
              "  <tbody>\n",
              "    <tr>\n",
              "      <th>0</th>\n",
              "      <td>1.544497</td>\n",
              "      <td>0.828815</td>\n",
              "      <td>0BRjO6ga9RKCKjfDqeFgWV</td>\n",
              "    </tr>\n",
              "    <tr>\n",
              "      <th>1</th>\n",
              "      <td>1.729073</td>\n",
              "      <td>0.819911</td>\n",
              "      <td>0BjC1NfoEOOusryehmNudP</td>\n",
              "    </tr>\n",
              "    <tr>\n",
              "      <th>2</th>\n",
              "      <td>1.464176</td>\n",
              "      <td>1.673385</td>\n",
              "      <td>0CoSDzoNIKCRs124s9uTVy</td>\n",
              "    </tr>\n",
              "    <tr>\n",
              "      <th>3</th>\n",
              "      <td>1.079835</td>\n",
              "      <td>1.347872</td>\n",
              "      <td>0Gc6TVm52BwZD07Ki6tIvf</td>\n",
              "    </tr>\n",
              "    <tr>\n",
              "      <th>4</th>\n",
              "      <td>0.431884</td>\n",
              "      <td>1.223146</td>\n",
              "      <td>0IuslXpMROHdEPvSl1fTQK</td>\n",
              "    </tr>\n",
              "  </tbody>\n",
              "</table>\n",
              "</div>"
            ],
            "text/plain": [
              "          x         y                track_id\n",
              "0  1.544497  0.828815  0BRjO6ga9RKCKjfDqeFgWV\n",
              "1  1.729073  0.819911  0BjC1NfoEOOusryehmNudP\n",
              "2  1.464176  1.673385  0CoSDzoNIKCRs124s9uTVy\n",
              "3  1.079835  1.347872  0Gc6TVm52BwZD07Ki6tIvf\n",
              "4  0.431884  1.223146  0IuslXpMROHdEPvSl1fTQK"
            ]
          },
          "metadata": {
            "tags": []
          },
          "execution_count": 39
        }
      ]
    },
    {
      "cell_type": "code",
      "metadata": {
        "id": "KTS90bXu-Sdc",
        "colab_type": "code",
        "colab": {
          "base_uri": "https://localhost:8080/",
          "height": 34
        },
        "outputId": "ea661808-b371-4a38-9cc1-6692f8dda998"
      },
      "source": [
        "encoded_data_test[['x','y']].values"
      ],
      "execution_count": 40,
      "outputs": [
        {
          "output_type": "execute_result",
          "data": {
            "text/plain": [
              "array([[1.5444973, 0.8288155]], dtype=float32)"
            ]
          },
          "metadata": {
            "tags": []
          },
          "execution_count": 40
        }
      ]
    },
    {
      "cell_type": "code",
      "metadata": {
        "id": "Yi26JNX9BiQh",
        "colab_type": "code",
        "colab": {}
      },
      "source": [
        "def get_e_dist(in_df):\n",
        "  return distance.euclidean(in_df[[0,1]], (test_x,test_y))"
      ],
      "execution_count": 41,
      "outputs": []
    },
    {
      "cell_type": "code",
      "metadata": {
        "id": "IuhBe7kU-Bnn",
        "colab_type": "code",
        "colab": {}
      },
      "source": [
        "encoded_data['e_distance'] = encoded_data.apply(get_e_dist, axis=1)"
      ],
      "execution_count": 44,
      "outputs": []
    },
    {
      "cell_type": "code",
      "metadata": {
        "id": "qUlj1cOXCKQE",
        "colab_type": "code",
        "colab": {
          "base_uri": "https://localhost:8080/",
          "height": 204
        },
        "outputId": "cec485b5-c4d4-4070-840c-53fb016e2885"
      },
      "source": [
        "encoded_data.head()"
      ],
      "execution_count": 45,
      "outputs": [
        {
          "output_type": "execute_result",
          "data": {
            "text/html": [
              "<div>\n",
              "<style scoped>\n",
              "    .dataframe tbody tr th:only-of-type {\n",
              "        vertical-align: middle;\n",
              "    }\n",
              "\n",
              "    .dataframe tbody tr th {\n",
              "        vertical-align: top;\n",
              "    }\n",
              "\n",
              "    .dataframe thead th {\n",
              "        text-align: right;\n",
              "    }\n",
              "</style>\n",
              "<table border=\"1\" class=\"dataframe\">\n",
              "  <thead>\n",
              "    <tr style=\"text-align: right;\">\n",
              "      <th></th>\n",
              "      <th>x</th>\n",
              "      <th>y</th>\n",
              "      <th>track_id</th>\n",
              "      <th>e_distance</th>\n",
              "    </tr>\n",
              "  </thead>\n",
              "  <tbody>\n",
              "    <tr>\n",
              "      <th>0</th>\n",
              "      <td>1.544497</td>\n",
              "      <td>0.828815</td>\n",
              "      <td>0BRjO6ga9RKCKjfDqeFgWV</td>\n",
              "      <td>5.960464e-08</td>\n",
              "    </tr>\n",
              "    <tr>\n",
              "      <th>1</th>\n",
              "      <td>1.729073</td>\n",
              "      <td>0.819911</td>\n",
              "      <td>0BjC1NfoEOOusryehmNudP</td>\n",
              "      <td>1.847908e-01</td>\n",
              "    </tr>\n",
              "    <tr>\n",
              "      <th>2</th>\n",
              "      <td>1.464176</td>\n",
              "      <td>1.673386</td>\n",
              "      <td>0CoSDzoNIKCRs124s9uTVy</td>\n",
              "      <td>8.483808e-01</td>\n",
              "    </tr>\n",
              "    <tr>\n",
              "      <th>3</th>\n",
              "      <td>1.079835</td>\n",
              "      <td>1.347872</td>\n",
              "      <td>0Gc6TVm52BwZD07Ki6tIvf</td>\n",
              "      <td>6.966566e-01</td>\n",
              "    </tr>\n",
              "    <tr>\n",
              "      <th>4</th>\n",
              "      <td>0.431884</td>\n",
              "      <td>1.223146</td>\n",
              "      <td>0IuslXpMROHdEPvSl1fTQK</td>\n",
              "      <td>1.180425e+00</td>\n",
              "    </tr>\n",
              "  </tbody>\n",
              "</table>\n",
              "</div>"
            ],
            "text/plain": [
              "          x         y                track_id    e_distance\n",
              "0  1.544497  0.828815  0BRjO6ga9RKCKjfDqeFgWV  5.960464e-08\n",
              "1  1.729073  0.819911  0BjC1NfoEOOusryehmNudP  1.847908e-01\n",
              "2  1.464176  1.673386  0CoSDzoNIKCRs124s9uTVy  8.483808e-01\n",
              "3  1.079835  1.347872  0Gc6TVm52BwZD07Ki6tIvf  6.966566e-01\n",
              "4  0.431884  1.223146  0IuslXpMROHdEPvSl1fTQK  1.180425e+00"
            ]
          },
          "metadata": {
            "tags": []
          },
          "execution_count": 45
        }
      ]
    },
    {
      "cell_type": "markdown",
      "metadata": {
        "id": "tjAVWuBUCaI-",
        "colab_type": "text"
      },
      "source": [
        "#### Get the 5 smallest distances and show the visuals for the top 2"
      ]
    },
    {
      "cell_type": "code",
      "metadata": {
        "id": "Mrbz2JX7fVue",
        "colab_type": "code",
        "colab": {
          "base_uri": "https://localhost:8080/",
          "height": 119
        },
        "outputId": "df04c66c-366e-4b04-c310-201826169267"
      },
      "source": [
        "encoded_data['e_distance'].nsmallest(5)"
      ],
      "execution_count": 46,
      "outputs": [
        {
          "output_type": "execute_result",
          "data": {
            "text/plain": [
              "0         5.960464e-08\n",
              "137871    3.013010e-03\n",
              "190202    3.036266e-03\n",
              "69761     3.136666e-03\n",
              "117514    3.136666e-03\n",
              "Name: e_distance, dtype: float64"
            ]
          },
          "metadata": {
            "tags": []
          },
          "execution_count": 46
        }
      ]
    },
    {
      "cell_type": "code",
      "metadata": {
        "id": "DXJ-2tj5gjfI",
        "colab_type": "code",
        "colab": {
          "base_uri": "https://localhost:8080/",
          "height": 68
        },
        "outputId": "c2a4f3a1-af75-4c6f-b716-01f80a7ea3af"
      },
      "source": [
        "print(df['track_name'][0])\n",
        "print(df['track_name'][137871])\n",
        "print(df['track_name'][190202])"
      ],
      "execution_count": 47,
      "outputs": [
        {
          "output_type": "stream",
          "text": [
            "C'est beau de faire un Show\n",
            "Push Push\n",
            "Los Angeles Is Burning\n"
          ],
          "name": "stdout"
        }
      ]
    },
    {
      "cell_type": "code",
      "metadata": {
        "id": "JlBaRAtpiI_C",
        "colab_type": "code",
        "colab": {
          "base_uri": "https://localhost:8080/",
          "height": 213
        },
        "outputId": "18bdf46d-f707-409a-bece-8515c146ac43"
      },
      "source": [
        "df.iloc[[0,48095,38564]]\n"
      ],
      "execution_count": null,
      "outputs": [
        {
          "output_type": "execute_result",
          "data": {
            "text/html": [
              "<div>\n",
              "<style scoped>\n",
              "    .dataframe tbody tr th:only-of-type {\n",
              "        vertical-align: middle;\n",
              "    }\n",
              "\n",
              "    .dataframe tbody tr th {\n",
              "        vertical-align: top;\n",
              "    }\n",
              "\n",
              "    .dataframe thead th {\n",
              "        text-align: right;\n",
              "    }\n",
              "</style>\n",
              "<table border=\"1\" class=\"dataframe\">\n",
              "  <thead>\n",
              "    <tr style=\"text-align: right;\">\n",
              "      <th></th>\n",
              "      <th>genre</th>\n",
              "      <th>artist_name</th>\n",
              "      <th>track_name</th>\n",
              "      <th>track_id</th>\n",
              "      <th>popularity</th>\n",
              "      <th>acousticness</th>\n",
              "      <th>danceability</th>\n",
              "      <th>duration_ms</th>\n",
              "      <th>energy</th>\n",
              "      <th>instrumentalness</th>\n",
              "      <th>key</th>\n",
              "      <th>liveness</th>\n",
              "      <th>loudness</th>\n",
              "      <th>mode</th>\n",
              "      <th>speechiness</th>\n",
              "      <th>tempo</th>\n",
              "      <th>time_signature</th>\n",
              "      <th>valence</th>\n",
              "    </tr>\n",
              "  </thead>\n",
              "  <tbody>\n",
              "    <tr>\n",
              "      <th>0</th>\n",
              "      <td>Movie</td>\n",
              "      <td>Henri Salvador</td>\n",
              "      <td>C'est beau de faire un Show</td>\n",
              "      <td>0BRjO6ga9RKCKjfDqeFgWV</td>\n",
              "      <td>0</td>\n",
              "      <td>0.61100</td>\n",
              "      <td>0.389</td>\n",
              "      <td>99373</td>\n",
              "      <td>0.910</td>\n",
              "      <td>0.0000</td>\n",
              "      <td>C#</td>\n",
              "      <td>0.346</td>\n",
              "      <td>-1.828</td>\n",
              "      <td>Major</td>\n",
              "      <td>0.0525</td>\n",
              "      <td>166.969</td>\n",
              "      <td>4/4</td>\n",
              "      <td>0.814</td>\n",
              "    </tr>\n",
              "    <tr>\n",
              "      <th>48095</th>\n",
              "      <td>Blues</td>\n",
              "      <td>Shovels &amp; Rope</td>\n",
              "      <td>The Wire</td>\n",
              "      <td>6XYY2YLbbQ6oNaDTrk5DGU</td>\n",
              "      <td>41</td>\n",
              "      <td>0.00622</td>\n",
              "      <td>0.557</td>\n",
              "      <td>176890</td>\n",
              "      <td>0.554</td>\n",
              "      <td>0.0000</td>\n",
              "      <td>B</td>\n",
              "      <td>0.103</td>\n",
              "      <td>-6.506</td>\n",
              "      <td>Minor</td>\n",
              "      <td>0.0506</td>\n",
              "      <td>135.084</td>\n",
              "      <td>4/4</td>\n",
              "      <td>0.628</td>\n",
              "    </tr>\n",
              "    <tr>\n",
              "      <th>38564</th>\n",
              "      <td>Electronic</td>\n",
              "      <td>Moksi</td>\n",
              "      <td>Dream</td>\n",
              "      <td>2h4EfdqxQsoCEL7eKIdUGz</td>\n",
              "      <td>31</td>\n",
              "      <td>0.02050</td>\n",
              "      <td>0.829</td>\n",
              "      <td>170887</td>\n",
              "      <td>0.769</td>\n",
              "      <td>0.0663</td>\n",
              "      <td>B</td>\n",
              "      <td>0.152</td>\n",
              "      <td>-7.388</td>\n",
              "      <td>Major</td>\n",
              "      <td>0.0702</td>\n",
              "      <td>123.984</td>\n",
              "      <td>4/4</td>\n",
              "      <td>0.523</td>\n",
              "    </tr>\n",
              "  </tbody>\n",
              "</table>\n",
              "</div>"
            ],
            "text/plain": [
              "            genre     artist_name  ... time_signature valence\n",
              "0           Movie  Henri Salvador  ...            4/4   0.814\n",
              "48095       Blues  Shovels & Rope  ...            4/4   0.628\n",
              "38564  Electronic           Moksi  ...            4/4   0.523\n",
              "\n",
              "[3 rows x 18 columns]"
            ]
          },
          "metadata": {
            "tags": []
          },
          "execution_count": 57
        }
      ]
    },
    {
      "cell_type": "code",
      "metadata": {
        "id": "-ygt5fPVnhT-",
        "colab_type": "code",
        "colab": {}
      },
      "source": [
        "df_T = df_scaled.T"
      ],
      "execution_count": null,
      "outputs": []
    },
    {
      "cell_type": "code",
      "metadata": {
        "id": "n65EB0ObnGip",
        "colab_type": "code",
        "colab": {
          "base_uri": "https://localhost:8080/",
          "height": 542
        },
        "outputId": "4c2e12ee-6daa-46e1-d19c-62fa1b742376"
      },
      "source": [
        "import plotly.express as px\n",
        "\n",
        "fig = px.bar_polar(df_T, r = 0,hover_name=headers)\n",
        "fig.show()"
      ],
      "execution_count": null,
      "outputs": [
        {
          "output_type": "display_data",
          "data": {
            "text/html": [
              "<html>\n",
              "<head><meta charset=\"utf-8\" /></head>\n",
              "<body>\n",
              "    <div>\n",
              "            <script src=\"https://cdnjs.cloudflare.com/ajax/libs/mathjax/2.7.5/MathJax.js?config=TeX-AMS-MML_SVG\"></script><script type=\"text/javascript\">if (window.MathJax) {MathJax.Hub.Config({SVG: {font: \"STIX-Web\"}});}</script>\n",
              "                <script type=\"text/javascript\">window.PlotlyConfig = {MathJaxConfig: 'local'};</script>\n",
              "        <script src=\"https://cdn.plot.ly/plotly-latest.min.js\"></script>    \n",
              "            <div id=\"290ae3cd-54da-4baa-a3df-0257b60b9d08\" class=\"plotly-graph-div\" style=\"height:525px; width:100%;\"></div>\n",
              "            <script type=\"text/javascript\">\n",
              "                \n",
              "                    window.PLOTLYENV=window.PLOTLYENV || {};\n",
              "                    \n",
              "                if (document.getElementById(\"290ae3cd-54da-4baa-a3df-0257b60b9d08\")) {\n",
              "                    Plotly.newPlot(\n",
              "                        '290ae3cd-54da-4baa-a3df-0257b60b9d08',\n",
              "                        [{\"hoverlabel\": {\"namelength\": 0}, \"hovertemplate\": \"<b>%{hovertext}</b><br><br>0=%{r}\", \"hovertext\": [\"popularity\", \"acousticness\", \"danceability\", \"duration_ms\", \"energy\", \"instrumentalness\", \"liveness\", \"loudness\", \"speechiness\", \"tempo\", \"valence\"], \"legendgroup\": \"\", \"marker\": {\"color\": \"#636efa\"}, \"name\": \"\", \"r\": [0.0, 0.6134538152610441, 0.356292243321532, 0.015166689841860903, 0.9109091005552965, 0.0, 0.33961406803792676, 0.9008558566573549, 0.03207027942421676, 0.6427038828555834, 0.8140000000000001], \"showlegend\": false, \"subplot\": \"polar\", \"type\": \"barpolar\"}],\n",
              "                        {\"barmode\": \"relative\", \"legend\": {\"tracegroupgap\": 0}, \"margin\": {\"t\": 60}, \"polar\": {\"angularaxis\": {\"direction\": \"clockwise\", \"rotation\": 90}, \"domain\": {\"x\": [0.0, 1.0], \"y\": [0.0, 1.0]}}, \"template\": {\"data\": {\"bar\": [{\"error_x\": {\"color\": \"#2a3f5f\"}, \"error_y\": {\"color\": \"#2a3f5f\"}, \"marker\": {\"line\": {\"color\": \"#E5ECF6\", \"width\": 0.5}}, \"type\": \"bar\"}], \"barpolar\": [{\"marker\": {\"line\": {\"color\": \"#E5ECF6\", \"width\": 0.5}}, \"type\": \"barpolar\"}], \"carpet\": [{\"aaxis\": {\"endlinecolor\": \"#2a3f5f\", \"gridcolor\": \"white\", \"linecolor\": \"white\", \"minorgridcolor\": \"white\", \"startlinecolor\": \"#2a3f5f\"}, \"baxis\": {\"endlinecolor\": \"#2a3f5f\", \"gridcolor\": \"white\", \"linecolor\": \"white\", \"minorgridcolor\": \"white\", \"startlinecolor\": \"#2a3f5f\"}, \"type\": \"carpet\"}], \"choropleth\": [{\"colorbar\": {\"outlinewidth\": 0, \"ticks\": \"\"}, \"type\": \"choropleth\"}], \"contour\": [{\"colorbar\": {\"outlinewidth\": 0, \"ticks\": \"\"}, \"colorscale\": [[0.0, \"#0d0887\"], [0.1111111111111111, \"#46039f\"], [0.2222222222222222, \"#7201a8\"], [0.3333333333333333, \"#9c179e\"], [0.4444444444444444, \"#bd3786\"], [0.5555555555555556, \"#d8576b\"], [0.6666666666666666, \"#ed7953\"], [0.7777777777777778, \"#fb9f3a\"], [0.8888888888888888, \"#fdca26\"], [1.0, \"#f0f921\"]], \"type\": \"contour\"}], \"contourcarpet\": [{\"colorbar\": {\"outlinewidth\": 0, \"ticks\": \"\"}, \"type\": \"contourcarpet\"}], \"heatmap\": [{\"colorbar\": {\"outlinewidth\": 0, \"ticks\": \"\"}, \"colorscale\": [[0.0, \"#0d0887\"], [0.1111111111111111, \"#46039f\"], [0.2222222222222222, \"#7201a8\"], [0.3333333333333333, \"#9c179e\"], [0.4444444444444444, \"#bd3786\"], [0.5555555555555556, \"#d8576b\"], [0.6666666666666666, \"#ed7953\"], [0.7777777777777778, \"#fb9f3a\"], [0.8888888888888888, \"#fdca26\"], [1.0, \"#f0f921\"]], \"type\": \"heatmap\"}], \"heatmapgl\": [{\"colorbar\": {\"outlinewidth\": 0, \"ticks\": \"\"}, \"colorscale\": [[0.0, \"#0d0887\"], [0.1111111111111111, \"#46039f\"], [0.2222222222222222, \"#7201a8\"], [0.3333333333333333, \"#9c179e\"], [0.4444444444444444, \"#bd3786\"], [0.5555555555555556, \"#d8576b\"], [0.6666666666666666, \"#ed7953\"], [0.7777777777777778, \"#fb9f3a\"], [0.8888888888888888, \"#fdca26\"], [1.0, \"#f0f921\"]], \"type\": \"heatmapgl\"}], \"histogram\": [{\"marker\": {\"colorbar\": {\"outlinewidth\": 0, \"ticks\": \"\"}}, \"type\": \"histogram\"}], \"histogram2d\": [{\"colorbar\": {\"outlinewidth\": 0, \"ticks\": \"\"}, \"colorscale\": [[0.0, \"#0d0887\"], [0.1111111111111111, \"#46039f\"], [0.2222222222222222, \"#7201a8\"], [0.3333333333333333, \"#9c179e\"], [0.4444444444444444, \"#bd3786\"], [0.5555555555555556, \"#d8576b\"], [0.6666666666666666, \"#ed7953\"], [0.7777777777777778, \"#fb9f3a\"], [0.8888888888888888, \"#fdca26\"], [1.0, \"#f0f921\"]], \"type\": \"histogram2d\"}], \"histogram2dcontour\": [{\"colorbar\": {\"outlinewidth\": 0, \"ticks\": \"\"}, \"colorscale\": [[0.0, \"#0d0887\"], [0.1111111111111111, \"#46039f\"], [0.2222222222222222, \"#7201a8\"], [0.3333333333333333, \"#9c179e\"], [0.4444444444444444, \"#bd3786\"], [0.5555555555555556, \"#d8576b\"], [0.6666666666666666, \"#ed7953\"], [0.7777777777777778, \"#fb9f3a\"], [0.8888888888888888, \"#fdca26\"], [1.0, \"#f0f921\"]], \"type\": \"histogram2dcontour\"}], \"mesh3d\": [{\"colorbar\": {\"outlinewidth\": 0, \"ticks\": \"\"}, \"type\": \"mesh3d\"}], \"parcoords\": [{\"line\": {\"colorbar\": {\"outlinewidth\": 0, \"ticks\": \"\"}}, \"type\": \"parcoords\"}], \"pie\": [{\"automargin\": true, \"type\": \"pie\"}], \"scatter\": [{\"marker\": {\"colorbar\": {\"outlinewidth\": 0, \"ticks\": \"\"}}, \"type\": \"scatter\"}], \"scatter3d\": [{\"line\": {\"colorbar\": {\"outlinewidth\": 0, \"ticks\": \"\"}}, \"marker\": {\"colorbar\": {\"outlinewidth\": 0, \"ticks\": \"\"}}, \"type\": \"scatter3d\"}], \"scattercarpet\": [{\"marker\": {\"colorbar\": {\"outlinewidth\": 0, \"ticks\": \"\"}}, \"type\": \"scattercarpet\"}], \"scattergeo\": [{\"marker\": {\"colorbar\": {\"outlinewidth\": 0, \"ticks\": \"\"}}, \"type\": \"scattergeo\"}], \"scattergl\": [{\"marker\": {\"colorbar\": {\"outlinewidth\": 0, \"ticks\": \"\"}}, \"type\": \"scattergl\"}], \"scattermapbox\": [{\"marker\": {\"colorbar\": {\"outlinewidth\": 0, \"ticks\": \"\"}}, \"type\": \"scattermapbox\"}], \"scatterpolar\": [{\"marker\": {\"colorbar\": {\"outlinewidth\": 0, \"ticks\": \"\"}}, \"type\": \"scatterpolar\"}], \"scatterpolargl\": [{\"marker\": {\"colorbar\": {\"outlinewidth\": 0, \"ticks\": \"\"}}, \"type\": \"scatterpolargl\"}], \"scatterternary\": [{\"marker\": {\"colorbar\": {\"outlinewidth\": 0, \"ticks\": \"\"}}, \"type\": \"scatterternary\"}], \"surface\": [{\"colorbar\": {\"outlinewidth\": 0, \"ticks\": \"\"}, \"colorscale\": [[0.0, \"#0d0887\"], [0.1111111111111111, \"#46039f\"], [0.2222222222222222, \"#7201a8\"], [0.3333333333333333, \"#9c179e\"], [0.4444444444444444, \"#bd3786\"], [0.5555555555555556, \"#d8576b\"], [0.6666666666666666, \"#ed7953\"], [0.7777777777777778, \"#fb9f3a\"], [0.8888888888888888, \"#fdca26\"], [1.0, \"#f0f921\"]], \"type\": \"surface\"}], \"table\": [{\"cells\": {\"fill\": {\"color\": \"#EBF0F8\"}, \"line\": {\"color\": \"white\"}}, \"header\": {\"fill\": {\"color\": \"#C8D4E3\"}, \"line\": {\"color\": \"white\"}}, \"type\": \"table\"}]}, \"layout\": {\"annotationdefaults\": {\"arrowcolor\": \"#2a3f5f\", \"arrowhead\": 0, \"arrowwidth\": 1}, \"coloraxis\": {\"colorbar\": {\"outlinewidth\": 0, \"ticks\": \"\"}}, \"colorscale\": {\"diverging\": [[0, \"#8e0152\"], [0.1, \"#c51b7d\"], [0.2, \"#de77ae\"], [0.3, \"#f1b6da\"], [0.4, \"#fde0ef\"], [0.5, \"#f7f7f7\"], [0.6, \"#e6f5d0\"], [0.7, \"#b8e186\"], [0.8, \"#7fbc41\"], [0.9, \"#4d9221\"], [1, \"#276419\"]], \"sequential\": [[0.0, \"#0d0887\"], [0.1111111111111111, \"#46039f\"], [0.2222222222222222, \"#7201a8\"], [0.3333333333333333, \"#9c179e\"], [0.4444444444444444, \"#bd3786\"], [0.5555555555555556, \"#d8576b\"], [0.6666666666666666, \"#ed7953\"], [0.7777777777777778, \"#fb9f3a\"], [0.8888888888888888, \"#fdca26\"], [1.0, \"#f0f921\"]], \"sequentialminus\": [[0.0, \"#0d0887\"], [0.1111111111111111, \"#46039f\"], [0.2222222222222222, \"#7201a8\"], [0.3333333333333333, \"#9c179e\"], [0.4444444444444444, \"#bd3786\"], [0.5555555555555556, \"#d8576b\"], [0.6666666666666666, \"#ed7953\"], [0.7777777777777778, \"#fb9f3a\"], [0.8888888888888888, \"#fdca26\"], [1.0, \"#f0f921\"]]}, \"colorway\": [\"#636efa\", \"#EF553B\", \"#00cc96\", \"#ab63fa\", \"#FFA15A\", \"#19d3f3\", \"#FF6692\", \"#B6E880\", \"#FF97FF\", \"#FECB52\"], \"font\": {\"color\": \"#2a3f5f\"}, \"geo\": {\"bgcolor\": \"white\", \"lakecolor\": \"white\", \"landcolor\": \"#E5ECF6\", \"showlakes\": true, \"showland\": true, \"subunitcolor\": \"white\"}, \"hoverlabel\": {\"align\": \"left\"}, \"hovermode\": \"closest\", \"mapbox\": {\"style\": \"light\"}, \"paper_bgcolor\": \"white\", \"plot_bgcolor\": \"#E5ECF6\", \"polar\": {\"angularaxis\": {\"gridcolor\": \"white\", \"linecolor\": \"white\", \"ticks\": \"\"}, \"bgcolor\": \"#E5ECF6\", \"radialaxis\": {\"gridcolor\": \"white\", \"linecolor\": \"white\", \"ticks\": \"\"}}, \"scene\": {\"xaxis\": {\"backgroundcolor\": \"#E5ECF6\", \"gridcolor\": \"white\", \"gridwidth\": 2, \"linecolor\": \"white\", \"showbackground\": true, \"ticks\": \"\", \"zerolinecolor\": \"white\"}, \"yaxis\": {\"backgroundcolor\": \"#E5ECF6\", \"gridcolor\": \"white\", \"gridwidth\": 2, \"linecolor\": \"white\", \"showbackground\": true, \"ticks\": \"\", \"zerolinecolor\": \"white\"}, \"zaxis\": {\"backgroundcolor\": \"#E5ECF6\", \"gridcolor\": \"white\", \"gridwidth\": 2, \"linecolor\": \"white\", \"showbackground\": true, \"ticks\": \"\", \"zerolinecolor\": \"white\"}}, \"shapedefaults\": {\"line\": {\"color\": \"#2a3f5f\"}}, \"ternary\": {\"aaxis\": {\"gridcolor\": \"white\", \"linecolor\": \"white\", \"ticks\": \"\"}, \"baxis\": {\"gridcolor\": \"white\", \"linecolor\": \"white\", \"ticks\": \"\"}, \"bgcolor\": \"#E5ECF6\", \"caxis\": {\"gridcolor\": \"white\", \"linecolor\": \"white\", \"ticks\": \"\"}}, \"title\": {\"x\": 0.05}, \"xaxis\": {\"automargin\": true, \"gridcolor\": \"white\", \"linecolor\": \"white\", \"ticks\": \"\", \"title\": {\"standoff\": 15}, \"zerolinecolor\": \"white\", \"zerolinewidth\": 2}, \"yaxis\": {\"automargin\": true, \"gridcolor\": \"white\", \"linecolor\": \"white\", \"ticks\": \"\", \"title\": {\"standoff\": 15}, \"zerolinecolor\": \"white\", \"zerolinewidth\": 2}}}},\n",
              "                        {\"responsive\": true}\n",
              "                    ).then(function(){\n",
              "                            \n",
              "var gd = document.getElementById('290ae3cd-54da-4baa-a3df-0257b60b9d08');\n",
              "var x = new MutationObserver(function (mutations, observer) {{\n",
              "        var display = window.getComputedStyle(gd).display;\n",
              "        if (!display || display === 'none') {{\n",
              "            console.log([gd, 'removed!']);\n",
              "            Plotly.purge(gd);\n",
              "            observer.disconnect();\n",
              "        }}\n",
              "}});\n",
              "\n",
              "// Listen for the removal of the full notebook cells\n",
              "var notebookContainer = gd.closest('#notebook-container');\n",
              "if (notebookContainer) {{\n",
              "    x.observe(notebookContainer, {childList: true});\n",
              "}}\n",
              "\n",
              "// Listen for the clearing of the current output cell\n",
              "var outputEl = gd.closest('.output');\n",
              "if (outputEl) {{\n",
              "    x.observe(outputEl, {childList: true});\n",
              "}}\n",
              "\n",
              "                        })\n",
              "                };\n",
              "                \n",
              "            </script>\n",
              "        </div>\n",
              "</body>\n",
              "</html>"
            ]
          },
          "metadata": {
            "tags": []
          }
        }
      ]
    },
    {
      "cell_type": "code",
      "metadata": {
        "id": "_RXo4CCJosM0",
        "colab_type": "code",
        "colab": {
          "base_uri": "https://localhost:8080/",
          "height": 542
        },
        "outputId": "f4b587ef-6de2-49d7-c22e-b97dde263105"
      },
      "source": [
        "fig = px.bar_polar(df_T, r = 48095, hover_name=headers)\n",
        "fig.show()"
      ],
      "execution_count": null,
      "outputs": [
        {
          "output_type": "display_data",
          "data": {
            "text/html": [
              "<html>\n",
              "<head><meta charset=\"utf-8\" /></head>\n",
              "<body>\n",
              "    <div>\n",
              "            <script src=\"https://cdnjs.cloudflare.com/ajax/libs/mathjax/2.7.5/MathJax.js?config=TeX-AMS-MML_SVG\"></script><script type=\"text/javascript\">if (window.MathJax) {MathJax.Hub.Config({SVG: {font: \"STIX-Web\"}});}</script>\n",
              "                <script type=\"text/javascript\">window.PlotlyConfig = {MathJaxConfig: 'local'};</script>\n",
              "        <script src=\"https://cdn.plot.ly/plotly-latest.min.js\"></script>    \n",
              "            <div id=\"27f886a3-abc6-40a8-972b-4684132eded5\" class=\"plotly-graph-div\" style=\"height:525px; width:100%;\"></div>\n",
              "            <script type=\"text/javascript\">\n",
              "                \n",
              "                    window.PLOTLYENV=window.PLOTLYENV || {};\n",
              "                    \n",
              "                if (document.getElementById(\"27f886a3-abc6-40a8-972b-4684132eded5\")) {\n",
              "                    Plotly.newPlot(\n",
              "                        '27f886a3-abc6-40a8-972b-4684132eded5',\n",
              "                        [{\"hoverlabel\": {\"namelength\": 0}, \"hovertemplate\": \"<b>%{hovertext}</b><br><br>48095=%{r}\", \"hovertext\": [\"popularity\", \"acousticness\", \"danceability\", \"duration_ms\", \"energy\", \"instrumentalness\", \"liveness\", \"loudness\", \"speechiness\", \"tempo\", \"valence\"], \"legendgroup\": \"\", \"marker\": {\"color\": \"#636efa\"}, \"name\": \"\", \"r\": [0.41000000000000003, 0.0062449799196787155, 0.536530415191503, 0.02916516930833783, 0.5545455027764827, 0.0, 0.09424131350156008, 0.8176189035782282, 0.030059271803556303, 0.49267376860966294, 0.628], \"showlegend\": false, \"subplot\": \"polar\", \"type\": \"barpolar\"}],\n",
              "                        {\"barmode\": \"relative\", \"legend\": {\"tracegroupgap\": 0}, \"margin\": {\"t\": 60}, \"polar\": {\"angularaxis\": {\"direction\": \"clockwise\", \"rotation\": 90}, \"domain\": {\"x\": [0.0, 1.0], \"y\": [0.0, 1.0]}}, \"template\": {\"data\": {\"bar\": [{\"error_x\": {\"color\": \"#2a3f5f\"}, \"error_y\": {\"color\": \"#2a3f5f\"}, \"marker\": {\"line\": {\"color\": \"#E5ECF6\", \"width\": 0.5}}, \"type\": \"bar\"}], \"barpolar\": [{\"marker\": {\"line\": {\"color\": \"#E5ECF6\", \"width\": 0.5}}, \"type\": \"barpolar\"}], \"carpet\": [{\"aaxis\": {\"endlinecolor\": \"#2a3f5f\", \"gridcolor\": \"white\", \"linecolor\": \"white\", \"minorgridcolor\": \"white\", \"startlinecolor\": \"#2a3f5f\"}, \"baxis\": {\"endlinecolor\": \"#2a3f5f\", \"gridcolor\": \"white\", \"linecolor\": \"white\", \"minorgridcolor\": \"white\", \"startlinecolor\": \"#2a3f5f\"}, \"type\": \"carpet\"}], \"choropleth\": [{\"colorbar\": {\"outlinewidth\": 0, \"ticks\": \"\"}, \"type\": \"choropleth\"}], \"contour\": [{\"colorbar\": {\"outlinewidth\": 0, \"ticks\": \"\"}, \"colorscale\": [[0.0, \"#0d0887\"], [0.1111111111111111, \"#46039f\"], [0.2222222222222222, \"#7201a8\"], [0.3333333333333333, \"#9c179e\"], [0.4444444444444444, \"#bd3786\"], [0.5555555555555556, \"#d8576b\"], [0.6666666666666666, \"#ed7953\"], [0.7777777777777778, \"#fb9f3a\"], [0.8888888888888888, \"#fdca26\"], [1.0, \"#f0f921\"]], \"type\": \"contour\"}], \"contourcarpet\": [{\"colorbar\": {\"outlinewidth\": 0, \"ticks\": \"\"}, \"type\": \"contourcarpet\"}], \"heatmap\": [{\"colorbar\": {\"outlinewidth\": 0, \"ticks\": \"\"}, \"colorscale\": [[0.0, \"#0d0887\"], [0.1111111111111111, \"#46039f\"], [0.2222222222222222, \"#7201a8\"], [0.3333333333333333, \"#9c179e\"], [0.4444444444444444, \"#bd3786\"], [0.5555555555555556, \"#d8576b\"], [0.6666666666666666, \"#ed7953\"], [0.7777777777777778, \"#fb9f3a\"], [0.8888888888888888, \"#fdca26\"], [1.0, \"#f0f921\"]], \"type\": \"heatmap\"}], \"heatmapgl\": [{\"colorbar\": {\"outlinewidth\": 0, \"ticks\": \"\"}, \"colorscale\": [[0.0, \"#0d0887\"], [0.1111111111111111, \"#46039f\"], [0.2222222222222222, \"#7201a8\"], [0.3333333333333333, \"#9c179e\"], [0.4444444444444444, \"#bd3786\"], [0.5555555555555556, \"#d8576b\"], [0.6666666666666666, \"#ed7953\"], [0.7777777777777778, \"#fb9f3a\"], [0.8888888888888888, \"#fdca26\"], [1.0, \"#f0f921\"]], \"type\": \"heatmapgl\"}], \"histogram\": [{\"marker\": {\"colorbar\": {\"outlinewidth\": 0, \"ticks\": \"\"}}, \"type\": \"histogram\"}], \"histogram2d\": [{\"colorbar\": {\"outlinewidth\": 0, \"ticks\": \"\"}, \"colorscale\": [[0.0, \"#0d0887\"], [0.1111111111111111, \"#46039f\"], [0.2222222222222222, \"#7201a8\"], [0.3333333333333333, \"#9c179e\"], [0.4444444444444444, \"#bd3786\"], [0.5555555555555556, \"#d8576b\"], [0.6666666666666666, \"#ed7953\"], [0.7777777777777778, \"#fb9f3a\"], [0.8888888888888888, \"#fdca26\"], [1.0, \"#f0f921\"]], \"type\": \"histogram2d\"}], \"histogram2dcontour\": [{\"colorbar\": {\"outlinewidth\": 0, \"ticks\": \"\"}, \"colorscale\": [[0.0, \"#0d0887\"], [0.1111111111111111, \"#46039f\"], [0.2222222222222222, \"#7201a8\"], [0.3333333333333333, \"#9c179e\"], [0.4444444444444444, \"#bd3786\"], [0.5555555555555556, \"#d8576b\"], [0.6666666666666666, \"#ed7953\"], [0.7777777777777778, \"#fb9f3a\"], [0.8888888888888888, \"#fdca26\"], [1.0, \"#f0f921\"]], \"type\": \"histogram2dcontour\"}], \"mesh3d\": [{\"colorbar\": {\"outlinewidth\": 0, \"ticks\": \"\"}, \"type\": \"mesh3d\"}], \"parcoords\": [{\"line\": {\"colorbar\": {\"outlinewidth\": 0, \"ticks\": \"\"}}, \"type\": \"parcoords\"}], \"pie\": [{\"automargin\": true, \"type\": \"pie\"}], \"scatter\": [{\"marker\": {\"colorbar\": {\"outlinewidth\": 0, \"ticks\": \"\"}}, \"type\": \"scatter\"}], \"scatter3d\": [{\"line\": {\"colorbar\": {\"outlinewidth\": 0, \"ticks\": \"\"}}, \"marker\": {\"colorbar\": {\"outlinewidth\": 0, \"ticks\": \"\"}}, \"type\": \"scatter3d\"}], \"scattercarpet\": [{\"marker\": {\"colorbar\": {\"outlinewidth\": 0, \"ticks\": \"\"}}, \"type\": \"scattercarpet\"}], \"scattergeo\": [{\"marker\": {\"colorbar\": {\"outlinewidth\": 0, \"ticks\": \"\"}}, \"type\": \"scattergeo\"}], \"scattergl\": [{\"marker\": {\"colorbar\": {\"outlinewidth\": 0, \"ticks\": \"\"}}, \"type\": \"scattergl\"}], \"scattermapbox\": [{\"marker\": {\"colorbar\": {\"outlinewidth\": 0, \"ticks\": \"\"}}, \"type\": \"scattermapbox\"}], \"scatterpolar\": [{\"marker\": {\"colorbar\": {\"outlinewidth\": 0, \"ticks\": \"\"}}, \"type\": \"scatterpolar\"}], \"scatterpolargl\": [{\"marker\": {\"colorbar\": {\"outlinewidth\": 0, \"ticks\": \"\"}}, \"type\": \"scatterpolargl\"}], \"scatterternary\": [{\"marker\": {\"colorbar\": {\"outlinewidth\": 0, \"ticks\": \"\"}}, \"type\": \"scatterternary\"}], \"surface\": [{\"colorbar\": {\"outlinewidth\": 0, \"ticks\": \"\"}, \"colorscale\": [[0.0, \"#0d0887\"], [0.1111111111111111, \"#46039f\"], [0.2222222222222222, \"#7201a8\"], [0.3333333333333333, \"#9c179e\"], [0.4444444444444444, \"#bd3786\"], [0.5555555555555556, \"#d8576b\"], [0.6666666666666666, \"#ed7953\"], [0.7777777777777778, \"#fb9f3a\"], [0.8888888888888888, \"#fdca26\"], [1.0, \"#f0f921\"]], \"type\": \"surface\"}], \"table\": [{\"cells\": {\"fill\": {\"color\": \"#EBF0F8\"}, \"line\": {\"color\": \"white\"}}, \"header\": {\"fill\": {\"color\": \"#C8D4E3\"}, \"line\": {\"color\": \"white\"}}, \"type\": \"table\"}]}, \"layout\": {\"annotationdefaults\": {\"arrowcolor\": \"#2a3f5f\", \"arrowhead\": 0, \"arrowwidth\": 1}, \"coloraxis\": {\"colorbar\": {\"outlinewidth\": 0, \"ticks\": \"\"}}, \"colorscale\": {\"diverging\": [[0, \"#8e0152\"], [0.1, \"#c51b7d\"], [0.2, \"#de77ae\"], [0.3, \"#f1b6da\"], [0.4, \"#fde0ef\"], [0.5, \"#f7f7f7\"], [0.6, \"#e6f5d0\"], [0.7, \"#b8e186\"], [0.8, \"#7fbc41\"], [0.9, \"#4d9221\"], [1, \"#276419\"]], \"sequential\": [[0.0, \"#0d0887\"], [0.1111111111111111, \"#46039f\"], [0.2222222222222222, \"#7201a8\"], [0.3333333333333333, \"#9c179e\"], [0.4444444444444444, \"#bd3786\"], [0.5555555555555556, \"#d8576b\"], [0.6666666666666666, \"#ed7953\"], [0.7777777777777778, \"#fb9f3a\"], [0.8888888888888888, \"#fdca26\"], [1.0, \"#f0f921\"]], \"sequentialminus\": [[0.0, \"#0d0887\"], [0.1111111111111111, \"#46039f\"], [0.2222222222222222, \"#7201a8\"], [0.3333333333333333, \"#9c179e\"], [0.4444444444444444, \"#bd3786\"], [0.5555555555555556, \"#d8576b\"], [0.6666666666666666, \"#ed7953\"], [0.7777777777777778, \"#fb9f3a\"], [0.8888888888888888, \"#fdca26\"], [1.0, \"#f0f921\"]]}, \"colorway\": [\"#636efa\", \"#EF553B\", \"#00cc96\", \"#ab63fa\", \"#FFA15A\", \"#19d3f3\", \"#FF6692\", \"#B6E880\", \"#FF97FF\", \"#FECB52\"], \"font\": {\"color\": \"#2a3f5f\"}, \"geo\": {\"bgcolor\": \"white\", \"lakecolor\": \"white\", \"landcolor\": \"#E5ECF6\", \"showlakes\": true, \"showland\": true, \"subunitcolor\": \"white\"}, \"hoverlabel\": {\"align\": \"left\"}, \"hovermode\": \"closest\", \"mapbox\": {\"style\": \"light\"}, \"paper_bgcolor\": \"white\", \"plot_bgcolor\": \"#E5ECF6\", \"polar\": {\"angularaxis\": {\"gridcolor\": \"white\", \"linecolor\": \"white\", \"ticks\": \"\"}, \"bgcolor\": \"#E5ECF6\", \"radialaxis\": {\"gridcolor\": \"white\", \"linecolor\": \"white\", \"ticks\": \"\"}}, \"scene\": {\"xaxis\": {\"backgroundcolor\": \"#E5ECF6\", \"gridcolor\": \"white\", \"gridwidth\": 2, \"linecolor\": \"white\", \"showbackground\": true, \"ticks\": \"\", \"zerolinecolor\": \"white\"}, \"yaxis\": {\"backgroundcolor\": \"#E5ECF6\", \"gridcolor\": \"white\", \"gridwidth\": 2, \"linecolor\": \"white\", \"showbackground\": true, \"ticks\": \"\", \"zerolinecolor\": \"white\"}, \"zaxis\": {\"backgroundcolor\": \"#E5ECF6\", \"gridcolor\": \"white\", \"gridwidth\": 2, \"linecolor\": \"white\", \"showbackground\": true, \"ticks\": \"\", \"zerolinecolor\": \"white\"}}, \"shapedefaults\": {\"line\": {\"color\": \"#2a3f5f\"}}, \"ternary\": {\"aaxis\": {\"gridcolor\": \"white\", \"linecolor\": \"white\", \"ticks\": \"\"}, \"baxis\": {\"gridcolor\": \"white\", \"linecolor\": \"white\", \"ticks\": \"\"}, \"bgcolor\": \"#E5ECF6\", \"caxis\": {\"gridcolor\": \"white\", \"linecolor\": \"white\", \"ticks\": \"\"}}, \"title\": {\"x\": 0.05}, \"xaxis\": {\"automargin\": true, \"gridcolor\": \"white\", \"linecolor\": \"white\", \"ticks\": \"\", \"title\": {\"standoff\": 15}, \"zerolinecolor\": \"white\", \"zerolinewidth\": 2}, \"yaxis\": {\"automargin\": true, \"gridcolor\": \"white\", \"linecolor\": \"white\", \"ticks\": \"\", \"title\": {\"standoff\": 15}, \"zerolinecolor\": \"white\", \"zerolinewidth\": 2}}}},\n",
              "                        {\"responsive\": true}\n",
              "                    ).then(function(){\n",
              "                            \n",
              "var gd = document.getElementById('27f886a3-abc6-40a8-972b-4684132eded5');\n",
              "var x = new MutationObserver(function (mutations, observer) {{\n",
              "        var display = window.getComputedStyle(gd).display;\n",
              "        if (!display || display === 'none') {{\n",
              "            console.log([gd, 'removed!']);\n",
              "            Plotly.purge(gd);\n",
              "            observer.disconnect();\n",
              "        }}\n",
              "}});\n",
              "\n",
              "// Listen for the removal of the full notebook cells\n",
              "var notebookContainer = gd.closest('#notebook-container');\n",
              "if (notebookContainer) {{\n",
              "    x.observe(notebookContainer, {childList: true});\n",
              "}}\n",
              "\n",
              "// Listen for the clearing of the current output cell\n",
              "var outputEl = gd.closest('.output');\n",
              "if (outputEl) {{\n",
              "    x.observe(outputEl, {childList: true});\n",
              "}}\n",
              "\n",
              "                        })\n",
              "                };\n",
              "                \n",
              "            </script>\n",
              "        </div>\n",
              "</body>\n",
              "</html>"
            ]
          },
          "metadata": {
            "tags": []
          }
        }
      ]
    },
    {
      "cell_type": "markdown",
      "metadata": {
        "id": "4sstmnhVCjSs",
        "colab_type": "text"
      },
      "source": [
        "## Build a Function for DS Unit 3 to use"
      ]
    },
    {
      "cell_type": "code",
      "metadata": {
        "id": "vPI2Ucr8UxNi",
        "colab_type": "code",
        "colab": {
          "base_uri": "https://localhost:8080/",
          "height": 117
        },
        "outputId": "b401f851-0694-44d7-b024-fa1b8d219c54"
      },
      "source": [
        "df.iloc[[13918]]"
      ],
      "execution_count": 54,
      "outputs": [
        {
          "output_type": "execute_result",
          "data": {
            "text/html": [
              "<div>\n",
              "<style scoped>\n",
              "    .dataframe tbody tr th:only-of-type {\n",
              "        vertical-align: middle;\n",
              "    }\n",
              "\n",
              "    .dataframe tbody tr th {\n",
              "        vertical-align: top;\n",
              "    }\n",
              "\n",
              "    .dataframe thead th {\n",
              "        text-align: right;\n",
              "    }\n",
              "</style>\n",
              "<table border=\"1\" class=\"dataframe\">\n",
              "  <thead>\n",
              "    <tr style=\"text-align: right;\">\n",
              "      <th></th>\n",
              "      <th>genre</th>\n",
              "      <th>artist_name</th>\n",
              "      <th>track_name</th>\n",
              "      <th>track_id</th>\n",
              "      <th>popularity</th>\n",
              "      <th>acousticness</th>\n",
              "      <th>danceability</th>\n",
              "      <th>duration_ms</th>\n",
              "      <th>energy</th>\n",
              "      <th>instrumentalness</th>\n",
              "      <th>key</th>\n",
              "      <th>liveness</th>\n",
              "      <th>loudness</th>\n",
              "      <th>mode</th>\n",
              "      <th>speechiness</th>\n",
              "      <th>tempo</th>\n",
              "      <th>time_signature</th>\n",
              "      <th>valence</th>\n",
              "    </tr>\n",
              "  </thead>\n",
              "  <tbody>\n",
              "    <tr>\n",
              "      <th>13918</th>\n",
              "      <td>Dance</td>\n",
              "      <td>Britney Spears</td>\n",
              "      <td>Oops!...I Did It Again</td>\n",
              "      <td>6naxalmIoLFWR0siv8dnQQ</td>\n",
              "      <td>77</td>\n",
              "      <td>0.3</td>\n",
              "      <td>0.751</td>\n",
              "      <td>211160</td>\n",
              "      <td>0.834</td>\n",
              "      <td>0.000018</td>\n",
              "      <td>C#</td>\n",
              "      <td>0.355</td>\n",
              "      <td>-5.444</td>\n",
              "      <td>Minor</td>\n",
              "      <td>0.0437</td>\n",
              "      <td>95.053</td>\n",
              "      <td>4/4</td>\n",
              "      <td>0.894</td>\n",
              "    </tr>\n",
              "  </tbody>\n",
              "</table>\n",
              "</div>"
            ],
            "text/plain": [
              "       genre     artist_name  ... time_signature valence\n",
              "13918  Dance  Britney Spears  ...            4/4   0.894\n",
              "\n",
              "[1 rows x 18 columns]"
            ]
          },
          "metadata": {
            "tags": []
          },
          "execution_count": 54
        }
      ]
    },
    {
      "cell_type": "code",
      "metadata": {
        "id": "Ivv-LMfYEzii",
        "colab_type": "code",
        "colab": {}
      },
      "source": [
        "# test\n",
        "song_at = [[77,0.3,0.751,211160,0.834,0.000018,0.355,-5.444,0.0437,95.053,0.894]]"
      ],
      "execution_count": 55,
      "outputs": []
    },
    {
      "cell_type": "code",
      "metadata": {
        "id": "-iJigLGWMcH9",
        "colab_type": "code",
        "colab": {}
      },
      "source": [
        "### Read in the CSV ###\n",
        "database = pd.read_csv('encoded_data.csv')"
      ],
      "execution_count": 56,
      "outputs": []
    },
    {
      "cell_type": "code",
      "metadata": {
        "id": "YXdFyjTkDVyU",
        "colab_type": "code",
        "colab": {}
      },
      "source": [
        "def predict(song_attributes, database):\n",
        "  \"\"\"\n",
        "  Need to pass in a variable that is an array with the below song attributes \n",
        "  in order.\n",
        "  [[popularity, acousticness, danceability, duration_ms, energy, instrumentalness,\n",
        "  liveness, loudness, speechiness, tempo, valence]]\n",
        "  \"\"\"\n",
        "\n",
        "  import pandas as pd\n",
        "  import pickle\n",
        "\n",
        "  df =  pd.DataFrame(song_attributes)\n",
        "\n",
        "  ### Scale Input ###\n",
        "\n",
        "  # import the pickled scaler model\n",
        "  pickle_filename_1 = 'scaler_model.pkl'\n",
        "  scaler_pkl = open(pickle_filename_1, 'rb')\n",
        "  scaler = pickle.load(scaler_pkl) \n",
        "\n",
        "   # scale the input data\n",
        "  input_scaled = scaler.transform(df)\n",
        "\n",
        "  ### Encode Input ###\n",
        "\n",
        "  # Loading the pickled autoencoder model\n",
        "  pickle_filename = 'autoencoder_model.pkl'\n",
        "    \n",
        "  autoencoder_pkl = open(pickle_filename, 'rb')\n",
        "  autoencoder = pickle.load(autoencoder_pkl)\n",
        "  # encode the input data and set to variable\n",
        "  input_x_y = (autoencoder.predict(input_scaled)[0][0], \n",
        "               autoencoder.predict(input_scaled)[0][1])\n",
        "\n",
        "  ### Get distances ###\n",
        "  def get_e_dist(my_df):\n",
        "    from scipy.spatial import distance\n",
        "    return distance.euclidean(my_df[[0,1]], input_x_y)\n",
        "\n",
        "  database['e_distance'] = database.apply(get_e_dist, axis=1)\n",
        "\n",
        "  five_smallest = database[['e_distance','track_id']].nsmallest(5, columns='e_distance', keep='all')\n",
        "\n",
        "  five_closest = five_smallest['track_id']\n",
        "\n",
        "  return five_closest.to_json()"
      ],
      "execution_count": 57,
      "outputs": []
    },
    {
      "cell_type": "code",
      "metadata": {
        "id": "YtX25futFIbK",
        "colab_type": "code",
        "colab": {
          "base_uri": "https://localhost:8080/",
          "height": 34
        },
        "outputId": "4c12719e-80da-4b18-93b5-b175acaabc67"
      },
      "source": [
        "test = predict(song_at, database)\n",
        "test"
      ],
      "execution_count": 58,
      "outputs": [
        {
          "output_type": "execute_result",
          "data": {
            "text/plain": [
              "'{\"138797\":\"3SnBd9X2oZHfnimgC0gwdt\",\"188325\":\"3SnBd9X2oZHfnimgC0gwdt\",\"206042\":\"0q4WJ5eId3glendOvoGk5u\",\"64134\":\"33zGvjukiRoJgW6JWY0FMo\",\"49633\":\"33zGvjukiRoJgW6JWY0FMo\"}'"
            ]
          },
          "metadata": {
            "tags": []
          },
          "execution_count": 58
        }
      ]
    },
    {
      "cell_type": "code",
      "metadata": {
        "id": "EGnFR9bGV1De",
        "colab_type": "code",
        "colab": {
          "base_uri": "https://localhost:8080/",
          "height": 306
        },
        "outputId": "621edcfc-0791-4f10-af1a-08040f392f3c"
      },
      "source": [
        "df.iloc[[13918,138797,188325,206042,64134,49633]]"
      ],
      "execution_count": 59,
      "outputs": [
        {
          "output_type": "execute_result",
          "data": {
            "text/html": [
              "<div>\n",
              "<style scoped>\n",
              "    .dataframe tbody tr th:only-of-type {\n",
              "        vertical-align: middle;\n",
              "    }\n",
              "\n",
              "    .dataframe tbody tr th {\n",
              "        vertical-align: top;\n",
              "    }\n",
              "\n",
              "    .dataframe thead th {\n",
              "        text-align: right;\n",
              "    }\n",
              "</style>\n",
              "<table border=\"1\" class=\"dataframe\">\n",
              "  <thead>\n",
              "    <tr style=\"text-align: right;\">\n",
              "      <th></th>\n",
              "      <th>genre</th>\n",
              "      <th>artist_name</th>\n",
              "      <th>track_name</th>\n",
              "      <th>track_id</th>\n",
              "      <th>popularity</th>\n",
              "      <th>acousticness</th>\n",
              "      <th>danceability</th>\n",
              "      <th>duration_ms</th>\n",
              "      <th>energy</th>\n",
              "      <th>instrumentalness</th>\n",
              "      <th>key</th>\n",
              "      <th>liveness</th>\n",
              "      <th>loudness</th>\n",
              "      <th>mode</th>\n",
              "      <th>speechiness</th>\n",
              "      <th>tempo</th>\n",
              "      <th>time_signature</th>\n",
              "      <th>valence</th>\n",
              "    </tr>\n",
              "  </thead>\n",
              "  <tbody>\n",
              "    <tr>\n",
              "      <th>13918</th>\n",
              "      <td>Dance</td>\n",
              "      <td>Britney Spears</td>\n",
              "      <td>Oops!...I Did It Again</td>\n",
              "      <td>6naxalmIoLFWR0siv8dnQQ</td>\n",
              "      <td>77</td>\n",
              "      <td>0.300</td>\n",
              "      <td>0.751</td>\n",
              "      <td>211160</td>\n",
              "      <td>0.834</td>\n",
              "      <td>0.000018</td>\n",
              "      <td>C#</td>\n",
              "      <td>0.3550</td>\n",
              "      <td>-5.444</td>\n",
              "      <td>Minor</td>\n",
              "      <td>0.0437</td>\n",
              "      <td>95.053</td>\n",
              "      <td>4/4</td>\n",
              "      <td>0.8940</td>\n",
              "    </tr>\n",
              "    <tr>\n",
              "      <th>138797</th>\n",
              "      <td>Reggae</td>\n",
              "      <td>Lee \"Scratch\" Perry</td>\n",
              "      <td>Jah I</td>\n",
              "      <td>3SnBd9X2oZHfnimgC0gwdt</td>\n",
              "      <td>26</td>\n",
              "      <td>0.291</td>\n",
              "      <td>0.803</td>\n",
              "      <td>214187</td>\n",
              "      <td>0.596</td>\n",
              "      <td>0.793000</td>\n",
              "      <td>A</td>\n",
              "      <td>0.3650</td>\n",
              "      <td>-5.603</td>\n",
              "      <td>Major</td>\n",
              "      <td>0.1150</td>\n",
              "      <td>145.578</td>\n",
              "      <td>4/4</td>\n",
              "      <td>0.6720</td>\n",
              "    </tr>\n",
              "    <tr>\n",
              "      <th>188325</th>\n",
              "      <td>Ska</td>\n",
              "      <td>Lee \"Scratch\" Perry</td>\n",
              "      <td>Jah I</td>\n",
              "      <td>3SnBd9X2oZHfnimgC0gwdt</td>\n",
              "      <td>26</td>\n",
              "      <td>0.291</td>\n",
              "      <td>0.803</td>\n",
              "      <td>214187</td>\n",
              "      <td>0.596</td>\n",
              "      <td>0.793000</td>\n",
              "      <td>A</td>\n",
              "      <td>0.3650</td>\n",
              "      <td>-5.603</td>\n",
              "      <td>Major</td>\n",
              "      <td>0.1150</td>\n",
              "      <td>145.578</td>\n",
              "      <td>4/4</td>\n",
              "      <td>0.6720</td>\n",
              "    </tr>\n",
              "    <tr>\n",
              "      <th>206042</th>\n",
              "      <td>Soundtrack</td>\n",
              "      <td>John Paesano</td>\n",
              "      <td>Web Launch</td>\n",
              "      <td>0q4WJ5eId3glendOvoGk5u</td>\n",
              "      <td>29</td>\n",
              "      <td>0.276</td>\n",
              "      <td>0.271</td>\n",
              "      <td>181820</td>\n",
              "      <td>0.526</td>\n",
              "      <td>0.954000</td>\n",
              "      <td>C</td>\n",
              "      <td>0.0966</td>\n",
              "      <td>-13.130</td>\n",
              "      <td>Minor</td>\n",
              "      <td>0.0430</td>\n",
              "      <td>79.981</td>\n",
              "      <td>4/4</td>\n",
              "      <td>0.0483</td>\n",
              "    </tr>\n",
              "    <tr>\n",
              "      <th>64134</th>\n",
              "      <td>Folk</td>\n",
              "      <td>The Byrds</td>\n",
              "      <td>Draft Morning</td>\n",
              "      <td>33zGvjukiRoJgW6JWY0FMo</td>\n",
              "      <td>46</td>\n",
              "      <td>0.389</td>\n",
              "      <td>0.449</td>\n",
              "      <td>162160</td>\n",
              "      <td>0.487</td>\n",
              "      <td>0.868000</td>\n",
              "      <td>D</td>\n",
              "      <td>0.5450</td>\n",
              "      <td>-13.794</td>\n",
              "      <td>Major</td>\n",
              "      <td>0.0289</td>\n",
              "      <td>92.343</td>\n",
              "      <td>4/4</td>\n",
              "      <td>0.4950</td>\n",
              "    </tr>\n",
              "    <tr>\n",
              "      <th>49633</th>\n",
              "      <td>Blues</td>\n",
              "      <td>The Byrds</td>\n",
              "      <td>Draft Morning</td>\n",
              "      <td>33zGvjukiRoJgW6JWY0FMo</td>\n",
              "      <td>40</td>\n",
              "      <td>0.389</td>\n",
              "      <td>0.449</td>\n",
              "      <td>162160</td>\n",
              "      <td>0.487</td>\n",
              "      <td>0.868000</td>\n",
              "      <td>D</td>\n",
              "      <td>0.5450</td>\n",
              "      <td>-13.794</td>\n",
              "      <td>Major</td>\n",
              "      <td>0.0289</td>\n",
              "      <td>92.343</td>\n",
              "      <td>4/4</td>\n",
              "      <td>0.4950</td>\n",
              "    </tr>\n",
              "  </tbody>\n",
              "</table>\n",
              "</div>"
            ],
            "text/plain": [
              "             genre          artist_name  ... time_signature valence\n",
              "13918        Dance       Britney Spears  ...            4/4  0.8940\n",
              "138797      Reggae  Lee \"Scratch\" Perry  ...            4/4  0.6720\n",
              "188325         Ska  Lee \"Scratch\" Perry  ...            4/4  0.6720\n",
              "206042  Soundtrack         John Paesano  ...            4/4  0.0483\n",
              "64134         Folk            The Byrds  ...            4/4  0.4950\n",
              "49633        Blues            The Byrds  ...            4/4  0.4950\n",
              "\n",
              "[6 rows x 18 columns]"
            ]
          },
          "metadata": {
            "tags": []
          },
          "execution_count": 59
        }
      ]
    }
  ]
}