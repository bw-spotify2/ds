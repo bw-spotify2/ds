{
  "nbformat": 4,
  "nbformat_minor": 0,
  "metadata": {
    "colab": {
      "name": "Song Selector Model Building",
      "provenance": [],
      "collapsed_sections": [
        "_twW9LRvH6rC"
      ],
      "toc_visible": true,
      "mount_file_id": "1renATL9nK7zlOqSJEDYTm1QwWx_rR92D",
      "authorship_tag": "ABX9TyPuXgX2ywrHIMr3oK2CwaLR",
      "include_colab_link": true
    },
    "kernelspec": {
      "name": "python3",
      "display_name": "Python 3"
    },
    "accelerator": "GPU"
  },
  "cells": [
    {
      "cell_type": "markdown",
      "metadata": {
        "id": "view-in-github",
        "colab_type": "text"
      },
      "source": [
        "<a href=\"https://colab.research.google.com/github/bw-spotify2/ds/blob/master/Song_Selector_Model_Building.ipynb\" target=\"_parent\"><img src=\"https://colab.research.google.com/assets/colab-badge.svg\" alt=\"Open In Colab\"/></a>"
      ]
    },
    {
      "cell_type": "markdown",
      "metadata": {
        "id": "OjIh4HvACkMh",
        "colab_type": "text"
      },
      "source": [
        "## Initial building of the model."
      ]
    },
    {
      "cell_type": "markdown",
      "metadata": {
        "id": "V1fBFa7qAiwd",
        "colab_type": "text"
      },
      "source": [
        "### Load in the Dataset"
      ]
    },
    {
      "cell_type": "code",
      "metadata": {
        "id": "rtqee1org69e",
        "colab_type": "code",
        "colab": {
          "base_uri": "https://localhost:8080/",
          "height": 558
        },
        "outputId": "0b896f09-bdbf-4dfa-aa67-57fa5a69db7b"
      },
      "source": [
        "import pandas as pd\n",
        "\n",
        "df = pd.read_csv('/content/drive/My Drive/Lambda/Unit 4/Sprint 4/SpotifyFeatures.csv')\n",
        "df.sample(10)"
      ],
      "execution_count": 1,
      "outputs": [
        {
          "output_type": "execute_result",
          "data": {
            "text/html": [
              "<div>\n",
              "<style scoped>\n",
              "    .dataframe tbody tr th:only-of-type {\n",
              "        vertical-align: middle;\n",
              "    }\n",
              "\n",
              "    .dataframe tbody tr th {\n",
              "        vertical-align: top;\n",
              "    }\n",
              "\n",
              "    .dataframe thead th {\n",
              "        text-align: right;\n",
              "    }\n",
              "</style>\n",
              "<table border=\"1\" class=\"dataframe\">\n",
              "  <thead>\n",
              "    <tr style=\"text-align: right;\">\n",
              "      <th></th>\n",
              "      <th>genre</th>\n",
              "      <th>artist_name</th>\n",
              "      <th>track_name</th>\n",
              "      <th>track_id</th>\n",
              "      <th>popularity</th>\n",
              "      <th>acousticness</th>\n",
              "      <th>danceability</th>\n",
              "      <th>duration_ms</th>\n",
              "      <th>energy</th>\n",
              "      <th>instrumentalness</th>\n",
              "      <th>key</th>\n",
              "      <th>liveness</th>\n",
              "      <th>loudness</th>\n",
              "      <th>mode</th>\n",
              "      <th>speechiness</th>\n",
              "      <th>tempo</th>\n",
              "      <th>time_signature</th>\n",
              "      <th>valence</th>\n",
              "    </tr>\n",
              "  </thead>\n",
              "  <tbody>\n",
              "    <tr>\n",
              "      <th>135379</th>\n",
              "      <td>Reggae</td>\n",
              "      <td>Babe Rainbow</td>\n",
              "      <td>Aloe Vera</td>\n",
              "      <td>697nzUsimcnRxiKKLLxNZA</td>\n",
              "      <td>38</td>\n",
              "      <td>0.00223</td>\n",
              "      <td>0.286</td>\n",
              "      <td>179031</td>\n",
              "      <td>0.7600</td>\n",
              "      <td>0.782000</td>\n",
              "      <td>E</td>\n",
              "      <td>0.1630</td>\n",
              "      <td>-4.819</td>\n",
              "      <td>Minor</td>\n",
              "      <td>0.0326</td>\n",
              "      <td>153.529</td>\n",
              "      <td>4/4</td>\n",
              "      <td>0.563</td>\n",
              "    </tr>\n",
              "    <tr>\n",
              "      <th>104142</th>\n",
              "      <td>Classical</td>\n",
              "      <td>Wolfgang Amadeus Mozart</td>\n",
              "      <td>Die Zauberflöte, K. 620, Act I: Herr, ich bin ...</td>\n",
              "      <td>2jzvn07iNcelKVDdOq6buW</td>\n",
              "      <td>0</td>\n",
              "      <td>0.86500</td>\n",
              "      <td>0.252</td>\n",
              "      <td>423600</td>\n",
              "      <td>0.2120</td>\n",
              "      <td>0.000004</td>\n",
              "      <td>F</td>\n",
              "      <td>0.5230</td>\n",
              "      <td>-18.702</td>\n",
              "      <td>Major</td>\n",
              "      <td>0.1030</td>\n",
              "      <td>74.093</td>\n",
              "      <td>4/4</td>\n",
              "      <td>0.213</td>\n",
              "    </tr>\n",
              "    <tr>\n",
              "      <th>227090</th>\n",
              "      <td>Soul</td>\n",
              "      <td>HONNE</td>\n",
              "      <td>It Ain't Wrong Loving You</td>\n",
              "      <td>4aXAuEMP6QP3f2vYjrrXle</td>\n",
              "      <td>45</td>\n",
              "      <td>0.20400</td>\n",
              "      <td>0.603</td>\n",
              "      <td>196058</td>\n",
              "      <td>0.5570</td>\n",
              "      <td>0.000564</td>\n",
              "      <td>C</td>\n",
              "      <td>0.0998</td>\n",
              "      <td>-6.863</td>\n",
              "      <td>Major</td>\n",
              "      <td>0.0659</td>\n",
              "      <td>99.845</td>\n",
              "      <td>4/4</td>\n",
              "      <td>0.301</td>\n",
              "    </tr>\n",
              "    <tr>\n",
              "      <th>4415</th>\n",
              "      <td>Country</td>\n",
              "      <td>Josh Turner</td>\n",
              "      <td>As Fast As I Could</td>\n",
              "      <td>3JTYwYuSNRRNQtIOa9uu03</td>\n",
              "      <td>39</td>\n",
              "      <td>0.33800</td>\n",
              "      <td>0.560</td>\n",
              "      <td>267080</td>\n",
              "      <td>0.6860</td>\n",
              "      <td>0.014400</td>\n",
              "      <td>B</td>\n",
              "      <td>0.2460</td>\n",
              "      <td>-7.278</td>\n",
              "      <td>Major</td>\n",
              "      <td>0.0284</td>\n",
              "      <td>105.886</td>\n",
              "      <td>4/4</td>\n",
              "      <td>0.593</td>\n",
              "    </tr>\n",
              "    <tr>\n",
              "      <th>93657</th>\n",
              "      <td>Indie</td>\n",
              "      <td>Sasha Sloan</td>\n",
              "      <td>Chasing Parties</td>\n",
              "      <td>4PQJcyOjVSurR2fRZ4MNVE</td>\n",
              "      <td>59</td>\n",
              "      <td>0.72000</td>\n",
              "      <td>0.584</td>\n",
              "      <td>162248</td>\n",
              "      <td>0.2610</td>\n",
              "      <td>0.000001</td>\n",
              "      <td>B</td>\n",
              "      <td>0.1260</td>\n",
              "      <td>-12.317</td>\n",
              "      <td>Major</td>\n",
              "      <td>0.0487</td>\n",
              "      <td>180.148</td>\n",
              "      <td>4/4</td>\n",
              "      <td>0.504</td>\n",
              "    </tr>\n",
              "    <tr>\n",
              "      <th>144261</th>\n",
              "      <td>Indie</td>\n",
              "      <td>Missy Higgins</td>\n",
              "      <td>Where I Stood</td>\n",
              "      <td>6ZTfXBZU6eCrGdmSdWwaZv</td>\n",
              "      <td>49</td>\n",
              "      <td>0.66800</td>\n",
              "      <td>0.555</td>\n",
              "      <td>257453</td>\n",
              "      <td>0.4210</td>\n",
              "      <td>0.000479</td>\n",
              "      <td>A</td>\n",
              "      <td>0.1150</td>\n",
              "      <td>-9.027</td>\n",
              "      <td>Major</td>\n",
              "      <td>0.0275</td>\n",
              "      <td>71.996</td>\n",
              "      <td>4/4</td>\n",
              "      <td>0.347</td>\n",
              "    </tr>\n",
              "    <tr>\n",
              "      <th>127177</th>\n",
              "      <td>Classical</td>\n",
              "      <td>Sergei Prokofiev</td>\n",
              "      <td>Romeo &amp; Juliet: Act I, Scene XIII, Dance of th...</td>\n",
              "      <td>2DbO6KuIaXGZHAL33NbJIC</td>\n",
              "      <td>32</td>\n",
              "      <td>0.83500</td>\n",
              "      <td>0.168</td>\n",
              "      <td>311093</td>\n",
              "      <td>0.0388</td>\n",
              "      <td>0.088500</td>\n",
              "      <td>C</td>\n",
              "      <td>0.5310</td>\n",
              "      <td>-26.174</td>\n",
              "      <td>Major</td>\n",
              "      <td>0.0387</td>\n",
              "      <td>80.688</td>\n",
              "      <td>3/4</td>\n",
              "      <td>0.177</td>\n",
              "    </tr>\n",
              "    <tr>\n",
              "      <th>10242</th>\n",
              "      <td>Alternative</td>\n",
              "      <td>Eric Lau</td>\n",
              "      <td>Dreams</td>\n",
              "      <td>7iAkAfK3D5mEhrn8UDRilZ</td>\n",
              "      <td>48</td>\n",
              "      <td>0.85400</td>\n",
              "      <td>0.673</td>\n",
              "      <td>126140</td>\n",
              "      <td>0.3920</td>\n",
              "      <td>0.850000</td>\n",
              "      <td>C#</td>\n",
              "      <td>0.1170</td>\n",
              "      <td>-8.929</td>\n",
              "      <td>Minor</td>\n",
              "      <td>0.0359</td>\n",
              "      <td>91.987</td>\n",
              "      <td>4/4</td>\n",
              "      <td>0.853</td>\n",
              "    </tr>\n",
              "    <tr>\n",
              "      <th>8984</th>\n",
              "      <td>Country</td>\n",
              "      <td>George Strait</td>\n",
              "      <td>I Believe</td>\n",
              "      <td>013IXgOa1zzkXMPDX7hhdC</td>\n",
              "      <td>34</td>\n",
              "      <td>0.70200</td>\n",
              "      <td>0.531</td>\n",
              "      <td>225093</td>\n",
              "      <td>0.3670</td>\n",
              "      <td>0.002350</td>\n",
              "      <td>C</td>\n",
              "      <td>0.1080</td>\n",
              "      <td>-10.662</td>\n",
              "      <td>Major</td>\n",
              "      <td>0.0245</td>\n",
              "      <td>103.214</td>\n",
              "      <td>4/4</td>\n",
              "      <td>0.332</td>\n",
              "    </tr>\n",
              "    <tr>\n",
              "      <th>32676</th>\n",
              "      <td>Anime</td>\n",
              "      <td>Hachioji P</td>\n",
              "      <td>Carry Me Off</td>\n",
              "      <td>1G4dkn8zrs1EJu7MHlx9xj</td>\n",
              "      <td>22</td>\n",
              "      <td>0.02580</td>\n",
              "      <td>0.556</td>\n",
              "      <td>216407</td>\n",
              "      <td>0.9120</td>\n",
              "      <td>0.000000</td>\n",
              "      <td>F#</td>\n",
              "      <td>0.1880</td>\n",
              "      <td>-3.379</td>\n",
              "      <td>Minor</td>\n",
              "      <td>0.0352</td>\n",
              "      <td>134.119</td>\n",
              "      <td>4/4</td>\n",
              "      <td>0.699</td>\n",
              "    </tr>\n",
              "  </tbody>\n",
              "</table>\n",
              "</div>"
            ],
            "text/plain": [
              "              genre              artist_name  ... time_signature valence\n",
              "135379       Reggae             Babe Rainbow  ...            4/4   0.563\n",
              "104142    Classical  Wolfgang Amadeus Mozart  ...            4/4   0.213\n",
              "227090         Soul                    HONNE  ...            4/4   0.301\n",
              "4415        Country              Josh Turner  ...            4/4   0.593\n",
              "93657         Indie              Sasha Sloan  ...            4/4   0.504\n",
              "144261        Indie            Missy Higgins  ...            4/4   0.347\n",
              "127177    Classical         Sergei Prokofiev  ...            3/4   0.177\n",
              "10242   Alternative                 Eric Lau  ...            4/4   0.853\n",
              "8984        Country            George Strait  ...            4/4   0.332\n",
              "32676         Anime               Hachioji P  ...            4/4   0.699\n",
              "\n",
              "[10 rows x 18 columns]"
            ]
          },
          "metadata": {
            "tags": []
          },
          "execution_count": 1
        }
      ]
    },
    {
      "cell_type": "code",
      "metadata": {
        "id": "NEE4B0lMZaRy",
        "colab_type": "code",
        "colab": {
          "base_uri": "https://localhost:8080/",
          "height": 391
        },
        "outputId": "d194680b-2891-4019-ee34-0c24d58d1277"
      },
      "source": [
        "df['mode'] = df['mode'].replace({\"Major\":1, \"Minor\":0})\n",
        "df.head()"
      ],
      "execution_count": 2,
      "outputs": [
        {
          "output_type": "execute_result",
          "data": {
            "text/html": [
              "<div>\n",
              "<style scoped>\n",
              "    .dataframe tbody tr th:only-of-type {\n",
              "        vertical-align: middle;\n",
              "    }\n",
              "\n",
              "    .dataframe tbody tr th {\n",
              "        vertical-align: top;\n",
              "    }\n",
              "\n",
              "    .dataframe thead th {\n",
              "        text-align: right;\n",
              "    }\n",
              "</style>\n",
              "<table border=\"1\" class=\"dataframe\">\n",
              "  <thead>\n",
              "    <tr style=\"text-align: right;\">\n",
              "      <th></th>\n",
              "      <th>genre</th>\n",
              "      <th>artist_name</th>\n",
              "      <th>track_name</th>\n",
              "      <th>track_id</th>\n",
              "      <th>popularity</th>\n",
              "      <th>acousticness</th>\n",
              "      <th>danceability</th>\n",
              "      <th>duration_ms</th>\n",
              "      <th>energy</th>\n",
              "      <th>instrumentalness</th>\n",
              "      <th>key</th>\n",
              "      <th>liveness</th>\n",
              "      <th>loudness</th>\n",
              "      <th>mode</th>\n",
              "      <th>speechiness</th>\n",
              "      <th>tempo</th>\n",
              "      <th>time_signature</th>\n",
              "      <th>valence</th>\n",
              "    </tr>\n",
              "  </thead>\n",
              "  <tbody>\n",
              "    <tr>\n",
              "      <th>0</th>\n",
              "      <td>Movie</td>\n",
              "      <td>Henri Salvador</td>\n",
              "      <td>C'est beau de faire un Show</td>\n",
              "      <td>0BRjO6ga9RKCKjfDqeFgWV</td>\n",
              "      <td>0</td>\n",
              "      <td>0.611</td>\n",
              "      <td>0.389</td>\n",
              "      <td>99373</td>\n",
              "      <td>0.910</td>\n",
              "      <td>0.000</td>\n",
              "      <td>C#</td>\n",
              "      <td>0.3460</td>\n",
              "      <td>-1.828</td>\n",
              "      <td>1</td>\n",
              "      <td>0.0525</td>\n",
              "      <td>166.969</td>\n",
              "      <td>4/4</td>\n",
              "      <td>0.814</td>\n",
              "    </tr>\n",
              "    <tr>\n",
              "      <th>1</th>\n",
              "      <td>Movie</td>\n",
              "      <td>Martin &amp; les fées</td>\n",
              "      <td>Perdu d'avance (par Gad Elmaleh)</td>\n",
              "      <td>0BjC1NfoEOOusryehmNudP</td>\n",
              "      <td>1</td>\n",
              "      <td>0.246</td>\n",
              "      <td>0.590</td>\n",
              "      <td>137373</td>\n",
              "      <td>0.737</td>\n",
              "      <td>0.000</td>\n",
              "      <td>F#</td>\n",
              "      <td>0.1510</td>\n",
              "      <td>-5.559</td>\n",
              "      <td>0</td>\n",
              "      <td>0.0868</td>\n",
              "      <td>174.003</td>\n",
              "      <td>4/4</td>\n",
              "      <td>0.816</td>\n",
              "    </tr>\n",
              "    <tr>\n",
              "      <th>2</th>\n",
              "      <td>Movie</td>\n",
              "      <td>Joseph Williams</td>\n",
              "      <td>Don't Let Me Be Lonely Tonight</td>\n",
              "      <td>0CoSDzoNIKCRs124s9uTVy</td>\n",
              "      <td>3</td>\n",
              "      <td>0.952</td>\n",
              "      <td>0.663</td>\n",
              "      <td>170267</td>\n",
              "      <td>0.131</td>\n",
              "      <td>0.000</td>\n",
              "      <td>C</td>\n",
              "      <td>0.1030</td>\n",
              "      <td>-13.879</td>\n",
              "      <td>0</td>\n",
              "      <td>0.0362</td>\n",
              "      <td>99.488</td>\n",
              "      <td>5/4</td>\n",
              "      <td>0.368</td>\n",
              "    </tr>\n",
              "    <tr>\n",
              "      <th>3</th>\n",
              "      <td>Movie</td>\n",
              "      <td>Henri Salvador</td>\n",
              "      <td>Dis-moi Monsieur Gordon Cooper</td>\n",
              "      <td>0Gc6TVm52BwZD07Ki6tIvf</td>\n",
              "      <td>0</td>\n",
              "      <td>0.703</td>\n",
              "      <td>0.240</td>\n",
              "      <td>152427</td>\n",
              "      <td>0.326</td>\n",
              "      <td>0.000</td>\n",
              "      <td>C#</td>\n",
              "      <td>0.0985</td>\n",
              "      <td>-12.178</td>\n",
              "      <td>1</td>\n",
              "      <td>0.0395</td>\n",
              "      <td>171.758</td>\n",
              "      <td>4/4</td>\n",
              "      <td>0.227</td>\n",
              "    </tr>\n",
              "    <tr>\n",
              "      <th>4</th>\n",
              "      <td>Movie</td>\n",
              "      <td>Fabien Nataf</td>\n",
              "      <td>Ouverture</td>\n",
              "      <td>0IuslXpMROHdEPvSl1fTQK</td>\n",
              "      <td>4</td>\n",
              "      <td>0.950</td>\n",
              "      <td>0.331</td>\n",
              "      <td>82625</td>\n",
              "      <td>0.225</td>\n",
              "      <td>0.123</td>\n",
              "      <td>F</td>\n",
              "      <td>0.2020</td>\n",
              "      <td>-21.150</td>\n",
              "      <td>1</td>\n",
              "      <td>0.0456</td>\n",
              "      <td>140.576</td>\n",
              "      <td>4/4</td>\n",
              "      <td>0.390</td>\n",
              "    </tr>\n",
              "  </tbody>\n",
              "</table>\n",
              "</div>"
            ],
            "text/plain": [
              "   genre        artist_name  ... time_signature valence\n",
              "0  Movie     Henri Salvador  ...            4/4   0.814\n",
              "1  Movie  Martin & les fées  ...            4/4   0.816\n",
              "2  Movie    Joseph Williams  ...            5/4   0.368\n",
              "3  Movie     Henri Salvador  ...            4/4   0.227\n",
              "4  Movie       Fabien Nataf  ...            4/4   0.390\n",
              "\n",
              "[5 rows x 18 columns]"
            ]
          },
          "metadata": {
            "tags": []
          },
          "execution_count": 2
        }
      ]
    },
    {
      "cell_type": "code",
      "metadata": {
        "id": "CAJCjPd2bThm",
        "colab_type": "code",
        "colab": {
          "base_uri": "https://localhost:8080/",
          "height": 126
        },
        "outputId": "b45a7548-b723-4045-bc8f-db0dfa76a6d9"
      },
      "source": [
        "df['time_signature'].value_counts()"
      ],
      "execution_count": 3,
      "outputs": [
        {
          "output_type": "execute_result",
          "data": {
            "text/plain": [
              "4/4    200760\n",
              "3/4     24111\n",
              "5/4      5238\n",
              "1/4      2608\n",
              "0/4         8\n",
              "Name: time_signature, dtype: int64"
            ]
          },
          "metadata": {
            "tags": []
          },
          "execution_count": 3
        }
      ]
    },
    {
      "cell_type": "code",
      "metadata": {
        "id": "jhgU6TMxcU2m",
        "colab_type": "code",
        "colab": {
          "base_uri": "https://localhost:8080/",
          "height": 391
        },
        "outputId": "5dd6141d-c809-4b95-c235-5adc99e11873"
      },
      "source": [
        "df['time_signature'] = df['time_signature'].replace({'4/4':4,'3/4':3,'5/4':5,'1/4':1,'0/4':0})\n",
        "df.head()"
      ],
      "execution_count": 4,
      "outputs": [
        {
          "output_type": "execute_result",
          "data": {
            "text/html": [
              "<div>\n",
              "<style scoped>\n",
              "    .dataframe tbody tr th:only-of-type {\n",
              "        vertical-align: middle;\n",
              "    }\n",
              "\n",
              "    .dataframe tbody tr th {\n",
              "        vertical-align: top;\n",
              "    }\n",
              "\n",
              "    .dataframe thead th {\n",
              "        text-align: right;\n",
              "    }\n",
              "</style>\n",
              "<table border=\"1\" class=\"dataframe\">\n",
              "  <thead>\n",
              "    <tr style=\"text-align: right;\">\n",
              "      <th></th>\n",
              "      <th>genre</th>\n",
              "      <th>artist_name</th>\n",
              "      <th>track_name</th>\n",
              "      <th>track_id</th>\n",
              "      <th>popularity</th>\n",
              "      <th>acousticness</th>\n",
              "      <th>danceability</th>\n",
              "      <th>duration_ms</th>\n",
              "      <th>energy</th>\n",
              "      <th>instrumentalness</th>\n",
              "      <th>key</th>\n",
              "      <th>liveness</th>\n",
              "      <th>loudness</th>\n",
              "      <th>mode</th>\n",
              "      <th>speechiness</th>\n",
              "      <th>tempo</th>\n",
              "      <th>time_signature</th>\n",
              "      <th>valence</th>\n",
              "    </tr>\n",
              "  </thead>\n",
              "  <tbody>\n",
              "    <tr>\n",
              "      <th>0</th>\n",
              "      <td>Movie</td>\n",
              "      <td>Henri Salvador</td>\n",
              "      <td>C'est beau de faire un Show</td>\n",
              "      <td>0BRjO6ga9RKCKjfDqeFgWV</td>\n",
              "      <td>0</td>\n",
              "      <td>0.611</td>\n",
              "      <td>0.389</td>\n",
              "      <td>99373</td>\n",
              "      <td>0.910</td>\n",
              "      <td>0.000</td>\n",
              "      <td>C#</td>\n",
              "      <td>0.3460</td>\n",
              "      <td>-1.828</td>\n",
              "      <td>1</td>\n",
              "      <td>0.0525</td>\n",
              "      <td>166.969</td>\n",
              "      <td>4</td>\n",
              "      <td>0.814</td>\n",
              "    </tr>\n",
              "    <tr>\n",
              "      <th>1</th>\n",
              "      <td>Movie</td>\n",
              "      <td>Martin &amp; les fées</td>\n",
              "      <td>Perdu d'avance (par Gad Elmaleh)</td>\n",
              "      <td>0BjC1NfoEOOusryehmNudP</td>\n",
              "      <td>1</td>\n",
              "      <td>0.246</td>\n",
              "      <td>0.590</td>\n",
              "      <td>137373</td>\n",
              "      <td>0.737</td>\n",
              "      <td>0.000</td>\n",
              "      <td>F#</td>\n",
              "      <td>0.1510</td>\n",
              "      <td>-5.559</td>\n",
              "      <td>0</td>\n",
              "      <td>0.0868</td>\n",
              "      <td>174.003</td>\n",
              "      <td>4</td>\n",
              "      <td>0.816</td>\n",
              "    </tr>\n",
              "    <tr>\n",
              "      <th>2</th>\n",
              "      <td>Movie</td>\n",
              "      <td>Joseph Williams</td>\n",
              "      <td>Don't Let Me Be Lonely Tonight</td>\n",
              "      <td>0CoSDzoNIKCRs124s9uTVy</td>\n",
              "      <td>3</td>\n",
              "      <td>0.952</td>\n",
              "      <td>0.663</td>\n",
              "      <td>170267</td>\n",
              "      <td>0.131</td>\n",
              "      <td>0.000</td>\n",
              "      <td>C</td>\n",
              "      <td>0.1030</td>\n",
              "      <td>-13.879</td>\n",
              "      <td>0</td>\n",
              "      <td>0.0362</td>\n",
              "      <td>99.488</td>\n",
              "      <td>5</td>\n",
              "      <td>0.368</td>\n",
              "    </tr>\n",
              "    <tr>\n",
              "      <th>3</th>\n",
              "      <td>Movie</td>\n",
              "      <td>Henri Salvador</td>\n",
              "      <td>Dis-moi Monsieur Gordon Cooper</td>\n",
              "      <td>0Gc6TVm52BwZD07Ki6tIvf</td>\n",
              "      <td>0</td>\n",
              "      <td>0.703</td>\n",
              "      <td>0.240</td>\n",
              "      <td>152427</td>\n",
              "      <td>0.326</td>\n",
              "      <td>0.000</td>\n",
              "      <td>C#</td>\n",
              "      <td>0.0985</td>\n",
              "      <td>-12.178</td>\n",
              "      <td>1</td>\n",
              "      <td>0.0395</td>\n",
              "      <td>171.758</td>\n",
              "      <td>4</td>\n",
              "      <td>0.227</td>\n",
              "    </tr>\n",
              "    <tr>\n",
              "      <th>4</th>\n",
              "      <td>Movie</td>\n",
              "      <td>Fabien Nataf</td>\n",
              "      <td>Ouverture</td>\n",
              "      <td>0IuslXpMROHdEPvSl1fTQK</td>\n",
              "      <td>4</td>\n",
              "      <td>0.950</td>\n",
              "      <td>0.331</td>\n",
              "      <td>82625</td>\n",
              "      <td>0.225</td>\n",
              "      <td>0.123</td>\n",
              "      <td>F</td>\n",
              "      <td>0.2020</td>\n",
              "      <td>-21.150</td>\n",
              "      <td>1</td>\n",
              "      <td>0.0456</td>\n",
              "      <td>140.576</td>\n",
              "      <td>4</td>\n",
              "      <td>0.390</td>\n",
              "    </tr>\n",
              "  </tbody>\n",
              "</table>\n",
              "</div>"
            ],
            "text/plain": [
              "   genre        artist_name  ... time_signature valence\n",
              "0  Movie     Henri Salvador  ...              4   0.814\n",
              "1  Movie  Martin & les fées  ...              4   0.816\n",
              "2  Movie    Joseph Williams  ...              5   0.368\n",
              "3  Movie     Henri Salvador  ...              4   0.227\n",
              "4  Movie       Fabien Nataf  ...              4   0.390\n",
              "\n",
              "[5 rows x 18 columns]"
            ]
          },
          "metadata": {
            "tags": []
          },
          "execution_count": 4
        }
      ]
    },
    {
      "cell_type": "code",
      "metadata": {
        "id": "0veJZPzjdhJW",
        "colab_type": "code",
        "colab": {
          "base_uri": "https://localhost:8080/",
          "height": 254
        },
        "outputId": "d2b16311-575e-4933-c9d4-dba1b80a9309"
      },
      "source": [
        "df['key'].value_counts()"
      ],
      "execution_count": 5,
      "outputs": [
        {
          "output_type": "execute_result",
          "data": {
            "text/plain": [
              "C     27583\n",
              "G     26390\n",
              "D     24077\n",
              "C#    23201\n",
              "A     22671\n",
              "F     20279\n",
              "B     17661\n",
              "E     17390\n",
              "A#    15526\n",
              "F#    15222\n",
              "G#    15159\n",
              "D#     7566\n",
              "Name: key, dtype: int64"
            ]
          },
          "metadata": {
            "tags": []
          },
          "execution_count": 5
        }
      ]
    },
    {
      "cell_type": "code",
      "metadata": {
        "id": "3rREzX2ucxKO",
        "colab_type": "code",
        "colab": {
          "base_uri": "https://localhost:8080/",
          "height": 391
        },
        "outputId": "7cb48c9b-dc6e-40a6-cca3-3894d51c5ccd"
      },
      "source": [
        "key_dict = {'C':0,'C#':1,'D':2,'D#':3,'E':4,'F':5,'F#':6,'G':7,'G#':8,'A':9,'A#':10,'B':11}\n",
        "df['key'] = df['key'].replace(key_dict)\n",
        "df.head()"
      ],
      "execution_count": 6,
      "outputs": [
        {
          "output_type": "execute_result",
          "data": {
            "text/html": [
              "<div>\n",
              "<style scoped>\n",
              "    .dataframe tbody tr th:only-of-type {\n",
              "        vertical-align: middle;\n",
              "    }\n",
              "\n",
              "    .dataframe tbody tr th {\n",
              "        vertical-align: top;\n",
              "    }\n",
              "\n",
              "    .dataframe thead th {\n",
              "        text-align: right;\n",
              "    }\n",
              "</style>\n",
              "<table border=\"1\" class=\"dataframe\">\n",
              "  <thead>\n",
              "    <tr style=\"text-align: right;\">\n",
              "      <th></th>\n",
              "      <th>genre</th>\n",
              "      <th>artist_name</th>\n",
              "      <th>track_name</th>\n",
              "      <th>track_id</th>\n",
              "      <th>popularity</th>\n",
              "      <th>acousticness</th>\n",
              "      <th>danceability</th>\n",
              "      <th>duration_ms</th>\n",
              "      <th>energy</th>\n",
              "      <th>instrumentalness</th>\n",
              "      <th>key</th>\n",
              "      <th>liveness</th>\n",
              "      <th>loudness</th>\n",
              "      <th>mode</th>\n",
              "      <th>speechiness</th>\n",
              "      <th>tempo</th>\n",
              "      <th>time_signature</th>\n",
              "      <th>valence</th>\n",
              "    </tr>\n",
              "  </thead>\n",
              "  <tbody>\n",
              "    <tr>\n",
              "      <th>0</th>\n",
              "      <td>Movie</td>\n",
              "      <td>Henri Salvador</td>\n",
              "      <td>C'est beau de faire un Show</td>\n",
              "      <td>0BRjO6ga9RKCKjfDqeFgWV</td>\n",
              "      <td>0</td>\n",
              "      <td>0.611</td>\n",
              "      <td>0.389</td>\n",
              "      <td>99373</td>\n",
              "      <td>0.910</td>\n",
              "      <td>0.000</td>\n",
              "      <td>1</td>\n",
              "      <td>0.3460</td>\n",
              "      <td>-1.828</td>\n",
              "      <td>1</td>\n",
              "      <td>0.0525</td>\n",
              "      <td>166.969</td>\n",
              "      <td>4</td>\n",
              "      <td>0.814</td>\n",
              "    </tr>\n",
              "    <tr>\n",
              "      <th>1</th>\n",
              "      <td>Movie</td>\n",
              "      <td>Martin &amp; les fées</td>\n",
              "      <td>Perdu d'avance (par Gad Elmaleh)</td>\n",
              "      <td>0BjC1NfoEOOusryehmNudP</td>\n",
              "      <td>1</td>\n",
              "      <td>0.246</td>\n",
              "      <td>0.590</td>\n",
              "      <td>137373</td>\n",
              "      <td>0.737</td>\n",
              "      <td>0.000</td>\n",
              "      <td>6</td>\n",
              "      <td>0.1510</td>\n",
              "      <td>-5.559</td>\n",
              "      <td>0</td>\n",
              "      <td>0.0868</td>\n",
              "      <td>174.003</td>\n",
              "      <td>4</td>\n",
              "      <td>0.816</td>\n",
              "    </tr>\n",
              "    <tr>\n",
              "      <th>2</th>\n",
              "      <td>Movie</td>\n",
              "      <td>Joseph Williams</td>\n",
              "      <td>Don't Let Me Be Lonely Tonight</td>\n",
              "      <td>0CoSDzoNIKCRs124s9uTVy</td>\n",
              "      <td>3</td>\n",
              "      <td>0.952</td>\n",
              "      <td>0.663</td>\n",
              "      <td>170267</td>\n",
              "      <td>0.131</td>\n",
              "      <td>0.000</td>\n",
              "      <td>0</td>\n",
              "      <td>0.1030</td>\n",
              "      <td>-13.879</td>\n",
              "      <td>0</td>\n",
              "      <td>0.0362</td>\n",
              "      <td>99.488</td>\n",
              "      <td>5</td>\n",
              "      <td>0.368</td>\n",
              "    </tr>\n",
              "    <tr>\n",
              "      <th>3</th>\n",
              "      <td>Movie</td>\n",
              "      <td>Henri Salvador</td>\n",
              "      <td>Dis-moi Monsieur Gordon Cooper</td>\n",
              "      <td>0Gc6TVm52BwZD07Ki6tIvf</td>\n",
              "      <td>0</td>\n",
              "      <td>0.703</td>\n",
              "      <td>0.240</td>\n",
              "      <td>152427</td>\n",
              "      <td>0.326</td>\n",
              "      <td>0.000</td>\n",
              "      <td>1</td>\n",
              "      <td>0.0985</td>\n",
              "      <td>-12.178</td>\n",
              "      <td>1</td>\n",
              "      <td>0.0395</td>\n",
              "      <td>171.758</td>\n",
              "      <td>4</td>\n",
              "      <td>0.227</td>\n",
              "    </tr>\n",
              "    <tr>\n",
              "      <th>4</th>\n",
              "      <td>Movie</td>\n",
              "      <td>Fabien Nataf</td>\n",
              "      <td>Ouverture</td>\n",
              "      <td>0IuslXpMROHdEPvSl1fTQK</td>\n",
              "      <td>4</td>\n",
              "      <td>0.950</td>\n",
              "      <td>0.331</td>\n",
              "      <td>82625</td>\n",
              "      <td>0.225</td>\n",
              "      <td>0.123</td>\n",
              "      <td>5</td>\n",
              "      <td>0.2020</td>\n",
              "      <td>-21.150</td>\n",
              "      <td>1</td>\n",
              "      <td>0.0456</td>\n",
              "      <td>140.576</td>\n",
              "      <td>4</td>\n",
              "      <td>0.390</td>\n",
              "    </tr>\n",
              "  </tbody>\n",
              "</table>\n",
              "</div>"
            ],
            "text/plain": [
              "   genre        artist_name  ... time_signature valence\n",
              "0  Movie     Henri Salvador  ...              4   0.814\n",
              "1  Movie  Martin & les fées  ...              4   0.816\n",
              "2  Movie    Joseph Williams  ...              5   0.368\n",
              "3  Movie     Henri Salvador  ...              4   0.227\n",
              "4  Movie       Fabien Nataf  ...              4   0.390\n",
              "\n",
              "[5 rows x 18 columns]"
            ]
          },
          "metadata": {
            "tags": []
          },
          "execution_count": 6
        }
      ]
    },
    {
      "cell_type": "code",
      "metadata": {
        "id": "umS4a1jXl3n4",
        "colab_type": "code",
        "colab": {
          "base_uri": "https://localhost:8080/",
          "height": 219
        },
        "outputId": "06cbbeb4-5298-4df5-f960-0c3c00227bbe"
      },
      "source": [
        "# Connect to the API in case we need to look at it's output\n",
        "\n",
        "!pip install spotipy --upgrade\n",
        "import spotipy\n",
        "from spotipy.oauth2 import SpotifyClientCredentials\n",
        "import pandas as pd\n",
        "import time \n",
        "\n",
        "client_id = '14f59f665a094868921bdd76e420d7c0'\n",
        "client_secret = '5e16ddb0f2ed45a69949330bbd34351a'\n",
        "username = 'mahoryu'\n",
        "\n",
        "client_credentials_manager = SpotifyClientCredentials(client_id, client_secret)\n",
        "sp = spotipy.Spotify(client_credentials_manager=client_credentials_manager)"
      ],
      "execution_count": 7,
      "outputs": [
        {
          "output_type": "stream",
          "text": [
            "Collecting spotipy\n",
            "  Downloading https://files.pythonhosted.org/packages/f1/62/210c7942dede1c0d39aa56520d59c4565e232f957ea4caea87da7e6f3e61/spotipy-2.13.0-py3-none-any.whl\n",
            "Requirement already satisfied, skipping upgrade: requests>=2.20.0 in /usr/local/lib/python3.6/dist-packages (from spotipy) (2.23.0)\n",
            "Requirement already satisfied, skipping upgrade: six>=1.10.0 in /usr/local/lib/python3.6/dist-packages (from spotipy) (1.12.0)\n",
            "Requirement already satisfied, skipping upgrade: chardet<4,>=3.0.2 in /usr/local/lib/python3.6/dist-packages (from requests>=2.20.0->spotipy) (3.0.4)\n",
            "Requirement already satisfied, skipping upgrade: urllib3!=1.25.0,!=1.25.1,<1.26,>=1.21.1 in /usr/local/lib/python3.6/dist-packages (from requests>=2.20.0->spotipy) (1.24.3)\n",
            "Requirement already satisfied, skipping upgrade: idna<3,>=2.5 in /usr/local/lib/python3.6/dist-packages (from requests>=2.20.0->spotipy) (2.9)\n",
            "Requirement already satisfied, skipping upgrade: certifi>=2017.4.17 in /usr/local/lib/python3.6/dist-packages (from requests>=2.20.0->spotipy) (2020.4.5.2)\n",
            "Installing collected packages: spotipy\n",
            "Successfully installed spotipy-2.13.0\n"
          ],
          "name": "stdout"
        }
      ]
    },
    {
      "cell_type": "markdown",
      "metadata": {
        "id": "Ve0nkowCA4Fp",
        "colab_type": "text"
      },
      "source": [
        "### Define the columns we want to use and make a df with it"
      ]
    },
    {
      "cell_type": "code",
      "metadata": {
        "id": "ZEI_TymE2pP0",
        "colab_type": "code",
        "colab": {}
      },
      "source": [
        "# define headers\n",
        "headers = ['acousticness','danceability','duration_ms','energy','instrumentalness','liveness','loudness','speechiness','tempo','valence', 'key', 'mode', 'time_signature']\n",
        "df_new = df[headers]"
      ],
      "execution_count": 8,
      "outputs": []
    },
    {
      "cell_type": "code",
      "metadata": {
        "id": "f-TkOd5gIEer",
        "colab_type": "code",
        "colab": {
          "base_uri": "https://localhost:8080/",
          "height": 198
        },
        "outputId": "1498bffe-8dbe-4cfe-e2fa-3e82531f6ee9"
      },
      "source": [
        "df_new.head()"
      ],
      "execution_count": 9,
      "outputs": [
        {
          "output_type": "execute_result",
          "data": {
            "text/html": [
              "<div>\n",
              "<style scoped>\n",
              "    .dataframe tbody tr th:only-of-type {\n",
              "        vertical-align: middle;\n",
              "    }\n",
              "\n",
              "    .dataframe tbody tr th {\n",
              "        vertical-align: top;\n",
              "    }\n",
              "\n",
              "    .dataframe thead th {\n",
              "        text-align: right;\n",
              "    }\n",
              "</style>\n",
              "<table border=\"1\" class=\"dataframe\">\n",
              "  <thead>\n",
              "    <tr style=\"text-align: right;\">\n",
              "      <th></th>\n",
              "      <th>acousticness</th>\n",
              "      <th>danceability</th>\n",
              "      <th>duration_ms</th>\n",
              "      <th>energy</th>\n",
              "      <th>instrumentalness</th>\n",
              "      <th>liveness</th>\n",
              "      <th>loudness</th>\n",
              "      <th>speechiness</th>\n",
              "      <th>tempo</th>\n",
              "      <th>valence</th>\n",
              "      <th>key</th>\n",
              "      <th>mode</th>\n",
              "      <th>time_signature</th>\n",
              "    </tr>\n",
              "  </thead>\n",
              "  <tbody>\n",
              "    <tr>\n",
              "      <th>0</th>\n",
              "      <td>0.611</td>\n",
              "      <td>0.389</td>\n",
              "      <td>99373</td>\n",
              "      <td>0.910</td>\n",
              "      <td>0.000</td>\n",
              "      <td>0.3460</td>\n",
              "      <td>-1.828</td>\n",
              "      <td>0.0525</td>\n",
              "      <td>166.969</td>\n",
              "      <td>0.814</td>\n",
              "      <td>1</td>\n",
              "      <td>1</td>\n",
              "      <td>4</td>\n",
              "    </tr>\n",
              "    <tr>\n",
              "      <th>1</th>\n",
              "      <td>0.246</td>\n",
              "      <td>0.590</td>\n",
              "      <td>137373</td>\n",
              "      <td>0.737</td>\n",
              "      <td>0.000</td>\n",
              "      <td>0.1510</td>\n",
              "      <td>-5.559</td>\n",
              "      <td>0.0868</td>\n",
              "      <td>174.003</td>\n",
              "      <td>0.816</td>\n",
              "      <td>6</td>\n",
              "      <td>0</td>\n",
              "      <td>4</td>\n",
              "    </tr>\n",
              "    <tr>\n",
              "      <th>2</th>\n",
              "      <td>0.952</td>\n",
              "      <td>0.663</td>\n",
              "      <td>170267</td>\n",
              "      <td>0.131</td>\n",
              "      <td>0.000</td>\n",
              "      <td>0.1030</td>\n",
              "      <td>-13.879</td>\n",
              "      <td>0.0362</td>\n",
              "      <td>99.488</td>\n",
              "      <td>0.368</td>\n",
              "      <td>0</td>\n",
              "      <td>0</td>\n",
              "      <td>5</td>\n",
              "    </tr>\n",
              "    <tr>\n",
              "      <th>3</th>\n",
              "      <td>0.703</td>\n",
              "      <td>0.240</td>\n",
              "      <td>152427</td>\n",
              "      <td>0.326</td>\n",
              "      <td>0.000</td>\n",
              "      <td>0.0985</td>\n",
              "      <td>-12.178</td>\n",
              "      <td>0.0395</td>\n",
              "      <td>171.758</td>\n",
              "      <td>0.227</td>\n",
              "      <td>1</td>\n",
              "      <td>1</td>\n",
              "      <td>4</td>\n",
              "    </tr>\n",
              "    <tr>\n",
              "      <th>4</th>\n",
              "      <td>0.950</td>\n",
              "      <td>0.331</td>\n",
              "      <td>82625</td>\n",
              "      <td>0.225</td>\n",
              "      <td>0.123</td>\n",
              "      <td>0.2020</td>\n",
              "      <td>-21.150</td>\n",
              "      <td>0.0456</td>\n",
              "      <td>140.576</td>\n",
              "      <td>0.390</td>\n",
              "      <td>5</td>\n",
              "      <td>1</td>\n",
              "      <td>4</td>\n",
              "    </tr>\n",
              "  </tbody>\n",
              "</table>\n",
              "</div>"
            ],
            "text/plain": [
              "   acousticness  danceability  duration_ms  ...  key  mode  time_signature\n",
              "0         0.611         0.389        99373  ...    1     1               4\n",
              "1         0.246         0.590       137373  ...    6     0               4\n",
              "2         0.952         0.663       170267  ...    0     0               5\n",
              "3         0.703         0.240       152427  ...    1     1               4\n",
              "4         0.950         0.331        82625  ...    5     1               4\n",
              "\n",
              "[5 rows x 13 columns]"
            ]
          },
          "metadata": {
            "tags": []
          },
          "execution_count": 9
        }
      ]
    },
    {
      "cell_type": "code",
      "metadata": {
        "id": "wtbbJDcEN80U",
        "colab_type": "code",
        "colab": {
          "base_uri": "https://localhost:8080/",
          "height": 35
        },
        "outputId": "68178ad3-30b3-470b-9ab2-422c30b4366d"
      },
      "source": [
        "df_new.shape"
      ],
      "execution_count": 10,
      "outputs": [
        {
          "output_type": "execute_result",
          "data": {
            "text/plain": [
              "(232725, 13)"
            ]
          },
          "metadata": {
            "tags": []
          },
          "execution_count": 10
        }
      ]
    },
    {
      "cell_type": "markdown",
      "metadata": {
        "id": "kcY8_MocBA6l",
        "colab_type": "text"
      },
      "source": [
        "### Make the model"
      ]
    },
    {
      "cell_type": "code",
      "metadata": {
        "id": "vhbd0GflNQNz",
        "colab_type": "code",
        "colab": {
          "base_uri": "https://localhost:8080/",
          "height": 35
        },
        "outputId": "186d86a9-f948-4b2b-a3b8-ab682a1c9b83"
      },
      "source": [
        "# imports \n",
        "\n",
        "from keras.models import Model\n",
        "from keras.layers import Input, Dense\n",
        "from keras import regularizers\n",
        "from sklearn.preprocessing import MinMaxScaler\n",
        "import pandas as pd"
      ],
      "execution_count": 11,
      "outputs": [
        {
          "output_type": "stream",
          "text": [
            "Using TensorFlow backend.\n"
          ],
          "name": "stderr"
        }
      ]
    },
    {
      "cell_type": "code",
      "metadata": {
        "id": "KV7ntMqdNcnq",
        "colab_type": "code",
        "colab": {}
      },
      "source": [
        "# Normalise the data\n",
        "scaler = MinMaxScaler()\n",
        "data_scaled = scaler.fit_transform(df_new)"
      ],
      "execution_count": 12,
      "outputs": []
    },
    {
      "cell_type": "markdown",
      "metadata": {
        "id": "RW4pxtP0Gczz",
        "colab_type": "text"
      },
      "source": [
        "#### Pickle the Scaler"
      ]
    },
    {
      "cell_type": "code",
      "metadata": {
        "id": "uoqqun5YGfqO",
        "colab_type": "code",
        "colab": {
          "base_uri": "https://localhost:8080/",
          "height": 35
        },
        "outputId": "c7a19999-5bcb-4c0e-e3cb-5610252592cb"
      },
      "source": [
        "import pickle\n",
        "\n",
        "# Dump the trained classifier (scaler)  with Pickle\n",
        "pickle_filename_1 = 'scaler_model.pkl'\n",
        "pickled_model_1 = open(pickle_filename_1, 'wb')  # Open the file to save as pkl file\n",
        "pickle.dump(scaler, pickled_model_1)\n",
        "pickled_model_1.close() # Close the pickle instances\n",
        "\n",
        "# Loading the saved model\n",
        "model_pkl_1 = open(pickle_filename_1, 'rb')\n",
        "scaler_model = pickle.load(model_pkl_1)\n",
        "print (\"Loaded model :: \", scaler_model)  # print to verify"
      ],
      "execution_count": 13,
      "outputs": [
        {
          "output_type": "stream",
          "text": [
            "Loaded model ::  MinMaxScaler(copy=True, feature_range=(0, 1))\n"
          ],
          "name": "stdout"
        }
      ]
    },
    {
      "cell_type": "markdown",
      "metadata": {
        "id": "DAiAaodwHa_b",
        "colab_type": "text"
      },
      "source": [
        "#### Create actual Model"
      ]
    },
    {
      "cell_type": "code",
      "metadata": {
        "id": "-qwL_gFsOFw1",
        "colab_type": "code",
        "colab": {
          "base_uri": "https://localhost:8080/",
          "height": 198
        },
        "outputId": "a63d39b2-1bf5-4175-d137-a8d8b65331f0"
      },
      "source": [
        "# set the scaled data to a new df\n",
        "df_scaled = pd.DataFrame(data_scaled,columns=headers)\n",
        "df_scaled.head()"
      ],
      "execution_count": 14,
      "outputs": [
        {
          "output_type": "execute_result",
          "data": {
            "text/html": [
              "<div>\n",
              "<style scoped>\n",
              "    .dataframe tbody tr th:only-of-type {\n",
              "        vertical-align: middle;\n",
              "    }\n",
              "\n",
              "    .dataframe tbody tr th {\n",
              "        vertical-align: top;\n",
              "    }\n",
              "\n",
              "    .dataframe thead th {\n",
              "        text-align: right;\n",
              "    }\n",
              "</style>\n",
              "<table border=\"1\" class=\"dataframe\">\n",
              "  <thead>\n",
              "    <tr style=\"text-align: right;\">\n",
              "      <th></th>\n",
              "      <th>acousticness</th>\n",
              "      <th>danceability</th>\n",
              "      <th>duration_ms</th>\n",
              "      <th>energy</th>\n",
              "      <th>instrumentalness</th>\n",
              "      <th>liveness</th>\n",
              "      <th>loudness</th>\n",
              "      <th>speechiness</th>\n",
              "      <th>tempo</th>\n",
              "      <th>valence</th>\n",
              "      <th>key</th>\n",
              "      <th>mode</th>\n",
              "      <th>time_signature</th>\n",
              "    </tr>\n",
              "  </thead>\n",
              "  <tbody>\n",
              "    <tr>\n",
              "      <th>0</th>\n",
              "      <td>0.613454</td>\n",
              "      <td>0.356292</td>\n",
              "      <td>0.015167</td>\n",
              "      <td>0.910909</td>\n",
              "      <td>0.000000</td>\n",
              "      <td>0.339614</td>\n",
              "      <td>0.900856</td>\n",
              "      <td>0.032070</td>\n",
              "      <td>0.642704</td>\n",
              "      <td>0.814</td>\n",
              "      <td>0.090909</td>\n",
              "      <td>1.0</td>\n",
              "      <td>0.8</td>\n",
              "    </tr>\n",
              "    <tr>\n",
              "      <th>1</th>\n",
              "      <td>0.246988</td>\n",
              "      <td>0.571934</td>\n",
              "      <td>0.022029</td>\n",
              "      <td>0.737732</td>\n",
              "      <td>0.000000</td>\n",
              "      <td>0.142710</td>\n",
              "      <td>0.834469</td>\n",
              "      <td>0.068374</td>\n",
              "      <td>0.675801</td>\n",
              "      <td>0.816</td>\n",
              "      <td>0.545455</td>\n",
              "      <td>0.0</td>\n",
              "      <td>0.8</td>\n",
              "    </tr>\n",
              "    <tr>\n",
              "      <th>2</th>\n",
              "      <td>0.955823</td>\n",
              "      <td>0.650252</td>\n",
              "      <td>0.027969</td>\n",
              "      <td>0.131113</td>\n",
              "      <td>0.000000</td>\n",
              "      <td>0.094241</td>\n",
              "      <td>0.686429</td>\n",
              "      <td>0.014818</td>\n",
              "      <td>0.325182</td>\n",
              "      <td>0.368</td>\n",
              "      <td>0.000000</td>\n",
              "      <td>0.0</td>\n",
              "      <td>1.0</td>\n",
              "    </tr>\n",
              "    <tr>\n",
              "      <th>3</th>\n",
              "      <td>0.705823</td>\n",
              "      <td>0.196438</td>\n",
              "      <td>0.024747</td>\n",
              "      <td>0.326313</td>\n",
              "      <td>0.000000</td>\n",
              "      <td>0.089697</td>\n",
              "      <td>0.716695</td>\n",
              "      <td>0.018311</td>\n",
              "      <td>0.665238</td>\n",
              "      <td>0.227</td>\n",
              "      <td>0.090909</td>\n",
              "      <td>1.0</td>\n",
              "      <td>0.8</td>\n",
              "    </tr>\n",
              "    <tr>\n",
              "      <th>4</th>\n",
              "      <td>0.953815</td>\n",
              "      <td>0.294067</td>\n",
              "      <td>0.012142</td>\n",
              "      <td>0.225209</td>\n",
              "      <td>0.123123</td>\n",
              "      <td>0.194208</td>\n",
              "      <td>0.557054</td>\n",
              "      <td>0.024767</td>\n",
              "      <td>0.518516</td>\n",
              "      <td>0.390</td>\n",
              "      <td>0.454545</td>\n",
              "      <td>1.0</td>\n",
              "      <td>0.8</td>\n",
              "    </tr>\n",
              "  </tbody>\n",
              "</table>\n",
              "</div>"
            ],
            "text/plain": [
              "   acousticness  danceability  duration_ms  ...       key  mode  time_signature\n",
              "0      0.613454      0.356292     0.015167  ...  0.090909   1.0             0.8\n",
              "1      0.246988      0.571934     0.022029  ...  0.545455   0.0             0.8\n",
              "2      0.955823      0.650252     0.027969  ...  0.000000   0.0             1.0\n",
              "3      0.705823      0.196438     0.024747  ...  0.090909   1.0             0.8\n",
              "4      0.953815      0.294067     0.012142  ...  0.454545   1.0             0.8\n",
              "\n",
              "[5 rows x 13 columns]"
            ]
          },
          "metadata": {
            "tags": []
          },
          "execution_count": 14
        }
      ]
    },
    {
      "cell_type": "code",
      "metadata": {
        "id": "c9HkvN9iOwj9",
        "colab_type": "code",
        "colab": {
          "base_uri": "https://localhost:8080/",
          "height": 345
        },
        "outputId": "50986c8e-0cac-44ba-9a03-90c3c8623679"
      },
      "source": [
        "# create the actual autoencoder\n",
        "\n",
        "# set the input dimentions to what is in the df_new\n",
        "input_dim = df_new.shape[1]  # 13\n",
        "\n",
        "# Number of neurons in each Layer [13, 8, 3, ...] of encoders\n",
        "input_layer = Input(shape=(input_dim, ))\n",
        "encoder_layer_1 = Dense(8, activation=\"relu\", activity_regularizer=regularizers.l1(10e-5))(input_layer)\n",
        "encoder_layer_2 = Dense(3, activation=\"relu\")(encoder_layer_1)\n",
        "\n",
        "# Crear encoder model\n",
        "encoder = Model(inputs=input_layer, outputs=encoder_layer_2)\n",
        "\n",
        "decoder_1 = Dense(8, activation='relu')(encoder_layer_2)\n",
        "decoder_output = Dense(input_dim, activation = 'sigmoid')(decoder_1)\n",
        "\n",
        "autoencoder = Model(input_layer, decoder_output)\n",
        "\n",
        "autoencoder.summary()"
      ],
      "execution_count": 15,
      "outputs": [
        {
          "output_type": "stream",
          "text": [
            "Model: \"model_2\"\n",
            "_________________________________________________________________\n",
            "Layer (type)                 Output Shape              Param #   \n",
            "=================================================================\n",
            "input_1 (InputLayer)         (None, 13)                0         \n",
            "_________________________________________________________________\n",
            "dense_1 (Dense)              (None, 8)                 112       \n",
            "_________________________________________________________________\n",
            "dense_2 (Dense)              (None, 3)                 27        \n",
            "_________________________________________________________________\n",
            "dense_3 (Dense)              (None, 8)                 32        \n",
            "_________________________________________________________________\n",
            "dense_4 (Dense)              (None, 13)                117       \n",
            "=================================================================\n",
            "Total params: 288\n",
            "Trainable params: 288\n",
            "Non-trainable params: 0\n",
            "_________________________________________________________________\n"
          ],
          "name": "stdout"
        }
      ]
    },
    {
      "cell_type": "code",
      "metadata": {
        "id": "hfuSytVTUiWi",
        "colab_type": "code",
        "colab": {
          "base_uri": "https://localhost:8080/",
          "height": 308
        },
        "outputId": "3a0866d1-0e22-40fe-a0ec-61cfcf457990"
      },
      "source": [
        "from tensorflow.keras.callbacks import EarlyStopping\n",
        "\n",
        "# compile the autoencoder\n",
        "autoencoder.compile(optimizer='nadam',\n",
        "                    loss='binary_crossentropy') \n",
        "                    \n",
        "stop = EarlyStopping(monitor='val_loss', min_delta=0.001, patience=2)\n",
        "\n",
        "# fit the model\n",
        "autoencoder.fit(df_scaled, df_scaled,\n",
        "                epochs=100,\n",
        "                batch_size=32,\n",
        "                validation_split=0.2,\n",
        "                callbacks=[stop]) "
      ],
      "execution_count": 16,
      "outputs": [
        {
          "output_type": "stream",
          "text": [
            "Train on 186180 samples, validate on 46545 samples\n",
            "Epoch 1/100\n",
            "186180/186180 [==============================] - 30s 162us/step - loss: 0.4512 - val_loss: 0.4285\n",
            "Epoch 2/100\n",
            "186180/186180 [==============================] - 29s 156us/step - loss: 0.4269 - val_loss: 0.4224\n",
            "Epoch 3/100\n",
            "186180/186180 [==============================] - 28s 153us/step - loss: 0.4220 - val_loss: 0.4156\n",
            "Epoch 4/100\n",
            "186180/186180 [==============================] - 28s 153us/step - loss: 0.4174 - val_loss: 0.4147\n",
            "Epoch 5/100\n",
            "186180/186180 [==============================] - 28s 153us/step - loss: 0.4166 - val_loss: 0.4140\n",
            "Epoch 6/100\n",
            "186180/186180 [==============================] - 28s 152us/step - loss: 0.4164 - val_loss: 0.4145\n",
            "Epoch 7/100\n",
            "186180/186180 [==============================] - 28s 152us/step - loss: 0.4163 - val_loss: 0.4152\n"
          ],
          "name": "stdout"
        },
        {
          "output_type": "execute_result",
          "data": {
            "text/plain": [
              "<keras.callbacks.callbacks.History at 0x7f76f069a860>"
            ]
          },
          "metadata": {
            "tags": []
          },
          "execution_count": 16
        }
      ]
    },
    {
      "cell_type": "code",
      "metadata": {
        "id": "4_6L7UvXPEKY",
        "colab_type": "code",
        "colab": {
          "base_uri": "https://localhost:8080/",
          "height": 198
        },
        "outputId": "728e7983-0361-46f3-d628-5fdaa09b998a"
      },
      "source": [
        "# Use the model to predict the factors which sum up the selected atributes of the songs,\n",
        "#   by making an encoded_data df.\n",
        "encoded_data = pd.DataFrame(encoder.predict(data_scaled))\n",
        "encoded_data.columns = ['x', 'y', 'z']\n",
        "encoded_data.head()"
      ],
      "execution_count": 17,
      "outputs": [
        {
          "output_type": "execute_result",
          "data": {
            "text/html": [
              "<div>\n",
              "<style scoped>\n",
              "    .dataframe tbody tr th:only-of-type {\n",
              "        vertical-align: middle;\n",
              "    }\n",
              "\n",
              "    .dataframe tbody tr th {\n",
              "        vertical-align: top;\n",
              "    }\n",
              "\n",
              "    .dataframe thead th {\n",
              "        text-align: right;\n",
              "    }\n",
              "</style>\n",
              "<table border=\"1\" class=\"dataframe\">\n",
              "  <thead>\n",
              "    <tr style=\"text-align: right;\">\n",
              "      <th></th>\n",
              "      <th>x</th>\n",
              "      <th>y</th>\n",
              "      <th>z</th>\n",
              "    </tr>\n",
              "  </thead>\n",
              "  <tbody>\n",
              "    <tr>\n",
              "      <th>0</th>\n",
              "      <td>0.753564</td>\n",
              "      <td>1.530286</td>\n",
              "      <td>0.956155</td>\n",
              "    </tr>\n",
              "    <tr>\n",
              "      <th>1</th>\n",
              "      <td>1.195169</td>\n",
              "      <td>0.626579</td>\n",
              "      <td>1.254893</td>\n",
              "    </tr>\n",
              "    <tr>\n",
              "      <th>2</th>\n",
              "      <td>1.729855</td>\n",
              "      <td>0.444602</td>\n",
              "      <td>1.076429</td>\n",
              "    </tr>\n",
              "    <tr>\n",
              "      <th>3</th>\n",
              "      <td>0.471195</td>\n",
              "      <td>1.309655</td>\n",
              "      <td>0.597276</td>\n",
              "    </tr>\n",
              "    <tr>\n",
              "      <th>4</th>\n",
              "      <td>0.463312</td>\n",
              "      <td>1.011971</td>\n",
              "      <td>0.383304</td>\n",
              "    </tr>\n",
              "  </tbody>\n",
              "</table>\n",
              "</div>"
            ],
            "text/plain": [
              "          x         y         z\n",
              "0  0.753564  1.530286  0.956155\n",
              "1  1.195169  0.626579  1.254893\n",
              "2  1.729855  0.444602  1.076429\n",
              "3  0.471195  1.309655  0.597276\n",
              "4  0.463312  1.011971  0.383304"
            ]
          },
          "metadata": {
            "tags": []
          },
          "execution_count": 17
        }
      ]
    },
    {
      "cell_type": "markdown",
      "metadata": {
        "id": "_twW9LRvH6rC",
        "colab_type": "text"
      },
      "source": [
        "#### Try with less columns\n",
        "\n",
        "(No go, we end up with a higher loss)"
      ]
    },
    {
      "cell_type": "code",
      "metadata": {
        "id": "cs69JDFMHy6P",
        "colab_type": "code",
        "colab": {}
      },
      "source": [
        "headers = ['acousticness','danceability','energy','instrumentalness','loudness','speechiness','valence', 'key', 'mode']\n",
        "df_new = df[headers]"
      ],
      "execution_count": null,
      "outputs": []
    },
    {
      "cell_type": "code",
      "metadata": {
        "id": "fFo0p1HTItDM",
        "colab_type": "code",
        "colab": {
          "base_uri": "https://localhost:8080/"
        },
        "outputId": "abd1af12-5843-40c5-f3ef-099ab5954793"
      },
      "source": [
        "# Normalise the data\n",
        "scaler = MinMaxScaler()\n",
        "data_scaled = scaler.fit_transform(df_new)\n",
        "\n",
        "# set the scaled data to a new df\n",
        "df_scaled = pd.DataFrame(data_scaled,columns=headers)\n",
        "df_scaled.head()"
      ],
      "execution_count": null,
      "outputs": [
        {
          "output_type": "execute_result",
          "data": {
            "text/html": [
              "<div>\n",
              "<style scoped>\n",
              "    .dataframe tbody tr th:only-of-type {\n",
              "        vertical-align: middle;\n",
              "    }\n",
              "\n",
              "    .dataframe tbody tr th {\n",
              "        vertical-align: top;\n",
              "    }\n",
              "\n",
              "    .dataframe thead th {\n",
              "        text-align: right;\n",
              "    }\n",
              "</style>\n",
              "<table border=\"1\" class=\"dataframe\">\n",
              "  <thead>\n",
              "    <tr style=\"text-align: right;\">\n",
              "      <th></th>\n",
              "      <th>acousticness</th>\n",
              "      <th>danceability</th>\n",
              "      <th>energy</th>\n",
              "      <th>instrumentalness</th>\n",
              "      <th>loudness</th>\n",
              "      <th>speechiness</th>\n",
              "      <th>valence</th>\n",
              "      <th>key</th>\n",
              "      <th>mode</th>\n",
              "    </tr>\n",
              "  </thead>\n",
              "  <tbody>\n",
              "    <tr>\n",
              "      <th>0</th>\n",
              "      <td>0.613454</td>\n",
              "      <td>0.356292</td>\n",
              "      <td>0.910909</td>\n",
              "      <td>0.000000</td>\n",
              "      <td>0.900856</td>\n",
              "      <td>0.032070</td>\n",
              "      <td>0.814</td>\n",
              "      <td>0.090909</td>\n",
              "      <td>1.0</td>\n",
              "    </tr>\n",
              "    <tr>\n",
              "      <th>1</th>\n",
              "      <td>0.246988</td>\n",
              "      <td>0.571934</td>\n",
              "      <td>0.737732</td>\n",
              "      <td>0.000000</td>\n",
              "      <td>0.834469</td>\n",
              "      <td>0.068374</td>\n",
              "      <td>0.816</td>\n",
              "      <td>0.545455</td>\n",
              "      <td>0.0</td>\n",
              "    </tr>\n",
              "    <tr>\n",
              "      <th>2</th>\n",
              "      <td>0.955823</td>\n",
              "      <td>0.650252</td>\n",
              "      <td>0.131113</td>\n",
              "      <td>0.000000</td>\n",
              "      <td>0.686429</td>\n",
              "      <td>0.014818</td>\n",
              "      <td>0.368</td>\n",
              "      <td>0.000000</td>\n",
              "      <td>0.0</td>\n",
              "    </tr>\n",
              "    <tr>\n",
              "      <th>3</th>\n",
              "      <td>0.705823</td>\n",
              "      <td>0.196438</td>\n",
              "      <td>0.326313</td>\n",
              "      <td>0.000000</td>\n",
              "      <td>0.716695</td>\n",
              "      <td>0.018311</td>\n",
              "      <td>0.227</td>\n",
              "      <td>0.090909</td>\n",
              "      <td>1.0</td>\n",
              "    </tr>\n",
              "    <tr>\n",
              "      <th>4</th>\n",
              "      <td>0.953815</td>\n",
              "      <td>0.294067</td>\n",
              "      <td>0.225209</td>\n",
              "      <td>0.123123</td>\n",
              "      <td>0.557054</td>\n",
              "      <td>0.024767</td>\n",
              "      <td>0.390</td>\n",
              "      <td>0.454545</td>\n",
              "      <td>1.0</td>\n",
              "    </tr>\n",
              "  </tbody>\n",
              "</table>\n",
              "</div>"
            ],
            "text/plain": [
              "   acousticness  danceability    energy  ...  valence       key  mode\n",
              "0      0.613454      0.356292  0.910909  ...    0.814  0.090909   1.0\n",
              "1      0.246988      0.571934  0.737732  ...    0.816  0.545455   0.0\n",
              "2      0.955823      0.650252  0.131113  ...    0.368  0.000000   0.0\n",
              "3      0.705823      0.196438  0.326313  ...    0.227  0.090909   1.0\n",
              "4      0.953815      0.294067  0.225209  ...    0.390  0.454545   1.0\n",
              "\n",
              "[5 rows x 9 columns]"
            ]
          },
          "metadata": {
            "tags": []
          },
          "execution_count": 51
        }
      ]
    },
    {
      "cell_type": "code",
      "metadata": {
        "id": "TF2KTqSyI0XR",
        "colab_type": "code",
        "colab": {
          "base_uri": "https://localhost:8080/"
        },
        "outputId": "60c1016a-460d-44c0-8e3e-1975045d9b26"
      },
      "source": [
        "# create the actual autoencoder\n",
        "\n",
        "# set the input dimentions to what is in the df_new\n",
        "input_dim = df_new.shape[1]  # 14\n",
        "\n",
        "# Number of neurons in each Layer [14, 7, 3, ...] of encoders\n",
        "input_layer = Input(shape=(input_dim, ))\n",
        "encoder_layer_1 = Dense(6, activation=\"relu\", activity_regularizer=regularizers.l1(10e-5))(input_layer)\n",
        "encoder_layer_2 = Dense(3, activation=\"relu\")(encoder_layer_1)\n",
        "\n",
        "# Crear encoder model\n",
        "encoder = Model(inputs=input_layer, outputs=encoder_layer_2)\n",
        "\n",
        "decoder_1 = Dense(6, activation='relu')(encoder_layer_2)\n",
        "decoder_output = Dense(input_dim, activation = 'sigmoid')(decoder_1)\n",
        "\n",
        "autoencoder = Model(input_layer, decoder_output)\n",
        "\n",
        "autoencoder.summary()"
      ],
      "execution_count": null,
      "outputs": [
        {
          "output_type": "stream",
          "text": [
            "Model: \"model_10\"\n",
            "_________________________________________________________________\n",
            "Layer (type)                 Output Shape              Param #   \n",
            "=================================================================\n",
            "input_5 (InputLayer)         (None, 9)                 0         \n",
            "_________________________________________________________________\n",
            "dense_17 (Dense)             (None, 6)                 60        \n",
            "_________________________________________________________________\n",
            "dense_18 (Dense)             (None, 3)                 21        \n",
            "_________________________________________________________________\n",
            "dense_19 (Dense)             (None, 6)                 24        \n",
            "_________________________________________________________________\n",
            "dense_20 (Dense)             (None, 9)                 63        \n",
            "=================================================================\n",
            "Total params: 168\n",
            "Trainable params: 168\n",
            "Non-trainable params: 0\n",
            "_________________________________________________________________\n"
          ],
          "name": "stdout"
        }
      ]
    },
    {
      "cell_type": "code",
      "metadata": {
        "id": "yymzgU09I4wn",
        "colab_type": "code",
        "colab": {
          "base_uri": "https://localhost:8080/"
        },
        "outputId": "49e7cd07-57aa-4c8f-c43a-75e2f48deb34"
      },
      "source": [
        "# compile the autoencoder\n",
        "autoencoder.compile(optimizer='nadam',\n",
        "                    loss='binary_crossentropy') \n",
        "                    \n",
        "stop = EarlyStopping(monitor='val_loss', min_delta=0.001, patience=3)\n",
        "\n",
        "# fit the model\n",
        "autoencoder.fit(df_scaled, df_scaled,\n",
        "                epochs=100,\n",
        "                batch_size=128,\n",
        "                validation_split=0.2,\n",
        "                callbacks=[stop]) "
      ],
      "execution_count": null,
      "outputs": [
        {
          "output_type": "stream",
          "text": [
            "Train on 186180 samples, validate on 46545 samples\n",
            "Epoch 1/100\n",
            "186180/186180 [==============================] - 8s 42us/step - loss: 0.5335 - val_loss: 0.5178\n",
            "Epoch 2/100\n",
            "186180/186180 [==============================] - 8s 43us/step - loss: 0.4768 - val_loss: 0.4740\n",
            "Epoch 3/100\n",
            "186180/186180 [==============================] - 8s 43us/step - loss: 0.4680 - val_loss: 0.4668\n",
            "Epoch 4/100\n",
            "186180/186180 [==============================] - 8s 43us/step - loss: 0.4654 - val_loss: 0.4621\n",
            "Epoch 5/100\n",
            "186180/186180 [==============================] - 8s 42us/step - loss: 0.4640 - val_loss: 0.4603\n",
            "Epoch 6/100\n",
            "186180/186180 [==============================] - 8s 43us/step - loss: 0.4632 - val_loss: 0.4592\n",
            "Epoch 7/100\n",
            "186180/186180 [==============================] - 8s 45us/step - loss: 0.4626 - val_loss: 0.4591\n",
            "Epoch 8/100\n",
            "186180/186180 [==============================] - 8s 43us/step - loss: 0.4622 - val_loss: 0.4590\n",
            "Epoch 9/100\n",
            "186180/186180 [==============================] - 8s 43us/step - loss: 0.4619 - val_loss: 0.4567\n",
            "Epoch 10/100\n",
            "186180/186180 [==============================] - 8s 42us/step - loss: 0.4617 - val_loss: 0.4576\n",
            "Epoch 11/100\n",
            "186180/186180 [==============================] - 8s 43us/step - loss: 0.4615 - val_loss: 0.4578\n",
            "Epoch 12/100\n",
            "186180/186180 [==============================] - 8s 42us/step - loss: 0.4614 - val_loss: 0.4569\n"
          ],
          "name": "stdout"
        },
        {
          "output_type": "execute_result",
          "data": {
            "text/plain": [
              "<keras.callbacks.callbacks.History at 0x7f354e103ef0>"
            ]
          },
          "metadata": {
            "tags": []
          },
          "execution_count": 54
        }
      ]
    },
    {
      "cell_type": "markdown",
      "metadata": {
        "id": "M7DIqSIxMA8e",
        "colab_type": "text"
      },
      "source": [
        "#### Other Testing"
      ]
    },
    {
      "cell_type": "code",
      "metadata": {
        "id": "PTBYpdzAIfv-",
        "colab_type": "code",
        "colab": {}
      },
      "source": [
        "########\n",
        "## try resonstructing a song to see accuracy visually.\n",
        "########\n",
        "df_input = df_scaled[:1]\n",
        "df_output = pd.DataFrame(autoencoder.predict(df_input),columns=headers)"
      ],
      "execution_count": 24,
      "outputs": []
    },
    {
      "cell_type": "code",
      "metadata": {
        "id": "pu9ilVSeOyg-",
        "colab_type": "code",
        "colab": {
          "base_uri": "https://localhost:8080/",
          "height": 78
        },
        "outputId": "4235df33-cfc5-41fe-9293-66f1658f32c5"
      },
      "source": [
        "# Starting scaled data\n",
        "df_input.head()"
      ],
      "execution_count": null,
      "outputs": [
        {
          "output_type": "execute_result",
          "data": {
            "text/html": [
              "<div>\n",
              "<style scoped>\n",
              "    .dataframe tbody tr th:only-of-type {\n",
              "        vertical-align: middle;\n",
              "    }\n",
              "\n",
              "    .dataframe tbody tr th {\n",
              "        vertical-align: top;\n",
              "    }\n",
              "\n",
              "    .dataframe thead th {\n",
              "        text-align: right;\n",
              "    }\n",
              "</style>\n",
              "<table border=\"1\" class=\"dataframe\">\n",
              "  <thead>\n",
              "    <tr style=\"text-align: right;\">\n",
              "      <th></th>\n",
              "      <th>acousticness</th>\n",
              "      <th>danceability</th>\n",
              "      <th>duration_ms</th>\n",
              "      <th>energy</th>\n",
              "      <th>instrumentalness</th>\n",
              "      <th>liveness</th>\n",
              "      <th>loudness</th>\n",
              "      <th>speechiness</th>\n",
              "      <th>tempo</th>\n",
              "      <th>valence</th>\n",
              "      <th>key</th>\n",
              "      <th>mode</th>\n",
              "      <th>time_signature</th>\n",
              "    </tr>\n",
              "  </thead>\n",
              "  <tbody>\n",
              "    <tr>\n",
              "      <th>0</th>\n",
              "      <td>0.613454</td>\n",
              "      <td>0.356292</td>\n",
              "      <td>0.015167</td>\n",
              "      <td>0.910909</td>\n",
              "      <td>0.0</td>\n",
              "      <td>0.339614</td>\n",
              "      <td>0.900856</td>\n",
              "      <td>0.03207</td>\n",
              "      <td>0.642704</td>\n",
              "      <td>0.814</td>\n",
              "      <td>0.090909</td>\n",
              "      <td>1.0</td>\n",
              "      <td>0.8</td>\n",
              "    </tr>\n",
              "  </tbody>\n",
              "</table>\n",
              "</div>"
            ],
            "text/plain": [
              "   acousticness  danceability  duration_ms  ...       key  mode  time_signature\n",
              "0      0.613454      0.356292     0.015167  ...  0.090909   1.0             0.8\n",
              "\n",
              "[1 rows x 13 columns]"
            ]
          },
          "metadata": {
            "tags": []
          },
          "execution_count": 139
        }
      ]
    },
    {
      "cell_type": "code",
      "metadata": {
        "id": "uhf3yN7XPD8E",
        "colab_type": "code",
        "colab": {
          "base_uri": "https://localhost:8080/",
          "height": 78
        },
        "outputId": "8080fef4-e35b-4c93-ff32-ebee5de70911"
      },
      "source": [
        "# reconstructed scaled data\n",
        "df_output.head()"
      ],
      "execution_count": null,
      "outputs": [
        {
          "output_type": "execute_result",
          "data": {
            "text/html": [
              "<div>\n",
              "<style scoped>\n",
              "    .dataframe tbody tr th:only-of-type {\n",
              "        vertical-align: middle;\n",
              "    }\n",
              "\n",
              "    .dataframe tbody tr th {\n",
              "        vertical-align: top;\n",
              "    }\n",
              "\n",
              "    .dataframe thead th {\n",
              "        text-align: right;\n",
              "    }\n",
              "</style>\n",
              "<table border=\"1\" class=\"dataframe\">\n",
              "  <thead>\n",
              "    <tr style=\"text-align: right;\">\n",
              "      <th></th>\n",
              "      <th>acousticness</th>\n",
              "      <th>danceability</th>\n",
              "      <th>duration_ms</th>\n",
              "      <th>energy</th>\n",
              "      <th>instrumentalness</th>\n",
              "      <th>liveness</th>\n",
              "      <th>loudness</th>\n",
              "      <th>speechiness</th>\n",
              "      <th>tempo</th>\n",
              "      <th>valence</th>\n",
              "      <th>key</th>\n",
              "      <th>mode</th>\n",
              "      <th>time_signature</th>\n",
              "    </tr>\n",
              "  </thead>\n",
              "  <tbody>\n",
              "    <tr>\n",
              "      <th>0</th>\n",
              "      <td>0.387571</td>\n",
              "      <td>0.65317</td>\n",
              "      <td>0.035517</td>\n",
              "      <td>0.59674</td>\n",
              "      <td>4.697787e-09</td>\n",
              "      <td>0.230046</td>\n",
              "      <td>0.791368</td>\n",
              "      <td>0.114692</td>\n",
              "      <td>0.412489</td>\n",
              "      <td>0.648475</td>\n",
              "      <td>0.122968</td>\n",
              "      <td>1.0</td>\n",
              "      <td>0.78154</td>\n",
              "    </tr>\n",
              "  </tbody>\n",
              "</table>\n",
              "</div>"
            ],
            "text/plain": [
              "   acousticness  danceability  duration_ms  ...       key  mode  time_signature\n",
              "0      0.387571       0.65317     0.035517  ...  0.122968   1.0         0.78154\n",
              "\n",
              "[1 rows x 13 columns]"
            ]
          },
          "metadata": {
            "tags": []
          },
          "execution_count": 140
        }
      ]
    },
    {
      "cell_type": "code",
      "metadata": {
        "id": "VV_20U9TPt4O",
        "colab_type": "code",
        "colab": {
          "base_uri": "https://localhost:8080/",
          "height": 78
        },
        "outputId": "f575de5c-2b4f-4ccb-f023-88274de8843c"
      },
      "source": [
        "# the difference between the two\n",
        "df_difference = df_input-df_output\n",
        "df_difference.head()"
      ],
      "execution_count": null,
      "outputs": [
        {
          "output_type": "execute_result",
          "data": {
            "text/html": [
              "<div>\n",
              "<style scoped>\n",
              "    .dataframe tbody tr th:only-of-type {\n",
              "        vertical-align: middle;\n",
              "    }\n",
              "\n",
              "    .dataframe tbody tr th {\n",
              "        vertical-align: top;\n",
              "    }\n",
              "\n",
              "    .dataframe thead th {\n",
              "        text-align: right;\n",
              "    }\n",
              "</style>\n",
              "<table border=\"1\" class=\"dataframe\">\n",
              "  <thead>\n",
              "    <tr style=\"text-align: right;\">\n",
              "      <th></th>\n",
              "      <th>acousticness</th>\n",
              "      <th>danceability</th>\n",
              "      <th>duration_ms</th>\n",
              "      <th>energy</th>\n",
              "      <th>instrumentalness</th>\n",
              "      <th>liveness</th>\n",
              "      <th>loudness</th>\n",
              "      <th>speechiness</th>\n",
              "      <th>tempo</th>\n",
              "      <th>valence</th>\n",
              "      <th>key</th>\n",
              "      <th>mode</th>\n",
              "      <th>time_signature</th>\n",
              "    </tr>\n",
              "  </thead>\n",
              "  <tbody>\n",
              "    <tr>\n",
              "      <th>0</th>\n",
              "      <td>0.225883</td>\n",
              "      <td>-0.296878</td>\n",
              "      <td>-0.02035</td>\n",
              "      <td>0.314169</td>\n",
              "      <td>-4.697787e-09</td>\n",
              "      <td>0.109568</td>\n",
              "      <td>0.109488</td>\n",
              "      <td>-0.082621</td>\n",
              "      <td>0.230215</td>\n",
              "      <td>0.165525</td>\n",
              "      <td>-0.032059</td>\n",
              "      <td>0.0</td>\n",
              "      <td>0.01846</td>\n",
              "    </tr>\n",
              "  </tbody>\n",
              "</table>\n",
              "</div>"
            ],
            "text/plain": [
              "   acousticness  danceability  duration_ms  ...       key  mode  time_signature\n",
              "0      0.225883     -0.296878     -0.02035  ... -0.032059   0.0         0.01846\n",
              "\n",
              "[1 rows x 13 columns]"
            ]
          },
          "metadata": {
            "tags": []
          },
          "execution_count": 141
        }
      ]
    },
    {
      "cell_type": "markdown",
      "metadata": {
        "id": "V4jpSNib2IXf",
        "colab_type": "text"
      },
      "source": [
        "#### Save using Tensorflow"
      ]
    },
    {
      "cell_type": "code",
      "metadata": {
        "id": "pu2QFqEM2EiR",
        "colab_type": "code",
        "colab": {}
      },
      "source": [
        "autoencoder.save('auto_model.sav')"
      ],
      "execution_count": 19,
      "outputs": []
    },
    {
      "cell_type": "code",
      "metadata": {
        "id": "GWb8xpSb3ZXs",
        "colab_type": "code",
        "colab": {}
      },
      "source": [
        "import tensorflow as tf\n",
        "new_model = tf.keras.models.load_model('auto_model.sav')"
      ],
      "execution_count": 27,
      "outputs": []
    },
    {
      "cell_type": "code",
      "metadata": {
        "id": "Zu4ACPv53dXX",
        "colab_type": "code",
        "colab": {
          "base_uri": "https://localhost:8080/",
          "height": 90
        },
        "outputId": "e13bf4ae-eaf4-4f1f-9d03-7411ef25d648"
      },
      "source": [
        "new_model.predict(df_input)"
      ],
      "execution_count": 28,
      "outputs": [
        {
          "output_type": "execute_result",
          "data": {
            "text/plain": [
              "array([[3.2680255e-01, 5.5503082e-01, 4.2354852e-02, 5.9590572e-01,\n",
              "        2.4852557e-07, 2.5214106e-01, 7.7141172e-01, 1.2222656e-01,\n",
              "        3.9282838e-01, 4.5950353e-01, 1.0952108e-01, 1.0000000e+00,\n",
              "        7.8956032e-01]], dtype=float32)"
            ]
          },
          "metadata": {
            "tags": []
          },
          "execution_count": 28
        }
      ]
    },
    {
      "cell_type": "markdown",
      "metadata": {
        "id": "6SZBYnKI7ZU5",
        "colab_type": "text"
      },
      "source": [
        "#### Pickle the Model"
      ]
    },
    {
      "cell_type": "code",
      "metadata": {
        "id": "u3lSgxBh7D2-",
        "colab_type": "code",
        "colab": {
          "base_uri": "https://localhost:8080/",
          "height": 35
        },
        "outputId": "4dbd3494-c685-437e-f720-5a1b7d384538"
      },
      "source": [
        "import pickle\n",
        "\n",
        "# Dump the trained classifier (autoencoder)  with Pickle\n",
        "pickle_filename = 'autoencoder_model.pkl'\n",
        "pickled_model = open(pickle_filename, 'wb')  # Open the file to save as pkl file\n",
        "pickle.dump(autoencoder, pickled_model)\n",
        "pickled_model.close() # Close the pickle instances\n",
        "\n",
        "# Loading the saved model\n",
        "model_pkl = open(pickle_filename, 'rb')\n",
        "autoencoder_model = pickle.load(model_pkl)\n",
        "print (\"Loaded model :: \", autoencoder_model)  # print to verify"
      ],
      "execution_count": null,
      "outputs": [
        {
          "output_type": "stream",
          "text": [
            "Loaded model ::  <keras.engine.training.Model object at 0x7f3545727fd0>\n"
          ],
          "name": "stdout"
        }
      ]
    },
    {
      "cell_type": "code",
      "metadata": {
        "id": "SxSetakZ9JUE",
        "colab_type": "code",
        "colab": {
          "base_uri": "https://localhost:8080/",
          "height": 78
        },
        "outputId": "b8f1e536-1b7b-4cb2-b39d-7a40c073b67a"
      },
      "source": [
        "# Get test data\n",
        "\n",
        "df_input = df_scaled[:1]\n",
        "encoded_data_test = pd.DataFrame(encoder.predict(df_input))\n",
        "encoded_data_test.columns = ['x', 'y', 'z']\n",
        "encoded_data_test.head()"
      ],
      "execution_count": null,
      "outputs": [
        {
          "output_type": "execute_result",
          "data": {
            "text/html": [
              "<div>\n",
              "<style scoped>\n",
              "    .dataframe tbody tr th:only-of-type {\n",
              "        vertical-align: middle;\n",
              "    }\n",
              "\n",
              "    .dataframe tbody tr th {\n",
              "        vertical-align: top;\n",
              "    }\n",
              "\n",
              "    .dataframe thead th {\n",
              "        text-align: right;\n",
              "    }\n",
              "</style>\n",
              "<table border=\"1\" class=\"dataframe\">\n",
              "  <thead>\n",
              "    <tr style=\"text-align: right;\">\n",
              "      <th></th>\n",
              "      <th>x</th>\n",
              "      <th>y</th>\n",
              "      <th>z</th>\n",
              "    </tr>\n",
              "  </thead>\n",
              "  <tbody>\n",
              "    <tr>\n",
              "      <th>0</th>\n",
              "      <td>0.900296</td>\n",
              "      <td>0.941521</td>\n",
              "      <td>0.857154</td>\n",
              "    </tr>\n",
              "  </tbody>\n",
              "</table>\n",
              "</div>"
            ],
            "text/plain": [
              "          x         y         z\n",
              "0  0.900296  0.941521  0.857154"
            ]
          },
          "metadata": {
            "tags": []
          },
          "execution_count": 143
        }
      ]
    },
    {
      "cell_type": "code",
      "metadata": {
        "id": "GLht9w2M_P1s",
        "colab_type": "code",
        "colab": {}
      },
      "source": [
        "test_x = encoder.predict(df_input)[0][0]\n",
        "test_y = encoder.predict(df_input)[0][1]\n",
        "test_z = encoder.predict(df_input)[0][2]"
      ],
      "execution_count": null,
      "outputs": []
    },
    {
      "cell_type": "markdown",
      "metadata": {
        "id": "DPXAZgkT780L",
        "colab_type": "text"
      },
      "source": [
        "### Get Distance"
      ]
    },
    {
      "cell_type": "code",
      "metadata": {
        "id": "tEgdoI73aGzD",
        "colab_type": "code",
        "colab": {}
      },
      "source": [
        "# example of euclidian distance\n",
        "from scipy.spatial import distance\n",
        "a = (1, 2, 3)\n",
        "b = (4, 5, 6)\n",
        "dst = distance.euclidean(a, b)"
      ],
      "execution_count": 20,
      "outputs": []
    },
    {
      "cell_type": "code",
      "metadata": {
        "id": "xu44DXcJ-deZ",
        "colab_type": "code",
        "colab": {
          "base_uri": "https://localhost:8080/",
          "height": 198
        },
        "outputId": "63a68dd5-9b22-49a0-f3ab-2d75bcfe1bcb"
      },
      "source": [
        "encoded_data.head()"
      ],
      "execution_count": 21,
      "outputs": [
        {
          "output_type": "execute_result",
          "data": {
            "text/html": [
              "<div>\n",
              "<style scoped>\n",
              "    .dataframe tbody tr th:only-of-type {\n",
              "        vertical-align: middle;\n",
              "    }\n",
              "\n",
              "    .dataframe tbody tr th {\n",
              "        vertical-align: top;\n",
              "    }\n",
              "\n",
              "    .dataframe thead th {\n",
              "        text-align: right;\n",
              "    }\n",
              "</style>\n",
              "<table border=\"1\" class=\"dataframe\">\n",
              "  <thead>\n",
              "    <tr style=\"text-align: right;\">\n",
              "      <th></th>\n",
              "      <th>x</th>\n",
              "      <th>y</th>\n",
              "      <th>z</th>\n",
              "    </tr>\n",
              "  </thead>\n",
              "  <tbody>\n",
              "    <tr>\n",
              "      <th>0</th>\n",
              "      <td>0.753564</td>\n",
              "      <td>1.530286</td>\n",
              "      <td>0.956155</td>\n",
              "    </tr>\n",
              "    <tr>\n",
              "      <th>1</th>\n",
              "      <td>1.195169</td>\n",
              "      <td>0.626579</td>\n",
              "      <td>1.254893</td>\n",
              "    </tr>\n",
              "    <tr>\n",
              "      <th>2</th>\n",
              "      <td>1.729855</td>\n",
              "      <td>0.444602</td>\n",
              "      <td>1.076429</td>\n",
              "    </tr>\n",
              "    <tr>\n",
              "      <th>3</th>\n",
              "      <td>0.471195</td>\n",
              "      <td>1.309655</td>\n",
              "      <td>0.597276</td>\n",
              "    </tr>\n",
              "    <tr>\n",
              "      <th>4</th>\n",
              "      <td>0.463312</td>\n",
              "      <td>1.011971</td>\n",
              "      <td>0.383304</td>\n",
              "    </tr>\n",
              "  </tbody>\n",
              "</table>\n",
              "</div>"
            ],
            "text/plain": [
              "          x         y         z\n",
              "0  0.753564  1.530286  0.956155\n",
              "1  1.195169  0.626579  1.254893\n",
              "2  1.729855  0.444602  1.076429\n",
              "3  0.471195  1.309655  0.597276\n",
              "4  0.463312  1.011971  0.383304"
            ]
          },
          "metadata": {
            "tags": []
          },
          "execution_count": 21
        }
      ]
    },
    {
      "cell_type": "code",
      "metadata": {
        "id": "z8yQlRoy0ujX",
        "colab_type": "code",
        "colab": {
          "base_uri": "https://localhost:8080/",
          "height": 198
        },
        "outputId": "11283607-98e9-4573-b492-bee10d8dd4c2"
      },
      "source": [
        "encoded_data['track_id'] = df['track_id']\n",
        "encoded_data.head()"
      ],
      "execution_count": 22,
      "outputs": [
        {
          "output_type": "execute_result",
          "data": {
            "text/html": [
              "<div>\n",
              "<style scoped>\n",
              "    .dataframe tbody tr th:only-of-type {\n",
              "        vertical-align: middle;\n",
              "    }\n",
              "\n",
              "    .dataframe tbody tr th {\n",
              "        vertical-align: top;\n",
              "    }\n",
              "\n",
              "    .dataframe thead th {\n",
              "        text-align: right;\n",
              "    }\n",
              "</style>\n",
              "<table border=\"1\" class=\"dataframe\">\n",
              "  <thead>\n",
              "    <tr style=\"text-align: right;\">\n",
              "      <th></th>\n",
              "      <th>x</th>\n",
              "      <th>y</th>\n",
              "      <th>z</th>\n",
              "      <th>track_id</th>\n",
              "    </tr>\n",
              "  </thead>\n",
              "  <tbody>\n",
              "    <tr>\n",
              "      <th>0</th>\n",
              "      <td>0.753564</td>\n",
              "      <td>1.530286</td>\n",
              "      <td>0.956155</td>\n",
              "      <td>0BRjO6ga9RKCKjfDqeFgWV</td>\n",
              "    </tr>\n",
              "    <tr>\n",
              "      <th>1</th>\n",
              "      <td>1.195169</td>\n",
              "      <td>0.626579</td>\n",
              "      <td>1.254893</td>\n",
              "      <td>0BjC1NfoEOOusryehmNudP</td>\n",
              "    </tr>\n",
              "    <tr>\n",
              "      <th>2</th>\n",
              "      <td>1.729855</td>\n",
              "      <td>0.444602</td>\n",
              "      <td>1.076429</td>\n",
              "      <td>0CoSDzoNIKCRs124s9uTVy</td>\n",
              "    </tr>\n",
              "    <tr>\n",
              "      <th>3</th>\n",
              "      <td>0.471195</td>\n",
              "      <td>1.309655</td>\n",
              "      <td>0.597276</td>\n",
              "      <td>0Gc6TVm52BwZD07Ki6tIvf</td>\n",
              "    </tr>\n",
              "    <tr>\n",
              "      <th>4</th>\n",
              "      <td>0.463312</td>\n",
              "      <td>1.011971</td>\n",
              "      <td>0.383304</td>\n",
              "      <td>0IuslXpMROHdEPvSl1fTQK</td>\n",
              "    </tr>\n",
              "  </tbody>\n",
              "</table>\n",
              "</div>"
            ],
            "text/plain": [
              "          x         y         z                track_id\n",
              "0  0.753564  1.530286  0.956155  0BRjO6ga9RKCKjfDqeFgWV\n",
              "1  1.195169  0.626579  1.254893  0BjC1NfoEOOusryehmNudP\n",
              "2  1.729855  0.444602  1.076429  0CoSDzoNIKCRs124s9uTVy\n",
              "3  0.471195  1.309655  0.597276  0Gc6TVm52BwZD07Ki6tIvf\n",
              "4  0.463312  1.011971  0.383304  0IuslXpMROHdEPvSl1fTQK"
            ]
          },
          "metadata": {
            "tags": []
          },
          "execution_count": 22
        }
      ]
    },
    {
      "cell_type": "code",
      "metadata": {
        "id": "Eu2r-uWB6D-E",
        "colab_type": "code",
        "colab": {}
      },
      "source": [
        "# save the encoded data as a .csv file    \n",
        "\n",
        "encoded_data.to_csv(\"encoded_data.csv\", index=False)"
      ],
      "execution_count": 23,
      "outputs": []
    },
    {
      "cell_type": "markdown",
      "metadata": {
        "id": "4mC9mBWLCQHZ",
        "colab_type": "text"
      },
      "source": [
        "### Test out the pickled model"
      ]
    },
    {
      "cell_type": "code",
      "metadata": {
        "id": "qDI_UrrS6Zry",
        "colab_type": "code",
        "colab": {
          "base_uri": "https://localhost:8080/",
          "height": 198
        },
        "outputId": "d469b39f-aa83-4b02-f5f7-f669699ef71b"
      },
      "source": [
        "# test out reading it in.\n",
        "df1 = pd.read_csv(\"encoded_data.csv\")\n",
        "df1.head()"
      ],
      "execution_count": null,
      "outputs": [
        {
          "output_type": "execute_result",
          "data": {
            "text/html": [
              "<div>\n",
              "<style scoped>\n",
              "    .dataframe tbody tr th:only-of-type {\n",
              "        vertical-align: middle;\n",
              "    }\n",
              "\n",
              "    .dataframe tbody tr th {\n",
              "        vertical-align: top;\n",
              "    }\n",
              "\n",
              "    .dataframe thead th {\n",
              "        text-align: right;\n",
              "    }\n",
              "</style>\n",
              "<table border=\"1\" class=\"dataframe\">\n",
              "  <thead>\n",
              "    <tr style=\"text-align: right;\">\n",
              "      <th></th>\n",
              "      <th>x</th>\n",
              "      <th>y</th>\n",
              "      <th>z</th>\n",
              "      <th>track_id</th>\n",
              "    </tr>\n",
              "  </thead>\n",
              "  <tbody>\n",
              "    <tr>\n",
              "      <th>0</th>\n",
              "      <td>0.900296</td>\n",
              "      <td>0.941521</td>\n",
              "      <td>0.857154</td>\n",
              "      <td>0BRjO6ga9RKCKjfDqeFgWV</td>\n",
              "    </tr>\n",
              "    <tr>\n",
              "      <th>1</th>\n",
              "      <td>0.517513</td>\n",
              "      <td>1.170685</td>\n",
              "      <td>0.946350</td>\n",
              "      <td>0BjC1NfoEOOusryehmNudP</td>\n",
              "    </tr>\n",
              "    <tr>\n",
              "      <th>2</th>\n",
              "      <td>0.526415</td>\n",
              "      <td>0.768503</td>\n",
              "      <td>1.088349</td>\n",
              "      <td>0CoSDzoNIKCRs124s9uTVy</td>\n",
              "    </tr>\n",
              "    <tr>\n",
              "      <th>3</th>\n",
              "      <td>0.817077</td>\n",
              "      <td>0.851855</td>\n",
              "      <td>1.309245</td>\n",
              "      <td>0Gc6TVm52BwZD07Ki6tIvf</td>\n",
              "    </tr>\n",
              "    <tr>\n",
              "      <th>4</th>\n",
              "      <td>0.990659</td>\n",
              "      <td>0.700613</td>\n",
              "      <td>1.353725</td>\n",
              "      <td>0IuslXpMROHdEPvSl1fTQK</td>\n",
              "    </tr>\n",
              "  </tbody>\n",
              "</table>\n",
              "</div>"
            ],
            "text/plain": [
              "          x         y         z                track_id\n",
              "0  0.900296  0.941521  0.857154  0BRjO6ga9RKCKjfDqeFgWV\n",
              "1  0.517513  1.170685  0.946350  0BjC1NfoEOOusryehmNudP\n",
              "2  0.526415  0.768503  1.088349  0CoSDzoNIKCRs124s9uTVy\n",
              "3  0.817077  0.851855  1.309245  0Gc6TVm52BwZD07Ki6tIvf\n",
              "4  0.990659  0.700613  1.353725  0IuslXpMROHdEPvSl1fTQK"
            ]
          },
          "metadata": {
            "tags": []
          },
          "execution_count": 149
        }
      ]
    },
    {
      "cell_type": "code",
      "metadata": {
        "id": "KTS90bXu-Sdc",
        "colab_type": "code",
        "colab": {
          "base_uri": "https://localhost:8080/",
          "height": 35
        },
        "outputId": "a0ce2f9d-9b1c-4724-a787-b9c1199e4c89"
      },
      "source": [
        "encoded_data_test[['x','y','z']].values"
      ],
      "execution_count": null,
      "outputs": [
        {
          "output_type": "execute_result",
          "data": {
            "text/plain": [
              "array([[0.90029585, 0.9415206 , 0.8571541 ]], dtype=float32)"
            ]
          },
          "metadata": {
            "tags": []
          },
          "execution_count": 150
        }
      ]
    },
    {
      "cell_type": "code",
      "metadata": {
        "id": "Yi26JNX9BiQh",
        "colab_type": "code",
        "colab": {}
      },
      "source": [
        "def get_e_dist(in_df):\n",
        "  return distance.euclidean(in_df[[0,1,2]], (test_x,test_y,test_z))"
      ],
      "execution_count": null,
      "outputs": []
    },
    {
      "cell_type": "code",
      "metadata": {
        "id": "IuhBe7kU-Bnn",
        "colab_type": "code",
        "colab": {}
      },
      "source": [
        "encoded_data['e_distance'] = encoded_data.apply(get_e_dist, axis=1)"
      ],
      "execution_count": null,
      "outputs": []
    },
    {
      "cell_type": "code",
      "metadata": {
        "id": "qUlj1cOXCKQE",
        "colab_type": "code",
        "colab": {
          "base_uri": "https://localhost:8080/",
          "height": 198
        },
        "outputId": "d80b51b4-cefd-47ca-e970-80a5c11f0e5b"
      },
      "source": [
        "encoded_data.head()"
      ],
      "execution_count": null,
      "outputs": [
        {
          "output_type": "execute_result",
          "data": {
            "text/html": [
              "<div>\n",
              "<style scoped>\n",
              "    .dataframe tbody tr th:only-of-type {\n",
              "        vertical-align: middle;\n",
              "    }\n",
              "\n",
              "    .dataframe tbody tr th {\n",
              "        vertical-align: top;\n",
              "    }\n",
              "\n",
              "    .dataframe thead th {\n",
              "        text-align: right;\n",
              "    }\n",
              "</style>\n",
              "<table border=\"1\" class=\"dataframe\">\n",
              "  <thead>\n",
              "    <tr style=\"text-align: right;\">\n",
              "      <th></th>\n",
              "      <th>x</th>\n",
              "      <th>y</th>\n",
              "      <th>z</th>\n",
              "      <th>track_id</th>\n",
              "      <th>e_distance</th>\n",
              "    </tr>\n",
              "  </thead>\n",
              "  <tbody>\n",
              "    <tr>\n",
              "      <th>0</th>\n",
              "      <td>0.900296</td>\n",
              "      <td>0.941521</td>\n",
              "      <td>0.857154</td>\n",
              "      <td>0BRjO6ga9RKCKjfDqeFgWV</td>\n",
              "      <td>5.960464e-08</td>\n",
              "    </tr>\n",
              "    <tr>\n",
              "      <th>1</th>\n",
              "      <td>0.517513</td>\n",
              "      <td>1.170685</td>\n",
              "      <td>0.946350</td>\n",
              "      <td>0BjC1NfoEOOusryehmNudP</td>\n",
              "      <td>4.549670e-01</td>\n",
              "    </tr>\n",
              "    <tr>\n",
              "      <th>2</th>\n",
              "      <td>0.526415</td>\n",
              "      <td>0.768503</td>\n",
              "      <td>1.088349</td>\n",
              "      <td>0CoSDzoNIKCRs124s9uTVy</td>\n",
              "      <td>4.724122e-01</td>\n",
              "    </tr>\n",
              "    <tr>\n",
              "      <th>3</th>\n",
              "      <td>0.817077</td>\n",
              "      <td>0.851855</td>\n",
              "      <td>1.309245</td>\n",
              "      <td>0Gc6TVm52BwZD07Ki6tIvf</td>\n",
              "      <td>4.683497e-01</td>\n",
              "    </tr>\n",
              "    <tr>\n",
              "      <th>4</th>\n",
              "      <td>0.990659</td>\n",
              "      <td>0.700613</td>\n",
              "      <td>1.353725</td>\n",
              "      <td>0IuslXpMROHdEPvSl1fTQK</td>\n",
              "      <td>5.592713e-01</td>\n",
              "    </tr>\n",
              "  </tbody>\n",
              "</table>\n",
              "</div>"
            ],
            "text/plain": [
              "          x         y         z                track_id    e_distance\n",
              "0  0.900296  0.941521  0.857154  0BRjO6ga9RKCKjfDqeFgWV  5.960464e-08\n",
              "1  0.517513  1.170685  0.946350  0BjC1NfoEOOusryehmNudP  4.549670e-01\n",
              "2  0.526415  0.768503  1.088349  0CoSDzoNIKCRs124s9uTVy  4.724122e-01\n",
              "3  0.817077  0.851855  1.309245  0Gc6TVm52BwZD07Ki6tIvf  4.683497e-01\n",
              "4  0.990659  0.700613  1.353725  0IuslXpMROHdEPvSl1fTQK  5.592713e-01"
            ]
          },
          "metadata": {
            "tags": []
          },
          "execution_count": 153
        }
      ]
    },
    {
      "cell_type": "markdown",
      "metadata": {
        "id": "tjAVWuBUCaI-",
        "colab_type": "text"
      },
      "source": [
        "#### Get the 5 smallest distances and show the visuals for the top 2"
      ]
    },
    {
      "cell_type": "code",
      "metadata": {
        "id": "Mrbz2JX7fVue",
        "colab_type": "code",
        "colab": {
          "base_uri": "https://localhost:8080/",
          "height": 119
        },
        "outputId": "df04c66c-366e-4b04-c310-201826169267"
      },
      "source": [
        "encoded_data['e_distance'].nsmallest(5)"
      ],
      "execution_count": null,
      "outputs": [
        {
          "output_type": "execute_result",
          "data": {
            "text/plain": [
              "0         5.960464e-08\n",
              "137871    3.013010e-03\n",
              "190202    3.036266e-03\n",
              "69761     3.136666e-03\n",
              "117514    3.136666e-03\n",
              "Name: e_distance, dtype: float64"
            ]
          },
          "metadata": {
            "tags": []
          },
          "execution_count": 46
        }
      ]
    },
    {
      "cell_type": "code",
      "metadata": {
        "id": "DXJ-2tj5gjfI",
        "colab_type": "code",
        "colab": {
          "base_uri": "https://localhost:8080/",
          "height": 68
        },
        "outputId": "c2a4f3a1-af75-4c6f-b716-01f80a7ea3af"
      },
      "source": [
        "print(df['track_name'][0])\n",
        "print(df['track_name'][137871])\n",
        "print(df['track_name'][190202])"
      ],
      "execution_count": null,
      "outputs": [
        {
          "output_type": "stream",
          "text": [
            "C'est beau de faire un Show\n",
            "Push Push\n",
            "Los Angeles Is Burning\n"
          ],
          "name": "stdout"
        }
      ]
    },
    {
      "cell_type": "code",
      "metadata": {
        "id": "JlBaRAtpiI_C",
        "colab_type": "code",
        "colab": {
          "base_uri": "https://localhost:8080/",
          "height": 213
        },
        "outputId": "18bdf46d-f707-409a-bece-8515c146ac43"
      },
      "source": [
        "df.iloc[[0,48095,38564]]\n"
      ],
      "execution_count": null,
      "outputs": [
        {
          "output_type": "execute_result",
          "data": {
            "text/html": [
              "<div>\n",
              "<style scoped>\n",
              "    .dataframe tbody tr th:only-of-type {\n",
              "        vertical-align: middle;\n",
              "    }\n",
              "\n",
              "    .dataframe tbody tr th {\n",
              "        vertical-align: top;\n",
              "    }\n",
              "\n",
              "    .dataframe thead th {\n",
              "        text-align: right;\n",
              "    }\n",
              "</style>\n",
              "<table border=\"1\" class=\"dataframe\">\n",
              "  <thead>\n",
              "    <tr style=\"text-align: right;\">\n",
              "      <th></th>\n",
              "      <th>genre</th>\n",
              "      <th>artist_name</th>\n",
              "      <th>track_name</th>\n",
              "      <th>track_id</th>\n",
              "      <th>popularity</th>\n",
              "      <th>acousticness</th>\n",
              "      <th>danceability</th>\n",
              "      <th>duration_ms</th>\n",
              "      <th>energy</th>\n",
              "      <th>instrumentalness</th>\n",
              "      <th>key</th>\n",
              "      <th>liveness</th>\n",
              "      <th>loudness</th>\n",
              "      <th>mode</th>\n",
              "      <th>speechiness</th>\n",
              "      <th>tempo</th>\n",
              "      <th>time_signature</th>\n",
              "      <th>valence</th>\n",
              "    </tr>\n",
              "  </thead>\n",
              "  <tbody>\n",
              "    <tr>\n",
              "      <th>0</th>\n",
              "      <td>Movie</td>\n",
              "      <td>Henri Salvador</td>\n",
              "      <td>C'est beau de faire un Show</td>\n",
              "      <td>0BRjO6ga9RKCKjfDqeFgWV</td>\n",
              "      <td>0</td>\n",
              "      <td>0.61100</td>\n",
              "      <td>0.389</td>\n",
              "      <td>99373</td>\n",
              "      <td>0.910</td>\n",
              "      <td>0.0000</td>\n",
              "      <td>C#</td>\n",
              "      <td>0.346</td>\n",
              "      <td>-1.828</td>\n",
              "      <td>Major</td>\n",
              "      <td>0.0525</td>\n",
              "      <td>166.969</td>\n",
              "      <td>4/4</td>\n",
              "      <td>0.814</td>\n",
              "    </tr>\n",
              "    <tr>\n",
              "      <th>48095</th>\n",
              "      <td>Blues</td>\n",
              "      <td>Shovels &amp; Rope</td>\n",
              "      <td>The Wire</td>\n",
              "      <td>6XYY2YLbbQ6oNaDTrk5DGU</td>\n",
              "      <td>41</td>\n",
              "      <td>0.00622</td>\n",
              "      <td>0.557</td>\n",
              "      <td>176890</td>\n",
              "      <td>0.554</td>\n",
              "      <td>0.0000</td>\n",
              "      <td>B</td>\n",
              "      <td>0.103</td>\n",
              "      <td>-6.506</td>\n",
              "      <td>Minor</td>\n",
              "      <td>0.0506</td>\n",
              "      <td>135.084</td>\n",
              "      <td>4/4</td>\n",
              "      <td>0.628</td>\n",
              "    </tr>\n",
              "    <tr>\n",
              "      <th>38564</th>\n",
              "      <td>Electronic</td>\n",
              "      <td>Moksi</td>\n",
              "      <td>Dream</td>\n",
              "      <td>2h4EfdqxQsoCEL7eKIdUGz</td>\n",
              "      <td>31</td>\n",
              "      <td>0.02050</td>\n",
              "      <td>0.829</td>\n",
              "      <td>170887</td>\n",
              "      <td>0.769</td>\n",
              "      <td>0.0663</td>\n",
              "      <td>B</td>\n",
              "      <td>0.152</td>\n",
              "      <td>-7.388</td>\n",
              "      <td>Major</td>\n",
              "      <td>0.0702</td>\n",
              "      <td>123.984</td>\n",
              "      <td>4/4</td>\n",
              "      <td>0.523</td>\n",
              "    </tr>\n",
              "  </tbody>\n",
              "</table>\n",
              "</div>"
            ],
            "text/plain": [
              "            genre     artist_name  ... time_signature valence\n",
              "0           Movie  Henri Salvador  ...            4/4   0.814\n",
              "48095       Blues  Shovels & Rope  ...            4/4   0.628\n",
              "38564  Electronic           Moksi  ...            4/4   0.523\n",
              "\n",
              "[3 rows x 18 columns]"
            ]
          },
          "metadata": {
            "tags": []
          },
          "execution_count": 57
        }
      ]
    },
    {
      "cell_type": "code",
      "metadata": {
        "id": "-ygt5fPVnhT-",
        "colab_type": "code",
        "colab": {}
      },
      "source": [
        "df_T = df_scaled.T"
      ],
      "execution_count": null,
      "outputs": []
    },
    {
      "cell_type": "code",
      "metadata": {
        "id": "n65EB0ObnGip",
        "colab_type": "code",
        "colab": {
          "base_uri": "https://localhost:8080/",
          "height": 542
        },
        "outputId": "4c2e12ee-6daa-46e1-d19c-62fa1b742376"
      },
      "source": [
        "import plotly.express as px\n",
        "\n",
        "fig = px.bar_polar(df_T, r = 0,hover_name=headers)\n",
        "fig.show()"
      ],
      "execution_count": null,
      "outputs": [
        {
          "output_type": "display_data",
          "data": {
            "text/html": [
              "<html>\n",
              "<head><meta charset=\"utf-8\" /></head>\n",
              "<body>\n",
              "    <div>\n",
              "            <script src=\"https://cdnjs.cloudflare.com/ajax/libs/mathjax/2.7.5/MathJax.js?config=TeX-AMS-MML_SVG\"></script><script type=\"text/javascript\">if (window.MathJax) {MathJax.Hub.Config({SVG: {font: \"STIX-Web\"}});}</script>\n",
              "                <script type=\"text/javascript\">window.PlotlyConfig = {MathJaxConfig: 'local'};</script>\n",
              "        <script src=\"https://cdn.plot.ly/plotly-latest.min.js\"></script>    \n",
              "            <div id=\"290ae3cd-54da-4baa-a3df-0257b60b9d08\" class=\"plotly-graph-div\" style=\"height:525px; width:100%;\"></div>\n",
              "            <script type=\"text/javascript\">\n",
              "                \n",
              "                    window.PLOTLYENV=window.PLOTLYENV || {};\n",
              "                    \n",
              "                if (document.getElementById(\"290ae3cd-54da-4baa-a3df-0257b60b9d08\")) {\n",
              "                    Plotly.newPlot(\n",
              "                        '290ae3cd-54da-4baa-a3df-0257b60b9d08',\n",
              "                        [{\"hoverlabel\": {\"namelength\": 0}, \"hovertemplate\": \"<b>%{hovertext}</b><br><br>0=%{r}\", \"hovertext\": [\"popularity\", \"acousticness\", \"danceability\", \"duration_ms\", \"energy\", \"instrumentalness\", \"liveness\", \"loudness\", \"speechiness\", \"tempo\", \"valence\"], \"legendgroup\": \"\", \"marker\": {\"color\": \"#636efa\"}, \"name\": \"\", \"r\": [0.0, 0.6134538152610441, 0.356292243321532, 0.015166689841860903, 0.9109091005552965, 0.0, 0.33961406803792676, 0.9008558566573549, 0.03207027942421676, 0.6427038828555834, 0.8140000000000001], \"showlegend\": false, \"subplot\": \"polar\", \"type\": \"barpolar\"}],\n",
              "                        {\"barmode\": \"relative\", \"legend\": {\"tracegroupgap\": 0}, \"margin\": {\"t\": 60}, \"polar\": {\"angularaxis\": {\"direction\": \"clockwise\", \"rotation\": 90}, \"domain\": {\"x\": [0.0, 1.0], \"y\": [0.0, 1.0]}}, \"template\": {\"data\": {\"bar\": [{\"error_x\": {\"color\": \"#2a3f5f\"}, \"error_y\": {\"color\": \"#2a3f5f\"}, \"marker\": {\"line\": {\"color\": \"#E5ECF6\", \"width\": 0.5}}, \"type\": \"bar\"}], \"barpolar\": [{\"marker\": {\"line\": {\"color\": \"#E5ECF6\", \"width\": 0.5}}, \"type\": \"barpolar\"}], \"carpet\": [{\"aaxis\": {\"endlinecolor\": \"#2a3f5f\", \"gridcolor\": \"white\", \"linecolor\": \"white\", \"minorgridcolor\": \"white\", \"startlinecolor\": \"#2a3f5f\"}, \"baxis\": {\"endlinecolor\": \"#2a3f5f\", \"gridcolor\": \"white\", \"linecolor\": \"white\", \"minorgridcolor\": \"white\", \"startlinecolor\": \"#2a3f5f\"}, \"type\": \"carpet\"}], \"choropleth\": [{\"colorbar\": {\"outlinewidth\": 0, \"ticks\": \"\"}, \"type\": \"choropleth\"}], \"contour\": [{\"colorbar\": {\"outlinewidth\": 0, \"ticks\": \"\"}, \"colorscale\": [[0.0, \"#0d0887\"], [0.1111111111111111, \"#46039f\"], [0.2222222222222222, \"#7201a8\"], [0.3333333333333333, \"#9c179e\"], [0.4444444444444444, \"#bd3786\"], [0.5555555555555556, \"#d8576b\"], [0.6666666666666666, \"#ed7953\"], [0.7777777777777778, \"#fb9f3a\"], [0.8888888888888888, \"#fdca26\"], [1.0, \"#f0f921\"]], \"type\": \"contour\"}], \"contourcarpet\": [{\"colorbar\": {\"outlinewidth\": 0, \"ticks\": \"\"}, \"type\": \"contourcarpet\"}], \"heatmap\": [{\"colorbar\": {\"outlinewidth\": 0, \"ticks\": \"\"}, \"colorscale\": [[0.0, \"#0d0887\"], [0.1111111111111111, \"#46039f\"], [0.2222222222222222, \"#7201a8\"], [0.3333333333333333, \"#9c179e\"], [0.4444444444444444, \"#bd3786\"], [0.5555555555555556, \"#d8576b\"], [0.6666666666666666, \"#ed7953\"], [0.7777777777777778, \"#fb9f3a\"], [0.8888888888888888, \"#fdca26\"], [1.0, \"#f0f921\"]], \"type\": \"heatmap\"}], \"heatmapgl\": [{\"colorbar\": {\"outlinewidth\": 0, \"ticks\": \"\"}, \"colorscale\": [[0.0, \"#0d0887\"], [0.1111111111111111, \"#46039f\"], [0.2222222222222222, \"#7201a8\"], [0.3333333333333333, \"#9c179e\"], [0.4444444444444444, \"#bd3786\"], [0.5555555555555556, \"#d8576b\"], [0.6666666666666666, \"#ed7953\"], [0.7777777777777778, \"#fb9f3a\"], [0.8888888888888888, \"#fdca26\"], [1.0, \"#f0f921\"]], \"type\": \"heatmapgl\"}], \"histogram\": [{\"marker\": {\"colorbar\": {\"outlinewidth\": 0, \"ticks\": \"\"}}, \"type\": \"histogram\"}], \"histogram2d\": [{\"colorbar\": {\"outlinewidth\": 0, \"ticks\": \"\"}, \"colorscale\": [[0.0, \"#0d0887\"], [0.1111111111111111, \"#46039f\"], [0.2222222222222222, \"#7201a8\"], [0.3333333333333333, \"#9c179e\"], [0.4444444444444444, \"#bd3786\"], [0.5555555555555556, \"#d8576b\"], [0.6666666666666666, \"#ed7953\"], [0.7777777777777778, \"#fb9f3a\"], [0.8888888888888888, \"#fdca26\"], [1.0, \"#f0f921\"]], \"type\": \"histogram2d\"}], \"histogram2dcontour\": [{\"colorbar\": {\"outlinewidth\": 0, \"ticks\": \"\"}, \"colorscale\": [[0.0, \"#0d0887\"], [0.1111111111111111, \"#46039f\"], [0.2222222222222222, \"#7201a8\"], [0.3333333333333333, \"#9c179e\"], [0.4444444444444444, \"#bd3786\"], [0.5555555555555556, \"#d8576b\"], [0.6666666666666666, \"#ed7953\"], [0.7777777777777778, \"#fb9f3a\"], [0.8888888888888888, \"#fdca26\"], [1.0, \"#f0f921\"]], \"type\": \"histogram2dcontour\"}], \"mesh3d\": [{\"colorbar\": {\"outlinewidth\": 0, \"ticks\": \"\"}, \"type\": \"mesh3d\"}], \"parcoords\": [{\"line\": {\"colorbar\": {\"outlinewidth\": 0, \"ticks\": \"\"}}, \"type\": \"parcoords\"}], \"pie\": [{\"automargin\": true, \"type\": \"pie\"}], \"scatter\": [{\"marker\": {\"colorbar\": {\"outlinewidth\": 0, \"ticks\": \"\"}}, \"type\": \"scatter\"}], \"scatter3d\": [{\"line\": {\"colorbar\": {\"outlinewidth\": 0, \"ticks\": \"\"}}, \"marker\": {\"colorbar\": {\"outlinewidth\": 0, \"ticks\": \"\"}}, \"type\": \"scatter3d\"}], \"scattercarpet\": [{\"marker\": {\"colorbar\": {\"outlinewidth\": 0, \"ticks\": \"\"}}, \"type\": \"scattercarpet\"}], \"scattergeo\": [{\"marker\": {\"colorbar\": {\"outlinewidth\": 0, \"ticks\": \"\"}}, \"type\": \"scattergeo\"}], \"scattergl\": [{\"marker\": {\"colorbar\": {\"outlinewidth\": 0, \"ticks\": \"\"}}, \"type\": \"scattergl\"}], \"scattermapbox\": [{\"marker\": {\"colorbar\": {\"outlinewidth\": 0, \"ticks\": \"\"}}, \"type\": \"scattermapbox\"}], \"scatterpolar\": [{\"marker\": {\"colorbar\": {\"outlinewidth\": 0, \"ticks\": \"\"}}, \"type\": \"scatterpolar\"}], \"scatterpolargl\": [{\"marker\": {\"colorbar\": {\"outlinewidth\": 0, \"ticks\": \"\"}}, \"type\": \"scatterpolargl\"}], \"scatterternary\": [{\"marker\": {\"colorbar\": {\"outlinewidth\": 0, \"ticks\": \"\"}}, \"type\": \"scatterternary\"}], \"surface\": [{\"colorbar\": {\"outlinewidth\": 0, \"ticks\": \"\"}, \"colorscale\": [[0.0, \"#0d0887\"], [0.1111111111111111, \"#46039f\"], [0.2222222222222222, \"#7201a8\"], [0.3333333333333333, \"#9c179e\"], [0.4444444444444444, \"#bd3786\"], [0.5555555555555556, \"#d8576b\"], [0.6666666666666666, \"#ed7953\"], [0.7777777777777778, \"#fb9f3a\"], [0.8888888888888888, \"#fdca26\"], [1.0, \"#f0f921\"]], \"type\": \"surface\"}], \"table\": [{\"cells\": {\"fill\": {\"color\": \"#EBF0F8\"}, \"line\": {\"color\": \"white\"}}, \"header\": {\"fill\": {\"color\": \"#C8D4E3\"}, \"line\": {\"color\": \"white\"}}, \"type\": \"table\"}]}, \"layout\": {\"annotationdefaults\": {\"arrowcolor\": \"#2a3f5f\", \"arrowhead\": 0, \"arrowwidth\": 1}, \"coloraxis\": {\"colorbar\": {\"outlinewidth\": 0, \"ticks\": \"\"}}, \"colorscale\": {\"diverging\": [[0, \"#8e0152\"], [0.1, \"#c51b7d\"], [0.2, \"#de77ae\"], [0.3, \"#f1b6da\"], [0.4, \"#fde0ef\"], [0.5, \"#f7f7f7\"], [0.6, \"#e6f5d0\"], [0.7, \"#b8e186\"], [0.8, \"#7fbc41\"], [0.9, \"#4d9221\"], [1, \"#276419\"]], \"sequential\": [[0.0, \"#0d0887\"], [0.1111111111111111, \"#46039f\"], [0.2222222222222222, \"#7201a8\"], [0.3333333333333333, \"#9c179e\"], [0.4444444444444444, \"#bd3786\"], [0.5555555555555556, \"#d8576b\"], [0.6666666666666666, \"#ed7953\"], [0.7777777777777778, \"#fb9f3a\"], [0.8888888888888888, \"#fdca26\"], [1.0, \"#f0f921\"]], \"sequentialminus\": [[0.0, \"#0d0887\"], [0.1111111111111111, \"#46039f\"], [0.2222222222222222, \"#7201a8\"], [0.3333333333333333, \"#9c179e\"], [0.4444444444444444, \"#bd3786\"], [0.5555555555555556, \"#d8576b\"], [0.6666666666666666, \"#ed7953\"], [0.7777777777777778, \"#fb9f3a\"], [0.8888888888888888, \"#fdca26\"], [1.0, \"#f0f921\"]]}, \"colorway\": [\"#636efa\", \"#EF553B\", \"#00cc96\", \"#ab63fa\", \"#FFA15A\", \"#19d3f3\", \"#FF6692\", \"#B6E880\", \"#FF97FF\", \"#FECB52\"], \"font\": {\"color\": \"#2a3f5f\"}, \"geo\": {\"bgcolor\": \"white\", \"lakecolor\": \"white\", \"landcolor\": \"#E5ECF6\", \"showlakes\": true, \"showland\": true, \"subunitcolor\": \"white\"}, \"hoverlabel\": {\"align\": \"left\"}, \"hovermode\": \"closest\", \"mapbox\": {\"style\": \"light\"}, \"paper_bgcolor\": \"white\", \"plot_bgcolor\": \"#E5ECF6\", \"polar\": {\"angularaxis\": {\"gridcolor\": \"white\", \"linecolor\": \"white\", \"ticks\": \"\"}, \"bgcolor\": \"#E5ECF6\", \"radialaxis\": {\"gridcolor\": \"white\", \"linecolor\": \"white\", \"ticks\": \"\"}}, \"scene\": {\"xaxis\": {\"backgroundcolor\": \"#E5ECF6\", \"gridcolor\": \"white\", \"gridwidth\": 2, \"linecolor\": \"white\", \"showbackground\": true, \"ticks\": \"\", \"zerolinecolor\": \"white\"}, \"yaxis\": {\"backgroundcolor\": \"#E5ECF6\", \"gridcolor\": \"white\", \"gridwidth\": 2, \"linecolor\": \"white\", \"showbackground\": true, \"ticks\": \"\", \"zerolinecolor\": \"white\"}, \"zaxis\": {\"backgroundcolor\": \"#E5ECF6\", \"gridcolor\": \"white\", \"gridwidth\": 2, \"linecolor\": \"white\", \"showbackground\": true, \"ticks\": \"\", \"zerolinecolor\": \"white\"}}, \"shapedefaults\": {\"line\": {\"color\": \"#2a3f5f\"}}, \"ternary\": {\"aaxis\": {\"gridcolor\": \"white\", \"linecolor\": \"white\", \"ticks\": \"\"}, \"baxis\": {\"gridcolor\": \"white\", \"linecolor\": \"white\", \"ticks\": \"\"}, \"bgcolor\": \"#E5ECF6\", \"caxis\": {\"gridcolor\": \"white\", \"linecolor\": \"white\", \"ticks\": \"\"}}, \"title\": {\"x\": 0.05}, \"xaxis\": {\"automargin\": true, \"gridcolor\": \"white\", \"linecolor\": \"white\", \"ticks\": \"\", \"title\": {\"standoff\": 15}, \"zerolinecolor\": \"white\", \"zerolinewidth\": 2}, \"yaxis\": {\"automargin\": true, \"gridcolor\": \"white\", \"linecolor\": \"white\", \"ticks\": \"\", \"title\": {\"standoff\": 15}, \"zerolinecolor\": \"white\", \"zerolinewidth\": 2}}}},\n",
              "                        {\"responsive\": true}\n",
              "                    ).then(function(){\n",
              "                            \n",
              "var gd = document.getElementById('290ae3cd-54da-4baa-a3df-0257b60b9d08');\n",
              "var x = new MutationObserver(function (mutations, observer) {{\n",
              "        var display = window.getComputedStyle(gd).display;\n",
              "        if (!display || display === 'none') {{\n",
              "            console.log([gd, 'removed!']);\n",
              "            Plotly.purge(gd);\n",
              "            observer.disconnect();\n",
              "        }}\n",
              "}});\n",
              "\n",
              "// Listen for the removal of the full notebook cells\n",
              "var notebookContainer = gd.closest('#notebook-container');\n",
              "if (notebookContainer) {{\n",
              "    x.observe(notebookContainer, {childList: true});\n",
              "}}\n",
              "\n",
              "// Listen for the clearing of the current output cell\n",
              "var outputEl = gd.closest('.output');\n",
              "if (outputEl) {{\n",
              "    x.observe(outputEl, {childList: true});\n",
              "}}\n",
              "\n",
              "                        })\n",
              "                };\n",
              "                \n",
              "            </script>\n",
              "        </div>\n",
              "</body>\n",
              "</html>"
            ]
          },
          "metadata": {
            "tags": []
          }
        }
      ]
    },
    {
      "cell_type": "code",
      "metadata": {
        "id": "_RXo4CCJosM0",
        "colab_type": "code",
        "colab": {
          "base_uri": "https://localhost:8080/",
          "height": 542
        },
        "outputId": "f4b587ef-6de2-49d7-c22e-b97dde263105"
      },
      "source": [
        "fig = px.bar_polar(df_T, r = 48095, hover_name=headers)\n",
        "fig.show()"
      ],
      "execution_count": null,
      "outputs": [
        {
          "output_type": "display_data",
          "data": {
            "text/html": [
              "<html>\n",
              "<head><meta charset=\"utf-8\" /></head>\n",
              "<body>\n",
              "    <div>\n",
              "            <script src=\"https://cdnjs.cloudflare.com/ajax/libs/mathjax/2.7.5/MathJax.js?config=TeX-AMS-MML_SVG\"></script><script type=\"text/javascript\">if (window.MathJax) {MathJax.Hub.Config({SVG: {font: \"STIX-Web\"}});}</script>\n",
              "                <script type=\"text/javascript\">window.PlotlyConfig = {MathJaxConfig: 'local'};</script>\n",
              "        <script src=\"https://cdn.plot.ly/plotly-latest.min.js\"></script>    \n",
              "            <div id=\"27f886a3-abc6-40a8-972b-4684132eded5\" class=\"plotly-graph-div\" style=\"height:525px; width:100%;\"></div>\n",
              "            <script type=\"text/javascript\">\n",
              "                \n",
              "                    window.PLOTLYENV=window.PLOTLYENV || {};\n",
              "                    \n",
              "                if (document.getElementById(\"27f886a3-abc6-40a8-972b-4684132eded5\")) {\n",
              "                    Plotly.newPlot(\n",
              "                        '27f886a3-abc6-40a8-972b-4684132eded5',\n",
              "                        [{\"hoverlabel\": {\"namelength\": 0}, \"hovertemplate\": \"<b>%{hovertext}</b><br><br>48095=%{r}\", \"hovertext\": [\"popularity\", \"acousticness\", \"danceability\", \"duration_ms\", \"energy\", \"instrumentalness\", \"liveness\", \"loudness\", \"speechiness\", \"tempo\", \"valence\"], \"legendgroup\": \"\", \"marker\": {\"color\": \"#636efa\"}, \"name\": \"\", \"r\": [0.41000000000000003, 0.0062449799196787155, 0.536530415191503, 0.02916516930833783, 0.5545455027764827, 0.0, 0.09424131350156008, 0.8176189035782282, 0.030059271803556303, 0.49267376860966294, 0.628], \"showlegend\": false, \"subplot\": \"polar\", \"type\": \"barpolar\"}],\n",
              "                        {\"barmode\": \"relative\", \"legend\": {\"tracegroupgap\": 0}, \"margin\": {\"t\": 60}, \"polar\": {\"angularaxis\": {\"direction\": \"clockwise\", \"rotation\": 90}, \"domain\": {\"x\": [0.0, 1.0], \"y\": [0.0, 1.0]}}, \"template\": {\"data\": {\"bar\": [{\"error_x\": {\"color\": \"#2a3f5f\"}, \"error_y\": {\"color\": \"#2a3f5f\"}, \"marker\": {\"line\": {\"color\": \"#E5ECF6\", \"width\": 0.5}}, \"type\": \"bar\"}], \"barpolar\": [{\"marker\": {\"line\": {\"color\": \"#E5ECF6\", \"width\": 0.5}}, \"type\": \"barpolar\"}], \"carpet\": [{\"aaxis\": {\"endlinecolor\": \"#2a3f5f\", \"gridcolor\": \"white\", \"linecolor\": \"white\", \"minorgridcolor\": \"white\", \"startlinecolor\": \"#2a3f5f\"}, \"baxis\": {\"endlinecolor\": \"#2a3f5f\", \"gridcolor\": \"white\", \"linecolor\": \"white\", \"minorgridcolor\": \"white\", \"startlinecolor\": \"#2a3f5f\"}, \"type\": \"carpet\"}], \"choropleth\": [{\"colorbar\": {\"outlinewidth\": 0, \"ticks\": \"\"}, \"type\": \"choropleth\"}], \"contour\": [{\"colorbar\": {\"outlinewidth\": 0, \"ticks\": \"\"}, \"colorscale\": [[0.0, \"#0d0887\"], [0.1111111111111111, \"#46039f\"], [0.2222222222222222, \"#7201a8\"], [0.3333333333333333, \"#9c179e\"], [0.4444444444444444, \"#bd3786\"], [0.5555555555555556, \"#d8576b\"], [0.6666666666666666, \"#ed7953\"], [0.7777777777777778, \"#fb9f3a\"], [0.8888888888888888, \"#fdca26\"], [1.0, \"#f0f921\"]], \"type\": \"contour\"}], \"contourcarpet\": [{\"colorbar\": {\"outlinewidth\": 0, \"ticks\": \"\"}, \"type\": \"contourcarpet\"}], \"heatmap\": [{\"colorbar\": {\"outlinewidth\": 0, \"ticks\": \"\"}, \"colorscale\": [[0.0, \"#0d0887\"], [0.1111111111111111, \"#46039f\"], [0.2222222222222222, \"#7201a8\"], [0.3333333333333333, \"#9c179e\"], [0.4444444444444444, \"#bd3786\"], [0.5555555555555556, \"#d8576b\"], [0.6666666666666666, \"#ed7953\"], [0.7777777777777778, \"#fb9f3a\"], [0.8888888888888888, \"#fdca26\"], [1.0, \"#f0f921\"]], \"type\": \"heatmap\"}], \"heatmapgl\": [{\"colorbar\": {\"outlinewidth\": 0, \"ticks\": \"\"}, \"colorscale\": [[0.0, \"#0d0887\"], [0.1111111111111111, \"#46039f\"], [0.2222222222222222, \"#7201a8\"], [0.3333333333333333, \"#9c179e\"], [0.4444444444444444, \"#bd3786\"], [0.5555555555555556, \"#d8576b\"], [0.6666666666666666, \"#ed7953\"], [0.7777777777777778, \"#fb9f3a\"], [0.8888888888888888, \"#fdca26\"], [1.0, \"#f0f921\"]], \"type\": \"heatmapgl\"}], \"histogram\": [{\"marker\": {\"colorbar\": {\"outlinewidth\": 0, \"ticks\": \"\"}}, \"type\": \"histogram\"}], \"histogram2d\": [{\"colorbar\": {\"outlinewidth\": 0, \"ticks\": \"\"}, \"colorscale\": [[0.0, \"#0d0887\"], [0.1111111111111111, \"#46039f\"], [0.2222222222222222, \"#7201a8\"], [0.3333333333333333, \"#9c179e\"], [0.4444444444444444, \"#bd3786\"], [0.5555555555555556, \"#d8576b\"], [0.6666666666666666, \"#ed7953\"], [0.7777777777777778, \"#fb9f3a\"], [0.8888888888888888, \"#fdca26\"], [1.0, \"#f0f921\"]], \"type\": \"histogram2d\"}], \"histogram2dcontour\": [{\"colorbar\": {\"outlinewidth\": 0, \"ticks\": \"\"}, \"colorscale\": [[0.0, \"#0d0887\"], [0.1111111111111111, \"#46039f\"], [0.2222222222222222, \"#7201a8\"], [0.3333333333333333, \"#9c179e\"], [0.4444444444444444, \"#bd3786\"], [0.5555555555555556, \"#d8576b\"], [0.6666666666666666, \"#ed7953\"], [0.7777777777777778, \"#fb9f3a\"], [0.8888888888888888, \"#fdca26\"], [1.0, \"#f0f921\"]], \"type\": \"histogram2dcontour\"}], \"mesh3d\": [{\"colorbar\": {\"outlinewidth\": 0, \"ticks\": \"\"}, \"type\": \"mesh3d\"}], \"parcoords\": [{\"line\": {\"colorbar\": {\"outlinewidth\": 0, \"ticks\": \"\"}}, \"type\": \"parcoords\"}], \"pie\": [{\"automargin\": true, \"type\": \"pie\"}], \"scatter\": [{\"marker\": {\"colorbar\": {\"outlinewidth\": 0, \"ticks\": \"\"}}, \"type\": \"scatter\"}], \"scatter3d\": [{\"line\": {\"colorbar\": {\"outlinewidth\": 0, \"ticks\": \"\"}}, \"marker\": {\"colorbar\": {\"outlinewidth\": 0, \"ticks\": \"\"}}, \"type\": \"scatter3d\"}], \"scattercarpet\": [{\"marker\": {\"colorbar\": {\"outlinewidth\": 0, \"ticks\": \"\"}}, \"type\": \"scattercarpet\"}], \"scattergeo\": [{\"marker\": {\"colorbar\": {\"outlinewidth\": 0, \"ticks\": \"\"}}, \"type\": \"scattergeo\"}], \"scattergl\": [{\"marker\": {\"colorbar\": {\"outlinewidth\": 0, \"ticks\": \"\"}}, \"type\": \"scattergl\"}], \"scattermapbox\": [{\"marker\": {\"colorbar\": {\"outlinewidth\": 0, \"ticks\": \"\"}}, \"type\": \"scattermapbox\"}], \"scatterpolar\": [{\"marker\": {\"colorbar\": {\"outlinewidth\": 0, \"ticks\": \"\"}}, \"type\": \"scatterpolar\"}], \"scatterpolargl\": [{\"marker\": {\"colorbar\": {\"outlinewidth\": 0, \"ticks\": \"\"}}, \"type\": \"scatterpolargl\"}], \"scatterternary\": [{\"marker\": {\"colorbar\": {\"outlinewidth\": 0, \"ticks\": \"\"}}, \"type\": \"scatterternary\"}], \"surface\": [{\"colorbar\": {\"outlinewidth\": 0, \"ticks\": \"\"}, \"colorscale\": [[0.0, \"#0d0887\"], [0.1111111111111111, \"#46039f\"], [0.2222222222222222, \"#7201a8\"], [0.3333333333333333, \"#9c179e\"], [0.4444444444444444, \"#bd3786\"], [0.5555555555555556, \"#d8576b\"], [0.6666666666666666, \"#ed7953\"], [0.7777777777777778, \"#fb9f3a\"], [0.8888888888888888, \"#fdca26\"], [1.0, \"#f0f921\"]], \"type\": \"surface\"}], \"table\": [{\"cells\": {\"fill\": {\"color\": \"#EBF0F8\"}, \"line\": {\"color\": \"white\"}}, \"header\": {\"fill\": {\"color\": \"#C8D4E3\"}, \"line\": {\"color\": \"white\"}}, \"type\": \"table\"}]}, \"layout\": {\"annotationdefaults\": {\"arrowcolor\": \"#2a3f5f\", \"arrowhead\": 0, \"arrowwidth\": 1}, \"coloraxis\": {\"colorbar\": {\"outlinewidth\": 0, \"ticks\": \"\"}}, \"colorscale\": {\"diverging\": [[0, \"#8e0152\"], [0.1, \"#c51b7d\"], [0.2, \"#de77ae\"], [0.3, \"#f1b6da\"], [0.4, \"#fde0ef\"], [0.5, \"#f7f7f7\"], [0.6, \"#e6f5d0\"], [0.7, \"#b8e186\"], [0.8, \"#7fbc41\"], [0.9, \"#4d9221\"], [1, \"#276419\"]], \"sequential\": [[0.0, \"#0d0887\"], [0.1111111111111111, \"#46039f\"], [0.2222222222222222, \"#7201a8\"], [0.3333333333333333, \"#9c179e\"], [0.4444444444444444, \"#bd3786\"], [0.5555555555555556, \"#d8576b\"], [0.6666666666666666, \"#ed7953\"], [0.7777777777777778, \"#fb9f3a\"], [0.8888888888888888, \"#fdca26\"], [1.0, \"#f0f921\"]], \"sequentialminus\": [[0.0, \"#0d0887\"], [0.1111111111111111, \"#46039f\"], [0.2222222222222222, \"#7201a8\"], [0.3333333333333333, \"#9c179e\"], [0.4444444444444444, \"#bd3786\"], [0.5555555555555556, \"#d8576b\"], [0.6666666666666666, \"#ed7953\"], [0.7777777777777778, \"#fb9f3a\"], [0.8888888888888888, \"#fdca26\"], [1.0, \"#f0f921\"]]}, \"colorway\": [\"#636efa\", \"#EF553B\", \"#00cc96\", \"#ab63fa\", \"#FFA15A\", \"#19d3f3\", \"#FF6692\", \"#B6E880\", \"#FF97FF\", \"#FECB52\"], \"font\": {\"color\": \"#2a3f5f\"}, \"geo\": {\"bgcolor\": \"white\", \"lakecolor\": \"white\", \"landcolor\": \"#E5ECF6\", \"showlakes\": true, \"showland\": true, \"subunitcolor\": \"white\"}, \"hoverlabel\": {\"align\": \"left\"}, \"hovermode\": \"closest\", \"mapbox\": {\"style\": \"light\"}, \"paper_bgcolor\": \"white\", \"plot_bgcolor\": \"#E5ECF6\", \"polar\": {\"angularaxis\": {\"gridcolor\": \"white\", \"linecolor\": \"white\", \"ticks\": \"\"}, \"bgcolor\": \"#E5ECF6\", \"radialaxis\": {\"gridcolor\": \"white\", \"linecolor\": \"white\", \"ticks\": \"\"}}, \"scene\": {\"xaxis\": {\"backgroundcolor\": \"#E5ECF6\", \"gridcolor\": \"white\", \"gridwidth\": 2, \"linecolor\": \"white\", \"showbackground\": true, \"ticks\": \"\", \"zerolinecolor\": \"white\"}, \"yaxis\": {\"backgroundcolor\": \"#E5ECF6\", \"gridcolor\": \"white\", \"gridwidth\": 2, \"linecolor\": \"white\", \"showbackground\": true, \"ticks\": \"\", \"zerolinecolor\": \"white\"}, \"zaxis\": {\"backgroundcolor\": \"#E5ECF6\", \"gridcolor\": \"white\", \"gridwidth\": 2, \"linecolor\": \"white\", \"showbackground\": true, \"ticks\": \"\", \"zerolinecolor\": \"white\"}}, \"shapedefaults\": {\"line\": {\"color\": \"#2a3f5f\"}}, \"ternary\": {\"aaxis\": {\"gridcolor\": \"white\", \"linecolor\": \"white\", \"ticks\": \"\"}, \"baxis\": {\"gridcolor\": \"white\", \"linecolor\": \"white\", \"ticks\": \"\"}, \"bgcolor\": \"#E5ECF6\", \"caxis\": {\"gridcolor\": \"white\", \"linecolor\": \"white\", \"ticks\": \"\"}}, \"title\": {\"x\": 0.05}, \"xaxis\": {\"automargin\": true, \"gridcolor\": \"white\", \"linecolor\": \"white\", \"ticks\": \"\", \"title\": {\"standoff\": 15}, \"zerolinecolor\": \"white\", \"zerolinewidth\": 2}, \"yaxis\": {\"automargin\": true, \"gridcolor\": \"white\", \"linecolor\": \"white\", \"ticks\": \"\", \"title\": {\"standoff\": 15}, \"zerolinecolor\": \"white\", \"zerolinewidth\": 2}}}},\n",
              "                        {\"responsive\": true}\n",
              "                    ).then(function(){\n",
              "                            \n",
              "var gd = document.getElementById('27f886a3-abc6-40a8-972b-4684132eded5');\n",
              "var x = new MutationObserver(function (mutations, observer) {{\n",
              "        var display = window.getComputedStyle(gd).display;\n",
              "        if (!display || display === 'none') {{\n",
              "            console.log([gd, 'removed!']);\n",
              "            Plotly.purge(gd);\n",
              "            observer.disconnect();\n",
              "        }}\n",
              "}});\n",
              "\n",
              "// Listen for the removal of the full notebook cells\n",
              "var notebookContainer = gd.closest('#notebook-container');\n",
              "if (notebookContainer) {{\n",
              "    x.observe(notebookContainer, {childList: true});\n",
              "}}\n",
              "\n",
              "// Listen for the clearing of the current output cell\n",
              "var outputEl = gd.closest('.output');\n",
              "if (outputEl) {{\n",
              "    x.observe(outputEl, {childList: true});\n",
              "}}\n",
              "\n",
              "                        })\n",
              "                };\n",
              "                \n",
              "            </script>\n",
              "        </div>\n",
              "</body>\n",
              "</html>"
            ]
          },
          "metadata": {
            "tags": []
          }
        }
      ]
    },
    {
      "cell_type": "markdown",
      "metadata": {
        "id": "4sstmnhVCjSs",
        "colab_type": "text"
      },
      "source": [
        "## Build a Function for DS Unit 3 to use"
      ]
    },
    {
      "cell_type": "code",
      "metadata": {
        "id": "vPI2Ucr8UxNi",
        "colab_type": "code",
        "colab": {
          "base_uri": "https://localhost:8080/",
          "height": 115
        },
        "outputId": "4619e343-df3a-4307-8e35-f49263ad037e"
      },
      "source": [
        "df.iloc[[13918]]"
      ],
      "execution_count": null,
      "outputs": [
        {
          "output_type": "execute_result",
          "data": {
            "text/html": [
              "<div>\n",
              "<style scoped>\n",
              "    .dataframe tbody tr th:only-of-type {\n",
              "        vertical-align: middle;\n",
              "    }\n",
              "\n",
              "    .dataframe tbody tr th {\n",
              "        vertical-align: top;\n",
              "    }\n",
              "\n",
              "    .dataframe thead th {\n",
              "        text-align: right;\n",
              "    }\n",
              "</style>\n",
              "<table border=\"1\" class=\"dataframe\">\n",
              "  <thead>\n",
              "    <tr style=\"text-align: right;\">\n",
              "      <th></th>\n",
              "      <th>genre</th>\n",
              "      <th>artist_name</th>\n",
              "      <th>track_name</th>\n",
              "      <th>track_id</th>\n",
              "      <th>popularity</th>\n",
              "      <th>acousticness</th>\n",
              "      <th>danceability</th>\n",
              "      <th>duration_ms</th>\n",
              "      <th>energy</th>\n",
              "      <th>instrumentalness</th>\n",
              "      <th>key</th>\n",
              "      <th>liveness</th>\n",
              "      <th>loudness</th>\n",
              "      <th>mode</th>\n",
              "      <th>speechiness</th>\n",
              "      <th>tempo</th>\n",
              "      <th>time_signature</th>\n",
              "      <th>valence</th>\n",
              "    </tr>\n",
              "  </thead>\n",
              "  <tbody>\n",
              "    <tr>\n",
              "      <th>13918</th>\n",
              "      <td>Dance</td>\n",
              "      <td>Britney Spears</td>\n",
              "      <td>Oops!...I Did It Again</td>\n",
              "      <td>6naxalmIoLFWR0siv8dnQQ</td>\n",
              "      <td>77</td>\n",
              "      <td>0.3</td>\n",
              "      <td>0.751</td>\n",
              "      <td>211160</td>\n",
              "      <td>0.834</td>\n",
              "      <td>0.000018</td>\n",
              "      <td>1</td>\n",
              "      <td>0.355</td>\n",
              "      <td>-5.444</td>\n",
              "      <td>0</td>\n",
              "      <td>0.0437</td>\n",
              "      <td>95.053</td>\n",
              "      <td>4</td>\n",
              "      <td>0.894</td>\n",
              "    </tr>\n",
              "  </tbody>\n",
              "</table>\n",
              "</div>"
            ],
            "text/plain": [
              "       genre     artist_name  ... time_signature valence\n",
              "13918  Dance  Britney Spears  ...              4   0.894\n",
              "\n",
              "[1 rows x 18 columns]"
            ]
          },
          "metadata": {
            "tags": []
          },
          "execution_count": 154
        }
      ]
    },
    {
      "cell_type": "code",
      "metadata": {
        "id": "Ivv-LMfYEzii",
        "colab_type": "code",
        "colab": {}
      },
      "source": [
        "# test\n",
        "song_at = [[0.3,0.751,211160,0.834,0.000018,0.355,-5.444,0.0437,95.053,0.894,1,0,4]]"
      ],
      "execution_count": 50,
      "outputs": []
    },
    {
      "cell_type": "code",
      "metadata": {
        "id": "-iJigLGWMcH9",
        "colab_type": "code",
        "colab": {}
      },
      "source": [
        "import tensorflow as tf\n",
        "from tensorflow.keras.models import Model\n",
        "from tensorflow.keras.layers import Input, Dense\n",
        "from tensorflow.keras import regularizers\n",
        "from sklearn.preprocessing import MinMaxScaler\n",
        "import pickle\n",
        "\n",
        "### Read in the CSV ###\n",
        "database = pd.read_csv('encoded_data.csv')"
      ],
      "execution_count": 54,
      "outputs": []
    },
    {
      "cell_type": "code",
      "metadata": {
        "id": "MamItePG35eL",
        "colab_type": "code",
        "colab": {
          "base_uri": "https://localhost:8080/",
          "height": 90
        },
        "outputId": "24b5dfdc-4746-48e8-84b0-75797fbc4a4f"
      },
      "source": [
        "import tensorflow as tf\n",
        "print(tf.__version__)\n",
        "import sklearn\n",
        "print(sklearn.__version__)\n",
        "import pandas as pd\n",
        "print(pd.__version__)\n",
        "import scipy\n",
        "print(scipy.__version__)"
      ],
      "execution_count": 55,
      "outputs": [
        {
          "output_type": "stream",
          "text": [
            "2.2.0\n",
            "0.22.2.post1\n",
            "1.0.5\n",
            "1.4.1\n"
          ],
          "name": "stdout"
        }
      ]
    },
    {
      "cell_type": "code",
      "metadata": {
        "id": "YXdFyjTkDVyU",
        "colab_type": "code",
        "colab": {}
      },
      "source": [
        "def predict(song_attributes, database):\n",
        "  \"\"\"\n",
        "  Need to pass in a variable that is an array with the below song attributes \n",
        "  in order.\n",
        "  [[acousticness, danceability, duration_ms, energy, instrumentalness,\n",
        "    liveness, loudness, speechiness, tempo, valence, key, mode, time_signature]]\n",
        "  \"\"\"\n",
        "\n",
        "  df =  pd.DataFrame(song_attributes)\n",
        "\n",
        "  ### Scale Input ###\n",
        "\n",
        "  # import the pickled scaler model\n",
        "  pickle_filename_1 = 'scaler_model.pkl'\n",
        "  scaler_pkl = open(pickle_filename_1, 'rb')\n",
        "  scaler = pickle.load(scaler_pkl) \n",
        "\n",
        "   # scale the input data\n",
        "  input_scaled = scaler.transform(df)\n",
        "\n",
        "  ### Encode Input ###\n",
        "\n",
        "  # Loading the autoencoder model\n",
        "  autoencoder = tf.keras.models.load_model('auto_model.sav')\n",
        "  \n",
        "  # encode the input data and set to variable\n",
        "  input_x_y_z = (autoencoder.predict(input_scaled)[0][0], \n",
        "                 autoencoder.predict(input_scaled)[0][1],\n",
        "                 autoencoder.predict(input_scaled)[0][2])\n",
        "\n",
        "  ### Get distances ###\n",
        "  def get_e_dist(my_df):\n",
        "    from scipy.spatial import distance\n",
        "    return distance.euclidean(my_df[[0,1,2]], input_x_y_z)\n",
        "\n",
        "  database['e_distance'] = database.apply(get_e_dist, axis=1)\n",
        "\n",
        "  five_smallest = database[['e_distance','track_id']].nsmallest(5, columns='e_distance', keep='all')\n",
        "\n",
        "  five_closest = five_smallest['track_id']\n",
        "\n",
        "  return five_closest.to_json()"
      ],
      "execution_count": 51,
      "outputs": []
    },
    {
      "cell_type": "code",
      "metadata": {
        "id": "YtX25futFIbK",
        "colab_type": "code",
        "colab": {
          "base_uri": "https://localhost:8080/",
          "height": 54
        },
        "outputId": "6d991464-44c3-4153-f3b7-6093fafc0aee"
      },
      "source": [
        "test = predict(song_at, database)\n",
        "test"
      ],
      "execution_count": 52,
      "outputs": [
        {
          "output_type": "execute_result",
          "data": {
            "application/vnd.google.colaboratory.intrinsic": {
              "type": "string"
            },
            "text/plain": [
              "'{\"82257\":\"06jMsTNIcYGbz2mEMhkbyl\",\"218964\":\"3vlqVtcQy8tE0ohgI3Yexu\",\"124179\":\"3eQ95VwcvJUDWrD4oCUuFy\",\"204471\":\"6SKpXS8halHcYPQMbSrw4N\",\"219011\":\"46Ow3B8zNowJkYAOAF7R07\"}'"
            ]
          },
          "metadata": {
            "tags": []
          },
          "execution_count": 52
        }
      ]
    },
    {
      "cell_type": "code",
      "metadata": {
        "id": "EGnFR9bGV1De",
        "colab_type": "code",
        "colab": {
          "base_uri": "https://localhost:8080/",
          "height": 473
        },
        "outputId": "a6f2e764-77e4-4e1a-e8ed-d9501b62a34f"
      },
      "source": [
        "df.iloc[[13918,82257,218964,124179,204471,219011]]"
      ],
      "execution_count": 53,
      "outputs": [
        {
          "output_type": "execute_result",
          "data": {
            "text/html": [
              "<div>\n",
              "<style scoped>\n",
              "    .dataframe tbody tr th:only-of-type {\n",
              "        vertical-align: middle;\n",
              "    }\n",
              "\n",
              "    .dataframe tbody tr th {\n",
              "        vertical-align: top;\n",
              "    }\n",
              "\n",
              "    .dataframe thead th {\n",
              "        text-align: right;\n",
              "    }\n",
              "</style>\n",
              "<table border=\"1\" class=\"dataframe\">\n",
              "  <thead>\n",
              "    <tr style=\"text-align: right;\">\n",
              "      <th></th>\n",
              "      <th>genre</th>\n",
              "      <th>artist_name</th>\n",
              "      <th>track_name</th>\n",
              "      <th>track_id</th>\n",
              "      <th>popularity</th>\n",
              "      <th>acousticness</th>\n",
              "      <th>danceability</th>\n",
              "      <th>duration_ms</th>\n",
              "      <th>energy</th>\n",
              "      <th>instrumentalness</th>\n",
              "      <th>key</th>\n",
              "      <th>liveness</th>\n",
              "      <th>loudness</th>\n",
              "      <th>mode</th>\n",
              "      <th>speechiness</th>\n",
              "      <th>tempo</th>\n",
              "      <th>time_signature</th>\n",
              "      <th>valence</th>\n",
              "    </tr>\n",
              "  </thead>\n",
              "  <tbody>\n",
              "    <tr>\n",
              "      <th>13918</th>\n",
              "      <td>Dance</td>\n",
              "      <td>Britney Spears</td>\n",
              "      <td>Oops!...I Did It Again</td>\n",
              "      <td>6naxalmIoLFWR0siv8dnQQ</td>\n",
              "      <td>77</td>\n",
              "      <td>0.300</td>\n",
              "      <td>0.7510</td>\n",
              "      <td>211160</td>\n",
              "      <td>0.8340</td>\n",
              "      <td>0.000018</td>\n",
              "      <td>1</td>\n",
              "      <td>0.3550</td>\n",
              "      <td>-5.444</td>\n",
              "      <td>0</td>\n",
              "      <td>0.0437</td>\n",
              "      <td>95.053</td>\n",
              "      <td>4</td>\n",
              "      <td>0.8940</td>\n",
              "    </tr>\n",
              "    <tr>\n",
              "      <th>82257</th>\n",
              "      <td>Opera</td>\n",
              "      <td>Giacomo Puccini</td>\n",
              "      <td>Madama Butterfly / Act 2: 27. Humming Chorus</td>\n",
              "      <td>06jMsTNIcYGbz2mEMhkbyl</td>\n",
              "      <td>14</td>\n",
              "      <td>0.974</td>\n",
              "      <td>0.1910</td>\n",
              "      <td>193133</td>\n",
              "      <td>0.0156</td>\n",
              "      <td>0.994000</td>\n",
              "      <td>10</td>\n",
              "      <td>0.0842</td>\n",
              "      <td>-32.140</td>\n",
              "      <td>1</td>\n",
              "      <td>0.0467</td>\n",
              "      <td>129.056</td>\n",
              "      <td>4</td>\n",
              "      <td>0.0388</td>\n",
              "    </tr>\n",
              "    <tr>\n",
              "      <th>218964</th>\n",
              "      <td>World</td>\n",
              "      <td>Chihei Hatakeyama</td>\n",
              "      <td>Narrow Road to the Mountain</td>\n",
              "      <td>3vlqVtcQy8tE0ohgI3Yexu</td>\n",
              "      <td>32</td>\n",
              "      <td>0.995</td>\n",
              "      <td>0.1610</td>\n",
              "      <td>547985</td>\n",
              "      <td>0.0429</td>\n",
              "      <td>0.988000</td>\n",
              "      <td>9</td>\n",
              "      <td>0.1190</td>\n",
              "      <td>-29.977</td>\n",
              "      <td>1</td>\n",
              "      <td>0.0398</td>\n",
              "      <td>70.606</td>\n",
              "      <td>4</td>\n",
              "      <td>0.0389</td>\n",
              "    </tr>\n",
              "    <tr>\n",
              "      <th>124179</th>\n",
              "      <td>Classical</td>\n",
              "      <td>Samuel Barber</td>\n",
              "      <td>4 Songs, Op. 13: No. 3. Sure on this shining n...</td>\n",
              "      <td>3eQ95VwcvJUDWrD4oCUuFy</td>\n",
              "      <td>40</td>\n",
              "      <td>0.980</td>\n",
              "      <td>0.1600</td>\n",
              "      <td>149200</td>\n",
              "      <td>0.0345</td>\n",
              "      <td>0.989000</td>\n",
              "      <td>10</td>\n",
              "      <td>0.0742</td>\n",
              "      <td>-28.318</td>\n",
              "      <td>1</td>\n",
              "      <td>0.0399</td>\n",
              "      <td>101.330</td>\n",
              "      <td>4</td>\n",
              "      <td>0.0341</td>\n",
              "    </tr>\n",
              "    <tr>\n",
              "      <th>204471</th>\n",
              "      <td>Soundtrack</td>\n",
              "      <td>James Newton Howard</td>\n",
              "      <td>Is That A Kiss?</td>\n",
              "      <td>6SKpXS8halHcYPQMbSrw4N</td>\n",
              "      <td>30</td>\n",
              "      <td>0.965</td>\n",
              "      <td>0.2460</td>\n",
              "      <td>101107</td>\n",
              "      <td>0.0221</td>\n",
              "      <td>0.984000</td>\n",
              "      <td>10</td>\n",
              "      <td>0.1090</td>\n",
              "      <td>-32.226</td>\n",
              "      <td>1</td>\n",
              "      <td>0.0383</td>\n",
              "      <td>113.547</td>\n",
              "      <td>4</td>\n",
              "      <td>0.0395</td>\n",
              "    </tr>\n",
              "    <tr>\n",
              "      <th>219011</th>\n",
              "      <td>World</td>\n",
              "      <td>Chihei Hatakeyama</td>\n",
              "      <td>Butterfly On the Riverside Big Stone</td>\n",
              "      <td>46Ow3B8zNowJkYAOAF7R07</td>\n",
              "      <td>31</td>\n",
              "      <td>0.994</td>\n",
              "      <td>0.0914</td>\n",
              "      <td>450841</td>\n",
              "      <td>0.0220</td>\n",
              "      <td>0.978000</td>\n",
              "      <td>9</td>\n",
              "      <td>0.1040</td>\n",
              "      <td>-29.454</td>\n",
              "      <td>1</td>\n",
              "      <td>0.0408</td>\n",
              "      <td>87.278</td>\n",
              "      <td>4</td>\n",
              "      <td>0.0383</td>\n",
              "    </tr>\n",
              "  </tbody>\n",
              "</table>\n",
              "</div>"
            ],
            "text/plain": [
              "             genre          artist_name  ... time_signature valence\n",
              "13918        Dance       Britney Spears  ...              4  0.8940\n",
              "82257        Opera      Giacomo Puccini  ...              4  0.0388\n",
              "218964       World    Chihei Hatakeyama  ...              4  0.0389\n",
              "124179   Classical        Samuel Barber  ...              4  0.0341\n",
              "204471  Soundtrack  James Newton Howard  ...              4  0.0395\n",
              "219011       World    Chihei Hatakeyama  ...              4  0.0383\n",
              "\n",
              "[6 rows x 18 columns]"
            ]
          },
          "metadata": {
            "tags": []
          },
          "execution_count": 53
        }
      ]
    },
    {
      "cell_type": "code",
      "metadata": {
        "id": "akKyzYBAjNEh",
        "colab_type": "code",
        "colab": {}
      },
      "source": [
        "df_input = df_scaled.iloc[[13918,173485,175642,211588,171599,174847]]\n",
        "df_output = pd.DataFrame(autoencoder.predict(df_input),columns=headers)"
      ],
      "execution_count": null,
      "outputs": []
    },
    {
      "cell_type": "code",
      "metadata": {
        "id": "niZNUPDvjmjk",
        "colab_type": "code",
        "colab": {
          "base_uri": "https://localhost:8080/",
          "height": 228
        },
        "outputId": "a46ec344-ec83-4492-e34f-61bc0d75a2cb"
      },
      "source": [
        "df_input = df_input.reset_index()\n",
        "df_input"
      ],
      "execution_count": null,
      "outputs": [
        {
          "output_type": "execute_result",
          "data": {
            "text/html": [
              "<div>\n",
              "<style scoped>\n",
              "    .dataframe tbody tr th:only-of-type {\n",
              "        vertical-align: middle;\n",
              "    }\n",
              "\n",
              "    .dataframe tbody tr th {\n",
              "        vertical-align: top;\n",
              "    }\n",
              "\n",
              "    .dataframe thead th {\n",
              "        text-align: right;\n",
              "    }\n",
              "</style>\n",
              "<table border=\"1\" class=\"dataframe\">\n",
              "  <thead>\n",
              "    <tr style=\"text-align: right;\">\n",
              "      <th></th>\n",
              "      <th>index</th>\n",
              "      <th>acousticness</th>\n",
              "      <th>danceability</th>\n",
              "      <th>duration_ms</th>\n",
              "      <th>energy</th>\n",
              "      <th>instrumentalness</th>\n",
              "      <th>liveness</th>\n",
              "      <th>loudness</th>\n",
              "      <th>speechiness</th>\n",
              "      <th>tempo</th>\n",
              "      <th>valence</th>\n",
              "      <th>key</th>\n",
              "      <th>mode</th>\n",
              "      <th>time_signature</th>\n",
              "    </tr>\n",
              "  </thead>\n",
              "  <tbody>\n",
              "    <tr>\n",
              "      <th>0</th>\n",
              "      <td>13918</td>\n",
              "      <td>0.301205</td>\n",
              "      <td>0.744663</td>\n",
              "      <td>0.035354</td>\n",
              "      <td>0.834831</td>\n",
              "      <td>0.000018</td>\n",
              "      <td>0.348702</td>\n",
              "      <td>0.836515</td>\n",
              "      <td>0.022756</td>\n",
              "      <td>0.304314</td>\n",
              "      <td>0.894</td>\n",
              "      <td>0.090909</td>\n",
              "      <td>0.0</td>\n",
              "      <td>0.8</td>\n",
              "    </tr>\n",
              "    <tr>\n",
              "      <th>1</th>\n",
              "      <td>173485</td>\n",
              "      <td>0.656627</td>\n",
              "      <td>0.573007</td>\n",
              "      <td>0.191440</td>\n",
              "      <td>0.450439</td>\n",
              "      <td>0.000000</td>\n",
              "      <td>0.336585</td>\n",
              "      <td>0.691198</td>\n",
              "      <td>0.992591</td>\n",
              "      <td>0.240745</td>\n",
              "      <td>0.460</td>\n",
              "      <td>0.818182</td>\n",
              "      <td>0.0</td>\n",
              "      <td>0.8</td>\n",
              "    </tr>\n",
              "    <tr>\n",
              "      <th>2</th>\n",
              "      <td>175642</td>\n",
              "      <td>0.939759</td>\n",
              "      <td>0.408862</td>\n",
              "      <td>0.027573</td>\n",
              "      <td>0.909908</td>\n",
              "      <td>0.000000</td>\n",
              "      <td>0.579938</td>\n",
              "      <td>0.783972</td>\n",
              "      <td>0.865580</td>\n",
              "      <td>0.461204</td>\n",
              "      <td>0.408</td>\n",
              "      <td>0.818182</td>\n",
              "      <td>0.0</td>\n",
              "      <td>0.2</td>\n",
              "    </tr>\n",
              "    <tr>\n",
              "      <th>3</th>\n",
              "      <td>211588</td>\n",
              "      <td>0.763052</td>\n",
              "      <td>0.383113</td>\n",
              "      <td>0.041747</td>\n",
              "      <td>0.908907</td>\n",
              "      <td>0.000000</td>\n",
              "      <td>0.963648</td>\n",
              "      <td>0.642106</td>\n",
              "      <td>0.954488</td>\n",
              "      <td>0.203718</td>\n",
              "      <td>0.084</td>\n",
              "      <td>0.818182</td>\n",
              "      <td>0.0</td>\n",
              "      <td>0.8</td>\n",
              "    </tr>\n",
              "    <tr>\n",
              "      <th>4</th>\n",
              "      <td>171599</td>\n",
              "      <td>0.702811</td>\n",
              "      <td>0.510782</td>\n",
              "      <td>0.108636</td>\n",
              "      <td>0.630623</td>\n",
              "      <td>0.000000</td>\n",
              "      <td>0.935375</td>\n",
              "      <td>0.698315</td>\n",
              "      <td>0.953429</td>\n",
              "      <td>0.213736</td>\n",
              "      <td>0.117</td>\n",
              "      <td>0.818182</td>\n",
              "      <td>0.0</td>\n",
              "      <td>0.8</td>\n",
              "    </tr>\n",
              "    <tr>\n",
              "      <th>5</th>\n",
              "      <td>174847</td>\n",
              "      <td>0.658635</td>\n",
              "      <td>0.550477</td>\n",
              "      <td>0.024502</td>\n",
              "      <td>0.431420</td>\n",
              "      <td>0.000000</td>\n",
              "      <td>0.970717</td>\n",
              "      <td>0.611573</td>\n",
              "      <td>0.928027</td>\n",
              "      <td>0.450674</td>\n",
              "      <td>0.267</td>\n",
              "      <td>0.818182</td>\n",
              "      <td>0.0</td>\n",
              "      <td>0.8</td>\n",
              "    </tr>\n",
              "  </tbody>\n",
              "</table>\n",
              "</div>"
            ],
            "text/plain": [
              "    index  acousticness  danceability  ...       key  mode  time_signature\n",
              "0   13918      0.301205      0.744663  ...  0.090909   0.0             0.8\n",
              "1  173485      0.656627      0.573007  ...  0.818182   0.0             0.8\n",
              "2  175642      0.939759      0.408862  ...  0.818182   0.0             0.2\n",
              "3  211588      0.763052      0.383113  ...  0.818182   0.0             0.8\n",
              "4  171599      0.702811      0.510782  ...  0.818182   0.0             0.8\n",
              "5  174847      0.658635      0.550477  ...  0.818182   0.0             0.8\n",
              "\n",
              "[6 rows x 14 columns]"
            ]
          },
          "metadata": {
            "tags": []
          },
          "execution_count": 171
        }
      ]
    },
    {
      "cell_type": "code",
      "metadata": {
        "id": "Ppk35RzIjozT",
        "colab_type": "code",
        "colab": {
          "base_uri": "https://localhost:8080/",
          "height": 228
        },
        "outputId": "8cf3a3e6-d6be-4482-f3fa-488583b8e4c6"
      },
      "source": [
        "df_output.head(6)"
      ],
      "execution_count": null,
      "outputs": [
        {
          "output_type": "execute_result",
          "data": {
            "text/html": [
              "<div>\n",
              "<style scoped>\n",
              "    .dataframe tbody tr th:only-of-type {\n",
              "        vertical-align: middle;\n",
              "    }\n",
              "\n",
              "    .dataframe tbody tr th {\n",
              "        vertical-align: top;\n",
              "    }\n",
              "\n",
              "    .dataframe thead th {\n",
              "        text-align: right;\n",
              "    }\n",
              "</style>\n",
              "<table border=\"1\" class=\"dataframe\">\n",
              "  <thead>\n",
              "    <tr style=\"text-align: right;\">\n",
              "      <th></th>\n",
              "      <th>acousticness</th>\n",
              "      <th>danceability</th>\n",
              "      <th>duration_ms</th>\n",
              "      <th>energy</th>\n",
              "      <th>instrumentalness</th>\n",
              "      <th>liveness</th>\n",
              "      <th>loudness</th>\n",
              "      <th>speechiness</th>\n",
              "      <th>tempo</th>\n",
              "      <th>valence</th>\n",
              "      <th>key</th>\n",
              "      <th>mode</th>\n",
              "      <th>time_signature</th>\n",
              "    </tr>\n",
              "  </thead>\n",
              "  <tbody>\n",
              "    <tr>\n",
              "      <th>0</th>\n",
              "      <td>0.207297</td>\n",
              "      <td>0.718174</td>\n",
              "      <td>0.034972</td>\n",
              "      <td>0.708619</td>\n",
              "      <td>2.098332e-10</td>\n",
              "      <td>0.242497</td>\n",
              "      <td>0.823763</td>\n",
              "      <td>0.164307</td>\n",
              "      <td>0.424367</td>\n",
              "      <td>0.726938</td>\n",
              "      <td>0.097849</td>\n",
              "      <td>1.943039e-06</td>\n",
              "      <td>0.793649</td>\n",
              "    </tr>\n",
              "    <tr>\n",
              "      <th>1</th>\n",
              "      <td>0.821972</td>\n",
              "      <td>0.558626</td>\n",
              "      <td>0.042624</td>\n",
              "      <td>0.677481</td>\n",
              "      <td>2.192686e-19</td>\n",
              "      <td>0.741944</td>\n",
              "      <td>0.714537</td>\n",
              "      <td>0.944169</td>\n",
              "      <td>0.318671</td>\n",
              "      <td>0.418194</td>\n",
              "      <td>0.908088</td>\n",
              "      <td>5.778223e-24</td>\n",
              "      <td>0.721252</td>\n",
              "    </tr>\n",
              "    <tr>\n",
              "      <th>2</th>\n",
              "      <td>0.806439</td>\n",
              "      <td>0.563019</td>\n",
              "      <td>0.042510</td>\n",
              "      <td>0.691895</td>\n",
              "      <td>1.535186e-19</td>\n",
              "      <td>0.746657</td>\n",
              "      <td>0.719337</td>\n",
              "      <td>0.946779</td>\n",
              "      <td>0.320148</td>\n",
              "      <td>0.425332</td>\n",
              "      <td>0.897864</td>\n",
              "      <td>1.673145e-23</td>\n",
              "      <td>0.722003</td>\n",
              "    </tr>\n",
              "    <tr>\n",
              "      <th>3</th>\n",
              "      <td>0.799163</td>\n",
              "      <td>0.566266</td>\n",
              "      <td>0.042403</td>\n",
              "      <td>0.694998</td>\n",
              "      <td>1.676989e-19</td>\n",
              "      <td>0.743588</td>\n",
              "      <td>0.721574</td>\n",
              "      <td>0.945303</td>\n",
              "      <td>0.321306</td>\n",
              "      <td>0.430821</td>\n",
              "      <td>0.896431</td>\n",
              "      <td>2.008544e-23</td>\n",
              "      <td>0.723046</td>\n",
              "    </tr>\n",
              "    <tr>\n",
              "      <th>4</th>\n",
              "      <td>0.834770</td>\n",
              "      <td>0.554889</td>\n",
              "      <td>0.042628</td>\n",
              "      <td>0.662754</td>\n",
              "      <td>3.398354e-19</td>\n",
              "      <td>0.735218</td>\n",
              "      <td>0.710366</td>\n",
              "      <td>0.939961</td>\n",
              "      <td>0.317886</td>\n",
              "      <td>0.412702</td>\n",
              "      <td>0.903010</td>\n",
              "      <td>8.478765e-24</td>\n",
              "      <td>0.720771</td>\n",
              "    </tr>\n",
              "    <tr>\n",
              "      <th>5</th>\n",
              "      <td>0.841267</td>\n",
              "      <td>0.551875</td>\n",
              "      <td>0.042698</td>\n",
              "      <td>0.657911</td>\n",
              "      <td>3.432961e-19</td>\n",
              "      <td>0.736344</td>\n",
              "      <td>0.708032</td>\n",
              "      <td>0.940358</td>\n",
              "      <td>0.316962</td>\n",
              "      <td>0.407870</td>\n",
              "      <td>0.901352</td>\n",
              "      <td>9.328385e-24</td>\n",
              "      <td>0.719923</td>\n",
              "    </tr>\n",
              "  </tbody>\n",
              "</table>\n",
              "</div>"
            ],
            "text/plain": [
              "   acousticness  danceability  ...          mode  time_signature\n",
              "0      0.207297      0.718174  ...  1.943039e-06        0.793649\n",
              "1      0.821972      0.558626  ...  5.778223e-24        0.721252\n",
              "2      0.806439      0.563019  ...  1.673145e-23        0.722003\n",
              "3      0.799163      0.566266  ...  2.008544e-23        0.723046\n",
              "4      0.834770      0.554889  ...  8.478765e-24        0.720771\n",
              "5      0.841267      0.551875  ...  9.328385e-24        0.719923\n",
              "\n",
              "[6 rows x 13 columns]"
            ]
          },
          "metadata": {
            "tags": []
          },
          "execution_count": 170
        }
      ]
    },
    {
      "cell_type": "code",
      "metadata": {
        "id": "CsbXO7R4kFNr",
        "colab_type": "code",
        "colab": {
          "base_uri": "https://localhost:8080/",
          "height": 352
        },
        "outputId": "a39014c3-2d34-42a0-92d6-42b36c801da2"
      },
      "source": [
        "df_input - df_output"
      ],
      "execution_count": null,
      "outputs": [
        {
          "output_type": "execute_result",
          "data": {
            "text/html": [
              "<div>\n",
              "<style scoped>\n",
              "    .dataframe tbody tr th:only-of-type {\n",
              "        vertical-align: middle;\n",
              "    }\n",
              "\n",
              "    .dataframe tbody tr th {\n",
              "        vertical-align: top;\n",
              "    }\n",
              "\n",
              "    .dataframe thead th {\n",
              "        text-align: right;\n",
              "    }\n",
              "</style>\n",
              "<table border=\"1\" class=\"dataframe\">\n",
              "  <thead>\n",
              "    <tr style=\"text-align: right;\">\n",
              "      <th></th>\n",
              "      <th>acousticness</th>\n",
              "      <th>danceability</th>\n",
              "      <th>duration_ms</th>\n",
              "      <th>energy</th>\n",
              "      <th>index</th>\n",
              "      <th>instrumentalness</th>\n",
              "      <th>key</th>\n",
              "      <th>liveness</th>\n",
              "      <th>loudness</th>\n",
              "      <th>mode</th>\n",
              "      <th>speechiness</th>\n",
              "      <th>tempo</th>\n",
              "      <th>time_signature</th>\n",
              "      <th>valence</th>\n",
              "    </tr>\n",
              "  </thead>\n",
              "  <tbody>\n",
              "    <tr>\n",
              "      <th>0</th>\n",
              "      <td>0.093907</td>\n",
              "      <td>0.026489</td>\n",
              "      <td>0.000382</td>\n",
              "      <td>0.126212</td>\n",
              "      <td>NaN</td>\n",
              "      <td>1.771751e-05</td>\n",
              "      <td>-0.006940</td>\n",
              "      <td>0.106205</td>\n",
              "      <td>0.012753</td>\n",
              "      <td>-1.943039e-06</td>\n",
              "      <td>-0.141550</td>\n",
              "      <td>-0.120053</td>\n",
              "      <td>0.006351</td>\n",
              "      <td>0.167062</td>\n",
              "    </tr>\n",
              "    <tr>\n",
              "      <th>1</th>\n",
              "      <td>-0.165345</td>\n",
              "      <td>0.014382</td>\n",
              "      <td>0.148816</td>\n",
              "      <td>-0.227042</td>\n",
              "      <td>NaN</td>\n",
              "      <td>-2.192686e-19</td>\n",
              "      <td>-0.089906</td>\n",
              "      <td>-0.405359</td>\n",
              "      <td>-0.023340</td>\n",
              "      <td>-5.778223e-24</td>\n",
              "      <td>0.048422</td>\n",
              "      <td>-0.077927</td>\n",
              "      <td>0.078748</td>\n",
              "      <td>0.041806</td>\n",
              "    </tr>\n",
              "    <tr>\n",
              "      <th>2</th>\n",
              "      <td>0.133320</td>\n",
              "      <td>-0.154158</td>\n",
              "      <td>-0.014937</td>\n",
              "      <td>0.218013</td>\n",
              "      <td>NaN</td>\n",
              "      <td>-1.535186e-19</td>\n",
              "      <td>-0.079682</td>\n",
              "      <td>-0.166719</td>\n",
              "      <td>0.064634</td>\n",
              "      <td>-1.673145e-23</td>\n",
              "      <td>-0.081199</td>\n",
              "      <td>0.141056</td>\n",
              "      <td>-0.522003</td>\n",
              "      <td>-0.017332</td>\n",
              "    </tr>\n",
              "    <tr>\n",
              "      <th>3</th>\n",
              "      <td>-0.036111</td>\n",
              "      <td>-0.183152</td>\n",
              "      <td>-0.000656</td>\n",
              "      <td>0.213910</td>\n",
              "      <td>NaN</td>\n",
              "      <td>-1.676989e-19</td>\n",
              "      <td>-0.078250</td>\n",
              "      <td>0.220060</td>\n",
              "      <td>-0.079468</td>\n",
              "      <td>-2.008544e-23</td>\n",
              "      <td>0.009185</td>\n",
              "      <td>-0.117587</td>\n",
              "      <td>0.076954</td>\n",
              "      <td>-0.346821</td>\n",
              "    </tr>\n",
              "    <tr>\n",
              "      <th>4</th>\n",
              "      <td>-0.131959</td>\n",
              "      <td>-0.044107</td>\n",
              "      <td>0.066007</td>\n",
              "      <td>-0.032131</td>\n",
              "      <td>NaN</td>\n",
              "      <td>-3.398354e-19</td>\n",
              "      <td>-0.084828</td>\n",
              "      <td>0.200157</td>\n",
              "      <td>-0.012051</td>\n",
              "      <td>-8.478765e-24</td>\n",
              "      <td>0.013468</td>\n",
              "      <td>-0.104150</td>\n",
              "      <td>0.079229</td>\n",
              "      <td>-0.295702</td>\n",
              "    </tr>\n",
              "    <tr>\n",
              "      <th>5</th>\n",
              "      <td>-0.182632</td>\n",
              "      <td>-0.001397</td>\n",
              "      <td>-0.018197</td>\n",
              "      <td>-0.226491</td>\n",
              "      <td>NaN</td>\n",
              "      <td>-3.432961e-19</td>\n",
              "      <td>-0.083170</td>\n",
              "      <td>0.234373</td>\n",
              "      <td>-0.096460</td>\n",
              "      <td>-9.328385e-24</td>\n",
              "      <td>-0.012331</td>\n",
              "      <td>0.133712</td>\n",
              "      <td>0.080077</td>\n",
              "      <td>-0.140870</td>\n",
              "    </tr>\n",
              "  </tbody>\n",
              "</table>\n",
              "</div>"
            ],
            "text/plain": [
              "   acousticness  danceability  duration_ms  ...     tempo  time_signature   valence\n",
              "0      0.093907      0.026489     0.000382  ... -0.120053        0.006351  0.167062\n",
              "1     -0.165345      0.014382     0.148816  ... -0.077927        0.078748  0.041806\n",
              "2      0.133320     -0.154158    -0.014937  ...  0.141056       -0.522003 -0.017332\n",
              "3     -0.036111     -0.183152    -0.000656  ... -0.117587        0.076954 -0.346821\n",
              "4     -0.131959     -0.044107     0.066007  ... -0.104150        0.079229 -0.295702\n",
              "5     -0.182632     -0.001397    -0.018197  ...  0.133712        0.080077 -0.140870\n",
              "\n",
              "[6 rows x 14 columns]"
            ]
          },
          "metadata": {
            "tags": []
          },
          "execution_count": 172
        }
      ]
    }
  ]
}